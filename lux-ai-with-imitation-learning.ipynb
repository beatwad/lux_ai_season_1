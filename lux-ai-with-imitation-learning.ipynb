{
 "cells": [
  {
   "cell_type": "markdown",
   "metadata": {},
   "source": [
    "For Kaggle"
   ]
  },
  {
   "cell_type": "code",
   "execution_count": 1,
   "metadata": {
    "execution": {
     "iopub.execute_input": "2021-09-21T02:10:22.282451Z",
     "iopub.status.busy": "2021-09-21T02:10:22.282156Z",
     "iopub.status.idle": "2021-09-21T02:10:31.631739Z",
     "shell.execute_reply": "2021-09-21T02:10:31.63066Z",
     "shell.execute_reply.started": "2021-09-21T02:10:22.282376Z"
    }
   },
   "outputs": [],
   "source": [
    "# !pip install kaggle-environments -U > /dev/null 2>&1\n",
    "# !cp -r ../input/lux-ai-2021/* ."
   ]
  },
  {
   "cell_type": "markdown",
   "metadata": {},
   "source": [
    "For agents validation"
   ]
  },
  {
   "cell_type": "code",
   "execution_count": null,
   "metadata": {},
   "outputs": [],
   "source": [
    "# timeout 1h lux-ai-2021 --tournament --rankSystem wins --storeReplay false --storeLogs false --maxConcurrentMatches 1 agent/main.py agent_simple/main.py submission_v4/main.py"
   ]
  },
  {
   "cell_type": "code",
   "execution_count": 1,
   "metadata": {
    "_cell_guid": "b1076dfc-b9ad-4769-8c92-a6c4dae69d19",
    "_uuid": "8f2839f25d086af736a60e9eeb907d3b93b6e0e5",
    "execution": {
     "iopub.execute_input": "2021-09-21T02:10:31.634148Z",
     "iopub.status.busy": "2021-09-21T02:10:31.633714Z",
     "iopub.status.idle": "2021-09-21T02:10:36.825858Z",
     "shell.execute_reply": "2021-09-21T02:10:36.825106Z",
     "shell.execute_reply.started": "2021-09-21T02:10:31.634105Z"
    }
   },
   "outputs": [],
   "source": [
    "import numpy as np\n",
    "import json\n",
    "from pathlib import Path\n",
    "import os\n",
    "import random\n",
    "from tqdm.notebook import tqdm\n",
    "import torch\n",
    "from torch import nn\n",
    "import torch.nn.functional as F\n",
    "from torch.utils.data import Dataset, DataLoader\n",
    "import torch.optim as optim\n",
    "from sklearn.model_selection import train_test_split\n",
    "import optuna\n",
    "from optuna.trial import TrialState"
   ]
  },
  {
   "cell_type": "code",
   "execution_count": 2,
   "metadata": {
    "execution": {
     "iopub.execute_input": "2021-09-21T02:10:36.827311Z",
     "iopub.status.busy": "2021-09-21T02:10:36.82705Z",
     "iopub.status.idle": "2021-09-21T02:10:36.877521Z",
     "shell.execute_reply": "2021-09-21T02:10:36.876761Z",
     "shell.execute_reply.started": "2021-09-21T02:10:36.82728Z"
    }
   },
   "outputs": [],
   "source": [
    "def seed_everything(seed_value):\n",
    "    random.seed(seed_value)\n",
    "    np.random.seed(seed_value)\n",
    "    torch.manual_seed(seed_value)\n",
    "    os.environ['PYTHONHASHSEED'] = str(seed_value)\n",
    "    \n",
    "    if torch.cuda.is_available(): \n",
    "        torch.cuda.manual_seed(seed_value)\n",
    "        torch.cuda.manual_seed_all(seed_value)\n",
    "        torch.backends.cudnn.deterministic = True\n",
    "        torch.backends.cudnn.benchmark = True\n",
    "\n",
    "seed_everything(42)"
   ]
  },
  {
   "cell_type": "markdown",
   "metadata": {},
   "source": [
    "# Preprocessing\n",
    "\n",
    "Actions:\n",
    "- m - move: m, unit who moves, direction\n",
    "- bcity - build city: bcity, unit who builds\n",
    "- bw - build worker, x-coord of building city, y-coord of building city\n",
    "- r - research\n",
    "- t - transfer: transfer, from user_1, to user_2, resourse, quantity\n",
    "\n",
    "Updates:\n",
    "- rp - research point: player, number of rp\n",
    "- r - resources: r, type of resource, x-coord, y-coord, quantity\n",
    "- u - user: u, worker/cart, player, user id, x-coord, y-coord, cooldown, wood, coal, uranium\n",
    "- c - city: c, player, city id, number of resources, amount of consuming light at night\n",
    "- ct - city tile: ct, player, city id, x-coord, y-coord, cooldown\n",
    "- ccd - level of road: ccd, x-coord, y-coord, level value"
   ]
  },
  {
   "cell_type": "code",
   "execution_count": 3,
   "metadata": {
    "scrolled": false
   },
   "outputs": [
    {
     "name": "stdout",
     "output_type": "stream",
     "text": [
      "rm: cannot remove '*_info.json': No such file or directory\r\n"
     ]
    }
   ],
   "source": [
    "!cd episodes && rm *_info.json && cd .."
   ]
  },
  {
   "cell_type": "code",
   "execution_count": 4,
   "metadata": {
    "execution": {
     "iopub.execute_input": "2021-09-21T02:10:36.880862Z",
     "iopub.status.busy": "2021-09-21T02:10:36.88065Z",
     "iopub.status.idle": "2021-09-21T02:10:36.895408Z",
     "shell.execute_reply": "2021-09-21T02:10:36.89469Z",
     "shell.execute_reply.started": "2021-09-21T02:10:36.880838Z"
    }
   },
   "outputs": [],
   "source": [
    "def unit_label(action):\n",
    "    strs = action.split(' ')\n",
    "    unit_id = strs[1]\n",
    "    if strs[0] == 'm':\n",
    "        label = {'c': None, 'n': 0, 's': 1, 'w': 2, 'e': 3}[strs[2]]\n",
    "    elif strs[0] == 'bcity':\n",
    "        label = 4\n",
    "    else:\n",
    "        label = None\n",
    "    return unit_id, label\n",
    "\n",
    "def city_label(action):\n",
    "    strs = action.split(' ')\n",
    "    ctile_coord = (strs[1], strs[2])\n",
    "    if strs[0] == 'bw':\n",
    "        label = 0\n",
    "    elif strs[0] == 'r':\n",
    "        label = 1\n",
    "    else:\n",
    "        label = None\n",
    "    return ctile_coord, label\n",
    "\n",
    "def city_tile_coord(update, index):\n",
    "    strs = update.split(' ')\n",
    "    if strs[0] == 'ct' and strs[1] == index:\n",
    "        ctile_coord = (strs[3], strs[4])\n",
    "        return ctile_coord\n",
    "    return None\n",
    "\n",
    "def depleted_resources(obs):\n",
    "    for u in obs['updates']:\n",
    "        if u.split(' ')[0] == 'r':\n",
    "            return False\n",
    "    return True\n",
    "\n",
    "\n",
    "def create_dataset_from_json(episode_dir, team_name='Toad Brigade'): \n",
    "    obses = {}\n",
    "    unit_samples = []\n",
    "    city_samples = []\n",
    "    \n",
    "    episodes = [path for path in Path(episode_dir).glob('*.json') if 'output' not in path.name]\n",
    "    for filepath in tqdm(episodes): \n",
    "        with open(filepath) as f:\n",
    "            json_load = json.load(f)\n",
    "\n",
    "        ep_id = json_load['info']['EpisodeId']\n",
    "        index = np.argmax([r or 0 for r in json_load['rewards']])\n",
    "        if json_load['info']['TeamNames'][index] != team_name:\n",
    "            continue\n",
    "\n",
    "        for i in range(len(json_load['steps'])-1):\n",
    "            # get there, collect all the cities and set action label to 0 for those of them \n",
    "            # who didn't act during the episode\n",
    "            \n",
    "            city_tiles = {}\n",
    "            \n",
    "            if json_load['steps'][i][index]['status'] == 'ACTIVE':\n",
    "                actions = json_load['steps'][i+1][index]['action']\n",
    "                obs = json_load['steps'][i][0]['observation']\n",
    "                updates = obs['updates']\n",
    "                \n",
    "                for u in updates:\n",
    "                    ctile_coord = city_tile_coord(u, str(index))\n",
    "                    if ctile_coord:\n",
    "                        city_tiles[ctile_coord] = 0\n",
    "                \n",
    "                if depleted_resources(obs):\n",
    "                    break\n",
    "                \n",
    "                obs['player'] = index\n",
    "                obs = dict([\n",
    "                    (k,v) for k,v in obs.items() \n",
    "                    if k in ['step', 'updates', 'player', 'width', 'height']\n",
    "                ])\n",
    "                obs_id = f'{ep_id}_{i}'\n",
    "                obses[obs_id] = obs\n",
    "                                \n",
    "                for action in actions:\n",
    "                    unit_id, label = unit_label(action)\n",
    "                    if label is not None:\n",
    "                        unit_samples.append((obs_id, unit_id, label))\n",
    "                        continue\n",
    "                    ctile_coord, label = city_label(action)\n",
    "                    if label is not None:\n",
    "                        city_samples.append((obs_id, ctile_coord, label))\n",
    "                    \n",
    "                    \n",
    "    return obses, unit_samples, city_samples"
   ]
  },
  {
   "cell_type": "code",
   "execution_count": 5,
   "metadata": {
    "execution": {
     "iopub.execute_input": "2021-09-21T02:10:36.896889Z",
     "iopub.status.busy": "2021-09-21T02:10:36.896599Z",
     "iopub.status.idle": "2021-09-21T02:10:40.890717Z",
     "shell.execute_reply": "2021-09-21T02:10:40.889936Z",
     "shell.execute_reply.started": "2021-09-21T02:10:36.896855Z"
    },
    "scrolled": true
   },
   "outputs": [
    {
     "data": {
      "application/vnd.jupyter.widget-view+json": {
       "model_id": "240ca0ca26c049f5b322a500bd624828",
       "version_major": 2,
       "version_minor": 0
      },
      "text/plain": [
       "  0%|          | 0/408 [00:00<?, ?it/s]"
      ]
     },
     "metadata": {},
     "output_type": "display_data"
    },
    {
     "name": "stdout",
     "output_type": "stream",
     "text": [
      "observations: 104676 worker samples: 454557 city samples: 81995\n"
     ]
    }
   ],
   "source": [
    "episode_dir = 'episodes'\n",
    "obses, samples, city_samples = create_dataset_from_json(episode_dir)\n",
    "print('observations:', len(obses), 'worker samples:', len(samples), 'city samples:', len(city_samples))"
   ]
  },
  {
   "cell_type": "code",
   "execution_count": 6,
   "metadata": {
    "execution": {
     "iopub.execute_input": "2021-09-21T02:10:40.892694Z",
     "iopub.status.busy": "2021-09-21T02:10:40.892219Z",
     "iopub.status.idle": "2021-09-21T02:10:40.934807Z",
     "shell.execute_reply": "2021-09-21T02:10:40.933891Z",
     "shell.execute_reply.started": "2021-09-21T02:10:40.892659Z"
    },
    "scrolled": true
   },
   "outputs": [
    {
     "name": "stdout",
     "output_type": "stream",
     "text": [
      "north: 102204\n",
      "south: 98315\n",
      "west: 106276\n",
      "east: 108876\n",
      "bcity: 38886\n"
     ]
    }
   ],
   "source": [
    "labels = [sample[-1] for sample in samples]\n",
    "actions = ['north', 'south', 'west', 'east', 'bcity']\n",
    "for value, count in zip(*np.unique(labels, return_counts=True)):\n",
    "    print(f'{actions[value]}: {count}')"
   ]
  },
  {
   "cell_type": "code",
   "execution_count": 7,
   "metadata": {
    "scrolled": false
   },
   "outputs": [
    {
     "name": "stdout",
     "output_type": "stream",
     "text": [
      "build_worker: 25237\n",
      "research: 56758\n"
     ]
    }
   ],
   "source": [
    "labels_city = [sample[-1] for sample in city_samples]\n",
    "actions_city = ['build_worker', 'research']\n",
    "for value, count in zip(*np.unique(labels_city, return_counts=True)):\n",
    "    print(f'{actions_city[value]}: {count}')"
   ]
  },
  {
   "cell_type": "code",
   "execution_count": 9,
   "metadata": {},
   "outputs": [],
   "source": [
    "# episode_dir = 'episodes'\n",
    "# json_load = create_dataset_from_json(episode_dir)\n",
    "# json_load"
   ]
  },
  {
   "cell_type": "code",
   "execution_count": 8,
   "metadata": {
    "scrolled": true
   },
   "outputs": [],
   "source": [
    "# obses['26762301_31']"
   ]
  },
  {
   "cell_type": "code",
   "execution_count": 11,
   "metadata": {
    "scrolled": true
   },
   "outputs": [],
   "source": [
    "# samples"
   ]
  },
  {
   "cell_type": "code",
   "execution_count": 12,
   "metadata": {
    "scrolled": true
   },
   "outputs": [],
   "source": [
    "# city_samples[200000]"
   ]
  },
  {
   "cell_type": "markdown",
   "metadata": {},
   "source": [
    "# Training\n",
    "\n",
    "b - training tensor of float32. b dimensions is 20x32x32\n",
    "\n",
    "- b[0] - position of current unit\n",
    "- b[1] - cargo sum/100 of current unit\n",
    "- b[2, 3, 4] - position, cooldown/6, and cargo sum/100 for units from the same team\n",
    "- b[5, 6, 7] - position, cooldown/6, and cargo sum/100 for units from another team\n",
    "- b[8, 9] - position,  min(city fuel/city energy consumption, 10)/10\n",
    "- b[10, 11] - position, cooldown/6, and cargo sum/100 for units from another team\n",
    "- b[12] - amount of wood / 800\n",
    "- b[13] - amount of coal / 800\n",
    "- b[14] - amount of uranium / 800\n",
    "- b[15] - research points / 200 of unit's team\n",
    "- b[16] - research piints / 200 of another team\n",
    "- b[17] - time of the day (from 0 to 1, step 0.05)\n",
    "- b[18] - step of the game (from 0 to 1, step 1/360)\n",
    "- b[19] - map size\n",
    "\n",
    "Add number of cities - ? \n",
    "\n",
    "Add day/night - ?"
   ]
  },
  {
   "cell_type": "code",
   "execution_count": 34,
   "metadata": {
    "execution": {
     "iopub.execute_input": "2021-09-21T02:10:40.937075Z",
     "iopub.status.busy": "2021-09-21T02:10:40.9366Z",
     "iopub.status.idle": "2021-09-21T02:10:40.957891Z",
     "shell.execute_reply": "2021-09-21T02:10:40.957188Z",
     "shell.execute_reply.started": "2021-09-21T02:10:40.93704Z"
    }
   },
   "outputs": [],
   "source": [
    "from math import inf\n",
    "\n",
    "def manhattan_distance(x1, y1, x2, y2):\n",
    "    return (abs(x2-x1) + abs(y2-y1))\n",
    "\n",
    "def find_user_coords(obs, unit_id, x_shift, y_shift):\n",
    "    for update in obs['updates']:\n",
    "        strs = update.split(' ')\n",
    "        input_identifier = strs[0]\n",
    "        \n",
    "        if input_identifier == 'u':\n",
    "            x = int(strs[4]) + x_shift\n",
    "            y = int(strs[5]) + y_shift\n",
    "            if strs[3] == unit_id:\n",
    "                return x, y\n",
    "    return None, None\n",
    "\n",
    "def find_closest(x, y, coord_list, width, height):\n",
    "    min_dist = inf\n",
    "    min_coords = [None, None]\n",
    "    for i, j in coord_list:\n",
    "        dist = manhattan_distance(x, y, i, j, width, height)\n",
    "        if dist < min_dist:\n",
    "            min_dist = dist\n",
    "            min_coords = [i, j]\n",
    "    return min_coords\n",
    "        \n",
    "\n",
    "# Input for Neural Network for workers\n",
    "def make_input(obs, unit_id):\n",
    "    width, height = obs['width'], obs['height']\n",
    "    x_shift = (32 - width) // 2\n",
    "    y_shift = (32 - height) // 2\n",
    "    cities = {}\n",
    "    \n",
    "    b = np.zeros((25, 32, 32), dtype=np.float32)\n",
    "    \n",
    "    x_c, y_c = find_user_coords(obs, unit_id, x_shift, y_shift)\n",
    "    \n",
    "    for update in obs['updates']:\n",
    "        strs = update.split(' ')\n",
    "        input_identifier = strs[0]\n",
    "        my_rp = 0\n",
    "        \n",
    "        city_tiles = []\n",
    "        resources = []\n",
    "        \n",
    "        if input_identifier == 'u':\n",
    "            x = int(strs[4]) + x_shift\n",
    "            y = int(strs[5]) + y_shift\n",
    "            wood = int(strs[7])\n",
    "            coal = int(strs[8])\n",
    "            uranium = int(strs[9])\n",
    "            if strs[3] == unit_id: # 0:1\n",
    "                # Position and Cargo\n",
    "                b[:2, x, y] = (\n",
    "                    1,\n",
    "                    (wood + coal + uranium) / 100\n",
    "                )\n",
    "            else:                  # 2:9\n",
    "                # Units\n",
    "                team = int(strs[2])\n",
    "                cooldown = float(strs[6])\n",
    "                idx = 2 + (team - obs['player']) % 2 * 4\n",
    "                m_dist = manhattan_distance(x_c, y_c, x, y)\n",
    "#                 print(f'm_dist - {m_dist}, x_u - {x_c}, y_u - {y_c}, x - {x}, y - {y}, width - {width}, height - {height}')\n",
    "                b[idx:idx + 4, x, y] = (\n",
    "                    1,\n",
    "                    cooldown / 6,\n",
    "                    (wood + coal + uranium) / 100,\n",
    "                    m_dist/((width-1) + (height-1))\n",
    "                )\n",
    "        elif input_identifier == 'ct':  # 10:15\n",
    "            # CityTiles\n",
    "            team = int(strs[1])\n",
    "            city_id = strs[2]\n",
    "            x = int(strs[3]) + x_shift\n",
    "            y = int(strs[4]) + y_shift\n",
    "            idx = 9 + (team - obs['player']) % 2 * 3\n",
    "            m_dist = manhattan_distance(x_c, y_c, x, y)\n",
    "#             print(f'm_dist - {m_dist}, x_u - {x_c}, y_u - {y_c}, x - {x}, y - {y}')\n",
    "            b[idx:idx + 3, x, y] = (\n",
    "                1,\n",
    "                cities[city_id],\n",
    "                m_dist/((width-1) + (height-1))\n",
    "            )\n",
    "            city_tiles.append([x, y])\n",
    "        elif input_identifier == 'r':  # 16:19\n",
    "            # Resources\n",
    "            r_type = strs[1]\n",
    "            x = int(strs[2]) + x_shift\n",
    "            y = int(strs[3]) + y_shift\n",
    "            amt = int(float(strs[4]))\n",
    "            access_level = {'wood': 0, 'coal': 50, 'uranium': 200}[r_type]\n",
    "            access = 0 if my_rp < access_level else 1\n",
    "#             print(f'access_level - {access_level}, access - {access}, my_rp - {my_rp}')\n",
    "            b[{'wood': 16, 'coal': 17, 'uranium': 18}[r_type], x, y] = amt / 800\n",
    "            b[19, x, y] = access\n",
    "            resources.append([x, y])\n",
    "        elif input_identifier == 'rp':\n",
    "            # Research Points\n",
    "            team = int(strs[1])\n",
    "            rp = int(strs[2])\n",
    "            my_rp = rp if team == obs['player'] else my_rp\n",
    "            b[20 + (team - obs['player']) % 2, :] = min(rp, 200) / 200\n",
    "        elif input_identifier == 'c':\n",
    "            # Cities\n",
    "            city_id = strs[2]\n",
    "            fuel = float(strs[3])\n",
    "            lightupkeep = float(strs[4])\n",
    "            cities[city_id] = min(fuel / lightupkeep, 10) / 10\n",
    "    \n",
    "    # Day/Night Cycle\n",
    "    b[22, :] = obs['step'] % 40 / 40\n",
    "    # Turns\n",
    "    b[23, :] = obs['step'] / 360\n",
    "    # Map Size\n",
    "    b[24, x_shift:32 - x_shift, y_shift:32 - y_shift] = 1\n",
    "\n",
    "    return b"
   ]
  },
  {
   "cell_type": "markdown",
   "metadata": {},
   "source": [
    "Data for the cities:\n",
    "- b[0] - position of current city\n",
    "- b[1] - min(city fuel/city energy consumption, 10)/10 of current city\n",
    "- b[2, 3, 4] - position, cooldown/10, and min(city fuel/city energy consumption, 10)/10 for cities from the same team\n",
    "- b[5, 6, 7] - position, cooldown/10, and min(city fuel/city energy consumption, 10)/10 for cities from another team\n",
    "- b[8, 9] - position and cargo sum/100 for units from the same team \n",
    "- b[10, 11] - position and cargo sum/100 for units from from another team\n",
    "- b[12] - amount of wood / 800\n",
    "- b[13] - amount of coal / 800\n",
    "- b[14] - amount of uranium / 800\n",
    "- b[15] - research points / 200 of unit's team\n",
    "- b[16] - research piints / 200 of another team\n",
    "- b[17] - time of the day (from 0 to 1, step 0.05)\n",
    "- b[18] - step of the game (from 0 to 1, step 1/360)\n",
    "- b[19] - map size"
   ]
  },
  {
   "cell_type": "code",
   "execution_count": 10,
   "metadata": {},
   "outputs": [],
   "source": [
    "# Input for Neural Network for cities\n",
    "def make_city_input(obs, city_coord):\n",
    "    width, height = obs['width'], obs['height']\n",
    "    x_shift = (32 - width) // 2\n",
    "    y_shift = (32 - height) // 2\n",
    "    cities = {}\n",
    "    \n",
    "    b = np.zeros((20, 32, 32), dtype=np.float32)\n",
    "    \n",
    "    for update in obs['updates']:\n",
    "        strs = update.split(' ')\n",
    "        input_identifier = strs[0]\n",
    "        \n",
    "        if input_identifier == 'ct':\n",
    "            # CityTiles\n",
    "            city_id = strs[2]\n",
    "            x = int(strs[3]) \n",
    "            y = int(strs[4])\n",
    "            cooldown = float(strs[5])\n",
    "            if x == int(city_coord[0]) and y == int(city_coord[1]):\n",
    "                b[:2, x + x_shift, y + y_shift] = (\n",
    "                    1,\n",
    "                    cities[city_id]\n",
    "                )\n",
    "            else:\n",
    "                team = int(strs[1])\n",
    "                idx = 2 + (team - obs['player']) % 2 * 3\n",
    "                b[idx:idx + 3, x + x_shift, y + y_shift] = (\n",
    "                    1,\n",
    "                    cooldown / 10,\n",
    "                    cities[city_id]\n",
    "                )\n",
    "        elif input_identifier == 'u':\n",
    "            team = int(strs[2])\n",
    "            x = int(strs[4]) + x_shift\n",
    "            y = int(strs[5]) + y_shift\n",
    "            wood = int(strs[7])\n",
    "            coal = int(strs[8])\n",
    "            uranium = int(strs[9])\n",
    "            idx = 8 + (team - obs['player']) % 2 * 2\n",
    "            b[idx:idx + 2, x, y] = (\n",
    "                1,\n",
    "                (wood + coal + uranium) / 100\n",
    "            )\n",
    "        elif input_identifier == 'r':\n",
    "            # Resources\n",
    "            r_type = strs[1]\n",
    "            x = int(strs[2]) + x_shift\n",
    "            y = int(strs[3]) + y_shift\n",
    "            amt = int(float(strs[4]))\n",
    "            b[{'wood': 12, 'coal': 13, 'uranium': 14}[r_type], x, y] = amt / 800\n",
    "        elif input_identifier == 'rp':\n",
    "            # Research Points\n",
    "            team = int(strs[1])\n",
    "            rp = int(strs[2])\n",
    "            b[15 + (team - obs['player']) % 2, :] = min(rp, 200) / 200\n",
    "        elif input_identifier == 'c':\n",
    "            # Cities\n",
    "            city_id = strs[2]\n",
    "            fuel = float(strs[3])\n",
    "            lightupkeep = float(strs[4])\n",
    "            cities[city_id] = min(fuel / lightupkeep, 10) / 10\n",
    "    \n",
    "    # Day/Night Cycle\n",
    "    b[17, :] = obs['step'] % 40 / 40\n",
    "    # Turns\n",
    "    b[18, :] = obs['step'] / 360\n",
    "    # Map Size\n",
    "    b[19, x_shift:32 - x_shift, y_shift:32 - y_shift] = 1\n",
    "\n",
    "    return b"
   ]
  },
  {
   "cell_type": "markdown",
   "metadata": {},
   "source": [
    "### Set modules for NN training"
   ]
  },
  {
   "cell_type": "code",
   "execution_count": 47,
   "metadata": {
    "execution": {
     "iopub.execute_input": "2021-09-21T02:10:40.959528Z",
     "iopub.status.busy": "2021-09-21T02:10:40.959271Z",
     "iopub.status.idle": "2021-09-21T02:10:40.973799Z",
     "shell.execute_reply": "2021-09-21T02:10:40.973034Z",
     "shell.execute_reply.started": "2021-09-21T02:10:40.959496Z"
    }
   },
   "outputs": [],
   "source": [
    "class LuxDataset(Dataset):\n",
    "    def __init__(self, obses, samples):\n",
    "        self.obses = obses\n",
    "        self.samples = samples\n",
    "        \n",
    "    def __len__(self):\n",
    "        return len(self.samples)\n",
    "\n",
    "    def __getitem__(self, idx):\n",
    "        obs_id, unit_id, action = self.samples[idx]\n",
    "        obs = self.obses[obs_id]\n",
    "        state = make_input(obs, unit_id)\n",
    "        \n",
    "        return state, action\n",
    "    \n",
    "class LuxCityDataset(Dataset):\n",
    "    def __init__(self, obses, city_samples):\n",
    "        self.obses = obses\n",
    "        self.samples = city_samples\n",
    "        \n",
    "    def __len__(self):\n",
    "        return len(self.samples)\n",
    "\n",
    "    def __getitem__(self, idx):\n",
    "        obs_id, city_coord, action = self.samples[idx]\n",
    "        obs = self.obses[obs_id]\n",
    "        state = make_city_input(obs, city_coord)\n",
    "        \n",
    "        return state, action\n",
    "\n",
    "# Neural Network for Lux AI\n",
    "class BasicConv2d(nn.Module):\n",
    "    def __init__(self, input_dim, output_dim, kernel_size, bn):\n",
    "        super().__init__()\n",
    "        self.conv = nn.Conv2d(\n",
    "            input_dim, output_dim, \n",
    "            kernel_size=kernel_size, \n",
    "            padding=(kernel_size[0] // 2, kernel_size[1] // 2)\n",
    "        )\n",
    "        self.bn = nn.BatchNorm2d(output_dim) if bn else None\n",
    "\n",
    "    def forward(self, x):\n",
    "        h = self.conv(x)\n",
    "        h = self.bn(h) if self.bn is not None else h\n",
    "        return h\n",
    "\n",
    "\n",
    "class LuxNet(nn.Module):\n",
    "    def __init__(self):\n",
    "        super().__init__()\n",
    "        layers, filters = 12, 32\n",
    "        self.conv0 = BasicConv2d(25, filters, (3, 3), True)\n",
    "        self.blocks = nn.ModuleList([BasicConv2d(filters, filters, (3, 3), True) for _ in range(layers)])\n",
    "        self.head_p = nn.Linear(filters, 5, bias=False)\n",
    "\n",
    "    def forward(self, x):\n",
    "        h = F.relu_(self.conv0(x))\n",
    "        for block in self.blocks:\n",
    "            h = F.relu_(h + block(h))\n",
    "        h_head = (h * x[:,:1]).view(h.size(0), h.size(1), -1).sum(-1)\n",
    "        p = self.head_p(h_head)\n",
    "        return p\n",
    "    \n",
    "    \n",
    "class LuxCityNet(nn.Module):\n",
    "    def __init__(self):\n",
    "        super().__init__()\n",
    "        layers, filters = 12, 32\n",
    "        self.conv0 = BasicConv2d(20, filters, (3, 3), True)\n",
    "        self.blocks = nn.ModuleList([BasicConv2d(filters, filters, (3, 3), True) for _ in range(layers)])\n",
    "        self.head_p = nn.Linear(filters, 2, bias=False)\n",
    "\n",
    "    def forward(self, x):\n",
    "        h = F.relu_(self.conv0(x))\n",
    "        for block in self.blocks:\n",
    "            h = F.relu_(h + block(h))\n",
    "        h_head = (h * x[:,:1]).view(h.size(0), h.size(1), -1).sum(-1)\n",
    "        p = self.head_p(h_head)\n",
    "        return p"
   ]
  },
  {
   "cell_type": "markdown",
   "metadata": {},
   "source": [
    "### Make convolutional network with filters 5x5 -> 3x3"
   ]
  },
  {
   "cell_type": "code",
   "execution_count": 138,
   "metadata": {},
   "outputs": [],
   "source": [
    "# class LuxDataset(Dataset):\n",
    "#     def __init__(self, obses, samples):\n",
    "#         self.obses = obses\n",
    "#         self.samples = samples\n",
    "        \n",
    "#     def __len__(self):\n",
    "#         return len(self.samples)\n",
    "\n",
    "#     def __getitem__(self, idx):\n",
    "#         obs_id, unit_id, action = self.samples[idx]\n",
    "#         obs = self.obses[obs_id]\n",
    "#         state = make_input(obs, unit_id)\n",
    "        \n",
    "#         return state, action\n",
    "\n",
    "# # Neural Network for Lux AI\n",
    "# class BasicConv2d(nn.Module):\n",
    "#     def __init__(self, input_dim, output_dim, kernel_size, bn):\n",
    "#         super().__init__()\n",
    "#         self.conv = nn.Conv2d(\n",
    "#             input_dim, output_dim, \n",
    "#             kernel_size=kernel_size, \n",
    "#             padding=(kernel_size[0] // 2, kernel_size[1] // 2)\n",
    "#         )\n",
    "#         self.bn = nn.BatchNorm2d(output_dim) if bn else None\n",
    "\n",
    "#     def forward(self, x):\n",
    "#         h = self.conv(x)\n",
    "#         h = self.bn(h) if self.bn is not None else h\n",
    "#         return h\n",
    "\n",
    "\n",
    "# class LuxNet(nn.Module):\n",
    "#     def __init__(self):\n",
    "#         super().__init__()\n",
    "#         layers, filters = 6, 32\n",
    "#         self.conv0 = BasicConv2d(20, filters, (5, 5), True)\n",
    "#         self.blocks1 = nn.ModuleList([BasicConv2d(filters, filters, (5, 5), True) for _ in range(layers)])\n",
    "#         self.blocks2 = nn.ModuleList([BasicConv2d(filters, filters, (3, 3), True) for _ in range(layers)])\n",
    "#         self.head_p = nn.Linear(filters, 5, bias=False)\n",
    "\n",
    "#     def forward(self, x):\n",
    "#         h = F.relu_(self.conv0(x))\n",
    "#         for block in self.blocks1:\n",
    "#             h = F.relu_(h + block(h))\n",
    "#         for block in self.blocks2:\n",
    "#             h = F.relu_(h + block(h))\n",
    "#         h_head = (h * x[:,:1]).view(h.size(0), h.size(1), -1).sum(-1)\n",
    "#         p = self.head_p(h_head)\n",
    "#         return p"
   ]
  },
  {
   "cell_type": "code",
   "execution_count": 13,
   "metadata": {},
   "outputs": [],
   "source": [
    "# Epoch 1/20 | train | Loss: 0.8373 | Acc: 0.6564\n",
    "# Epoch 1/20 |  val  | Loss: 0.7038 | Acc: 0.7146\n",
    "# Epoch 2/20 | train | Loss: 0.6665 | Acc: 0.7308\n",
    "# Epoch 2/20 |  val  | Loss: 0.6567 | Acc: 0.7342\n",
    "# Epoch 3/20 | train | Loss: 0.6125 | Acc: 0.7526\n",
    "# Epoch 3/20 |  val  | Loss: 0.6198 | Acc: 0.7515\n",
    "# Epoch 4/20 | train | Loss: 0.5781 | Acc: 0.7673\n",
    "# Epoch 4/20 |  val  | Loss: 0.5982 | Acc: 0.7592\n",
    "# Epoch 5/20 | train | Loss: 0.5523 | Acc: 0.7785\n",
    "# Epoch 5/20 |  val  | Loss: 0.5879 | Acc: 0.7634\n",
    "# Epoch 6/20 | train | Loss: 0.5327 | Acc: 0.7867\n",
    "# Epoch 6/20 |  val  | Loss: 0.5836 | Acc: 0.7670\n",
    "# Epoch 7/20 | train | Loss: 0.5148 | Acc: 0.7937\n",
    "# Epoch 7/20 |  val  | Loss: 0.5748 | Acc: 0.7713\n",
    "# Epoch 8/20 | train | Loss: 0.5007 | Acc: 0.7991\n",
    "# Epoch 8/20 |  val  | Loss: 0.5571 | Acc: 0.7774\n",
    "# Epoch 9/20 | train | Loss: 0.4880 | Acc: 0.8049\n",
    "# Epoch 9/20 |  val  | Loss: 0.5596 | Acc: 0.7772\n",
    "# Epoch 10/20 | train | Loss: 0.4761 | Acc: 0.8099\n",
    "# Epoch 10/20 |  val  | Loss: 0.5556 | Acc: 0.7784\n",
    "# Epoch 11/20 | train | Loss: 0.4650 | Acc: 0.8146\n",
    "# Epoch 11/20 |  val  | Loss: 0.5472 | Acc: 0.7835\n",
    "# Epoch 12/20 | train | Loss: 0.4557 | Acc: 0.8184\n",
    "# Epoch 12/20 |  val  | Loss: 0.5597 | Acc: 0.7803\n",
    "# Epoch 13/20 | train | Loss: 0.4473 | Acc: 0.8218\n",
    "# Epoch 13/20 |  val  | Loss: 0.5527 | Acc: 0.7813\n",
    "# Epoch 14/20 | train | Loss: 0.4393 | Acc: 0.8255\n",
    "# Epoch 14/20 |  val  | Loss: 0.5506 | Acc: 0.7813\n",
    "# Epoch 15/20 | train | Loss: 0.4318 | Acc: 0.8279\n",
    "# Epoch 15/20 |  val  | Loss: 0.5568 | Acc: 0.7823\n",
    "# Epoch 16/20 | train | Loss: 0.4257 | Acc: 0.8305\n",
    "# Epoch 16/20 |  val  | Loss: 0.5601 | Acc: 0.7817\n",
    "# Epoch 17/20 | train | Loss: 0.4193 | Acc: 0.8332\n",
    "# Epoch 17/20 |  val  | Loss: 0.5586 | Acc: 0.7825\n",
    "# Epoch 18/20 | train | Loss: 0.4135 | Acc: 0.8360\n",
    "# Epoch 18/20 |  val  | Loss: 0.5550 | Acc: 0.7828\n",
    "# Epoch 19/20 | train | Loss: 0.4084 | Acc: 0.8385\n",
    "# Epoch 19/20 |  val  | Loss: 0.5461 | Acc: 0.7876\n",
    "# Epoch 20/20 | train | Loss: 0.4035 | Acc: 0.8403\n",
    "# Epoch 20/20 |  val  | Loss: 0.5622 | Acc: 0.7844"
   ]
  },
  {
   "cell_type": "markdown",
   "metadata": {},
   "source": [
    "### Make convolutional network with filters 7x7 -> 5x5 -> 3x3"
   ]
  },
  {
   "cell_type": "code",
   "execution_count": 12,
   "metadata": {},
   "outputs": [],
   "source": [
    "# class LuxDataset(Dataset):\n",
    "#     def __init__(self, obses, samples):\n",
    "#         self.obses = obses\n",
    "#         self.samples = samples\n",
    "        \n",
    "#     def __len__(self):\n",
    "#         return len(self.samples)\n",
    "\n",
    "#     def __getitem__(self, idx):\n",
    "#         obs_id, unit_id, action = self.samples[idx]\n",
    "#         obs = self.obses[obs_id]\n",
    "#         state = make_input(obs, unit_id)\n",
    "        \n",
    "#         return state, action\n",
    "\n",
    "# # Neural Network for Lux AI\n",
    "# class BasicConv2d(nn.Module):\n",
    "#     def __init__(self, input_dim, output_dim, kernel_size, bn):\n",
    "#         super().__init__()\n",
    "#         self.conv = nn.Conv2d(\n",
    "#             input_dim, output_dim, \n",
    "#             kernel_size=kernel_size, \n",
    "#             padding=(kernel_size[0] // 2, kernel_size[1] // 2)\n",
    "#         )\n",
    "#         self.bn = nn.BatchNorm2d(output_dim) if bn else None\n",
    "\n",
    "#     def forward(self, x):\n",
    "#         h = self.conv(x)\n",
    "#         h = self.bn(h) if self.bn is not None else h\n",
    "#         return h\n",
    "\n",
    "\n",
    "# class LuxNet(nn.Module):\n",
    "#     def __init__(self):\n",
    "#         super().__init__()\n",
    "#         layers, filters = 6, 32\n",
    "#         self.conv0 = BasicConv2d(20, filters, (5, 5), True)\n",
    "#         self.blocks1 = nn.ModuleList([BasicConv2d(filters, filters, (5, 5), True) for _ in range(layers)])\n",
    "#         self.blocks2 = nn.ModuleList([BasicConv2d(filters, filters, (5, 5), True) for _ in range(layers)])\n",
    "#         self.head_p = nn.Linear(filters, 5, bias=False)\n",
    "\n",
    "#     def forward(self, x):\n",
    "#         h = F.relu_(self.conv0(x))\n",
    "#         for block in self.blocks1:\n",
    "#             h = F.relu_(h + block(h))\n",
    "#         for block in self.blocks2:\n",
    "#             h = F.relu_(h + block(h))\n",
    "#         h_head = (h * x[:,:1]).view(h.size(0), h.size(1), -1).sum(-1)\n",
    "#         p = self.head_p(h_head)\n",
    "#         return p"
   ]
  },
  {
   "cell_type": "markdown",
   "metadata": {},
   "source": [
    "### Optimize NN parameters with Optuna"
   ]
  },
  {
   "cell_type": "code",
   "execution_count": 16,
   "metadata": {
    "scrolled": true
   },
   "outputs": [],
   "source": [
    "# def objective(trial):\n",
    "\n",
    "#     num_epochs = 10\n",
    "    \n",
    "#     # model for unit actions\n",
    "#     model = LuxNet()\n",
    "#     train, val = train_test_split(samples, test_size=0.1, random_state=42, stratify=labels)\n",
    "#     batch_size = 64\n",
    "\n",
    "#     train_loader = DataLoader(\n",
    "#         LuxDataset(obses, train), \n",
    "#         batch_size=batch_size, \n",
    "#         shuffle=True, \n",
    "#         num_workers=2\n",
    "#     )\n",
    "#     val_loader = DataLoader(\n",
    "#         LuxDataset(obses, val), \n",
    "#         batch_size=batch_size, \n",
    "#         shuffle=False, \n",
    "#         num_workers=2\n",
    "#     )\n",
    "#     dataloaders_dict = {\"train\": train_loader, \"val\": val_loader}\n",
    "\n",
    "#     # Generate the optimizers.\n",
    "#     criterion = nn.CrossEntropyLoss()\n",
    "#     optimizer_name = trial.suggest_categorical(\"optimizer\", [\"Adam\", \"AdamW\", \"RMSprop\", \"SGD\"])\n",
    "#     lr = trial.suggest_float(\"lr\", 1e-5, 1e-2, log=True)\n",
    "#     optimizer = getattr(optim, optimizer_name)(model.parameters(), lr=lr)\n",
    "\n",
    "#     for epoch in range(num_epochs):\n",
    "#         model.cuda()\n",
    "        \n",
    "#         for phase in ['train', 'val']:\n",
    "#             if phase == 'train':\n",
    "#                 model.train()\n",
    "#             else:\n",
    "#                 model.eval()\n",
    "                \n",
    "#             epoch_loss = 0.0\n",
    "#             epoch_acc = 0\n",
    "            \n",
    "#             dataloader = dataloaders_dict[phase]\n",
    "#             for item in dataloader:\n",
    "#                 states = item[0].cuda().float()\n",
    "#                 actions = item[1].cuda().long()\n",
    "\n",
    "#                 optimizer.zero_grad()\n",
    "                \n",
    "#                 with torch.set_grad_enabled(phase == 'train'):\n",
    "#                     policy = model(states)\n",
    "#                     loss = criterion(policy, actions)\n",
    "#                     _, preds = torch.max(policy, 1)\n",
    "\n",
    "#                     if phase == 'train':\n",
    "#                         loss.backward()\n",
    "#                         optimizer.step()\n",
    "\n",
    "#                     epoch_loss += loss.item() * len(policy)\n",
    "#                     epoch_acc += torch.sum(preds == actions.data)\n",
    "\n",
    "#             data_size = len(dataloader.dataset)\n",
    "#             epoch_loss = epoch_loss / data_size\n",
    "#             epoch_acc = epoch_acc.double() / data_size\n",
    "\n",
    "#         trial.report(epoch_acc, epoch)\n",
    "\n",
    "#         # Handle pruning based on the intermediate value.\n",
    "#         if trial.should_prune():\n",
    "#             raise optuna.exceptions.TrialPruned()\n",
    "\n",
    "#     return epoch_acc\n",
    "\n",
    "\n",
    "# study = optuna.create_study(direction=\"maximize\")\n",
    "# study.optimize(objective, n_trials=500, timeout=10*3600)\n",
    "\n",
    "# pruned_trials = study.get_trials(deepcopy=False, states=[TrialState.PRUNED])\n",
    "# complete_trials = study.get_trials(deepcopy=False, states=[TrialState.COMPLETE])\n",
    "\n",
    "# print(\"Study statistics: \")\n",
    "# print(\"  Number of finished trials: \", len(study.trials))\n",
    "# print(\"  Number of pruned trials: \", len(pruned_trials))\n",
    "# print(\"  Number of complete trials: \", len(complete_trials))\n",
    "\n",
    "# print(\"Best trial:\")\n",
    "# trial = study.best_trial\n",
    "\n",
    "# print(\"  Value: \", trial.value)\n",
    "\n",
    "# print(\"  Params: \")\n",
    "# for key, value in trial.params.items():\n",
    "#     print(\"    {}: {}\".format(key, value))"
   ]
  },
  {
   "cell_type": "markdown",
   "metadata": {},
   "source": [
    "### Function for NN training"
   ]
  },
  {
   "cell_type": "code",
   "execution_count": 57,
   "metadata": {
    "execution": {
     "iopub.execute_input": "2021-09-21T02:10:40.977015Z",
     "iopub.status.busy": "2021-09-21T02:10:40.976754Z",
     "iopub.status.idle": "2021-09-21T02:10:40.990161Z",
     "shell.execute_reply": "2021-09-21T02:10:40.989333Z",
     "shell.execute_reply.started": "2021-09-21T02:10:40.976986Z"
    }
   },
   "outputs": [],
   "source": [
    "import matplotlib.pyplot as plt\n",
    "# from torch.utils.tensorboard import SummaryWriter\n",
    "\n",
    "\n",
    "def train_model(model, dataloaders_dict, criterion, optimizer, num_epochs, city=False):\n",
    "#     tb = SummaryWriter()\n",
    "    \n",
    "    best_acc = 0.0\n",
    "    \n",
    "    for epoch in range(num_epochs):\n",
    "        model.cuda()\n",
    "        \n",
    "        for phase in ['train', 'val']:\n",
    "            if phase == 'train':\n",
    "                model.train()\n",
    "            else:\n",
    "                model.eval()\n",
    "                \n",
    "            epoch_loss = 0.0\n",
    "            epoch_acc = 0\n",
    "            \n",
    "            dataloader = dataloaders_dict[phase]\n",
    "            for item in tqdm(dataloader, leave=False):\n",
    "                states = item[0].cuda().float()\n",
    "                actions = item[1].cuda().long()\n",
    "\n",
    "                optimizer.zero_grad()\n",
    "                \n",
    "                with torch.set_grad_enabled(phase == 'train'):\n",
    "                    policy = model(states)\n",
    "                    loss = criterion(policy, actions)\n",
    "                    _, preds = torch.max(policy, 1)\n",
    "\n",
    "                    if phase == 'train':\n",
    "                        loss.backward()\n",
    "                        optimizer.step()\n",
    "\n",
    "                    epoch_loss += loss.item() * len(policy)\n",
    "                    epoch_acc += torch.sum(preds == actions.data)\n",
    "\n",
    "            data_size = len(dataloader.dataset)\n",
    "            epoch_loss = epoch_loss / data_size\n",
    "            epoch_acc = epoch_acc.double() / data_size\n",
    "\n",
    "#             if phase == 'train':\n",
    "#                 tb.add_scalar(\"Train Loss\", epoch_loss, epoch)\n",
    "#                 tb.add_scalar(\"Train Accuracy\", epoch_acc, epoch)\n",
    "#             else:\n",
    "#                 tb.add_scalar(\"Val Loss\", epoch_loss, epoch)\n",
    "#                 tb.add_scalar(\"Val Accuracy\", epoch_acc, epoch)\n",
    "            \n",
    "            print(f'Epoch {epoch + 1}/{num_epochs} | {phase:^5} | Loss: {epoch_loss:.4f} | Acc: {epoch_acc:.4f}')\n",
    "        \n",
    "        if epoch_acc > best_acc:\n",
    "            if city:\n",
    "                traced = torch.jit.trace(model.cpu(), torch.rand(1, 20, 32, 32))\n",
    "                traced.save('agent/model_city.pth')\n",
    "            else:\n",
    "                traced = torch.jit.trace(model.cpu(), torch.rand(1, 25, 32, 32))\n",
    "                traced.save('agent/model.pth')\n",
    "            best_acc = epoch_acc\n",
    "            \n",
    "#     tb.close()"
   ]
  },
  {
   "cell_type": "code",
   "execution_count": 58,
   "metadata": {
    "execution": {
     "iopub.execute_input": "2021-09-21T02:10:40.993264Z",
     "iopub.status.busy": "2021-09-21T02:10:40.992907Z",
     "iopub.status.idle": "2021-09-21T02:10:41.159575Z",
     "shell.execute_reply": "2021-09-21T02:10:41.158852Z",
     "shell.execute_reply.started": "2021-09-21T02:10:40.993229Z"
    }
   },
   "outputs": [],
   "source": [
    "# model for unit actions\n",
    "model = LuxNet()\n",
    "train, val = train_test_split(samples, test_size=0.1, random_state=42, stratify=labels)\n",
    "batch_size = 128\n",
    "\n",
    "train_loader = DataLoader(\n",
    "    LuxDataset(obses, train), \n",
    "    batch_size=batch_size, \n",
    "    shuffle=True, \n",
    "    num_workers=2\n",
    ")\n",
    "val_loader = DataLoader(\n",
    "    LuxDataset(obses, val), \n",
    "    batch_size=batch_size, \n",
    "    shuffle=False, \n",
    "    num_workers=2\n",
    ")\n",
    "dataloaders_dict = {\"train\": train_loader, \"val\": val_loader}\n",
    "\n",
    "criterion = nn.CrossEntropyLoss()\n",
    "optimizer = torch.optim.AdamW(model.parameters(), lr=1e-3) #27e-4\n",
    "\n",
    "# model for city actions\n",
    "model_city = LuxCityNet()\n",
    "train_city, val_city = train_test_split(city_samples, test_size=0.1, random_state=42, stratify=labels_city)\n",
    "batch_size_city = 128\n",
    "\n",
    "train_city_loader = DataLoader(\n",
    "    LuxCityDataset(obses, train_city), \n",
    "    batch_size=batch_size, \n",
    "    shuffle=True, \n",
    "    num_workers=2\n",
    ")\n",
    "val_city_loader = DataLoader(\n",
    "    LuxCityDataset(obses, val_city), \n",
    "    batch_size=batch_size, \n",
    "    shuffle=False, \n",
    "    num_workers=2\n",
    ")\n",
    "dataloaders_city_dict = {\"train\": train_city_loader, \"val\": val_city_loader}\n",
    "\n",
    "criterion_city = nn.CrossEntropyLoss()\n",
    "optimizer_city = torch.optim.AdamW(model_city.parameters(), lr=1e-3)"
   ]
  },
  {
   "cell_type": "code",
   "execution_count": 52,
   "metadata": {
    "scrolled": true
   },
   "outputs": [
    {
     "data": {
      "application/vnd.jupyter.widget-view+json": {
       "model_id": "",
       "version_major": 2,
       "version_minor": 0
      },
      "text/plain": [
       "  0%|          | 0/3197 [00:00<?, ?it/s]"
      ]
     },
     "metadata": {},
     "output_type": "display_data"
    },
    {
     "name": "stdout",
     "output_type": "stream",
     "text": [
      "Epoch 1/5 | train | Loss: 0.4348 | Acc: 0.8262\n"
     ]
    },
    {
     "data": {
      "application/vnd.jupyter.widget-view+json": {
       "model_id": "",
       "version_major": 2,
       "version_minor": 0
      },
      "text/plain": [
       "  0%|          | 0/356 [00:00<?, ?it/s]"
      ]
     },
     "metadata": {},
     "output_type": "display_data"
    },
    {
     "name": "stdout",
     "output_type": "stream",
     "text": [
      "Epoch 1/5 |  val  | Loss: 0.5376 | Acc: 0.7895\n"
     ]
    },
    {
     "data": {
      "application/vnd.jupyter.widget-view+json": {
       "model_id": "",
       "version_major": 2,
       "version_minor": 0
      },
      "text/plain": [
       "  0%|          | 0/3197 [00:00<?, ?it/s]"
      ]
     },
     "metadata": {},
     "output_type": "display_data"
    },
    {
     "name": "stdout",
     "output_type": "stream",
     "text": [
      "Epoch 2/5 | train | Loss: 0.4309 | Acc: 0.8282\n"
     ]
    },
    {
     "data": {
      "application/vnd.jupyter.widget-view+json": {
       "model_id": "",
       "version_major": 2,
       "version_minor": 0
      },
      "text/plain": [
       "  0%|          | 0/356 [00:00<?, ?it/s]"
      ]
     },
     "metadata": {},
     "output_type": "display_data"
    },
    {
     "name": "stdout",
     "output_type": "stream",
     "text": [
      "Epoch 2/5 |  val  | Loss: 0.5395 | Acc: 0.7873\n"
     ]
    },
    {
     "data": {
      "application/vnd.jupyter.widget-view+json": {
       "model_id": "",
       "version_major": 2,
       "version_minor": 0
      },
      "text/plain": [
       "  0%|          | 0/3197 [00:00<?, ?it/s]"
      ]
     },
     "metadata": {},
     "output_type": "display_data"
    },
    {
     "name": "stdout",
     "output_type": "stream",
     "text": [
      "Epoch 3/5 | train | Loss: 0.4268 | Acc: 0.8296\n"
     ]
    },
    {
     "data": {
      "application/vnd.jupyter.widget-view+json": {
       "model_id": "",
       "version_major": 2,
       "version_minor": 0
      },
      "text/plain": [
       "  0%|          | 0/356 [00:00<?, ?it/s]"
      ]
     },
     "metadata": {},
     "output_type": "display_data"
    },
    {
     "name": "stdout",
     "output_type": "stream",
     "text": [
      "Epoch 3/5 |  val  | Loss: 0.5367 | Acc: 0.7894\n"
     ]
    },
    {
     "data": {
      "application/vnd.jupyter.widget-view+json": {
       "model_id": "",
       "version_major": 2,
       "version_minor": 0
      },
      "text/plain": [
       "  0%|          | 0/3197 [00:00<?, ?it/s]"
      ]
     },
     "metadata": {},
     "output_type": "display_data"
    },
    {
     "name": "stdout",
     "output_type": "stream",
     "text": [
      "Epoch 4/5 | train | Loss: 0.4234 | Acc: 0.8309\n"
     ]
    },
    {
     "data": {
      "application/vnd.jupyter.widget-view+json": {
       "model_id": "",
       "version_major": 2,
       "version_minor": 0
      },
      "text/plain": [
       "  0%|          | 0/356 [00:00<?, ?it/s]"
      ]
     },
     "metadata": {},
     "output_type": "display_data"
    },
    {
     "name": "stdout",
     "output_type": "stream",
     "text": [
      "Epoch 4/5 |  val  | Loss: 0.5428 | Acc: 0.7859\n"
     ]
    },
    {
     "data": {
      "application/vnd.jupyter.widget-view+json": {
       "model_id": "",
       "version_major": 2,
       "version_minor": 0
      },
      "text/plain": [
       "  0%|          | 0/3197 [00:00<?, ?it/s]"
      ]
     },
     "metadata": {},
     "output_type": "display_data"
    },
    {
     "name": "stdout",
     "output_type": "stream",
     "text": [
      "Epoch 5/5 | train | Loss: 0.4200 | Acc: 0.8328\n"
     ]
    },
    {
     "data": {
      "application/vnd.jupyter.widget-view+json": {
       "model_id": "",
       "version_major": 2,
       "version_minor": 0
      },
      "text/plain": [
       "  0%|          | 0/356 [00:00<?, ?it/s]"
      ]
     },
     "metadata": {},
     "output_type": "display_data"
    },
    {
     "name": "stdout",
     "output_type": "stream",
     "text": [
      "Epoch 5/5 |  val  | Loss: 0.5443 | Acc: 0.7852\n"
     ]
    }
   ],
   "source": [
    "num_epochs = 5\n",
    "\n",
    "train_model(model, dataloaders_dict, criterion, optimizer, num_epochs=num_epochs)"
   ]
  },
  {
   "cell_type": "code",
   "execution_count": 108,
   "metadata": {},
   "outputs": [],
   "source": [
    "# torch.Size([64, 32, 32, 32]) torch.Size([64, 1, 32, 32])"
   ]
  },
  {
   "cell_type": "code",
   "execution_count": 92,
   "metadata": {},
   "outputs": [],
   "source": [
    "# torch.Size([64, 8, 32, 32]) torch.Size([64, 1, 32, 32])"
   ]
  },
  {
   "cell_type": "code",
   "execution_count": 59,
   "metadata": {
    "execution": {
     "iopub.execute_input": "2021-09-21T02:10:41.162296Z",
     "iopub.status.busy": "2021-09-21T02:10:41.161837Z",
     "iopub.status.idle": "2021-09-21T02:12:28.573451Z",
     "shell.execute_reply": "2021-09-21T02:12:28.570394Z",
     "shell.execute_reply.started": "2021-09-21T02:10:41.162261Z"
    },
    "scrolled": true
   },
   "outputs": [
    {
     "data": {
      "application/vnd.jupyter.widget-view+json": {
       "model_id": "",
       "version_major": 2,
       "version_minor": 0
      },
      "text/plain": [
       "  0%|          | 0/577 [00:00<?, ?it/s]"
      ]
     },
     "metadata": {},
     "output_type": "display_data"
    },
    {
     "name": "stdout",
     "output_type": "stream",
     "text": [
      "Epoch 1/10 | train | Loss: 0.3175 | Acc: 0.8647\n"
     ]
    },
    {
     "data": {
      "application/vnd.jupyter.widget-view+json": {
       "model_id": "",
       "version_major": 2,
       "version_minor": 0
      },
      "text/plain": [
       "  0%|          | 0/65 [00:00<?, ?it/s]"
      ]
     },
     "metadata": {},
     "output_type": "display_data"
    },
    {
     "name": "stdout",
     "output_type": "stream",
     "text": [
      "Epoch 1/10 |  val  | Loss: 0.2654 | Acc: 0.8854\n"
     ]
    },
    {
     "data": {
      "application/vnd.jupyter.widget-view+json": {
       "model_id": "",
       "version_major": 2,
       "version_minor": 0
      },
      "text/plain": [
       "  0%|          | 0/577 [00:00<?, ?it/s]"
      ]
     },
     "metadata": {},
     "output_type": "display_data"
    },
    {
     "name": "stdout",
     "output_type": "stream",
     "text": [
      "Epoch 2/10 | train | Loss: 0.2448 | Acc: 0.8982\n"
     ]
    },
    {
     "data": {
      "application/vnd.jupyter.widget-view+json": {
       "model_id": "",
       "version_major": 2,
       "version_minor": 0
      },
      "text/plain": [
       "  0%|          | 0/65 [00:00<?, ?it/s]"
      ]
     },
     "metadata": {},
     "output_type": "display_data"
    },
    {
     "name": "stdout",
     "output_type": "stream",
     "text": [
      "Epoch 2/10 |  val  | Loss: 0.2469 | Acc: 0.8974\n"
     ]
    },
    {
     "data": {
      "application/vnd.jupyter.widget-view+json": {
       "model_id": "",
       "version_major": 2,
       "version_minor": 0
      },
      "text/plain": [
       "  0%|          | 0/577 [00:00<?, ?it/s]"
      ]
     },
     "metadata": {},
     "output_type": "display_data"
    },
    {
     "name": "stdout",
     "output_type": "stream",
     "text": [
      "Epoch 3/10 | train | Loss: 0.2269 | Acc: 0.9062\n"
     ]
    },
    {
     "data": {
      "application/vnd.jupyter.widget-view+json": {
       "model_id": "",
       "version_major": 2,
       "version_minor": 0
      },
      "text/plain": [
       "  0%|          | 0/65 [00:00<?, ?it/s]"
      ]
     },
     "metadata": {},
     "output_type": "display_data"
    },
    {
     "name": "stdout",
     "output_type": "stream",
     "text": [
      "Epoch 3/10 |  val  | Loss: 0.2323 | Acc: 0.9028\n"
     ]
    },
    {
     "data": {
      "application/vnd.jupyter.widget-view+json": {
       "model_id": "",
       "version_major": 2,
       "version_minor": 0
      },
      "text/plain": [
       "  0%|          | 0/577 [00:00<?, ?it/s]"
      ]
     },
     "metadata": {},
     "output_type": "display_data"
    },
    {
     "name": "stdout",
     "output_type": "stream",
     "text": [
      "Epoch 4/10 | train | Loss: 0.2132 | Acc: 0.9118\n"
     ]
    },
    {
     "data": {
      "application/vnd.jupyter.widget-view+json": {
       "model_id": "",
       "version_major": 2,
       "version_minor": 0
      },
      "text/plain": [
       "  0%|          | 0/65 [00:00<?, ?it/s]"
      ]
     },
     "metadata": {},
     "output_type": "display_data"
    },
    {
     "name": "stdout",
     "output_type": "stream",
     "text": [
      "Epoch 4/10 |  val  | Loss: 0.2390 | Acc: 0.9012\n"
     ]
    },
    {
     "data": {
      "application/vnd.jupyter.widget-view+json": {
       "model_id": "",
       "version_major": 2,
       "version_minor": 0
      },
      "text/plain": [
       "  0%|          | 0/577 [00:00<?, ?it/s]"
      ]
     },
     "metadata": {},
     "output_type": "display_data"
    },
    {
     "name": "stdout",
     "output_type": "stream",
     "text": [
      "Epoch 5/10 | train | Loss: 0.2036 | Acc: 0.9148\n"
     ]
    },
    {
     "data": {
      "application/vnd.jupyter.widget-view+json": {
       "model_id": "",
       "version_major": 2,
       "version_minor": 0
      },
      "text/plain": [
       "  0%|          | 0/65 [00:00<?, ?it/s]"
      ]
     },
     "metadata": {},
     "output_type": "display_data"
    },
    {
     "name": "stdout",
     "output_type": "stream",
     "text": [
      "Epoch 5/10 |  val  | Loss: 0.2303 | Acc: 0.9035\n"
     ]
    },
    {
     "data": {
      "application/vnd.jupyter.widget-view+json": {
       "model_id": "",
       "version_major": 2,
       "version_minor": 0
      },
      "text/plain": [
       "  0%|          | 0/577 [00:00<?, ?it/s]"
      ]
     },
     "metadata": {},
     "output_type": "display_data"
    },
    {
     "name": "stdout",
     "output_type": "stream",
     "text": [
      "Epoch 6/10 | train | Loss: 0.1973 | Acc: 0.9179\n"
     ]
    },
    {
     "data": {
      "application/vnd.jupyter.widget-view+json": {
       "model_id": "",
       "version_major": 2,
       "version_minor": 0
      },
      "text/plain": [
       "  0%|          | 0/65 [00:00<?, ?it/s]"
      ]
     },
     "metadata": {},
     "output_type": "display_data"
    },
    {
     "name": "stdout",
     "output_type": "stream",
     "text": [
      "Epoch 6/10 |  val  | Loss: 0.2389 | Acc: 0.9024\n"
     ]
    },
    {
     "data": {
      "application/vnd.jupyter.widget-view+json": {
       "model_id": "",
       "version_major": 2,
       "version_minor": 0
      },
      "text/plain": [
       "  0%|          | 0/577 [00:00<?, ?it/s]"
      ]
     },
     "metadata": {},
     "output_type": "display_data"
    },
    {
     "name": "stdout",
     "output_type": "stream",
     "text": [
      "Epoch 7/10 | train | Loss: 0.1905 | Acc: 0.9209\n"
     ]
    },
    {
     "data": {
      "application/vnd.jupyter.widget-view+json": {
       "model_id": "",
       "version_major": 2,
       "version_minor": 0
      },
      "text/plain": [
       "  0%|          | 0/65 [00:00<?, ?it/s]"
      ]
     },
     "metadata": {},
     "output_type": "display_data"
    },
    {
     "name": "stdout",
     "output_type": "stream",
     "text": [
      "Epoch 7/10 |  val  | Loss: 0.2430 | Acc: 0.8978\n"
     ]
    },
    {
     "data": {
      "application/vnd.jupyter.widget-view+json": {
       "model_id": "",
       "version_major": 2,
       "version_minor": 0
      },
      "text/plain": [
       "  0%|          | 0/577 [00:00<?, ?it/s]"
      ]
     },
     "metadata": {},
     "output_type": "display_data"
    },
    {
     "name": "stdout",
     "output_type": "stream",
     "text": [
      "Epoch 8/10 | train | Loss: 0.1804 | Acc: 0.9256\n"
     ]
    },
    {
     "data": {
      "application/vnd.jupyter.widget-view+json": {
       "model_id": "",
       "version_major": 2,
       "version_minor": 0
      },
      "text/plain": [
       "  0%|          | 0/65 [00:00<?, ?it/s]"
      ]
     },
     "metadata": {},
     "output_type": "display_data"
    },
    {
     "name": "stdout",
     "output_type": "stream",
     "text": [
      "Epoch 8/10 |  val  | Loss: 0.2172 | Acc: 0.9094\n"
     ]
    },
    {
     "data": {
      "application/vnd.jupyter.widget-view+json": {
       "model_id": "",
       "version_major": 2,
       "version_minor": 0
      },
      "text/plain": [
       "  0%|          | 0/577 [00:00<?, ?it/s]"
      ]
     },
     "metadata": {},
     "output_type": "display_data"
    },
    {
     "name": "stdout",
     "output_type": "stream",
     "text": [
      "Epoch 9/10 | train | Loss: 0.1739 | Acc: 0.9282\n"
     ]
    },
    {
     "data": {
      "application/vnd.jupyter.widget-view+json": {
       "model_id": "",
       "version_major": 2,
       "version_minor": 0
      },
      "text/plain": [
       "  0%|          | 0/65 [00:00<?, ?it/s]"
      ]
     },
     "metadata": {},
     "output_type": "display_data"
    },
    {
     "name": "stdout",
     "output_type": "stream",
     "text": [
      "Epoch 9/10 |  val  | Loss: 0.2466 | Acc: 0.8943\n"
     ]
    },
    {
     "data": {
      "application/vnd.jupyter.widget-view+json": {
       "model_id": "",
       "version_major": 2,
       "version_minor": 0
      },
      "text/plain": [
       "  0%|          | 0/577 [00:00<?, ?it/s]"
      ]
     },
     "metadata": {},
     "output_type": "display_data"
    },
    {
     "name": "stdout",
     "output_type": "stream",
     "text": [
      "Epoch 10/10 | train | Loss: 0.1658 | Acc: 0.9317\n"
     ]
    },
    {
     "data": {
      "application/vnd.jupyter.widget-view+json": {
       "model_id": "",
       "version_major": 2,
       "version_minor": 0
      },
      "text/plain": [
       "  0%|          | 0/65 [00:00<?, ?it/s]"
      ]
     },
     "metadata": {},
     "output_type": "display_data"
    },
    {
     "name": "stdout",
     "output_type": "stream",
     "text": [
      "Epoch 10/10 |  val  | Loss: 0.2368 | Acc: 0.8991\n"
     ]
    }
   ],
   "source": [
    "num_epochs = 10\n",
    "\n",
    "train_model(model_city, dataloaders_city_dict, criterion_city, optimizer_city, num_epochs=num_epochs, city=True)"
   ]
  },
  {
   "cell_type": "code",
   "execution_count": null,
   "metadata": {
    "scrolled": true
   },
   "outputs": [],
   "source": [
    "# !tensorboard --logdir runs"
   ]
  },
  {
   "cell_type": "markdown",
   "metadata": {},
   "source": [
    "# Submission"
   ]
  },
  {
   "cell_type": "code",
   "execution_count": 69,
   "metadata": {
    "execution": {
     "iopub.status.busy": "2021-09-21T02:12:28.574817Z",
     "iopub.status.idle": "2021-09-21T02:12:28.575768Z",
     "shell.execute_reply": "2021-09-21T02:12:28.575542Z",
     "shell.execute_reply.started": "2021-09-21T02:12:28.575505Z"
    }
   },
   "outputs": [
    {
     "name": "stdout",
     "output_type": "stream",
     "text": [
      "Overwriting agent/agent.py\n"
     ]
    }
   ],
   "source": [
    "%%writefile agent/agent.py\n",
    "import os\n",
    "import numpy as np\n",
    "import torch\n",
    "from math import inf\n",
    "from lux.game import Game\n",
    "\n",
    "path = '/kaggle_simulations/agent' if os.path.exists('/kaggle_simulations') else 'agent' # change to 'agent' for tests\n",
    "model = torch.jit.load(f'{path}/model.pth')\n",
    "model.eval()\n",
    "model_city = torch.jit.load(f'{path}/model_city.pth')\n",
    "model_city.eval()\n",
    "\n",
    "def manhattan_distance(x1, y1, x2, y2):\n",
    "    return (abs(x2-x1) + abs(y2-y1))\n",
    "\n",
    "def find_user_coords(obs, unit_id, x_shift, y_shift):\n",
    "    for update in obs['updates']:\n",
    "        strs = update.split(' ')\n",
    "        input_identifier = strs[0]\n",
    "        \n",
    "        if input_identifier == 'u':\n",
    "            x = int(strs[4]) + x_shift\n",
    "            y = int(strs[5]) + y_shift\n",
    "            if strs[3] == unit_id:\n",
    "                return x, y\n",
    "    return None, None\n",
    "\n",
    "def find_closest(x, y, coord_list, width, height):\n",
    "    min_dist = inf\n",
    "    min_coords = [None, None]\n",
    "    for i, j in coord_list:\n",
    "        dist = manhattan_distance(x, y, i, j, width, height)\n",
    "        if dist < min_dist:\n",
    "            min_dist = dist\n",
    "            min_coords = [i, j]\n",
    "    return min_coords\n",
    "        \n",
    "\n",
    "# Input for Neural Network for workers\n",
    "def make_input(obs, unit_id):\n",
    "    width, height = obs['width'], obs['height']\n",
    "    x_shift = (32 - width) // 2\n",
    "    y_shift = (32 - height) // 2\n",
    "    cities = {}\n",
    "    \n",
    "    b = np.zeros((25, 32, 32), dtype=np.float32)\n",
    "    \n",
    "    x_c, y_c = find_user_coords(obs, unit_id, x_shift, y_shift)\n",
    "    \n",
    "    for update in obs['updates']:\n",
    "        strs = update.split(' ')\n",
    "        input_identifier = strs[0]\n",
    "        my_rp = 0\n",
    "        \n",
    "        city_tiles = []\n",
    "        resources = []\n",
    "        \n",
    "        if input_identifier == 'u':\n",
    "            x = int(strs[4]) + x_shift\n",
    "            y = int(strs[5]) + y_shift\n",
    "            wood = int(strs[7])\n",
    "            coal = int(strs[8])\n",
    "            uranium = int(strs[9])\n",
    "            if strs[3] == unit_id: # 0:1\n",
    "                # Position and Cargo\n",
    "                b[:2, x, y] = (\n",
    "                    1,\n",
    "                    (wood + coal + uranium) / 100\n",
    "                )\n",
    "            else:                  # 2:9\n",
    "                # Units\n",
    "                team = int(strs[2])\n",
    "                cooldown = float(strs[6])\n",
    "                idx = 2 + (team - obs['player']) % 2 * 4\n",
    "                m_dist = manhattan_distance(x_c, y_c, x, y)\n",
    "#                 print(f'm_dist - {m_dist}, x_u - {x_c}, y_u - {y_c}, x - {x}, y - {y}, width - {width}, height - {height}')\n",
    "                b[idx:idx + 4, x, y] = (\n",
    "                    1,\n",
    "                    cooldown / 6,\n",
    "                    (wood + coal + uranium) / 100,\n",
    "                    m_dist/((width-1) + (height-1))\n",
    "                )\n",
    "        elif input_identifier == 'ct':  # 10:15\n",
    "            # CityTiles\n",
    "            team = int(strs[1])\n",
    "            city_id = strs[2]\n",
    "            x = int(strs[3]) + x_shift\n",
    "            y = int(strs[4]) + y_shift\n",
    "            idx = 9 + (team - obs['player']) % 2 * 3\n",
    "            m_dist = manhattan_distance(x_c, y_c, x, y)\n",
    "#             print(f'm_dist - {m_dist}, x_u - {x_c}, y_u - {y_c}, x - {x}, y - {y}')\n",
    "            b[idx:idx + 3, x, y] = (\n",
    "                1,\n",
    "                cities[city_id],\n",
    "                m_dist/((width-1) + (height-1))\n",
    "            )\n",
    "            city_tiles.append([x, y])\n",
    "        elif input_identifier == 'r':  # 16:19\n",
    "            # Resources\n",
    "            r_type = strs[1]\n",
    "            x = int(strs[2]) + x_shift\n",
    "            y = int(strs[3]) + y_shift\n",
    "            amt = int(float(strs[4]))\n",
    "            access_level = {'wood': 0, 'coal': 50, 'uranium': 200}[r_type]\n",
    "            access = 0 if my_rp < access_level else 1\n",
    "#             print(f'access_level - {access_level}, access - {access}, my_rp - {my_rp}')\n",
    "            b[{'wood': 16, 'coal': 17, 'uranium': 18}[r_type], x, y] = amt / 800\n",
    "            b[19, x, y] = access\n",
    "            resources.append([x, y])\n",
    "        elif input_identifier == 'rp':\n",
    "            # Research Points\n",
    "            team = int(strs[1])\n",
    "            rp = int(strs[2])\n",
    "            my_rp = rp if team == obs['player'] else my_rp\n",
    "            b[20 + (team - obs['player']) % 2, :] = min(rp, 200) / 200\n",
    "        elif input_identifier == 'c':\n",
    "            # Cities\n",
    "            city_id = strs[2]\n",
    "            fuel = float(strs[3])\n",
    "            lightupkeep = float(strs[4])\n",
    "            cities[city_id] = min(fuel / lightupkeep, 10) / 10\n",
    "    \n",
    "    # Day/Night Cycle\n",
    "    b[22, :] = obs['step'] % 40 / 40\n",
    "    # Turns\n",
    "    b[23, :] = obs['step'] / 360\n",
    "    # Map Size\n",
    "    b[24, x_shift:32 - x_shift, y_shift:32 - y_shift] = 1\n",
    "\n",
    "    return b\n",
    "\n",
    "\n",
    "# Input for Neural Network for cities\n",
    "def make_city_input(obs, city_coord):\n",
    "    width, height = obs['width'], obs['height']\n",
    "    x_shift = (32 - width) // 2\n",
    "    y_shift = (32 - height) // 2\n",
    "    cities = {}\n",
    "    \n",
    "    b = np.zeros((20, 32, 32), dtype=np.float32)\n",
    "    \n",
    "    for update in obs['updates']:\n",
    "        strs = update.split(' ')\n",
    "        input_identifier = strs[0]\n",
    "        \n",
    "        if input_identifier == 'ct':\n",
    "            # CityTiles\n",
    "            city_id = strs[2]\n",
    "            x = int(strs[3]) \n",
    "            y = int(strs[4])\n",
    "            cooldown = float(strs[5])\n",
    "            if x == int(city_coord[0]) and y == int(city_coord[1]):\n",
    "                b[:2, x + x_shift, y + y_shift] = (\n",
    "                    1,\n",
    "                    cities[city_id]\n",
    "                )\n",
    "            else:\n",
    "                team = int(strs[1])\n",
    "                idx = 2 + (team - obs['player']) % 2 * 3\n",
    "                b[idx:idx + 3, x + x_shift, y + y_shift] = (\n",
    "                    1,\n",
    "                    cooldown / 10,\n",
    "                    cities[city_id]\n",
    "                )\n",
    "        elif input_identifier == 'u':\n",
    "            team = int(strs[2])\n",
    "            x = int(strs[4]) + x_shift\n",
    "            y = int(strs[5]) + y_shift\n",
    "            wood = int(strs[7])\n",
    "            coal = int(strs[8])\n",
    "            uranium = int(strs[9])\n",
    "            idx = 8 + (team - obs['player']) % 2 * 2\n",
    "            b[idx:idx + 2, x, y] = (\n",
    "                1,\n",
    "                (wood + coal + uranium) / 100\n",
    "            )\n",
    "        elif input_identifier == 'r':\n",
    "            # Resources\n",
    "            r_type = strs[1]\n",
    "            x = int(strs[2]) + x_shift\n",
    "            y = int(strs[3]) + y_shift\n",
    "            amt = int(float(strs[4]))\n",
    "            b[{'wood': 12, 'coal': 13, 'uranium': 14}[r_type], x, y] = amt / 800\n",
    "        elif input_identifier == 'rp':\n",
    "            # Research Points\n",
    "            team = int(strs[1])\n",
    "            rp = int(strs[2])\n",
    "            b[15 + (team - obs['player']) % 2, :] = min(rp, 200) / 200\n",
    "        elif input_identifier == 'c':\n",
    "            # Cities\n",
    "            city_id = strs[2]\n",
    "            fuel = float(strs[3])\n",
    "            lightupkeep = float(strs[4])\n",
    "            cities[city_id] = min(fuel / lightupkeep, 10) / 10\n",
    "    \n",
    "    # Day/Night Cycle\n",
    "    b[17, :] = obs['step'] % 40 / 40\n",
    "    # Turns\n",
    "    b[18, :] = obs['step'] / 360\n",
    "    # Map Size\n",
    "    b[19, x_shift:32 - x_shift, y_shift:32 - y_shift] = 1\n",
    "\n",
    "    return b\n",
    "\n",
    "game_state = None\n",
    "player = None\n",
    "\n",
    "\n",
    "def get_game_state(observation):\n",
    "    global game_state\n",
    "    \n",
    "    if observation[\"step\"] == 0:\n",
    "        game_state = Game()\n",
    "        game_state._initialize(observation[\"updates\"])\n",
    "        game_state._update(observation[\"updates\"][2:])\n",
    "        game_state.id = observation[\"player\"]\n",
    "    else:\n",
    "        game_state._update(observation[\"updates\"])\n",
    "    return game_state\n",
    "\n",
    "\n",
    "# check if unit is in city or not\n",
    "def in_city(pos):    \n",
    "    try:\n",
    "        city = game_state.map.get_cell_by_pos(pos).citytile\n",
    "        return city is not None and city.team == game_state.id\n",
    "    except:\n",
    "        return False\n",
    "    \n",
    "# check if unit has enough time and space to build a city\n",
    "def build_city_is_possible(unit, pos):    \n",
    "    global game_state\n",
    "    global player\n",
    "\n",
    "    if game_state.turn % 40 < 30:\n",
    "        return True\n",
    "    x, y = pos.x, pos.y\n",
    "    for i, j in ((x-1, y), (x+1, y), (x, y-1), (x, y+1)):\n",
    "        try:\n",
    "            city_id = game_state.map.get_cell(i, j).citytile.cityid\n",
    "        except:\n",
    "            continue\n",
    "        print(f'City ID - {city_id}')\n",
    "        if city_id in player.cities:\n",
    "            city = player.cities[city_id]\n",
    "            print(f'City fuel - {city.fuel}, City light - {city.get_light_upkeep()}')\n",
    "            if city.fuel > (city.get_light_upkeep() + 18) * 10:\n",
    "                print('True')\n",
    "                return True\n",
    "    return False\n",
    "\n",
    "\n",
    "def call_func(obj, method, args=[]):\n",
    "    return getattr(obj, method)(*args)\n",
    "\n",
    "\n",
    "# translate unit policy to action\n",
    "unit_actions = [('move', 'n'), ('move', 's'), ('move', 'w'), ('move', 'e'), ('build_city',)]\n",
    "def get_unit_action(policy, unit, dest):\n",
    "    for label in np.argsort(policy)[::-1]:\n",
    "        act = unit_actions[label]\n",
    "        pos = unit.pos.translate(act[-1], 1) or unit.pos\n",
    "        if label == 4 and not build_city_is_possible(unit, pos):\n",
    "            return unit.move('c'), unit.pos\n",
    "        if pos not in dest or in_city(pos):\n",
    "            return call_func(unit, *act), pos \n",
    "            \n",
    "    return unit.move('c'), unit.pos\n",
    "\n",
    "# translate city policy to action\n",
    "city_actions = [('build_worker',), ('research', )]\n",
    "def get_city_action(policy, city_tile, unit_count):\n",
    "    global player\n",
    "    \n",
    "    for label in np.argsort(policy)[::-1]:\n",
    "        act = city_actions[label]\n",
    "        if label == 0 and unit_count < player.city_tile_count:\n",
    "            unit_count += 1\n",
    "            res = call_func(city_tile, *act)\n",
    "        elif label == 1 and not player.researched_uranium():\n",
    "            player.research_points += 1\n",
    "            res = call_func(city_tile, *act)\n",
    "        else:\n",
    "            res = None\n",
    "        return res, unit_count\n",
    "\n",
    "# agent for making actions\n",
    "def agent(observation, configuration):\n",
    "    global game_state\n",
    "    global player\n",
    "    \n",
    "    game_state = get_game_state(observation)    \n",
    "    player = game_state.players[observation.player]\n",
    "    actions = []        \n",
    "    \n",
    "    # Unit Actions\n",
    "    dest = []\n",
    "    for unit in player.units:\n",
    "        if unit.can_act() and (game_state.turn % 40 < 30 or not in_city(unit.pos)):\n",
    "            state = make_input(observation, unit.id)\n",
    "            with torch.no_grad():\n",
    "                p = model(torch.from_numpy(state).unsqueeze(0))\n",
    "\n",
    "            policy = p.squeeze(0).numpy()\n",
    "\n",
    "            action, pos = get_unit_action(policy, unit, dest)\n",
    "            actions.append(action)\n",
    "            dest.append(pos)\n",
    "    \n",
    "    # City Actions\n",
    "    unit_count = len(player.units)\n",
    "    for city in player.cities.values():\n",
    "        for city_tile in city.citytiles:\n",
    "            if city_tile.can_act():\n",
    "                state = make_city_input(observation, [city_tile.pos.x, city_tile.pos.y])\n",
    "                with torch.no_grad():\n",
    "                    p = model_city(torch.from_numpy(state).unsqueeze(0))\n",
    "\n",
    "                policy = p.squeeze(0).numpy()\n",
    "\n",
    "                action, unit_count = get_city_action(policy, city_tile, unit_count)\n",
    "                if action:\n",
    "                    actions.append(action)\n",
    "    \n",
    "    return actions"
   ]
  },
  {
   "cell_type": "markdown",
   "metadata": {},
   "source": [
    "Submit predictions"
   ]
  },
  {
   "cell_type": "code",
   "execution_count": 67,
   "metadata": {},
   "outputs": [],
   "source": [
    "!cd agent && tar -czf submission.tar.gz lux agent.py main.py model.pth model_city.pth"
   ]
  },
  {
   "cell_type": "markdown",
   "metadata": {},
   "source": [
    "Test agents on 12x12 field"
   ]
  },
  {
   "cell_type": "code",
   "execution_count": 76,
   "metadata": {
    "scrolled": false
   },
   "outputs": [],
   "source": [
    "# from kaggle_environments import make\n",
    "\n",
    "# env = make(\"lux_ai_2021\", configuration={\"width\": 12, \"height\": 12, \"loglevel\": 2, \"annotations\": True}, debug=False)\n",
    "\n",
    "# # first agent is yellow\n",
    "# # second agent is blue\n",
    "# steps = env.run(['agent/agent.py', 'agent.py'])\n",
    "\n",
    "# env.render(mode=\"ipython\", width=1200, height=800)"
   ]
  },
  {
   "cell_type": "markdown",
   "metadata": {},
   "source": [
    "Test agent on 16x16 field"
   ]
  },
  {
   "cell_type": "code",
   "execution_count": 82,
   "metadata": {
    "scrolled": false
   },
   "outputs": [],
   "source": [
    "# env = make(\"lux_ai_2021\", configuration={\"width\": 16, \"height\": 16, \"loglevel\": 2, \"annotations\": True}, debug=False)\n",
    "\n",
    "# # first agent is yellow\n",
    "# # second agent is blue\n",
    "# steps = env.run(['agent/agent.py', 'agent.py'])\n",
    "\n",
    "# env.render(mode=\"ipython\", width=1200, height=800)"
   ]
  },
  {
   "cell_type": "markdown",
   "metadata": {},
   "source": [
    "Test agent on 24x24 field"
   ]
  },
  {
   "cell_type": "code",
   "execution_count": 81,
   "metadata": {
    "scrolled": false
   },
   "outputs": [],
   "source": [
    "# env = make(\"lux_ai_2021\", configuration={\"width\": 24, \"height\": 24, \"loglevel\": 2, \"annotations\": True}, debug=False)\n",
    "\n",
    "# # first agent is yellow\n",
    "# # second agent is blue\n",
    "# steps = env.run(['agent/agent.py', 'agent.py'])\n",
    "\n",
    "# env.render(mode=\"ipython\", width=1200, height=800)"
   ]
  },
  {
   "cell_type": "markdown",
   "metadata": {},
   "source": [
    "Test agents on 32x32 field"
   ]
  },
  {
   "cell_type": "code",
   "execution_count": 80,
   "metadata": {
    "execution": {
     "iopub.status.busy": "2021-09-21T02:12:28.577249Z",
     "iopub.status.idle": "2021-09-21T02:12:28.577694Z",
     "shell.execute_reply": "2021-09-21T02:12:28.577478Z",
     "shell.execute_reply.started": "2021-09-21T02:12:28.577455Z"
    },
    "scrolled": false
   },
   "outputs": [],
   "source": [
    "# env = make(\"lux_ai_2021\", configuration={\"width\": 32, \"height\": 32, \"loglevel\": 2, \"annotations\": True}, debug=False)\n",
    "\n",
    "# # first agent is yellow\n",
    "# # second agent is blue\n",
    "# steps = env.run(['agent/agent.py', 'agent.py'])\n",
    "\n",
    "# env.render(mode=\"ipython\", width=1200, height=800)"
   ]
  },
  {
   "cell_type": "markdown",
   "metadata": {},
   "source": [
    "# NNs ensemble"
   ]
  },
  {
   "cell_type": "code",
   "execution_count": 1,
   "metadata": {},
   "outputs": [
    {
     "name": "stdout",
     "output_type": "stream",
     "text": [
      "Overwriting agent/agent.py\n"
     ]
    }
   ],
   "source": [
    "import os\n",
    "import numpy as np\n",
    "import torch\n",
    "from lux.game import Game\n",
    "\n",
    "path = '/kaggle_simulations/agent' if os.path.exists('/kaggle_simulations') else '.' # change to 'agent' for tests\n",
    "# unit NNs\n",
    "model_v2 = torch.jit.load(f'{path}/model_v2.pth')\n",
    "model_v2.eval()\n",
    "model_v4 = torch.jit.load(f'{path}/model_v4.pth')\n",
    "model_v4.eval()\n",
    "model_v5 = torch.jit.load(f'{path}/model_v5.pth')\n",
    "model_v5.eval()\n",
    "model_v11 = torch.jit.load(f'{path}/model_v11.pth')\n",
    "model_v11.eval()\n",
    "# city NNs\n",
    "model_city_v2 = torch.jit.load(f'{path}/model_city_v2.pth')\n",
    "model_city_v2.eval()\n",
    "model_city_v4 = torch.jit.load(f'{path}/model_city_v4.pth')\n",
    "model_city_v4.eval()\n",
    "model_city_v5 = torch.jit.load(f'{path}/model_city_v5.pth')\n",
    "model_city_v5.eval()\n",
    "model_city_v11 = torch.jit.load(f'{path}/model_city_v11.pth')\n",
    "model_city_v11.eval()\n",
    "\n",
    "# Input for Neural Network for units\n",
    "def make_input(obs, unit_id):\n",
    "    width, height = obs['width'], obs['height']\n",
    "    x_shift = (32 - width) // 2\n",
    "    y_shift = (32 - height) // 2\n",
    "    cities = {}\n",
    "    \n",
    "    b = np.zeros((20, 32, 32), dtype=np.float32)\n",
    "    \n",
    "    for update in obs['updates']:\n",
    "        strs = update.split(' ')\n",
    "        input_identifier = strs[0]\n",
    "        \n",
    "        if input_identifier == 'u':\n",
    "            x = int(strs[4]) + x_shift\n",
    "            y = int(strs[5]) + y_shift\n",
    "            wood = int(strs[7])\n",
    "            coal = int(strs[8])\n",
    "            uranium = int(strs[9])\n",
    "            if unit_id == strs[3]:\n",
    "                # Position and Cargo\n",
    "                b[:2, x, y] = (\n",
    "                    1,\n",
    "                    (wood + coal + uranium) / 100\n",
    "                )\n",
    "            else:\n",
    "                # Units\n",
    "                team = int(strs[2])\n",
    "                cooldown = float(strs[6])\n",
    "                idx = 2 + (team - obs['player']) % 2 * 3\n",
    "                b[idx:idx + 3, x, y] = (\n",
    "                    1,\n",
    "                    cooldown / 6,\n",
    "                    (wood + coal + uranium) / 100\n",
    "                )\n",
    "        elif input_identifier == 'ct':\n",
    "            # CityTiles\n",
    "            team = int(strs[1])\n",
    "            city_id = strs[2]\n",
    "            x = int(strs[3]) + x_shift\n",
    "            y = int(strs[4]) + y_shift\n",
    "            idx = 8 + (team - obs['player']) % 2 * 2\n",
    "            b[idx:idx + 2, x, y] = (\n",
    "                1,\n",
    "                cities[city_id]\n",
    "            )\n",
    "        elif input_identifier == 'r':\n",
    "            # Resources\n",
    "            r_type = strs[1]\n",
    "            x = int(strs[2]) + x_shift\n",
    "            y = int(strs[3]) + y_shift\n",
    "            amt = int(float(strs[4]))\n",
    "            b[{'wood': 12, 'coal': 13, 'uranium': 14}[r_type], x, y] = amt / 800\n",
    "        elif input_identifier == 'rp':\n",
    "            # Research Points\n",
    "            team = int(strs[1])\n",
    "            rp = int(strs[2])\n",
    "            b[15 + (team - obs['player']) % 2, :] = min(rp, 200) / 200\n",
    "        elif input_identifier == 'c':\n",
    "            # Cities\n",
    "            city_id = strs[2]\n",
    "            fuel = float(strs[3])\n",
    "            lightupkeep = float(strs[4])\n",
    "            cities[city_id] = min(fuel / lightupkeep, 10) / 10\n",
    "    \n",
    "    # Day/Night Cycle\n",
    "    b[17, :] = obs['step'] % 40 / 40\n",
    "    # Turns\n",
    "    b[18, :] = obs['step'] / 360\n",
    "    # Map Size\n",
    "    b[19, x_shift:32 - x_shift, y_shift:32 - y_shift] = 1\n",
    "\n",
    "    return b\n",
    "\n",
    "\n",
    "# Input for Neural Network for cities\n",
    "def make_city_input(obs, city_coord):\n",
    "    width, height = obs['width'], obs['height']\n",
    "    x_shift = (32 - width) // 2\n",
    "    y_shift = (32 - height) // 2\n",
    "    cities = {}\n",
    "    \n",
    "    b = np.zeros((20, 32, 32), dtype=np.float32)\n",
    "    \n",
    "    for update in obs['updates']:\n",
    "        strs = update.split(' ')\n",
    "        input_identifier = strs[0]\n",
    "        \n",
    "        if input_identifier == 'ct':\n",
    "            # CityTiles\n",
    "            city_id = strs[2]\n",
    "            x = int(strs[3]) \n",
    "            y = int(strs[4])\n",
    "            cooldown = float(strs[5])\n",
    "            if x == int(city_coord[0]) and y == int(city_coord[1]):\n",
    "                b[:2, x + x_shift, y + y_shift] = (\n",
    "                    1,\n",
    "                    cities[city_id]\n",
    "                )\n",
    "            else:\n",
    "                team = int(strs[1])\n",
    "                idx = 2 + (team - obs['player']) % 2 * 3\n",
    "                b[idx:idx + 3, x + x_shift, y + y_shift] = (\n",
    "                    1,\n",
    "                    cooldown / 10,\n",
    "                    cities[city_id]\n",
    "                )\n",
    "        elif input_identifier == 'u':\n",
    "            team = int(strs[2])\n",
    "            x = int(strs[4]) + x_shift\n",
    "            y = int(strs[5]) + y_shift\n",
    "            wood = int(strs[7])\n",
    "            coal = int(strs[8])\n",
    "            uranium = int(strs[9])\n",
    "            idx = 8 + (team - obs['player']) % 2 * 2\n",
    "            b[idx:idx + 2, x, y] = (\n",
    "                1,\n",
    "                (wood + coal + uranium) / 100\n",
    "            )\n",
    "        elif input_identifier == 'r':\n",
    "            # Resources\n",
    "            r_type = strs[1]\n",
    "            x = int(strs[2]) + x_shift\n",
    "            y = int(strs[3]) + y_shift\n",
    "            amt = int(float(strs[4]))\n",
    "            b[{'wood': 12, 'coal': 13, 'uranium': 14}[r_type], x, y] = amt / 800\n",
    "        elif input_identifier == 'rp':\n",
    "            # Research Points\n",
    "            team = int(strs[1])\n",
    "            rp = int(strs[2])\n",
    "            b[15 + (team - obs['player']) % 2, :] = min(rp, 200) / 200\n",
    "        elif input_identifier == 'c':\n",
    "            # Cities\n",
    "            city_id = strs[2]\n",
    "            fuel = float(strs[3])\n",
    "            lightupkeep = float(strs[4])\n",
    "            cities[city_id] = min(fuel / lightupkeep, 10) / 10\n",
    "    \n",
    "    # Day/Night Cycle\n",
    "    b[17, :] = obs['step'] % 40 / 40\n",
    "    # Turns\n",
    "    b[18, :] = obs['step'] / 360\n",
    "    # Map Size\n",
    "    b[19, x_shift:32 - x_shift, y_shift:32 - y_shift] = 1\n",
    "\n",
    "    return b\n",
    "\n",
    "game_state = None\n",
    "player = None\n",
    "\n",
    "\n",
    "def get_game_state(observation):\n",
    "    global game_state\n",
    "    \n",
    "    if observation[\"step\"] == 0:\n",
    "        game_state = Game()\n",
    "        game_state._initialize(observation[\"updates\"])\n",
    "        game_state._update(observation[\"updates\"][2:])\n",
    "        game_state.id = observation[\"player\"]\n",
    "    else:\n",
    "        game_state._update(observation[\"updates\"])\n",
    "    return game_state\n",
    "\n",
    "\n",
    "def in_city(pos):    \n",
    "    try:\n",
    "        city = game_state.map.get_cell_by_pos(pos).citytile\n",
    "        return city is not None and city.team == game_state.id\n",
    "    except:\n",
    "        return False\n",
    "    \n",
    "# check if unit has enough time and space to build a city\n",
    "def build_city_is_possible(unit, pos):    \n",
    "    global game_state\n",
    "    global player\n",
    "\n",
    "    if game_state.turn % 40 < 30:\n",
    "        return True\n",
    "    x, y = pos.x, pos.y\n",
    "    for i, j in ((x-1, y), (x+1, y), (x, y-1), (x, y+1)):\n",
    "        try:\n",
    "            city_id = game_state.map.get_cell(i, j).citytile.cityid\n",
    "        except:\n",
    "            continue\n",
    "        if city_id in player.cities:\n",
    "            city = player.cities[city_id]\n",
    "            print(f'City fuel - {city.fuel}, City light - {city.get_light_upkeep()}')\n",
    "            if city.fuel > (city.get_light_upkeep() + 18) * 10:\n",
    "                return True\n",
    "    return False\n",
    "\n",
    "\n",
    "def call_func(obj, method, args=[]):\n",
    "    return getattr(obj, method)(*args)\n",
    "\n",
    "\n",
    "# translate unit policy to action\n",
    "unit_actions = [('move', 'n'), ('move', 's'), ('move', 'w'), ('move', 'e'), ('build_city',)]\n",
    "def get_unit_action(policy, unit, dest):\n",
    "    for label in np.argsort(policy)[::-1]:\n",
    "        act = unit_actions[label]\n",
    "        pos = unit.pos.translate(act[-1], 1) or unit.pos\n",
    "        if label == 4 and not build_city_is_possible(unit, pos):\n",
    "            return unit.move('c'), unit.pos\n",
    "        if pos not in dest or in_city(pos):\n",
    "            return call_func(unit, *act), pos \n",
    "            \n",
    "    return unit.move('c'), unit.pos\n",
    "\n",
    "# translate city policy to action\n",
    "city_actions = [('build_worker',), ('research', )]\n",
    "def get_city_action(policy, city_tile, unit_count):\n",
    "    global player\n",
    "    \n",
    "    for label in np.argsort(policy)[::-1]:\n",
    "        act = city_actions[label]\n",
    "        if label == 0 and unit_count < player.city_tile_count:\n",
    "            unit_count += 1\n",
    "            res = call_func(city_tile, *act)\n",
    "        elif label == 1 and not player.researched_uranium():\n",
    "            player.research_points += 1\n",
    "            res = call_func(city_tile, *act)\n",
    "        else:\n",
    "            res = None\n",
    "        return res, unit_count\n",
    "\n",
    "# agent for making actions\n",
    "def agent(observation, configuration):\n",
    "    global game_state\n",
    "    global player\n",
    "    \n",
    "    game_state = get_game_state(observation)    \n",
    "    player = game_state.players[observation.player]\n",
    "    actions = []        \n",
    "\n",
    "    # Unit Actions\n",
    "    dest = []\n",
    "    for unit in player.units:\n",
    "        if unit.can_act() and (game_state.turn % 40 < 30 or not in_city(unit.pos)):\n",
    "            state = make_input(observation, unit.id)\n",
    "            with torch.no_grad():\n",
    "                p_2 = model_v2(torch.from_numpy(state).unsqueeze(0))\n",
    "                p_4 = model_v4(torch.from_numpy(state).unsqueeze(0))\n",
    "                #p_5 = model_v5(torch.from_numpy(state).unsqueeze(0))\n",
    "                p_11 = model_v11(torch.from_numpy(state).unsqueeze(0))\n",
    "\n",
    "            policy_2 = p_2.squeeze(0).numpy()\n",
    "            policy_4 = p_4.squeeze(0).numpy()\n",
    "            #policy_5 = p_5.squeeze(0).numpy()\n",
    "            policy_11 = p_11.squeeze(0).numpy()\n",
    "\n",
    "            policy = [sum(x) for x in zip(*[policy_2, policy_4, policy_11])]\n",
    "\n",
    "            action, pos = get_unit_action(policy, unit, dest)\n",
    "            actions.append(action)\n",
    "            dest.append(pos)\n",
    "\n",
    "    # City Actions\n",
    "    unit_count = len(player.units)\n",
    "    for city in player.cities.values():\n",
    "        for city_tile in city.citytiles:\n",
    "            if city_tile.can_act():\n",
    "                # at first game stages try to produce maximum amount of agents and research point\n",
    "                if game_state.turn < 60:\n",
    "                    if unit_count < player.city_tile_count: \n",
    "                        actions.append(city_tile.build_worker())\n",
    "                        unit_count += 1\n",
    "                    elif not player.researched_uranium():\n",
    "                        actions.append(city_tile.research())\n",
    "                        player.research_points += 1\n",
    "                # then follow NN strategy\n",
    "                else:\n",
    "                    state = make_city_input(observation, [city_tile.pos.x, city_tile.pos.y])\n",
    "                    with torch.no_grad():\n",
    "                        p_2 = model_city_v2(torch.from_numpy(state).unsqueeze(0))\n",
    "                        p_4 = model_city_v4(torch.from_numpy(state).unsqueeze(0))\n",
    "                        #p_5 = model_city_v5(torch.from_numpy(state).unsqueeze(0))\n",
    "                        p_11 = model_city_v11(torch.from_numpy(state).unsqueeze(0))\n",
    "\n",
    "                    policy_2 = p_2.squeeze(0).numpy()\n",
    "                    policy_4 = p_4.squeeze(0).numpy()\n",
    "                    #policy_5 = p_5.squeeze(0).numpy()\n",
    "                    policy_11 = p_11.squeeze(0).numpy()\n",
    "\n",
    "                    policy = [sum(x) for x in zip(*[policy_2, policy_4, policy_11])]\n",
    "\n",
    "                    action, unit_count = get_city_action(policy, city_tile, unit_count)\n",
    "                    if action:\n",
    "                        actions.append(action)\n",
    "    \n",
    "    return actions"
   ]
  },
  {
   "cell_type": "markdown",
   "metadata": {},
   "source": [
    "# Futher Ideas\n",
    "\n",
    "- add previous positions of units\n",
    "- add places where units cant move (adversarial cities and other units)\n",
    "\n",
    "\n",
    "- train unit NN not to do anything\n",
    "- train city NN not to do anything\n",
    "\n",
    "\n",
    "- make ensemble of 3 best NNs that makes decision by voting or randomly selects action from presented\n",
    "\n",
    "\n",
    "- increase filter number and decrease layers number and vice versa\n",
    "- regularization?\n",
    "- dropout?"
   ]
  }
 ],
 "metadata": {
  "kernelspec": {
   "display_name": "Python 3 (ipykernel)",
   "language": "python",
   "name": "python3"
  },
  "language_info": {
   "codemirror_mode": {
    "name": "ipython",
    "version": 3
   },
   "file_extension": ".py",
   "mimetype": "text/x-python",
   "name": "python",
   "nbconvert_exporter": "python",
   "pygments_lexer": "ipython3",
   "version": "3.8.10"
  }
 },
 "nbformat": 4,
 "nbformat_minor": 4
}
