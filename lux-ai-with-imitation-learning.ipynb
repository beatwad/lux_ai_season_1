{
 "cells": [
  {
   "cell_type": "markdown",
   "metadata": {},
   "source": [
    "For Kaggle"
   ]
  },
  {
   "cell_type": "code",
   "execution_count": 1,
   "metadata": {
    "execution": {
     "iopub.execute_input": "2021-09-21T02:10:22.282451Z",
     "iopub.status.busy": "2021-09-21T02:10:22.282156Z",
     "iopub.status.idle": "2021-09-21T02:10:31.631739Z",
     "shell.execute_reply": "2021-09-21T02:10:31.63066Z",
     "shell.execute_reply.started": "2021-09-21T02:10:22.282376Z"
    }
   },
   "outputs": [],
   "source": [
    "# !pip install kaggle-environments -U > /dev/null 2>&1\n",
    "# !cp -r ../input/lux-ai-2021/* ."
   ]
  },
  {
   "cell_type": "markdown",
   "metadata": {},
   "source": [
    "For agents validation"
   ]
  },
  {
   "cell_type": "code",
   "execution_count": 2,
   "metadata": {},
   "outputs": [],
   "source": [
    "# timeout 1h lux-ai-2021 --tournament --rankSystem wins --storeReplay false --storeLogs false --maxConcurrentMatches 1 agent/main.py agent_simple/main.py submission_v4/main.py"
   ]
  },
  {
   "cell_type": "code",
   "execution_count": 3,
   "metadata": {
    "_cell_guid": "b1076dfc-b9ad-4769-8c92-a6c4dae69d19",
    "_uuid": "8f2839f25d086af736a60e9eeb907d3b93b6e0e5",
    "execution": {
     "iopub.execute_input": "2021-09-21T02:10:31.634148Z",
     "iopub.status.busy": "2021-09-21T02:10:31.633714Z",
     "iopub.status.idle": "2021-09-21T02:10:36.825858Z",
     "shell.execute_reply": "2021-09-21T02:10:36.825106Z",
     "shell.execute_reply.started": "2021-09-21T02:10:31.634105Z"
    }
   },
   "outputs": [],
   "source": [
    "import numpy as np\n",
    "import json\n",
    "from pathlib import Path\n",
    "import os\n",
    "import random\n",
    "from tqdm.notebook import tqdm\n",
    "import torch\n",
    "from torch import nn\n",
    "import torch.nn.functional as F\n",
    "from torch.utils.data import Dataset, DataLoader\n",
    "from torchvision import transforms\n",
    "import torchvision.transforms.functional as TF\n",
    "from torchvision.transforms import ToTensor, RandomHorizontalFlip, RandomVerticalFlip\n",
    "import torch.optim as optim\n",
    "from sklearn.model_selection import train_test_split\n",
    "import optuna\n",
    "from optuna.trial import TrialState"
   ]
  },
  {
   "cell_type": "code",
   "execution_count": 4,
   "metadata": {
    "execution": {
     "iopub.execute_input": "2021-09-21T02:10:36.827311Z",
     "iopub.status.busy": "2021-09-21T02:10:36.82705Z",
     "iopub.status.idle": "2021-09-21T02:10:36.877521Z",
     "shell.execute_reply": "2021-09-21T02:10:36.876761Z",
     "shell.execute_reply.started": "2021-09-21T02:10:36.82728Z"
    }
   },
   "outputs": [],
   "source": [
    "def seed_everything(seed_value):\n",
    "    random.seed(seed_value)\n",
    "    np.random.seed(seed_value)\n",
    "    torch.manual_seed(seed_value)\n",
    "    os.environ['PYTHONHASHSEED'] = str(seed_value)\n",
    "    \n",
    "    if torch.cuda.is_available(): \n",
    "        torch.cuda.manual_seed(seed_value)\n",
    "        torch.cuda.manual_seed_all(seed_value)\n",
    "        torch.backends.cudnn.deterministic = True\n",
    "        torch.backends.cudnn.benchmark = True\n",
    "\n",
    "seed_everything(42)"
   ]
  },
  {
   "cell_type": "markdown",
   "metadata": {},
   "source": [
    "# Preprocessing\n",
    "\n",
    "Actions:\n",
    "- m - move: m, unit who moves, direction\n",
    "- bcity - build city: bcity, unit who builds\n",
    "- bw - build worker, x-coord of building city, y-coord of building city\n",
    "- r - research , x-coord of researching city, y-coord of researching city\n",
    "- t - transfer: transfer, from user_1, to user_2, resourse, quantity\n",
    "\n",
    "Updates:\n",
    "- rp - research point: player, number of rp\n",
    "- r - resources: r, type of resource, x-coord, y-coord, quantity\n",
    "- u - user: u, worker/cart, player, user id, x-coord, y-coord, cooldown, wood, coal, uranium\n",
    "- c - city: c, player, city id, number of resources, amount of consuming light at night\n",
    "- ct - city tile: ct, player, city id, x-coord, y-coord, cooldown\n",
    "- ccd - level of road: ccd, x-coord, y-coord, level value"
   ]
  },
  {
   "cell_type": "code",
   "execution_count": 5,
   "metadata": {
    "scrolled": true
   },
   "outputs": [
    {
     "name": "stdout",
     "output_type": "stream",
     "text": [
      "rm: cannot remove '*_info.json': No such file or directory\r\n"
     ]
    }
   ],
   "source": [
    "!cd episodes && rm *_info.json && cd .."
   ]
  },
  {
   "cell_type": "code",
   "execution_count": 6,
   "metadata": {
    "scrolled": true
   },
   "outputs": [],
   "source": [
    "# episode_dir = 'episodes'\n",
    "# augment_dataset_from_json(episode_dir)"
   ]
  },
  {
   "cell_type": "markdown",
   "metadata": {},
   "source": [
    "Get data from json files"
   ]
  },
  {
   "cell_type": "code",
   "execution_count": 7,
   "metadata": {
    "execution": {
     "iopub.execute_input": "2021-09-21T02:10:36.880862Z",
     "iopub.status.busy": "2021-09-21T02:10:36.88065Z",
     "iopub.status.idle": "2021-09-21T02:10:36.895408Z",
     "shell.execute_reply": "2021-09-21T02:10:36.89469Z",
     "shell.execute_reply.started": "2021-09-21T02:10:36.880838Z"
    }
   },
   "outputs": [],
   "source": [
    "from random import choice\n",
    "\n",
    "def unit_label(action):\n",
    "    strs = action.split(' ')\n",
    "    unit_id = strs[1]\n",
    "    if strs[0] == 'm':\n",
    "        label = {'c': None, 'n': 0, 's': 1, 'w': 2, 'e': 3}[strs[2]]\n",
    "    elif strs[0] == 'bcity':\n",
    "        label = 4\n",
    "    else:\n",
    "        label = None\n",
    "    return unit_id, label\n",
    "\n",
    "def city_label(action):\n",
    "    strs = action.split(' ')\n",
    "    ctile_coord = (strs[1], strs[2])\n",
    "    if strs[0] == 'bw':\n",
    "        label = 0\n",
    "    elif strs[0] == 'r':\n",
    "        label = 1\n",
    "    else:\n",
    "        label = None\n",
    "    return ctile_coord, label\n",
    "\n",
    "def unit_cooldown(updates, index):\n",
    "    strs = updates.split(' ')\n",
    "    if strs[0] == 'u' and strs[2] == index:\n",
    "        unit_id = strs[3]\n",
    "        cooldown = strs[6]\n",
    "        return unit_id, cooldown\n",
    "    return None, None\n",
    "\n",
    "def city_tile_coord(updates, index):\n",
    "    strs = updates.split(' ')\n",
    "    if strs[0] == 'ct' and strs[1] == index:\n",
    "        ctile_coord = (strs[3], strs[4])\n",
    "        cooldown = strs[5]\n",
    "        return ctile_coord, cooldown\n",
    "    return None, None\n",
    "\n",
    "def research_points(updates, index):\n",
    "    for u in updates:\n",
    "        strs = u.split(' ')\n",
    "        if strs[0] == 'rp' and strs[1] == index:\n",
    "            return int(strs[2])\n",
    "    return 0\n",
    "\n",
    "def depleted_resources(obs):\n",
    "    for u in obs['updates']:\n",
    "        if u.split(' ')[0] == 'r':\n",
    "            return False\n",
    "    return True\n",
    "\n",
    "\n",
    "def create_dataset_from_json(episode_dir, team_name='Toad Brigade'): \n",
    "    obses = {}\n",
    "    unit_samples = []\n",
    "    city_samples = []\n",
    "    \n",
    "    episodes = [path for path in Path(episode_dir).glob('*.json') if 'output' not in path.name]\n",
    "    for filepath in tqdm(episodes): \n",
    "        with open(filepath) as f:\n",
    "            json_load = json.load(f)\n",
    "        # load episode from episode json file\n",
    "        ep_id = json_load['info']['EpisodeId']\n",
    "        index = np.argmax([r or 0 for r in json_load['rewards']])\n",
    "        if json_load['info']['TeamNames'][index] != team_name:\n",
    "            continue\n",
    "\n",
    "        updates = None\n",
    "        \n",
    "        for i in range(len(json_load['steps'])-1):\n",
    "            units = {}\n",
    "            city_tiles = {}\n",
    "            \n",
    "            if json_load['steps'][i][index]['status'] == 'ACTIVE':\n",
    "                actions = json_load['steps'][i+1][index]['action']\n",
    "                obs = json_load['steps'][i][0]['observation']\n",
    "                updates = obs['updates']\n",
    "                rp = research_points(updates, str(index))\n",
    "                # get updates from previous steps\n",
    "                if i > 0:\n",
    "                    obs['updates_lag_1'] = json_load['steps'][i-1][0]['observation']['updates']\n",
    "                else:\n",
    "                    obs['updates_lag_1'] = None\n",
    "                if i > 1:\n",
    "                    obs['updates_lag_2'] = json_load['steps'][i-2][0]['observation']['updates']\n",
    "                else:\n",
    "                    obs['updates_lag_2'] = None\n",
    "                if i > 2:\n",
    "                    obs['updates_lag_3'] = json_load['steps'][i-3][0]['observation']['updates']\n",
    "                else:\n",
    "                    obs['updates_lag_3'] = None\n",
    "                if i > 3:\n",
    "                    obs['updates_lag_4'] = json_load['steps'][i-4][0]['observation']['updates']\n",
    "                else:\n",
    "                    obs['updates_lag_4'] = None\n",
    "                \n",
    "                for u in updates:\n",
    "                    # get coords for every friendly city tile\n",
    "                    ctile_coord, cooldown = city_tile_coord(u, str(index))\n",
    "                    if ctile_coord and cooldown:\n",
    "                        city_tiles[ctile_coord] = [0, float(cooldown)]\n",
    "                        continue\n",
    "                    # get cooldown for every friendly unit \n",
    "                    unit_id, cooldown = unit_cooldown(u, str(index))\n",
    "                    if unit_id and cooldown:\n",
    "                        units[unit_id] = float(cooldown)                     \n",
    "                \n",
    "                # stop research if resources are depleted\n",
    "                if depleted_resources(obs):\n",
    "                    break\n",
    "                \n",
    "                obs['player'] = index\n",
    "                obs = dict([\n",
    "                    (k,v) for k,v in obs.items() \n",
    "                    if k in ['step', 'updates', 'updates_lag_1', 'updates_lag_2', \n",
    "                             'updates_lag_3', 'updates_lag_4', 'player', 'width', 'height']\n",
    "                ])\n",
    "                obs_id = f'{ep_id}_{i}'\n",
    "                obses[obs_id] = obs\n",
    "                \n",
    "                for action in actions:\n",
    "                    unit_id, label = unit_label(action)\n",
    "                    # if unit acts - add this action to train\n",
    "                    if label is not None:\n",
    "                        unit_samples.append((obs_id, unit_id, label))\n",
    "                        continue\n",
    "                    ctile_coord, label = city_label(action)\n",
    "                    # if city tile acts - add this action to train\n",
    "                    if label is not None:\n",
    "                        city_samples.append((obs_id, ctile_coord, label))\n",
    "                        city_tiles[ctile_coord][0] = label\n",
    "                        \n",
    "#                 # it there is a possibility for city tiles to act, (research points number < 200 and number of\n",
    "#                 # city tiles more than number of units find those of them who can act (cooldown = 0) but doesn't\n",
    "#                 if rp < 200 and len(city_tiles) > len(units):\n",
    "#                     city_tiles_no_action = [(k, v[0]) for k, v in city_tiles.items() if v[0] == 0 and v[1] == 0]\n",
    "#                     # if there are cities with no action - randomly select one item from there \n",
    "#                     # and add it to city samples\n",
    "#                     if city_tiles_no_action:\n",
    "#                         ct = choice(city_tiles_no_action)\n",
    "#                         city_samples.append((obs_id, ct[0], ct[1]))\n",
    "                    \n",
    "                    \n",
    "    return obses, unit_samples, city_samples"
   ]
  },
  {
   "cell_type": "code",
   "execution_count": 8,
   "metadata": {
    "execution": {
     "iopub.execute_input": "2021-09-21T02:10:36.896889Z",
     "iopub.status.busy": "2021-09-21T02:10:36.896599Z",
     "iopub.status.idle": "2021-09-21T02:10:40.890717Z",
     "shell.execute_reply": "2021-09-21T02:10:40.889936Z",
     "shell.execute_reply.started": "2021-09-21T02:10:36.896855Z"
    },
    "scrolled": false
   },
   "outputs": [
    {
     "data": {
      "application/vnd.jupyter.widget-view+json": {
       "model_id": "5065678ba8cc4de988f751a73bfe8082",
       "version_major": 2,
       "version_minor": 0
      },
      "text/plain": [
       "  0%|          | 0/485 [00:00<?, ?it/s]"
      ]
     },
     "metadata": {},
     "output_type": "display_data"
    },
    {
     "name": "stdout",
     "output_type": "stream",
     "text": [
      "observations: 127255 worker samples: 592402 city samples: 99452\n"
     ]
    }
   ],
   "source": [
    "episode_dir = 'episodes'\n",
    "obses, samples, city_samples = create_dataset_from_json(episode_dir)\n",
    "\n",
    "print('observations:', len(obses), 'worker samples:', len(samples), 'city samples:', len(city_samples))"
   ]
  },
  {
   "cell_type": "code",
   "execution_count": 9,
   "metadata": {
    "execution": {
     "iopub.execute_input": "2021-09-21T02:10:40.892694Z",
     "iopub.status.busy": "2021-09-21T02:10:40.892219Z",
     "iopub.status.idle": "2021-09-21T02:10:40.934807Z",
     "shell.execute_reply": "2021-09-21T02:10:40.933891Z",
     "shell.execute_reply.started": "2021-09-21T02:10:40.892659Z"
    },
    "scrolled": false
   },
   "outputs": [
    {
     "name": "stdout",
     "output_type": "stream",
     "text": [
      "north: 132333\n",
      "south: 130035\n",
      "west: 139060\n",
      "east: 142039\n",
      "bcity: 48935\n"
     ]
    }
   ],
   "source": [
    "labels = [sample[-1] for sample in samples]\n",
    "actions = ['north', 'south', 'west', 'east', 'bcity']\n",
    "for value, count in zip(*np.unique(labels, return_counts=True)):\n",
    "    print(f'{actions[value]}: {count}')"
   ]
  },
  {
   "cell_type": "code",
   "execution_count": 10,
   "metadata": {
    "scrolled": false
   },
   "outputs": [
    {
     "name": "stdout",
     "output_type": "stream",
     "text": [
      "build_worker: 30366\n",
      "research: 69086\n"
     ]
    }
   ],
   "source": [
    "labels_city = [sample[-1] for sample in city_samples]\n",
    "actions_city = ['build_worker', 'research']\n",
    "for value, count in zip(*np.unique(labels_city, return_counts=True)):\n",
    "    print(f'{actions_city[value]}: {count}')"
   ]
  },
  {
   "cell_type": "code",
   "execution_count": 11,
   "metadata": {
    "scrolled": true
   },
   "outputs": [],
   "source": [
    "# obses['26762301_160']"
   ]
  },
  {
   "cell_type": "code",
   "execution_count": 12,
   "metadata": {
    "scrolled": true
   },
   "outputs": [],
   "source": [
    "# samples"
   ]
  },
  {
   "cell_type": "code",
   "execution_count": 13,
   "metadata": {
    "scrolled": true
   },
   "outputs": [],
   "source": [
    "# city_samples[200000]"
   ]
  },
  {
   "cell_type": "markdown",
   "metadata": {},
   "source": [
    "# Training\n",
    "\n",
    "b - training tensor of float32. b dimensions is 20x32x32\n",
    "\n",
    "- b[0] - position of current unit\n",
    "- b[1] - cargo sum/100 of current unit\n",
    "- b[2] - previous position of current unit\n",
    "- b[3, 4, 5, 6] - position, cooldown/6, cargo sum/100 and Manhattan distance to units from friendly team\n",
    "- b[7, 8, 9, 10] - position, cooldown/6, cargo sum/100 and Manhattan distance to units from adversarial team\n",
    "- b[11, 12, 13] - position,  min(city fuel/city energy consumption, 10)/10 and Manhattan distance to cities from friendly team\n",
    "- b[14, 15, 16] - position,  min(city fuel/city energy consumption, 10)/10 and Manhattan distance to cities from adversarial team\n",
    "- b[17] - amount of wood / 800 on current position\n",
    "- b[18] - amount of coal / 800 on current position\n",
    "- b[19] - amount of uranium / 800 on current position\n",
    "- b[20] - 1 if unit can mine this resource, 0 otherwise\n",
    "- b[21] - Manhattan distance to this resource\n",
    "- b[22] - research points / 200 of unit's team\n",
    "- b[23] - research points / 200 of another team\n",
    "- b[24] - time of the day (from 0 to 1, step 0.05)\n",
    "- b[25] - step of the game (from 0 to 1, step 1/360)\n",
    "- b[26] - day/night\n",
    "- b[27] - map size + tiles where unit can't go (other units and adversarial cities)"
   ]
  },
  {
   "cell_type": "code",
   "execution_count": 14,
   "metadata": {
    "execution": {
     "iopub.execute_input": "2021-09-21T02:10:40.937075Z",
     "iopub.status.busy": "2021-09-21T02:10:40.9366Z",
     "iopub.status.idle": "2021-09-21T02:10:40.957891Z",
     "shell.execute_reply": "2021-09-21T02:10:40.957188Z",
     "shell.execute_reply.started": "2021-09-21T02:10:40.93704Z"
    }
   },
   "outputs": [],
   "source": [
    "from math import inf\n",
    "\n",
    "def manhattan_distance(x1, y1, x2, y2):\n",
    "    return (abs(x2-x1) + abs(y2-y1))\n",
    "\n",
    "# make list of users and their current and previous coords and cooldowns \n",
    "# to write them in NN training subset\n",
    "def find_units_from_previous_obs(obs, x_shift, y_shift):\n",
    "    # at first fill the unit dict with units from previous observation\n",
    "    updates = obs['updates']\n",
    "    updates_lag_1 = obs['updates_lag_1']\n",
    "    updates_lag_2 = obs['updates_lag_2']\n",
    "    updates_lag_3 = obs['updates_lag_3']\n",
    "    updates_lag_4 = obs['updates_lag_4']\n",
    "    prev_updates = [updates, updates_lag_1, updates_lag_2, updates_lag_3, updates_lag_4]\n",
    "    prev_units = list()\n",
    "    for prev_update in prev_updates:\n",
    "        units = dict()\n",
    "        if prev_update:\n",
    "            for update in prev_update:\n",
    "                strs = update.split(' ')\n",
    "                input_identifier = strs[0]\n",
    "                # if we found observation for user\n",
    "                if input_identifier == 'u':\n",
    "                    unit_id = strs[3]\n",
    "                    x = int(strs[4]) + x_shift\n",
    "                    y = int(strs[5]) + y_shift\n",
    "                    cooldown = float(strs[6])\n",
    "                    units[unit_id] = [x, y, cooldown]\n",
    "            prev_units.append(units)\n",
    "        else:\n",
    "            break\n",
    "    return prev_units\n",
    "\n",
    "def find_prev_coords(prev_units, unit_id):\n",
    "    # find previous coordinates of unit by ananlyzing its cooldown\n",
    "    x, y = None, None\n",
    "    for i in range(len(prev_units)-1):\n",
    "        if unit_id in prev_units[i] and unit_id in prev_units[i+1]:\n",
    "            cooldown = prev_units[i][unit_id][0]\n",
    "            prev_x = prev_units[i+1][unit_id][0]\n",
    "            prev_y = prev_units[i+1][unit_id][1]\n",
    "            prev_cooldown = prev_units[i+1][unit_id][2]\n",
    "            if cooldown > 0 and prev_cooldown == 0:\n",
    "                return prev_x, prev_y\n",
    "        else:\n",
    "            break\n",
    "    return x, y\n",
    "            \n",
    "# Input for Neural Network for workers\n",
    "def make_input(obs, unit_id):\n",
    "    width, height = obs['width'], obs['height']\n",
    "    x_shift = (32 - width) // 2\n",
    "    y_shift = (32 - height) // 2\n",
    "\n",
    "    cities = {}\n",
    "    \n",
    "    b = np.zeros((27, 32, 32), dtype=np.float32)\n",
    "    \n",
    "    prev_units = find_units_from_previous_obs(obs, x_shift, y_shift)\n",
    "    x_u, y_u = prev_units[0][unit_id][0], prev_units[0][unit_id][1]\n",
    "    \n",
    "    for update in obs['updates']:\n",
    "        strs = update.split(' ')\n",
    "        input_identifier = strs[0]\n",
    "        my_rp = 0\n",
    "        \n",
    "        if input_identifier == 'u':\n",
    "            x = int(strs[4]) + x_shift\n",
    "            y = int(strs[5]) + y_shift\n",
    "            wood = int(strs[7])\n",
    "            coal = int(strs[8])\n",
    "            uranium = int(strs[9])\n",
    "            if strs[3] == unit_id: # 0:2\n",
    "                # Position, Cargo and Previous Position\n",
    "                b[:2, x, y] = (\n",
    "                    1,\n",
    "                    (wood + coal + uranium) / 100\n",
    "                )\n",
    "                prev_x, prev_y = find_prev_coords(prev_units, unit_id)\n",
    "                if not prev_x and not prev_y:\n",
    "                    prev_x, prev_y = x, y\n",
    "                b[2, prev_x, prev_y] = 1\n",
    "            else:                  # 3:10\n",
    "                # Units\n",
    "                team = int(strs[2])\n",
    "                cooldown = float(strs[6])\n",
    "                idx = 3 + (team - obs['player']) % 2 * 4\n",
    "                m_dist = manhattan_distance(x_u, y_u, x, y)\n",
    "                b[idx:idx + 4, x, y] = (\n",
    "                    1,\n",
    "                    cooldown / 6,\n",
    "                    (wood + coal + uranium) / 100,\n",
    "                    m_dist/((width-1) + (height-1))\n",
    "                )\n",
    "        elif input_identifier == 'ct':  # 11:16\n",
    "            # CityTiles\n",
    "            team = int(strs[1])\n",
    "            city_id = strs[2]\n",
    "            x = int(strs[3]) + x_shift\n",
    "            y = int(strs[4]) + y_shift\n",
    "            idx = 11 + (team - obs['player']) % 2 * 3\n",
    "            m_dist = manhattan_distance(x_u, y_u, x, y)\n",
    "            b[idx:idx + 3, x, y] = (\n",
    "                1,\n",
    "                cities[city_id],\n",
    "                m_dist/((width-1) + (height-1))\n",
    "            )\n",
    "        elif input_identifier == 'r':  # 17:20\n",
    "            # Resources\n",
    "            r_type = strs[1]\n",
    "            x = int(strs[2]) + x_shift\n",
    "            y = int(strs[3]) + y_shift\n",
    "            amt = int(float(strs[4]))\n",
    "            access_level = {'wood': 0, 'coal': 50, 'uranium': 200}[r_type]\n",
    "            access = 0 if my_rp < access_level else 1\n",
    "            b[{'wood': 17, 'coal': 18, 'uranium': 19}[r_type], x, y] = amt / 800\n",
    "            b[20, x, y] = access\n",
    "            b[21, x, y] = manhattan_distance(x_u, y_u, x, y)/((width-1) + (height-1))\n",
    "        elif input_identifier == 'rp':  # 21:22\n",
    "            # Research Points\n",
    "            team = int(strs[1])\n",
    "            rp = int(strs[2])\n",
    "            my_rp = rp if team == obs['player'] else my_rp\n",
    "            b[22 + (team - obs['player']) % 2, :] = min(rp, 200) / 200\n",
    "        elif input_identifier == 'c':\n",
    "            # Cities\n",
    "            city_id = strs[2]\n",
    "            fuel = float(strs[3])\n",
    "            lightupkeep = float(strs[4])\n",
    "            cities[city_id] = min(fuel / lightupkeep, 10) / 10\n",
    "    # Day/Night Cycle\n",
    "    b[24, :] = obs['step'] % 40 / 40\n",
    "    # Turns\n",
    "    b[25, :] = obs['step'] / 360\n",
    "#     # Day / Night\n",
    "#     b[26, :] = 1 if obs['step'] % 40 < 30 else 0\n",
    "    # Map Size\n",
    "    b[26, x_shift:32 - x_shift, y_shift:32 - y_shift] = 1\n",
    "        \n",
    "    return b"
   ]
  },
  {
   "cell_type": "code",
   "execution_count": 15,
   "metadata": {
    "scrolled": true
   },
   "outputs": [],
   "source": [
    "# obses['26762301_160']"
   ]
  },
  {
   "cell_type": "code",
   "execution_count": 16,
   "metadata": {
    "scrolled": false
   },
   "outputs": [],
   "source": [
    "# import sys\n",
    "\n",
    "# np.set_printoptions(threshold=sys.maxsize)\n",
    "\n",
    "# make_input(obses['26762301_160'], 'u_36')[3]"
   ]
  },
  {
   "cell_type": "markdown",
   "metadata": {},
   "source": [
    "Data for the cities:\n",
    "- b[0] - position of current city\n",
    "- b[1] - min(city fuel/city energy consumption, 10)/10 of current city\n",
    "- b[2, 3, 4] - position, cooldown/10, and min(city fuel/city energy consumption, 10)/10 for cities from the same team\n",
    "- b[5, 6, 7] - position, cooldown/10, and min(city fuel/city energy consumption, 10)/10 for cities from another team\n",
    "- b[8, 9] - position and cargo sum/100 for units from the same team \n",
    "- b[10, 11] - position and cargo sum/100 for units from from another team\n",
    "- b[12] - amount of wood / 800\n",
    "- b[13] - amount of coal / 800\n",
    "- b[14] - amount of uranium / 800\n",
    "- b[15] - research points / 200 of unit's team\n",
    "- b[16] - research piints / 200 of another team\n",
    "- b[17] - time of the day (from 0 to 1, step 0.05)\n",
    "- b[18] - step of the game (from 0 to 1, step 1/360)\n",
    "- b[19] - map size"
   ]
  },
  {
   "cell_type": "code",
   "execution_count": 17,
   "metadata": {},
   "outputs": [],
   "source": [
    "# Input for Neural Network for cities\n",
    "def make_city_input(obs, city_coord):\n",
    "    width, height = obs['width'], obs['height']\n",
    "    x_shift = (32 - width) // 2\n",
    "    y_shift = (32 - height) // 2\n",
    "    cities = {}\n",
    "    \n",
    "    b = np.zeros((20, 32, 32), dtype=np.float32)\n",
    "    \n",
    "    for update in obs['updates']:\n",
    "        strs = update.split(' ')\n",
    "        input_identifier = strs[0]\n",
    "        \n",
    "        if input_identifier == 'ct':\n",
    "            # CityTiles\n",
    "            city_id = strs[2]\n",
    "            x = int(strs[3]) \n",
    "            y = int(strs[4])\n",
    "            cooldown = float(strs[5])\n",
    "            if x == int(city_coord[0]) and y == int(city_coord[1]):\n",
    "                b[:2, x + x_shift, y + y_shift] = (\n",
    "                    1,\n",
    "                    cities[city_id]\n",
    "                )\n",
    "            else:\n",
    "                team = int(strs[1])\n",
    "                idx = 2 + (team - obs['player']) % 2 * 3\n",
    "                b[idx:idx + 3, x + x_shift, y + y_shift] = (\n",
    "                    1,\n",
    "                    cooldown / 10,\n",
    "                    cities[city_id]\n",
    "                )\n",
    "        elif input_identifier == 'u':\n",
    "            team = int(strs[2])\n",
    "            x = int(strs[4]) + x_shift\n",
    "            y = int(strs[5]) + y_shift\n",
    "            wood = int(strs[7])\n",
    "            coal = int(strs[8])\n",
    "            uranium = int(strs[9])\n",
    "            idx = 8 + (team - obs['player']) % 2 * 2\n",
    "            b[idx:idx + 2, x, y] = (\n",
    "                1,\n",
    "                (wood + coal + uranium) / 100\n",
    "            )\n",
    "        elif input_identifier == 'r':\n",
    "            # Resources\n",
    "            r_type = strs[1]\n",
    "            x = int(strs[2]) + x_shift\n",
    "            y = int(strs[3]) + y_shift\n",
    "            amt = int(float(strs[4]))\n",
    "            b[{'wood': 12, 'coal': 13, 'uranium': 14}[r_type], x, y] = amt / 800\n",
    "        elif input_identifier == 'rp':\n",
    "            # Research Points\n",
    "            team = int(strs[1])\n",
    "            rp = int(strs[2])\n",
    "            b[15 + (team - obs['player']) % 2, :] = min(rp, 200) / 200\n",
    "        elif input_identifier == 'c':\n",
    "            # Cities\n",
    "            city_id = strs[2]\n",
    "            fuel = float(strs[3])\n",
    "            lightupkeep = float(strs[4])\n",
    "            cities[city_id] = min(fuel / lightupkeep, 10) / 10\n",
    "    \n",
    "    # Day/Night Cycle\n",
    "    b[17, :] = obs['step'] % 40 / 40\n",
    "    # Turns\n",
    "    b[18, :] = obs['step'] / 360\n",
    "    # Map Size\n",
    "    b[19, x_shift:32 - x_shift, y_shift:32 - y_shift] = 1\n",
    "\n",
    "    return b"
   ]
  },
  {
   "cell_type": "markdown",
   "metadata": {},
   "source": [
    "### Set modules for NN training"
   ]
  },
  {
   "cell_type": "code",
   "execution_count": 74,
   "metadata": {},
   "outputs": [],
   "source": [
    "# dict for apropriate change of moving action during rotation\n",
    "# 0 - no transform, 1 - rotation on 90, 2 - rotation on 180, \n",
    "# 3 - rotation on 270, 4 - horizontal flip, 5 - vertical flip\n",
    "transform_dict = {#0: {0:0, 1:1, 2:2, 3:3, 4:4},\n",
    "#                   1: {0:3, 1:2, 2:0, 3:1, 4:4}, # N -> E, S -> W, W -> N, E -> S\n",
    "#                   2: {0:1, 1:0, 2:3, 3:2, 4:4}, # N -> S, S -> N, W -> E, E -> W\n",
    "#                   3: {0:2, 1:3, 2:1, 3:0, 4:4}, # N -> W, S -> E, W -> S, E -> N\n",
    "                  0: {0:0, 1:1, 2:3, 3:2, 4:4}, # N -> N, S -> S, W -> E, E -> W\n",
    "                  1: {0:1, 1:0, 2:2, 3:3, 4:4}}  # N -> S, S -> N, W -> W, E -> E\n",
    "\n",
    "def do_nothing(x):\n",
    "    return x\n",
    "\n",
    "class RandomChoice(torch.nn.Module):\n",
    "    def __init__(self, transforms):\n",
    "       super().__init__()\n",
    "       self.transforms = transforms\n",
    "\n",
    "    def __call__(self, x):\n",
    "        idx = random.choice([i for i in range(len(self.transforms))])\n",
    "        t = self.transforms[idx]\n",
    "        x = torch.from_numpy(x)\n",
    "        return t(x), idx\n",
    "\n",
    "transform=RandomChoice([#do_nothing,\n",
    "#                         lambda x:torch.rot90(x, 1, [2, 1]),\n",
    "#                         lambda x:torch.rot90(x, 2, [2, 1]),\n",
    "#                         lambda x:torch.rot90(x, 1, [1, 2]),\n",
    "                        TF.hflip, \n",
    "                        TF.vflip])\n",
    "    \n",
    "class LuxDataset(Dataset):\n",
    "    def __init__(self, obses, samples, transform=transform, transform_dict=transform_dict, city=False):\n",
    "        self.obses = obses\n",
    "        self.samples = samples\n",
    "        self.data_len = len(self.samples)\n",
    "        self.len = self.data_len*2\n",
    "        self.transform = transform\n",
    "        self.transform_dict = transform_dict\n",
    "        self.city = city\n",
    "            \n",
    "    def __len__(self):\n",
    "        return self.len\n",
    "\n",
    "    def __getitem__(self, idx):\n",
    "        data_idx = idx % self.data_len\n",
    "        obs_id, unit_id, action = self.samples[data_idx]\n",
    "        obs = self.obses[obs_id]\n",
    "        if not self.city:\n",
    "            state = make_input(obs, unit_id)\n",
    "        else:\n",
    "            state = make_city_input(obs, unit_id)\n",
    "        if self.transform:\n",
    "            t = self.transform(state)\n",
    "            state, action = t[0], self.transform_dict[t[1]][action]\n",
    "        return state, action"
   ]
  },
  {
   "cell_type": "code",
   "execution_count": 75,
   "metadata": {
    "execution": {
     "iopub.execute_input": "2021-09-21T02:10:40.959528Z",
     "iopub.status.busy": "2021-09-21T02:10:40.959271Z",
     "iopub.status.idle": "2021-09-21T02:10:40.973799Z",
     "shell.execute_reply": "2021-09-21T02:10:40.973034Z",
     "shell.execute_reply.started": "2021-09-21T02:10:40.959496Z"
    }
   },
   "outputs": [],
   "source": [
    "# Neural Network for Lux AI\n",
    "class BasicConv2d(nn.Module):\n",
    "    def __init__(self, input_dim, output_dim, kernel_size, bn, p=0.1):\n",
    "        super().__init__()\n",
    "        self.conv = nn.Conv2d(\n",
    "            input_dim, output_dim, \n",
    "            kernel_size=kernel_size, \n",
    "            padding=(kernel_size[0] // 2, kernel_size[1] // 2)\n",
    "        )\n",
    "        self.bn = nn.BatchNorm2d(output_dim) if bn else None\n",
    "        self.dropout = nn.Dropout(p) \n",
    "\n",
    "    def forward(self, x):\n",
    "        h = self.conv(x)\n",
    "        h = self.bn(h) if self.bn is not None else h\n",
    "        h = self.dropout(h) \n",
    "        return h\n",
    "\n",
    "\n",
    "class LuxNet(nn.Module):\n",
    "    def __init__(self):\n",
    "        super().__init__()\n",
    "        layers, filters = 12, 40\n",
    "        self.conv0 = BasicConv2d(27, filters, (3, 3), True)\n",
    "        self.blocks = nn.ModuleList([BasicConv2d(filters, filters, (3, 3), True) for _ in range(layers)])\n",
    "        self.head_p = nn.Linear(filters, 5, bias=False)\n",
    "\n",
    "    def forward(self, x):\n",
    "        h = F.relu_(self.conv0(x))\n",
    "        for block in self.blocks:\n",
    "            h = F.relu_(h + block(h))\n",
    "        h_head = (h * x[:,:1]).view(h.size(0), h.size(1), -1).sum(-1)\n",
    "        p = self.head_p(h_head)\n",
    "        return p\n",
    "    \n",
    "    \n",
    "class LuxCityNet(nn.Module):\n",
    "    def __init__(self):\n",
    "        super().__init__()\n",
    "        layers, filters = 12, 32\n",
    "        self.conv0 = BasicConv2d(20, filters, (3, 3), True)\n",
    "        self.blocks = nn.ModuleList([BasicConv2d(filters, filters, (3, 3), True) for _ in range(layers)])\n",
    "        self.head_p = nn.Linear(filters, 2, bias=False)\n",
    "\n",
    "    def forward(self, x):\n",
    "        h = F.relu_(self.conv0(x))\n",
    "        for block in self.blocks:\n",
    "            h = F.relu_(h + block(h))\n",
    "        h_head = (h * x[:,:1]).view(h.size(0), h.size(1), -1).sum(-1)\n",
    "        p = self.head_p(h_head)\n",
    "        return p"
   ]
  },
  {
   "cell_type": "markdown",
   "metadata": {},
   "source": [
    "### Function for NN training"
   ]
  },
  {
   "cell_type": "code",
   "execution_count": 79,
   "metadata": {
    "execution": {
     "iopub.execute_input": "2021-09-21T02:10:40.977015Z",
     "iopub.status.busy": "2021-09-21T02:10:40.976754Z",
     "iopub.status.idle": "2021-09-21T02:10:40.990161Z",
     "shell.execute_reply": "2021-09-21T02:10:40.989333Z",
     "shell.execute_reply.started": "2021-09-21T02:10:40.976986Z"
    }
   },
   "outputs": [],
   "source": [
    "import matplotlib.pyplot as plt\n",
    "# from torch.utils.tensorboard import SummaryWriter\n",
    "\n",
    "def train_model(model, dataloaders_dict, criterion, optimizer, num_epochs, city=False):\n",
    "#     tb = SummaryWriter()\n",
    "    \n",
    "    best_acc = 0.0\n",
    "    \n",
    "    for epoch in range(num_epochs):\n",
    "        model.cuda()\n",
    "        \n",
    "        for phase in ['train', 'val']:\n",
    "            if phase == 'train':\n",
    "                model.train()\n",
    "            else:\n",
    "                model.eval()\n",
    "                \n",
    "            epoch_loss = 0.0\n",
    "            epoch_acc = 0\n",
    "            \n",
    "            dataloader = dataloaders_dict[phase]\n",
    "            for item in tqdm(dataloader, leave=False):\n",
    "                \n",
    "                states = item[0].cuda().float()\n",
    "                actions = item[1].cuda().long()\n",
    "\n",
    "                optimizer.zero_grad()\n",
    "                \n",
    "                with torch.set_grad_enabled(phase == 'train'):\n",
    "                    policy = model(states)\n",
    "                    loss = criterion(policy, actions)\n",
    "                    _, preds = torch.max(policy, 1)\n",
    "\n",
    "                    if phase == 'train':\n",
    "                        loss.backward()\n",
    "                        optimizer.step()\n",
    "\n",
    "                    epoch_loss += loss.item() * len(policy)\n",
    "                    epoch_acc += torch.sum(preds == actions.data)\n",
    "\n",
    "            data_size = len(dataloader.dataset)\n",
    "            epoch_loss = epoch_loss / data_size\n",
    "            epoch_acc = epoch_acc.double() / data_size\n",
    "\n",
    "#             if phase == 'train':\n",
    "#                 tb.add_scalar(\"Train Loss\", epoch_loss, epoch)\n",
    "#                 tb.add_scalar(\"Train Accuracy\", epoch_acc, epoch)\n",
    "#             else:\n",
    "#                 tb.add_scalar(\"Val Loss\", epoch_loss, epoch)\n",
    "#                 tb.add_scalar(\"Val Accuracy\", epoch_acc, epoch)\n",
    "            \n",
    "            print(f'Epoch {epoch + 1}/{num_epochs} | {phase:^5} | Loss: {epoch_loss:.4f} | Acc: {epoch_acc:.4f}')\n",
    "        \n",
    "        if epoch_acc > best_acc:\n",
    "            if city:\n",
    "                traced = torch.jit.trace(model.cpu(), torch.rand(1, 20, 32, 32))\n",
    "                traced.save('agent/model_city.pth')\n",
    "            else:\n",
    "                traced = torch.jit.trace(model.cpu(), torch.rand(1, 27, 32, 32))\n",
    "                traced.save('agent/model.pth')\n",
    "            best_acc = epoch_acc\n",
    "            \n",
    "#     tb.close()"
   ]
  },
  {
   "cell_type": "code",
   "execution_count": 80,
   "metadata": {
    "execution": {
     "iopub.execute_input": "2021-09-21T02:10:40.993264Z",
     "iopub.status.busy": "2021-09-21T02:10:40.992907Z",
     "iopub.status.idle": "2021-09-21T02:10:41.159575Z",
     "shell.execute_reply": "2021-09-21T02:10:41.158852Z",
     "shell.execute_reply.started": "2021-09-21T02:10:40.993229Z"
    },
    "scrolled": false
   },
   "outputs": [],
   "source": [
    "# model for unit actions\n",
    "model = LuxNet()\n",
    "train, val = train_test_split(samples, test_size=0.1, random_state=42, stratify=labels)\n",
    "batch_size = 128\n",
    "\n",
    "train_loader = DataLoader(\n",
    "    LuxDataset(obses, train), \n",
    "    batch_size=batch_size, \n",
    "    shuffle=True, \n",
    "    num_workers=2\n",
    ")\n",
    "val_loader = DataLoader(\n",
    "    LuxDataset(obses, val), \n",
    "    batch_size=batch_size, \n",
    "    shuffle=False, \n",
    "    num_workers=2\n",
    ")\n",
    "dataloaders_dict = {\"train\": train_loader, \"val\": val_loader}\n",
    "\n",
    "criterion = nn.CrossEntropyLoss()\n",
    "optimizer = torch.optim.AdamW(model.parameters(), lr=1e-3)\n",
    "\n",
    "# model for city actions\n",
    "model_city = LuxCityNet()\n",
    "train_city, val_city = train_test_split(city_samples, test_size=0.1, random_state=42, stratify=labels_city)\n",
    "batch_size_city = 128\n",
    "\n",
    "train_city_loader = DataLoader(\n",
    "    LuxDataset(obses, train_city, city=True), \n",
    "    batch_size=batch_size, \n",
    "    shuffle=True, \n",
    "    num_workers=2\n",
    ")\n",
    "    \n",
    "val_city_loader = DataLoader(\n",
    "    LuxDataset(obses, val_city, city=True), \n",
    "    batch_size=batch_size, \n",
    "    shuffle=False, \n",
    "    num_workers=2\n",
    ")\n",
    "dataloaders_city_dict = {\"train\": train_city_loader, \"val\": val_city_loader}\n",
    "\n",
    "criterion_city = nn.CrossEntropyLoss()\n",
    "optimizer_city = torch.optim.AdamW(model_city.parameters(), lr=1e-3)"
   ]
  },
  {
   "cell_type": "code",
   "execution_count": 81,
   "metadata": {
    "scrolled": false
   },
   "outputs": [
    {
     "data": {
      "application/vnd.jupyter.widget-view+json": {
       "model_id": "",
       "version_major": 2,
       "version_minor": 0
      },
      "text/plain": [
       "  0%|          | 0/8331 [00:00<?, ?it/s]"
      ]
     },
     "metadata": {},
     "output_type": "display_data"
    },
    {
     "name": "stdout",
     "output_type": "stream",
     "text": [
      "Epoch 1/25 | train | Loss: 0.7674 | Acc: 0.6891\n"
     ]
    },
    {
     "data": {
      "application/vnd.jupyter.widget-view+json": {
       "model_id": "",
       "version_major": 2,
       "version_minor": 0
      },
      "text/plain": [
       "  0%|          | 0/926 [00:00<?, ?it/s]"
      ]
     },
     "metadata": {},
     "output_type": "display_data"
    },
    {
     "name": "stdout",
     "output_type": "stream",
     "text": [
      "Epoch 1/25 |  val  | Loss: 0.6345 | Acc: 0.7460\n"
     ]
    },
    {
     "data": {
      "application/vnd.jupyter.widget-view+json": {
       "model_id": "",
       "version_major": 2,
       "version_minor": 0
      },
      "text/plain": [
       "  0%|          | 0/8331 [00:00<?, ?it/s]"
      ]
     },
     "metadata": {},
     "output_type": "display_data"
    },
    {
     "name": "stdout",
     "output_type": "stream",
     "text": [
      "Epoch 2/25 | train | Loss: 0.6386 | Acc: 0.7429\n"
     ]
    },
    {
     "data": {
      "application/vnd.jupyter.widget-view+json": {
       "model_id": "",
       "version_major": 2,
       "version_minor": 0
      },
      "text/plain": [
       "  0%|          | 0/926 [00:00<?, ?it/s]"
      ]
     },
     "metadata": {},
     "output_type": "display_data"
    },
    {
     "name": "stdout",
     "output_type": "stream",
     "text": [
      "Epoch 2/25 |  val  | Loss: 0.5840 | Acc: 0.7642\n"
     ]
    },
    {
     "data": {
      "application/vnd.jupyter.widget-view+json": {
       "model_id": "",
       "version_major": 2,
       "version_minor": 0
      },
      "text/plain": [
       "  0%|          | 0/8331 [00:00<?, ?it/s]"
      ]
     },
     "metadata": {},
     "output_type": "display_data"
    },
    {
     "name": "stdout",
     "output_type": "stream",
     "text": [
      "Epoch 3/25 | train | Loss: 0.6028 | Acc: 0.7578\n"
     ]
    },
    {
     "data": {
      "application/vnd.jupyter.widget-view+json": {
       "model_id": "",
       "version_major": 2,
       "version_minor": 0
      },
      "text/plain": [
       "  0%|          | 0/926 [00:00<?, ?it/s]"
      ]
     },
     "metadata": {},
     "output_type": "display_data"
    },
    {
     "name": "stdout",
     "output_type": "stream",
     "text": [
      "Epoch 3/25 |  val  | Loss: 0.5603 | Acc: 0.7770\n"
     ]
    },
    {
     "data": {
      "application/vnd.jupyter.widget-view+json": {
       "model_id": "",
       "version_major": 2,
       "version_minor": 0
      },
      "text/plain": [
       "  0%|          | 0/8331 [00:00<?, ?it/s]"
      ]
     },
     "metadata": {},
     "output_type": "display_data"
    },
    {
     "name": "stdout",
     "output_type": "stream",
     "text": [
      "Epoch 4/25 | train | Loss: 0.5815 | Acc: 0.7667\n"
     ]
    },
    {
     "data": {
      "application/vnd.jupyter.widget-view+json": {
       "model_id": "",
       "version_major": 2,
       "version_minor": 0
      },
      "text/plain": [
       "  0%|          | 0/926 [00:00<?, ?it/s]"
      ]
     },
     "metadata": {},
     "output_type": "display_data"
    },
    {
     "name": "stdout",
     "output_type": "stream",
     "text": [
      "Epoch 4/25 |  val  | Loss: 0.5466 | Acc: 0.7806\n"
     ]
    },
    {
     "data": {
      "application/vnd.jupyter.widget-view+json": {
       "model_id": "",
       "version_major": 2,
       "version_minor": 0
      },
      "text/plain": [
       "  0%|          | 0/8331 [00:00<?, ?it/s]"
      ]
     },
     "metadata": {},
     "output_type": "display_data"
    },
    {
     "name": "stdout",
     "output_type": "stream",
     "text": [
      "Epoch 5/25 | train | Loss: 0.5681 | Acc: 0.7717\n"
     ]
    },
    {
     "data": {
      "application/vnd.jupyter.widget-view+json": {
       "model_id": "",
       "version_major": 2,
       "version_minor": 0
      },
      "text/plain": [
       "  0%|          | 0/926 [00:00<?, ?it/s]"
      ]
     },
     "metadata": {},
     "output_type": "display_data"
    },
    {
     "name": "stdout",
     "output_type": "stream",
     "text": [
      "Epoch 5/25 |  val  | Loss: 0.5349 | Acc: 0.7873\n"
     ]
    },
    {
     "data": {
      "application/vnd.jupyter.widget-view+json": {
       "model_id": "",
       "version_major": 2,
       "version_minor": 0
      },
      "text/plain": [
       "  0%|          | 0/8331 [00:00<?, ?it/s]"
      ]
     },
     "metadata": {},
     "output_type": "display_data"
    },
    {
     "name": "stdout",
     "output_type": "stream",
     "text": [
      "Epoch 6/25 | train | Loss: 0.5573 | Acc: 0.7759\n"
     ]
    },
    {
     "data": {
      "application/vnd.jupyter.widget-view+json": {
       "model_id": "",
       "version_major": 2,
       "version_minor": 0
      },
      "text/plain": [
       "  0%|          | 0/926 [00:00<?, ?it/s]"
      ]
     },
     "metadata": {},
     "output_type": "display_data"
    },
    {
     "name": "stdout",
     "output_type": "stream",
     "text": [
      "Epoch 6/25 |  val  | Loss: 0.5281 | Acc: 0.7875\n"
     ]
    },
    {
     "data": {
      "application/vnd.jupyter.widget-view+json": {
       "model_id": "",
       "version_major": 2,
       "version_minor": 0
      },
      "text/plain": [
       "  0%|          | 0/8331 [00:00<?, ?it/s]"
      ]
     },
     "metadata": {},
     "output_type": "display_data"
    },
    {
     "name": "stdout",
     "output_type": "stream",
     "text": [
      "Epoch 7/25 | train | Loss: 0.5497 | Acc: 0.7790\n"
     ]
    },
    {
     "data": {
      "application/vnd.jupyter.widget-view+json": {
       "model_id": "",
       "version_major": 2,
       "version_minor": 0
      },
      "text/plain": [
       "  0%|          | 0/926 [00:00<?, ?it/s]"
      ]
     },
     "metadata": {},
     "output_type": "display_data"
    },
    {
     "name": "stdout",
     "output_type": "stream",
     "text": [
      "Epoch 7/25 |  val  | Loss: 0.5159 | Acc: 0.7936\n"
     ]
    },
    {
     "data": {
      "application/vnd.jupyter.widget-view+json": {
       "model_id": "",
       "version_major": 2,
       "version_minor": 0
      },
      "text/plain": [
       "  0%|          | 0/8331 [00:00<?, ?it/s]"
      ]
     },
     "metadata": {},
     "output_type": "display_data"
    },
    {
     "name": "stdout",
     "output_type": "stream",
     "text": [
      "Epoch 8/25 | train | Loss: 0.5434 | Acc: 0.7822\n"
     ]
    },
    {
     "data": {
      "application/vnd.jupyter.widget-view+json": {
       "model_id": "",
       "version_major": 2,
       "version_minor": 0
      },
      "text/plain": [
       "  0%|          | 0/926 [00:00<?, ?it/s]"
      ]
     },
     "metadata": {},
     "output_type": "display_data"
    },
    {
     "name": "stdout",
     "output_type": "stream",
     "text": [
      "Epoch 8/25 |  val  | Loss: 0.5092 | Acc: 0.7946\n"
     ]
    },
    {
     "data": {
      "application/vnd.jupyter.widget-view+json": {
       "model_id": "",
       "version_major": 2,
       "version_minor": 0
      },
      "text/plain": [
       "  0%|          | 0/8331 [00:00<?, ?it/s]"
      ]
     },
     "metadata": {},
     "output_type": "display_data"
    },
    {
     "name": "stdout",
     "output_type": "stream",
     "text": [
      "Epoch 9/25 | train | Loss: 0.5385 | Acc: 0.7840\n"
     ]
    },
    {
     "data": {
      "application/vnd.jupyter.widget-view+json": {
       "model_id": "",
       "version_major": 2,
       "version_minor": 0
      },
      "text/plain": [
       "  0%|          | 0/926 [00:00<?, ?it/s]"
      ]
     },
     "metadata": {},
     "output_type": "display_data"
    },
    {
     "name": "stdout",
     "output_type": "stream",
     "text": [
      "Epoch 9/25 |  val  | Loss: 0.5175 | Acc: 0.7917\n"
     ]
    },
    {
     "data": {
      "application/vnd.jupyter.widget-view+json": {
       "model_id": "",
       "version_major": 2,
       "version_minor": 0
      },
      "text/plain": [
       "  0%|          | 0/8331 [00:00<?, ?it/s]"
      ]
     },
     "metadata": {},
     "output_type": "display_data"
    },
    {
     "name": "stdout",
     "output_type": "stream",
     "text": [
      "Epoch 10/25 | train | Loss: 0.5341 | Acc: 0.7852\n"
     ]
    },
    {
     "data": {
      "application/vnd.jupyter.widget-view+json": {
       "model_id": "",
       "version_major": 2,
       "version_minor": 0
      },
      "text/plain": [
       "  0%|          | 0/926 [00:00<?, ?it/s]"
      ]
     },
     "metadata": {},
     "output_type": "display_data"
    },
    {
     "name": "stdout",
     "output_type": "stream",
     "text": [
      "Epoch 10/25 |  val  | Loss: 0.5004 | Acc: 0.7985\n"
     ]
    },
    {
     "data": {
      "application/vnd.jupyter.widget-view+json": {
       "model_id": "",
       "version_major": 2,
       "version_minor": 0
      },
      "text/plain": [
       "  0%|          | 0/8331 [00:00<?, ?it/s]"
      ]
     },
     "metadata": {},
     "output_type": "display_data"
    },
    {
     "name": "stdout",
     "output_type": "stream",
     "text": [
      "Epoch 11/25 | train | Loss: 0.5303 | Acc: 0.7873\n"
     ]
    },
    {
     "data": {
      "application/vnd.jupyter.widget-view+json": {
       "model_id": "",
       "version_major": 2,
       "version_minor": 0
      },
      "text/plain": [
       "  0%|          | 0/926 [00:00<?, ?it/s]"
      ]
     },
     "metadata": {},
     "output_type": "display_data"
    },
    {
     "name": "stdout",
     "output_type": "stream",
     "text": [
      "Epoch 11/25 |  val  | Loss: 0.5163 | Acc: 0.7921\n"
     ]
    },
    {
     "data": {
      "application/vnd.jupyter.widget-view+json": {
       "model_id": "",
       "version_major": 2,
       "version_minor": 0
      },
      "text/plain": [
       "  0%|          | 0/8331 [00:00<?, ?it/s]"
      ]
     },
     "metadata": {},
     "output_type": "display_data"
    },
    {
     "name": "stdout",
     "output_type": "stream",
     "text": [
      "Epoch 12/25 | train | Loss: 0.5275 | Acc: 0.7882\n"
     ]
    },
    {
     "data": {
      "application/vnd.jupyter.widget-view+json": {
       "model_id": "",
       "version_major": 2,
       "version_minor": 0
      },
      "text/plain": [
       "  0%|          | 0/926 [00:00<?, ?it/s]"
      ]
     },
     "metadata": {},
     "output_type": "display_data"
    },
    {
     "name": "stdout",
     "output_type": "stream",
     "text": [
      "Epoch 12/25 |  val  | Loss: 0.4991 | Acc: 0.7995\n"
     ]
    },
    {
     "data": {
      "application/vnd.jupyter.widget-view+json": {
       "model_id": "",
       "version_major": 2,
       "version_minor": 0
      },
      "text/plain": [
       "  0%|          | 0/8331 [00:00<?, ?it/s]"
      ]
     },
     "metadata": {},
     "output_type": "display_data"
    },
    {
     "name": "stdout",
     "output_type": "stream",
     "text": [
      "Epoch 13/25 | train | Loss: 0.5244 | Acc: 0.7893\n"
     ]
    },
    {
     "data": {
      "application/vnd.jupyter.widget-view+json": {
       "model_id": "",
       "version_major": 2,
       "version_minor": 0
      },
      "text/plain": [
       "  0%|          | 0/926 [00:00<?, ?it/s]"
      ]
     },
     "metadata": {},
     "output_type": "display_data"
    },
    {
     "name": "stdout",
     "output_type": "stream",
     "text": [
      "Epoch 13/25 |  val  | Loss: 0.4993 | Acc: 0.7988\n"
     ]
    },
    {
     "data": {
      "application/vnd.jupyter.widget-view+json": {
       "model_id": "",
       "version_major": 2,
       "version_minor": 0
      },
      "text/plain": [
       "  0%|          | 0/8331 [00:00<?, ?it/s]"
      ]
     },
     "metadata": {},
     "output_type": "display_data"
    },
    {
     "name": "stdout",
     "output_type": "stream",
     "text": [
      "Epoch 14/25 | train | Loss: 0.5217 | Acc: 0.7906\n"
     ]
    },
    {
     "data": {
      "application/vnd.jupyter.widget-view+json": {
       "model_id": "",
       "version_major": 2,
       "version_minor": 0
      },
      "text/plain": [
       "  0%|          | 0/926 [00:00<?, ?it/s]"
      ]
     },
     "metadata": {},
     "output_type": "display_data"
    },
    {
     "name": "stdout",
     "output_type": "stream",
     "text": [
      "Epoch 14/25 |  val  | Loss: 0.4916 | Acc: 0.8022\n"
     ]
    },
    {
     "data": {
      "application/vnd.jupyter.widget-view+json": {
       "model_id": "",
       "version_major": 2,
       "version_minor": 0
      },
      "text/plain": [
       "  0%|          | 0/8331 [00:00<?, ?it/s]"
      ]
     },
     "metadata": {},
     "output_type": "display_data"
    },
    {
     "name": "stdout",
     "output_type": "stream",
     "text": [
      "Epoch 15/25 | train | Loss: 0.5194 | Acc: 0.7913\n"
     ]
    },
    {
     "data": {
      "application/vnd.jupyter.widget-view+json": {
       "model_id": "",
       "version_major": 2,
       "version_minor": 0
      },
      "text/plain": [
       "  0%|          | 0/926 [00:00<?, ?it/s]"
      ]
     },
     "metadata": {},
     "output_type": "display_data"
    },
    {
     "name": "stdout",
     "output_type": "stream",
     "text": [
      "Epoch 15/25 |  val  | Loss: 0.4945 | Acc: 0.8001\n"
     ]
    },
    {
     "data": {
      "application/vnd.jupyter.widget-view+json": {
       "model_id": "",
       "version_major": 2,
       "version_minor": 0
      },
      "text/plain": [
       "  0%|          | 0/8331 [00:00<?, ?it/s]"
      ]
     },
     "metadata": {},
     "output_type": "display_data"
    },
    {
     "name": "stdout",
     "output_type": "stream",
     "text": [
      "Epoch 16/25 | train | Loss: 0.5186 | Acc: 0.7915\n"
     ]
    },
    {
     "data": {
      "application/vnd.jupyter.widget-view+json": {
       "model_id": "",
       "version_major": 2,
       "version_minor": 0
      },
      "text/plain": [
       "  0%|          | 0/926 [00:00<?, ?it/s]"
      ]
     },
     "metadata": {},
     "output_type": "display_data"
    },
    {
     "name": "stdout",
     "output_type": "stream",
     "text": [
      "Epoch 16/25 |  val  | Loss: 0.4913 | Acc: 0.8023\n"
     ]
    },
    {
     "data": {
      "application/vnd.jupyter.widget-view+json": {
       "model_id": "",
       "version_major": 2,
       "version_minor": 0
      },
      "text/plain": [
       "  0%|          | 0/8331 [00:00<?, ?it/s]"
      ]
     },
     "metadata": {},
     "output_type": "display_data"
    },
    {
     "name": "stdout",
     "output_type": "stream",
     "text": [
      "Epoch 17/25 | train | Loss: 0.5157 | Acc: 0.7927\n"
     ]
    },
    {
     "data": {
      "application/vnd.jupyter.widget-view+json": {
       "model_id": "",
       "version_major": 2,
       "version_minor": 0
      },
      "text/plain": [
       "  0%|          | 0/926 [00:00<?, ?it/s]"
      ]
     },
     "metadata": {},
     "output_type": "display_data"
    },
    {
     "name": "stdout",
     "output_type": "stream",
     "text": [
      "Epoch 17/25 |  val  | Loss: 0.4901 | Acc: 0.8027\n"
     ]
    },
    {
     "data": {
      "application/vnd.jupyter.widget-view+json": {
       "model_id": "",
       "version_major": 2,
       "version_minor": 0
      },
      "text/plain": [
       "  0%|          | 0/8331 [00:00<?, ?it/s]"
      ]
     },
     "metadata": {},
     "output_type": "display_data"
    },
    {
     "name": "stdout",
     "output_type": "stream",
     "text": [
      "Epoch 18/25 | train | Loss: 0.5141 | Acc: 0.7938\n"
     ]
    },
    {
     "data": {
      "application/vnd.jupyter.widget-view+json": {
       "model_id": "",
       "version_major": 2,
       "version_minor": 0
      },
      "text/plain": [
       "  0%|          | 0/926 [00:00<?, ?it/s]"
      ]
     },
     "metadata": {},
     "output_type": "display_data"
    },
    {
     "name": "stdout",
     "output_type": "stream",
     "text": [
      "Epoch 18/25 |  val  | Loss: 0.4848 | Acc: 0.8047\n"
     ]
    },
    {
     "data": {
      "application/vnd.jupyter.widget-view+json": {
       "model_id": "",
       "version_major": 2,
       "version_minor": 0
      },
      "text/plain": [
       "  0%|          | 0/8331 [00:00<?, ?it/s]"
      ]
     },
     "metadata": {},
     "output_type": "display_data"
    },
    {
     "name": "stdout",
     "output_type": "stream",
     "text": [
      "Epoch 19/25 | train | Loss: 0.5135 | Acc: 0.7935\n"
     ]
    },
    {
     "data": {
      "application/vnd.jupyter.widget-view+json": {
       "model_id": "",
       "version_major": 2,
       "version_minor": 0
      },
      "text/plain": [
       "  0%|          | 0/926 [00:00<?, ?it/s]"
      ]
     },
     "metadata": {},
     "output_type": "display_data"
    },
    {
     "name": "stdout",
     "output_type": "stream",
     "text": [
      "Epoch 19/25 |  val  | Loss: 0.4857 | Acc: 0.8054\n"
     ]
    },
    {
     "data": {
      "application/vnd.jupyter.widget-view+json": {
       "model_id": "",
       "version_major": 2,
       "version_minor": 0
      },
      "text/plain": [
       "  0%|          | 0/8331 [00:00<?, ?it/s]"
      ]
     },
     "metadata": {},
     "output_type": "display_data"
    },
    {
     "name": "stdout",
     "output_type": "stream",
     "text": [
      "Epoch 20/25 | train | Loss: 0.5116 | Acc: 0.7946\n"
     ]
    },
    {
     "data": {
      "application/vnd.jupyter.widget-view+json": {
       "model_id": "",
       "version_major": 2,
       "version_minor": 0
      },
      "text/plain": [
       "  0%|          | 0/926 [00:00<?, ?it/s]"
      ]
     },
     "metadata": {},
     "output_type": "display_data"
    },
    {
     "name": "stdout",
     "output_type": "stream",
     "text": [
      "Epoch 20/25 |  val  | Loss: 0.4936 | Acc: 0.7999\n"
     ]
    },
    {
     "data": {
      "application/vnd.jupyter.widget-view+json": {
       "model_id": "",
       "version_major": 2,
       "version_minor": 0
      },
      "text/plain": [
       "  0%|          | 0/8331 [00:00<?, ?it/s]"
      ]
     },
     "metadata": {},
     "output_type": "display_data"
    },
    {
     "name": "stdout",
     "output_type": "stream",
     "text": [
      "Epoch 21/25 | train | Loss: 0.5107 | Acc: 0.7951\n"
     ]
    },
    {
     "data": {
      "application/vnd.jupyter.widget-view+json": {
       "model_id": "",
       "version_major": 2,
       "version_minor": 0
      },
      "text/plain": [
       "  0%|          | 0/926 [00:00<?, ?it/s]"
      ]
     },
     "metadata": {},
     "output_type": "display_data"
    },
    {
     "name": "stdout",
     "output_type": "stream",
     "text": [
      "Epoch 21/25 |  val  | Loss: 0.4801 | Acc: 0.8071\n"
     ]
    },
    {
     "data": {
      "application/vnd.jupyter.widget-view+json": {
       "model_id": "",
       "version_major": 2,
       "version_minor": 0
      },
      "text/plain": [
       "  0%|          | 0/8331 [00:00<?, ?it/s]"
      ]
     },
     "metadata": {},
     "output_type": "display_data"
    },
    {
     "name": "stdout",
     "output_type": "stream",
     "text": [
      "Epoch 22/25 | train | Loss: 0.5089 | Acc: 0.7955\n"
     ]
    },
    {
     "data": {
      "application/vnd.jupyter.widget-view+json": {
       "model_id": "",
       "version_major": 2,
       "version_minor": 0
      },
      "text/plain": [
       "  0%|          | 0/926 [00:00<?, ?it/s]"
      ]
     },
     "metadata": {},
     "output_type": "display_data"
    },
    {
     "name": "stdout",
     "output_type": "stream",
     "text": [
      "Epoch 22/25 |  val  | Loss: 0.4875 | Acc: 0.8028\n"
     ]
    },
    {
     "data": {
      "application/vnd.jupyter.widget-view+json": {
       "model_id": "",
       "version_major": 2,
       "version_minor": 0
      },
      "text/plain": [
       "  0%|          | 0/8331 [00:00<?, ?it/s]"
      ]
     },
     "metadata": {},
     "output_type": "display_data"
    },
    {
     "name": "stdout",
     "output_type": "stream",
     "text": [
      "Epoch 23/25 | train | Loss: 0.5081 | Acc: 0.7960\n"
     ]
    },
    {
     "data": {
      "application/vnd.jupyter.widget-view+json": {
       "model_id": "",
       "version_major": 2,
       "version_minor": 0
      },
      "text/plain": [
       "  0%|          | 0/926 [00:00<?, ?it/s]"
      ]
     },
     "metadata": {},
     "output_type": "display_data"
    },
    {
     "name": "stdout",
     "output_type": "stream",
     "text": [
      "Epoch 23/25 |  val  | Loss: 0.4833 | Acc: 0.8057\n"
     ]
    },
    {
     "data": {
      "application/vnd.jupyter.widget-view+json": {
       "model_id": "",
       "version_major": 2,
       "version_minor": 0
      },
      "text/plain": [
       "  0%|          | 0/8331 [00:00<?, ?it/s]"
      ]
     },
     "metadata": {},
     "output_type": "display_data"
    },
    {
     "name": "stdout",
     "output_type": "stream",
     "text": [
      "Epoch 24/25 | train | Loss: 0.5074 | Acc: 0.7960\n"
     ]
    },
    {
     "data": {
      "application/vnd.jupyter.widget-view+json": {
       "model_id": "",
       "version_major": 2,
       "version_minor": 0
      },
      "text/plain": [
       "  0%|          | 0/926 [00:00<?, ?it/s]"
      ]
     },
     "metadata": {},
     "output_type": "display_data"
    },
    {
     "name": "stdout",
     "output_type": "stream",
     "text": [
      "Epoch 24/25 |  val  | Loss: 0.4805 | Acc: 0.8070\n"
     ]
    },
    {
     "data": {
      "application/vnd.jupyter.widget-view+json": {
       "model_id": "",
       "version_major": 2,
       "version_minor": 0
      },
      "text/plain": [
       "  0%|          | 0/8331 [00:00<?, ?it/s]"
      ]
     },
     "metadata": {},
     "output_type": "display_data"
    },
    {
     "name": "stdout",
     "output_type": "stream",
     "text": [
      "Epoch 25/25 | train | Loss: 0.5057 | Acc: 0.7968\n"
     ]
    },
    {
     "data": {
      "application/vnd.jupyter.widget-view+json": {
       "model_id": "",
       "version_major": 2,
       "version_minor": 0
      },
      "text/plain": [
       "  0%|          | 0/926 [00:00<?, ?it/s]"
      ]
     },
     "metadata": {},
     "output_type": "display_data"
    },
    {
     "name": "stdout",
     "output_type": "stream",
     "text": [
      "Epoch 25/25 |  val  | Loss: 0.4857 | Acc: 0.8066\n",
      "CPU times: user 4h 51min 23s, sys: 7min 40s, total: 4h 59min 3s\n",
      "Wall time: 5h 14min 47s\n"
     ]
    }
   ],
   "source": [
    "%%time\n",
    "\n",
    "num_epochs = 25\n",
    "\n",
    "train_model(model, dataloaders_dict, criterion, optimizer, num_epochs=num_epochs)"
   ]
  },
  {
   "cell_type": "code",
   "execution_count": 23,
   "metadata": {},
   "outputs": [],
   "source": [
    "# Epoch 1/20 | train | Loss: 0.8393 | Acc: 0.6603\n",
    "# Epoch 1/20 |  val  | Loss: 0.7581 | Acc: 0.6968\n",
    "# Epoch 2/20 | train | Loss: 0.6850 | Acc: 0.7247\n",
    "# Epoch 2/20 |  val  | Loss: 0.6313 | Acc: 0.7481\n",
    "# Epoch 3/20 | train | Loss: 0.6414 | Acc: 0.7423\n",
    "# Epoch 3/20 |  val  | Loss: 0.6074 | Acc: 0.7554\n",
    "# Epoch 4/20 | train | Loss: 0.6154 | Acc: 0.7531\n",
    "# Epoch 4/20 |  val  | Loss: 0.5753 | Acc: 0.7712\n",
    "# Epoch 5/20 | train | Loss: 0.5976 | Acc: 0.7601\n",
    "# Epoch 5/20 |  val  | Loss: 0.5630 | Acc: 0.7751\n",
    "# Epoch 6/20 | train | Loss: 0.5840 | Acc: 0.7658\n",
    "# Epoch 6/20 |  val  | Loss: 0.5558 | Acc: 0.7779\n",
    "# Epoch 7/20 | train | Loss: 0.5725 | Acc: 0.7706\n",
    "# Epoch 7/20 |  val  | Loss: 0.5417 | Acc: 0.7834\n",
    "# Epoch 8/20 | train | Loss: 0.5641 | Acc: 0.7738\n",
    "# Epoch 8/20 |  val  | Loss: 0.5352 | Acc: 0.7860\n",
    "# Epoch 9/20 | train | Loss: 0.5563 | Acc: 0.7776\n",
    "# Epoch 9/20 |  val  | Loss: 0.5314 | Acc: 0.7873\n",
    "# Epoch 10/20 | train | Loss: 0.5515 | Acc: 0.7790\n",
    "# Epoch 10/20 |  val  | Loss: 0.5275 | Acc: 0.7892\n",
    "# Epoch 11/20 | train | Loss: 0.5440 | Acc: 0.7817\n",
    "# Epoch 11/20 |  val  | Loss: 0.5295 | Acc: 0.7872\n",
    "# Epoch 12/20 | train | Loss: 0.5397 | Acc: 0.7838\n",
    "# Epoch 12/20 |  val  | Loss: 0.5192 | Acc: 0.7915\n",
    "# Epoch 13/20 | train | Loss: 0.5355 | Acc: 0.7857\n",
    "# Epoch 13/20 |  val  | Loss: 0.5144 | Acc: 0.7948\n",
    "# Epoch 14/20 | train | Loss: 0.5318 | Acc: 0.7866\n",
    "# Epoch 14/20 |  val  | Loss: 0.5279 | Acc: 0.7888\n",
    "# Epoch 15/20 | train | Loss: 0.5290 | Acc: 0.7879\n",
    "# Epoch 15/20 |  val  | Loss: 0.5207 | Acc: 0.7915\n",
    "# Epoch 16/20 | train | Loss: 0.5260 | Acc: 0.7897\n",
    "# Epoch 16/20 |  val  | Loss: 0.5298 | Acc: 0.7878\n",
    "# Epoch 17/20 | train | Loss: 0.5225 | Acc: 0.7909\n",
    "# Epoch 17/20 |  val  | Loss: 0.5091 | Acc: 0.7966\n",
    "# Epoch 18/20 | train | Loss: 0.5200 | Acc: 0.7920\n",
    "# Epoch 18/20 |  val  | Loss: 0.5183 | Acc: 0.7921\n",
    "# Epoch 19/20 | train | Loss: 0.5177 | Acc: 0.7925\n",
    "# Epoch 19/20 |  val  | Loss: 0.5105 | Acc: 0.7954\n",
    "# Epoch 20/20 | train | Loss: 0.5152 | Acc: 0.7941\n",
    "# Epoch 20/20 |  val  | Loss: 0.5087 | Acc: 0.7983"
   ]
  },
  {
   "cell_type": "code",
   "execution_count": 82,
   "metadata": {
    "execution": {
     "iopub.execute_input": "2021-09-21T02:10:41.162296Z",
     "iopub.status.busy": "2021-09-21T02:10:41.161837Z",
     "iopub.status.idle": "2021-09-21T02:12:28.573451Z",
     "shell.execute_reply": "2021-09-21T02:12:28.570394Z",
     "shell.execute_reply.started": "2021-09-21T02:10:41.162261Z"
    },
    "scrolled": false
   },
   "outputs": [
    {
     "data": {
      "application/vnd.jupyter.widget-view+json": {
       "model_id": "",
       "version_major": 2,
       "version_minor": 0
      },
      "text/plain": [
       "  0%|          | 0/1399 [00:00<?, ?it/s]"
      ]
     },
     "metadata": {},
     "output_type": "display_data"
    },
    {
     "name": "stdout",
     "output_type": "stream",
     "text": [
      "Epoch 1/15 | train | Loss: 0.6994 | Acc: 0.5007\n"
     ]
    },
    {
     "data": {
      "application/vnd.jupyter.widget-view+json": {
       "model_id": "",
       "version_major": 2,
       "version_minor": 0
      },
      "text/plain": [
       "  0%|          | 0/156 [00:00<?, ?it/s]"
      ]
     },
     "metadata": {},
     "output_type": "display_data"
    },
    {
     "name": "stdout",
     "output_type": "stream",
     "text": [
      "Epoch 1/15 |  val  | Loss: 0.6933 | Acc: 0.5000\n"
     ]
    },
    {
     "data": {
      "application/vnd.jupyter.widget-view+json": {
       "model_id": "",
       "version_major": 2,
       "version_minor": 0
      },
      "text/plain": [
       "  0%|          | 0/1399 [00:00<?, ?it/s]"
      ]
     },
     "metadata": {},
     "output_type": "display_data"
    },
    {
     "name": "stdout",
     "output_type": "stream",
     "text": [
      "Epoch 2/15 | train | Loss: 0.6934 | Acc: 0.5044\n"
     ]
    },
    {
     "data": {
      "application/vnd.jupyter.widget-view+json": {
       "model_id": "",
       "version_major": 2,
       "version_minor": 0
      },
      "text/plain": [
       "  0%|          | 0/156 [00:00<?, ?it/s]"
      ]
     },
     "metadata": {},
     "output_type": "display_data"
    },
    {
     "name": "stdout",
     "output_type": "stream",
     "text": [
      "Epoch 2/15 |  val  | Loss: 0.6929 | Acc: 0.5025\n"
     ]
    },
    {
     "data": {
      "application/vnd.jupyter.widget-view+json": {
       "model_id": "",
       "version_major": 2,
       "version_minor": 0
      },
      "text/plain": [
       "  0%|          | 0/1399 [00:00<?, ?it/s]"
      ]
     },
     "metadata": {},
     "output_type": "display_data"
    },
    {
     "name": "stdout",
     "output_type": "stream",
     "text": [
      "Epoch 3/15 | train | Loss: 0.6928 | Acc: 0.5108\n"
     ]
    },
    {
     "data": {
      "application/vnd.jupyter.widget-view+json": {
       "model_id": "",
       "version_major": 2,
       "version_minor": 0
      },
      "text/plain": [
       "  0%|          | 0/156 [00:00<?, ?it/s]"
      ]
     },
     "metadata": {},
     "output_type": "display_data"
    },
    {
     "name": "stdout",
     "output_type": "stream",
     "text": [
      "Epoch 3/15 |  val  | Loss: 0.6926 | Acc: 0.5086\n"
     ]
    },
    {
     "data": {
      "application/vnd.jupyter.widget-view+json": {
       "model_id": "",
       "version_major": 2,
       "version_minor": 0
      },
      "text/plain": [
       "  0%|          | 0/1399 [00:00<?, ?it/s]"
      ]
     },
     "metadata": {},
     "output_type": "display_data"
    },
    {
     "name": "stdout",
     "output_type": "stream",
     "text": [
      "Epoch 4/15 | train | Loss: 0.6915 | Acc: 0.5163\n"
     ]
    },
    {
     "data": {
      "application/vnd.jupyter.widget-view+json": {
       "model_id": "",
       "version_major": 2,
       "version_minor": 0
      },
      "text/plain": [
       "  0%|          | 0/156 [00:00<?, ?it/s]"
      ]
     },
     "metadata": {},
     "output_type": "display_data"
    },
    {
     "name": "stdout",
     "output_type": "stream",
     "text": [
      "Epoch 4/15 |  val  | Loss: 0.6904 | Acc: 0.5145\n"
     ]
    },
    {
     "data": {
      "application/vnd.jupyter.widget-view+json": {
       "model_id": "",
       "version_major": 2,
       "version_minor": 0
      },
      "text/plain": [
       "  0%|          | 0/1399 [00:00<?, ?it/s]"
      ]
     },
     "metadata": {},
     "output_type": "display_data"
    },
    {
     "name": "stdout",
     "output_type": "stream",
     "text": [
      "Epoch 5/15 | train | Loss: 0.6882 | Acc: 0.5257\n"
     ]
    },
    {
     "data": {
      "application/vnd.jupyter.widget-view+json": {
       "model_id": "",
       "version_major": 2,
       "version_minor": 0
      },
      "text/plain": [
       "  0%|          | 0/156 [00:00<?, ?it/s]"
      ]
     },
     "metadata": {},
     "output_type": "display_data"
    },
    {
     "name": "stdout",
     "output_type": "stream",
     "text": [
      "Epoch 5/15 |  val  | Loss: 0.6838 | Acc: 0.5298\n"
     ]
    },
    {
     "data": {
      "application/vnd.jupyter.widget-view+json": {
       "model_id": "",
       "version_major": 2,
       "version_minor": 0
      },
      "text/plain": [
       "  0%|          | 0/1399 [00:00<?, ?it/s]"
      ]
     },
     "metadata": {},
     "output_type": "display_data"
    },
    {
     "name": "stdout",
     "output_type": "stream",
     "text": [
      "Epoch 6/15 | train | Loss: 0.6786 | Acc: 0.5450\n"
     ]
    },
    {
     "data": {
      "application/vnd.jupyter.widget-view+json": {
       "model_id": "",
       "version_major": 2,
       "version_minor": 0
      },
      "text/plain": [
       "  0%|          | 0/156 [00:00<?, ?it/s]"
      ]
     },
     "metadata": {},
     "output_type": "display_data"
    },
    {
     "name": "stdout",
     "output_type": "stream",
     "text": [
      "Epoch 6/15 |  val  | Loss: 0.6722 | Acc: 0.5564\n"
     ]
    },
    {
     "data": {
      "application/vnd.jupyter.widget-view+json": {
       "model_id": "",
       "version_major": 2,
       "version_minor": 0
      },
      "text/plain": [
       "  0%|          | 0/1399 [00:00<?, ?it/s]"
      ]
     },
     "metadata": {},
     "output_type": "display_data"
    },
    {
     "name": "stdout",
     "output_type": "stream",
     "text": [
      "Epoch 7/15 | train | Loss: 0.6614 | Acc: 0.5642\n"
     ]
    },
    {
     "data": {
      "application/vnd.jupyter.widget-view+json": {
       "model_id": "",
       "version_major": 2,
       "version_minor": 0
      },
      "text/plain": [
       "  0%|          | 0/156 [00:00<?, ?it/s]"
      ]
     },
     "metadata": {},
     "output_type": "display_data"
    },
    {
     "name": "stdout",
     "output_type": "stream",
     "text": [
      "Epoch 7/15 |  val  | Loss: 0.6478 | Acc: 0.5779\n"
     ]
    },
    {
     "data": {
      "application/vnd.jupyter.widget-view+json": {
       "model_id": "",
       "version_major": 2,
       "version_minor": 0
      },
      "text/plain": [
       "  0%|          | 0/1399 [00:00<?, ?it/s]"
      ]
     },
     "metadata": {},
     "output_type": "display_data"
    },
    {
     "name": "stdout",
     "output_type": "stream",
     "text": [
      "Epoch 8/15 | train | Loss: 0.6381 | Acc: 0.5878\n"
     ]
    },
    {
     "data": {
      "application/vnd.jupyter.widget-view+json": {
       "model_id": "",
       "version_major": 2,
       "version_minor": 0
      },
      "text/plain": [
       "  0%|          | 0/156 [00:00<?, ?it/s]"
      ]
     },
     "metadata": {},
     "output_type": "display_data"
    },
    {
     "name": "stdout",
     "output_type": "stream",
     "text": [
      "Epoch 8/15 |  val  | Loss: 0.6146 | Acc: 0.6130\n"
     ]
    },
    {
     "data": {
      "application/vnd.jupyter.widget-view+json": {
       "model_id": "",
       "version_major": 2,
       "version_minor": 0
      },
      "text/plain": [
       "  0%|          | 0/1399 [00:00<?, ?it/s]"
      ]
     },
     "metadata": {},
     "output_type": "display_data"
    },
    {
     "name": "stdout",
     "output_type": "stream",
     "text": [
      "Epoch 9/15 | train | Loss: 0.6128 | Acc: 0.6160\n"
     ]
    },
    {
     "data": {
      "application/vnd.jupyter.widget-view+json": {
       "model_id": "",
       "version_major": 2,
       "version_minor": 0
      },
      "text/plain": [
       "  0%|          | 0/156 [00:00<?, ?it/s]"
      ]
     },
     "metadata": {},
     "output_type": "display_data"
    },
    {
     "name": "stdout",
     "output_type": "stream",
     "text": [
      "Epoch 9/15 |  val  | Loss: 0.5898 | Acc: 0.6442\n"
     ]
    },
    {
     "data": {
      "application/vnd.jupyter.widget-view+json": {
       "model_id": "",
       "version_major": 2,
       "version_minor": 0
      },
      "text/plain": [
       "  0%|          | 0/1399 [00:00<?, ?it/s]"
      ]
     },
     "metadata": {},
     "output_type": "display_data"
    },
    {
     "name": "stdout",
     "output_type": "stream",
     "text": [
      "Epoch 10/15 | train | Loss: 0.5850 | Acc: 0.6431\n"
     ]
    },
    {
     "data": {
      "application/vnd.jupyter.widget-view+json": {
       "model_id": "",
       "version_major": 2,
       "version_minor": 0
      },
      "text/plain": [
       "  0%|          | 0/156 [00:00<?, ?it/s]"
      ]
     },
     "metadata": {},
     "output_type": "display_data"
    },
    {
     "name": "stdout",
     "output_type": "stream",
     "text": [
      "Epoch 10/15 |  val  | Loss: 0.5725 | Acc: 0.6624\n"
     ]
    },
    {
     "data": {
      "application/vnd.jupyter.widget-view+json": {
       "model_id": "",
       "version_major": 2,
       "version_minor": 0
      },
      "text/plain": [
       "  0%|          | 0/1399 [00:00<?, ?it/s]"
      ]
     },
     "metadata": {},
     "output_type": "display_data"
    },
    {
     "name": "stdout",
     "output_type": "stream",
     "text": [
      "Epoch 11/15 | train | Loss: 0.5577 | Acc: 0.6658\n"
     ]
    },
    {
     "data": {
      "application/vnd.jupyter.widget-view+json": {
       "model_id": "",
       "version_major": 2,
       "version_minor": 0
      },
      "text/plain": [
       "  0%|          | 0/156 [00:00<?, ?it/s]"
      ]
     },
     "metadata": {},
     "output_type": "display_data"
    },
    {
     "name": "stdout",
     "output_type": "stream",
     "text": [
      "Epoch 11/15 |  val  | Loss: 0.5279 | Acc: 0.6903\n"
     ]
    },
    {
     "data": {
      "application/vnd.jupyter.widget-view+json": {
       "model_id": "",
       "version_major": 2,
       "version_minor": 0
      },
      "text/plain": [
       "  0%|          | 0/1399 [00:00<?, ?it/s]"
      ]
     },
     "metadata": {},
     "output_type": "display_data"
    },
    {
     "name": "stdout",
     "output_type": "stream",
     "text": [
      "Epoch 12/15 | train | Loss: 0.5351 | Acc: 0.6909\n"
     ]
    },
    {
     "data": {
      "application/vnd.jupyter.widget-view+json": {
       "model_id": "",
       "version_major": 2,
       "version_minor": 0
      },
      "text/plain": [
       "  0%|          | 0/156 [00:00<?, ?it/s]"
      ]
     },
     "metadata": {},
     "output_type": "display_data"
    },
    {
     "name": "stdout",
     "output_type": "stream",
     "text": [
      "Epoch 12/15 |  val  | Loss: 0.5017 | Acc: 0.7180\n"
     ]
    },
    {
     "data": {
      "application/vnd.jupyter.widget-view+json": {
       "model_id": "",
       "version_major": 2,
       "version_minor": 0
      },
      "text/plain": [
       "  0%|          | 0/1399 [00:00<?, ?it/s]"
      ]
     },
     "metadata": {},
     "output_type": "display_data"
    },
    {
     "name": "stdout",
     "output_type": "stream",
     "text": [
      "Epoch 13/15 | train | Loss: 0.5170 | Acc: 0.7064\n"
     ]
    },
    {
     "data": {
      "application/vnd.jupyter.widget-view+json": {
       "model_id": "",
       "version_major": 2,
       "version_minor": 0
      },
      "text/plain": [
       "  0%|          | 0/156 [00:00<?, ?it/s]"
      ]
     },
     "metadata": {},
     "output_type": "display_data"
    },
    {
     "name": "stdout",
     "output_type": "stream",
     "text": [
      "Epoch 13/15 |  val  | Loss: 0.4818 | Acc: 0.7380\n"
     ]
    },
    {
     "data": {
      "application/vnd.jupyter.widget-view+json": {
       "model_id": "",
       "version_major": 2,
       "version_minor": 0
      },
      "text/plain": [
       "  0%|          | 0/1399 [00:00<?, ?it/s]"
      ]
     },
     "metadata": {},
     "output_type": "display_data"
    },
    {
     "name": "stdout",
     "output_type": "stream",
     "text": [
      "Epoch 14/15 | train | Loss: 0.4983 | Acc: 0.7241\n"
     ]
    },
    {
     "data": {
      "application/vnd.jupyter.widget-view+json": {
       "model_id": "",
       "version_major": 2,
       "version_minor": 0
      },
      "text/plain": [
       "  0%|          | 0/156 [00:00<?, ?it/s]"
      ]
     },
     "metadata": {},
     "output_type": "display_data"
    },
    {
     "name": "stdout",
     "output_type": "stream",
     "text": [
      "Epoch 14/15 |  val  | Loss: 0.4715 | Acc: 0.7458\n"
     ]
    },
    {
     "data": {
      "application/vnd.jupyter.widget-view+json": {
       "model_id": "",
       "version_major": 2,
       "version_minor": 0
      },
      "text/plain": [
       "  0%|          | 0/1399 [00:00<?, ?it/s]"
      ]
     },
     "metadata": {},
     "output_type": "display_data"
    },
    {
     "name": "stdout",
     "output_type": "stream",
     "text": [
      "Epoch 15/15 | train | Loss: 0.4852 | Acc: 0.7358\n"
     ]
    },
    {
     "data": {
      "application/vnd.jupyter.widget-view+json": {
       "model_id": "",
       "version_major": 2,
       "version_minor": 0
      },
      "text/plain": [
       "  0%|          | 0/156 [00:00<?, ?it/s]"
      ]
     },
     "metadata": {},
     "output_type": "display_data"
    },
    {
     "name": "stdout",
     "output_type": "stream",
     "text": [
      "Epoch 15/15 |  val  | Loss: 0.4499 | Acc: 0.7605\n",
      "CPU times: user 20min 45s, sys: 36.1 s, total: 21min 21s\n",
      "Wall time: 22min 1s\n"
     ]
    }
   ],
   "source": [
    "%%time\n",
    "\n",
    "num_epochs = 15\n",
    "\n",
    "train_model(model_city, dataloaders_city_dict, criterion_city, optimizer_city, num_epochs=num_epochs, city=True)"
   ]
  },
  {
   "cell_type": "code",
   "execution_count": 25,
   "metadata": {
    "scrolled": true
   },
   "outputs": [],
   "source": [
    "# !tensorboard --logdir runs"
   ]
  },
  {
   "cell_type": "markdown",
   "metadata": {},
   "source": [
    "# Submission"
   ]
  },
  {
   "cell_type": "code",
   "execution_count": 85,
   "metadata": {
    "execution": {
     "iopub.status.busy": "2021-09-21T02:12:28.574817Z",
     "iopub.status.idle": "2021-09-21T02:12:28.575768Z",
     "shell.execute_reply": "2021-09-21T02:12:28.575542Z",
     "shell.execute_reply.started": "2021-09-21T02:12:28.575505Z"
    },
    "scrolled": true
   },
   "outputs": [
    {
     "name": "stdout",
     "output_type": "stream",
     "text": [
      "Overwriting agent/agent.py\n"
     ]
    }
   ],
   "source": [
    "%%writefile agent/agent.py\n",
    "import os\n",
    "import json\n",
    "import numpy as np\n",
    "import torch\n",
    "from math import inf\n",
    "from lux.game import Game\n",
    "\n",
    "path = '/kaggle_simulations/agent' if os.path.exists('/kaggle_simulations') else 'agent' # change to 'agent' for tests\n",
    "model = torch.jit.load(f'{path}/model.pth')\n",
    "model.eval()\n",
    "model_city = torch.jit.load(f'{path}/model_city.pth')\n",
    "model_city.eval()\n",
    "\n",
    "def manhattan_distance(x1, y1, x2, y2):\n",
    "    return (abs(x2-x1) + abs(y2-y1))\n",
    "\n",
    "# make list of users and their current and previous coords and cooldowns \n",
    "# to write them in NN training subset\n",
    "def find_units_from_previous_obs(obs, x_shift, y_shift):\n",
    "    # at first fill the unit dict with units from previous observation\n",
    "    updates = obs['updates']\n",
    "    updates_lag_1 = obs['updates_lag_1']\n",
    "    updates_lag_2 = obs['updates_lag_2']\n",
    "    updates_lag_3 = obs['updates_lag_3']\n",
    "    updates_lag_4 = obs['updates_lag_4']\n",
    "    prev_updates = [updates, updates_lag_1, updates_lag_2, updates_lag_3, updates_lag_4]\n",
    "    prev_units = list()\n",
    "    for prev_update in prev_updates:\n",
    "        units = dict()\n",
    "        if prev_update:\n",
    "            for update in prev_update:\n",
    "                strs = update.split(' ')\n",
    "                input_identifier = strs[0]\n",
    "                # if we found observation for user\n",
    "                if input_identifier == 'u':\n",
    "                    unit_id = strs[3]\n",
    "                    x = int(strs[4]) + x_shift\n",
    "                    y = int(strs[5]) + y_shift\n",
    "                    cooldown = float(strs[6])\n",
    "                    units[unit_id] = [x, y, cooldown]\n",
    "            prev_units.append(units)\n",
    "        else:\n",
    "            break\n",
    "    return prev_units\n",
    "\n",
    "def find_prev_coords(prev_units, unit_id):\n",
    "    # find previous coordinates of unit by ananlyzing its cooldown\n",
    "    x, y = None, None\n",
    "    for i in range(len(prev_units)-1):\n",
    "        if unit_id in prev_units[i] and unit_id in prev_units[i+1]:\n",
    "            cooldown = prev_units[i][unit_id][0]\n",
    "            prev_x = prev_units[i+1][unit_id][0]\n",
    "            prev_y = prev_units[i+1][unit_id][1]\n",
    "            prev_cooldown = prev_units[i+1][unit_id][2]\n",
    "            if cooldown > 0 and prev_cooldown == 0:\n",
    "                return prev_x, prev_y\n",
    "        else:\n",
    "            break\n",
    "    return x, y\n",
    "            \n",
    "# Input for Neural Network for workers\n",
    "def make_input(obs, unit_id):\n",
    "    width, height = obs['width'], obs['height']\n",
    "    x_shift = (32 - width) // 2\n",
    "    y_shift = (32 - height) // 2\n",
    "\n",
    "    cities = {}\n",
    "    \n",
    "    b = np.zeros((27, 32, 32), dtype=np.float32)\n",
    "    \n",
    "    prev_units = find_units_from_previous_obs(obs, x_shift, y_shift)\n",
    "    x_u, y_u = prev_units[0][unit_id][0], prev_units[0][unit_id][1]\n",
    "    \n",
    "    for update in obs['updates']:\n",
    "        strs = update.split(' ')\n",
    "        input_identifier = strs[0]\n",
    "        my_rp = 0\n",
    "        \n",
    "        if input_identifier == 'u':\n",
    "            x = int(strs[4]) + x_shift\n",
    "            y = int(strs[5]) + y_shift\n",
    "            wood = int(strs[7])\n",
    "            coal = int(strs[8])\n",
    "            uranium = int(strs[9])\n",
    "            if strs[3] == unit_id: # 0:2\n",
    "                # Position, Cargo and Previous Position\n",
    "                b[:2, x, y] = (\n",
    "                    1,\n",
    "                    (wood + coal + uranium) / 100\n",
    "                )\n",
    "                prev_x, prev_y = find_prev_coords(prev_units, unit_id)\n",
    "                if not prev_x and not prev_y:\n",
    "                    prev_x, prev_y = x, y\n",
    "                b[2, prev_x, prev_y] = 1\n",
    "            else:                  # 3:10\n",
    "                # Units\n",
    "                team = int(strs[2])\n",
    "                cooldown = float(strs[6])\n",
    "                idx = 3 + (team - obs['player']) % 2 * 4\n",
    "                m_dist = manhattan_distance(x_u, y_u, x, y)\n",
    "                b[idx:idx + 4, x, y] = (\n",
    "                    1,\n",
    "                    cooldown / 6,\n",
    "                    (wood + coal + uranium) / 100,\n",
    "                    m_dist/((width-1) + (height-1))\n",
    "                )\n",
    "        elif input_identifier == 'ct':  # 11:16\n",
    "            # CityTiles\n",
    "            team = int(strs[1])\n",
    "            city_id = strs[2]\n",
    "            x = int(strs[3]) + x_shift\n",
    "            y = int(strs[4]) + y_shift\n",
    "            idx = 11 + (team - obs['player']) % 2 * 3\n",
    "            m_dist = manhattan_distance(x_u, y_u, x, y)\n",
    "            b[idx:idx + 3, x, y] = (\n",
    "                1,\n",
    "                cities[city_id],\n",
    "                m_dist/((width-1) + (height-1))\n",
    "            )\n",
    "        elif input_identifier == 'r':  # 17:20\n",
    "            # Resources\n",
    "            r_type = strs[1]\n",
    "            x = int(strs[2]) + x_shift\n",
    "            y = int(strs[3]) + y_shift\n",
    "            amt = int(float(strs[4]))\n",
    "            access_level = {'wood': 0, 'coal': 50, 'uranium': 200}[r_type]\n",
    "            access = 0 if my_rp < access_level else 1\n",
    "            b[{'wood': 17, 'coal': 18, 'uranium': 19}[r_type], x, y] = amt / 800\n",
    "            b[20, x, y] = access\n",
    "            b[21, x, y] = manhattan_distance(x_u, y_u, x, y)/((width-1) + (height-1))\n",
    "        elif input_identifier == 'rp':  # 22:23\n",
    "            # Research Points\n",
    "            team = int(strs[1])\n",
    "            rp = int(strs[2])\n",
    "            my_rp = rp if team == obs['player'] else my_rp\n",
    "            b[22 + (team - obs['player']) % 2, :] = min(rp, 200) / 200\n",
    "        elif input_identifier == 'c':\n",
    "            # Cities\n",
    "            city_id = strs[2]\n",
    "            fuel = float(strs[3])\n",
    "            lightupkeep = float(strs[4])\n",
    "            cities[city_id] = min(fuel / lightupkeep, 10) / 10\n",
    "    # Day/Night Cycle\n",
    "    b[24, :] = obs['step'] % 40 / 40\n",
    "    # Turns\n",
    "    b[25, :] = obs['step'] / 360\n",
    "    # Day/Night Flag\n",
    "#     b[26, :] = 1 if obs['step'] % 40 < 30 else 0\n",
    "    # Map Size\n",
    "    b[26, x_shift:32 - x_shift, y_shift:32 - y_shift] = 1\n",
    "        \n",
    "    return b\n",
    "\n",
    "# Input for Neural Network for cities\n",
    "def make_city_input(obs, city_coord):\n",
    "    width, height = obs['width'], obs['height']\n",
    "    x_shift = (32 - width) // 2\n",
    "    y_shift = (32 - height) // 2\n",
    "    cities = {}\n",
    "    \n",
    "    b = np.zeros((20, 32, 32), dtype=np.float32)\n",
    "    \n",
    "    for update in obs['updates']:\n",
    "        strs = update.split(' ')\n",
    "        input_identifier = strs[0]\n",
    "        \n",
    "        if input_identifier == 'ct':\n",
    "            # CityTiles\n",
    "            city_id = strs[2]\n",
    "            x = int(strs[3]) \n",
    "            y = int(strs[4])\n",
    "            cooldown = float(strs[5])\n",
    "            if x == int(city_coord[0]) and y == int(city_coord[1]):\n",
    "                b[:2, x + x_shift, y + y_shift] = (\n",
    "                    1,\n",
    "                    cities[city_id]\n",
    "                )\n",
    "            else:\n",
    "                team = int(strs[1])\n",
    "                idx = 2 + (team - obs['player']) % 2 * 3\n",
    "                b[idx:idx + 3, x + x_shift, y + y_shift] = (\n",
    "                    1,\n",
    "                    cooldown / 10,\n",
    "                    cities[city_id]\n",
    "                )\n",
    "        elif input_identifier == 'u':\n",
    "            team = int(strs[2])\n",
    "            x = int(strs[4]) + x_shift\n",
    "            y = int(strs[5]) + y_shift\n",
    "            wood = int(strs[7])\n",
    "            coal = int(strs[8])\n",
    "            uranium = int(strs[9])\n",
    "            idx = 8 + (team - obs['player']) % 2 * 2\n",
    "            b[idx:idx + 2, x, y] = (\n",
    "                1,\n",
    "                (wood + coal + uranium) / 100\n",
    "            )\n",
    "        elif input_identifier == 'r':\n",
    "            # Resources\n",
    "            r_type = strs[1]\n",
    "            x = int(strs[2]) + x_shift\n",
    "            y = int(strs[3]) + y_shift\n",
    "            amt = int(float(strs[4]))\n",
    "            b[{'wood': 12, 'coal': 13, 'uranium': 14}[r_type], x, y] = amt / 800\n",
    "        elif input_identifier == 'rp':\n",
    "            # Research Points\n",
    "            team = int(strs[1])\n",
    "            rp = int(strs[2])\n",
    "            b[15 + (team - obs['player']) % 2, :] = min(rp, 200) / 200\n",
    "        elif input_identifier == 'c':\n",
    "            # Cities\n",
    "            city_id = strs[2]\n",
    "            fuel = float(strs[3])\n",
    "            lightupkeep = float(strs[4])\n",
    "            cities[city_id] = min(fuel / lightupkeep, 10) / 10\n",
    "    \n",
    "    # Day/Night Cycle\n",
    "    b[17, :] = obs['step'] % 40 / 40\n",
    "    # Turns\n",
    "    b[18, :] = obs['step'] / 360\n",
    "    # Map Size\n",
    "    b[19, x_shift:32 - x_shift, y_shift:32 - y_shift] = 1\n",
    "\n",
    "    return b\n",
    "\n",
    "game_state = None\n",
    "player = None\n",
    "\n",
    "\n",
    "def get_game_state(observation):\n",
    "    global game_state\n",
    "    \n",
    "    if observation[\"step\"] == 0:\n",
    "        game_state = Game()\n",
    "        game_state._initialize(observation[\"updates\"])\n",
    "        game_state._update(observation[\"updates\"][2:])\n",
    "        game_state.id = observation[\"player\"]\n",
    "    else:\n",
    "        game_state._update(observation[\"updates\"])\n",
    "    return game_state\n",
    "\n",
    "\n",
    "# check if unit is in city or not\n",
    "def in_city(pos):    \n",
    "    try:\n",
    "        city = game_state.map.get_cell_by_pos(pos).citytile\n",
    "        return city is not None and city.team == game_state.id\n",
    "    except:\n",
    "        return False\n",
    "    \n",
    "# check if unit is in city or not\n",
    "def on_res_tile(pos):    \n",
    "    res = game_state.map.get_cell_by_pos(pos).has_resource()\n",
    "    print(f'pos - {pos}, res - {res}')\n",
    "    return res\n",
    "    \n",
    "# check if unit has enough time and space to build a city\n",
    "def build_city_is_possible(unit, pos):    \n",
    "    global game_state\n",
    "    global player\n",
    "\n",
    "    if game_state.turn % 40 < 30:\n",
    "        return True\n",
    "    x, y = pos.x, pos.y\n",
    "    for i, j in ((x-1, y), (x+1, y), (x, y-1), (x, y+1)):\n",
    "        try:\n",
    "            city_id = game_state.map.get_cell(i, j).citytile.cityid\n",
    "        except:\n",
    "            continue\n",
    "        if city_id in player.cities:\n",
    "            city = player.cities[city_id]\n",
    "            if city.fuel > (city.get_light_upkeep() + 18) * 10:\n",
    "                return True\n",
    "    return False\n",
    "\n",
    "\n",
    "def call_func(obj, method, args=[]):\n",
    "    return getattr(obj, method)(*args)\n",
    "\n",
    "\n",
    "# translate unit policy to action\n",
    "unit_actions = [('move', 'n'), ('move', 's'), ('move', 'w'), ('move', 'e'), ('build_city',)]\n",
    "def get_unit_action(policy, unit, dest):\n",
    "    for label in np.argsort(policy)[::-1]:\n",
    "        act = unit_actions[label]\n",
    "        pos = unit.pos.translate(act[-1], 1) or unit.pos\n",
    "        if label == 4 and not build_city_is_possible(unit, pos):\n",
    "            return unit.move('c'), unit.pos\n",
    "        if pos not in dest or in_city(pos):\n",
    "            return call_func(unit, *act), pos      \n",
    "    return unit.move('c'), unit.pos\n",
    "\n",
    "# translate city policy to action\n",
    "city_actions = [('build_worker',), ('research', )]\n",
    "def get_city_action(policy, city_tile, unit_count):\n",
    "    global player\n",
    "    \n",
    "    for label in np.argsort(policy)[::-1]:\n",
    "        act = city_actions[label]\n",
    "        # build unit only if their number less than number of cities and less than 110 (to prevent too high lags)\n",
    "        if label == 0 and unit_count < player.city_tile_count and unit_count < 110:\n",
    "            unit_count += 1\n",
    "            res = call_func(city_tile, *act)\n",
    "        elif label == 1 and not player.researched_uranium():\n",
    "            player.research_points += 1\n",
    "            res = call_func(city_tile, *act)\n",
    "        else:\n",
    "            res = None\n",
    "        return res, unit_count\n",
    "\n",
    "# agent for making actions\n",
    "def agent(observation, configuration):\n",
    "    global game_state\n",
    "    global player\n",
    "    \n",
    "    game_state = get_game_state(observation)    \n",
    "    player = game_state.players[observation.player]\n",
    "    actions = [] \n",
    "    prev_obs = dict()\n",
    "    \n",
    "    with open(f'{path}/tmp.json') as json_file:\n",
    "        try:\n",
    "            prev_obs = json.load(json_file)\n",
    "        except json.decoder.JSONDecodeError:\n",
    "            prev_obs['updates_lag_1'] = None\n",
    "            prev_obs['updates_lag_2'] = None\n",
    "            prev_obs['updates_lag_3'] = None\n",
    "            prev_obs['updates_lag_4'] = None\n",
    "            \n",
    "    observation['updates_lag_4'] = prev_obs['updates_lag_4']\n",
    "    observation['updates_lag_3'] = prev_obs['updates_lag_3']\n",
    "    observation['updates_lag_2'] = prev_obs['updates_lag_2']\n",
    "    observation['updates_lag_1'] = prev_obs['updates_lag_1']\n",
    "    \n",
    "    prev_obs['updates_lag_4'] = prev_obs['updates_lag_3']\n",
    "    prev_obs['updates_lag_3'] = prev_obs['updates_lag_2']\n",
    "    prev_obs['updates_lag_2'] = prev_obs['updates_lag_1']\n",
    "    prev_obs['updates_lag_1'] = observation['updates']\n",
    "    \n",
    "    if game_state.turn < 359:\n",
    "        with open(f'{path}/tmp.json', 'w+') as json_file:\n",
    "            json.dump(prev_obs, json_file)\n",
    "    else:\n",
    "        open(f'{path}/tmp.json', 'w+').close()\n",
    "    \n",
    "    # Unit Actions\n",
    "    dest = []\n",
    "    for unit in player.units:\n",
    "        if unit.can_act() and (game_state.turn % 40 < 30 or (not in_city(unit.pos) and not on_res_tile(unit.pos))):\n",
    "            state = make_input(observation, unit.id)\n",
    "            with torch.no_grad():\n",
    "                p = model(torch.from_numpy(state).unsqueeze(0))\n",
    "\n",
    "            policy = p.squeeze(0).numpy()\n",
    "\n",
    "            action, pos = get_unit_action(policy, unit, dest)\n",
    "            actions.append(action)\n",
    "            dest.append(pos)\n",
    "    \n",
    "    # City Actions\n",
    "    unit_count = len(player.units)\n",
    "    for city in player.cities.values():\n",
    "        for city_tile in city.citytiles:\n",
    "            if city_tile.can_act():\n",
    "                state = make_city_input(observation, [city_tile.pos.x, city_tile.pos.y])\n",
    "                with torch.no_grad():\n",
    "                    p = model_city(torch.from_numpy(state).unsqueeze(0))\n",
    "\n",
    "                policy = p.squeeze(0).numpy()\n",
    "\n",
    "                action, unit_count = get_city_action(policy, city_tile, unit_count)\n",
    "                if action:\n",
    "                    actions.append(action)\n",
    "    \n",
    "    return actions"
   ]
  },
  {
   "cell_type": "markdown",
   "metadata": {},
   "source": [
    "Submit predictions"
   ]
  },
  {
   "cell_type": "code",
   "execution_count": 84,
   "metadata": {
    "scrolled": true
   },
   "outputs": [],
   "source": [
    "!cd agent && tar -czf submission.tar.gz lux agent.py main.py model.pth model_city.pth tmp.json"
   ]
  },
  {
   "cell_type": "markdown",
   "metadata": {},
   "source": [
    "Test agents on 12x12 field"
   ]
  },
  {
   "cell_type": "code",
   "execution_count": 87,
   "metadata": {
    "scrolled": false
   },
   "outputs": [],
   "source": [
    "# from kaggle_environments import make\n",
    "\n",
    "# env = make(\"lux_ai_2021\", configuration={\"width\": 12, \"height\": 12, \"loglevel\": 2, \"annotations\": True}, debug=False)\n",
    "\n",
    "# # first agent is yellow\n",
    "# # second agent is blue\n",
    "# steps = env.run(['agent/agent.py', 'agent.py'])\n",
    "\n",
    "# env.render(mode=\"ipython\", width=1200, height=800)"
   ]
  },
  {
   "cell_type": "markdown",
   "metadata": {},
   "source": [
    "Test agent on 16x16 field"
   ]
  },
  {
   "cell_type": "code",
   "execution_count": 29,
   "metadata": {
    "scrolled": false
   },
   "outputs": [],
   "source": [
    "# env = make(\"lux_ai_2021\", configuration={\"width\": 16, \"height\": 16, \"loglevel\": 2, \"annotations\": True}, debug=False)\n",
    "\n",
    "# # first agent is yellow\n",
    "# # second agent is blue\n",
    "# steps = env.run(['agent/agent.py', 'agent.py'])\n",
    "\n",
    "# env.render(mode=\"ipython\", width=1200, height=800)"
   ]
  },
  {
   "cell_type": "markdown",
   "metadata": {},
   "source": [
    "Test agent on 24x24 field"
   ]
  },
  {
   "cell_type": "code",
   "execution_count": 30,
   "metadata": {
    "scrolled": false
   },
   "outputs": [],
   "source": [
    "# env = make(\"lux_ai_2021\", configuration={\"width\": 24, \"height\": 24, \"loglevel\": 2, \"annotations\": True}, debug=False)\n",
    "\n",
    "# # first agent is yellow\n",
    "# # second agent is blue\n",
    "# steps = env.run(['agent/agent.py', 'agent.py'])\n",
    "\n",
    "# env.render(mode=\"ipython\", width=1200, height=800)"
   ]
  },
  {
   "cell_type": "markdown",
   "metadata": {},
   "source": [
    "Test agents on 32x32 field"
   ]
  },
  {
   "cell_type": "code",
   "execution_count": 31,
   "metadata": {
    "execution": {
     "iopub.status.busy": "2021-09-21T02:12:28.577249Z",
     "iopub.status.idle": "2021-09-21T02:12:28.577694Z",
     "shell.execute_reply": "2021-09-21T02:12:28.577478Z",
     "shell.execute_reply.started": "2021-09-21T02:12:28.577455Z"
    },
    "scrolled": false
   },
   "outputs": [],
   "source": [
    "# env = make(\"lux_ai_2021\", configuration={\"width\": 32, \"height\": 32, \"loglevel\": 2, \"annotations\": True}, debug=False)\n",
    "\n",
    "# # first agent is yellow\n",
    "# # second agent is blue\n",
    "# steps = env.run(['agent/agent.py', 'agent.py'])\n",
    "\n",
    "# env.render(mode=\"ipython\", width=1200, height=800)"
   ]
  },
  {
   "cell_type": "markdown",
   "metadata": {},
   "source": [
    "### Optimize NN parameters with Optuna"
   ]
  },
  {
   "cell_type": "code",
   "execution_count": 32,
   "metadata": {
    "scrolled": true
   },
   "outputs": [],
   "source": [
    "# def objective(trial):\n",
    "\n",
    "#     num_epochs = 10\n",
    "    \n",
    "#     # model for unit actions\n",
    "#     model = LuxNet()\n",
    "#     train, val = train_test_split(samples, test_size=0.1, random_state=42, stratify=labels)\n",
    "#     batch_size = 64\n",
    "\n",
    "#     train_loader = DataLoader(\n",
    "#         LuxDataset(obses, train), \n",
    "#         batch_size=batch_size, \n",
    "#         shuffle=True, \n",
    "#         num_workers=2\n",
    "#     )\n",
    "#     val_loader = DataLoader(\n",
    "#         LuxDataset(obses, val), \n",
    "#         batch_size=batch_size, \n",
    "#         shuffle=False, \n",
    "#         num_workers=2\n",
    "#     )\n",
    "#     dataloaders_dict = {\"train\": train_loader, \"val\": val_loader}\n",
    "\n",
    "#     # Generate the optimizers.\n",
    "#     criterion = nn.CrossEntropyLoss()\n",
    "#     optimizer_name = trial.suggest_categorical(\"optimizer\", [\"Adam\", \"AdamW\", \"RMSprop\", \"SGD\"])\n",
    "#     lr = trial.suggest_float(\"lr\", 1e-5, 1e-2, log=True)\n",
    "#     optimizer = getattr(optim, optimizer_name)(model.parameters(), lr=lr)\n",
    "\n",
    "#     for epoch in range(num_epochs):\n",
    "#         model.cuda()\n",
    "        \n",
    "#         for phase in ['train', 'val']:\n",
    "#             if phase == 'train':\n",
    "#                 model.train()\n",
    "#             else:\n",
    "#                 model.eval()\n",
    "                \n",
    "#             epoch_loss = 0.0\n",
    "#             epoch_acc = 0\n",
    "            \n",
    "#             dataloader = dataloaders_dict[phase]\n",
    "#             for item in dataloader:\n",
    "#                 states = item[0].cuda().float()\n",
    "#                 actions = item[1].cuda().long()\n",
    "\n",
    "#                 optimizer.zero_grad()\n",
    "                \n",
    "#                 with torch.set_grad_enabled(phase == 'train'):\n",
    "#                     policy = model(states)\n",
    "#                     loss = criterion(policy, actions)\n",
    "#                     _, preds = torch.max(policy, 1)\n",
    "\n",
    "#                     if phase == 'train':\n",
    "#                         loss.backward()\n",
    "#                         optimizer.step()\n",
    "\n",
    "#                     epoch_loss += loss.item() * len(policy)\n",
    "#                     epoch_acc += torch.sum(preds == actions.data)\n",
    "\n",
    "#             data_size = len(dataloader.dataset)\n",
    "#             epoch_loss = epoch_loss / data_size\n",
    "#             epoch_acc = epoch_acc.double() / data_size\n",
    "\n",
    "#         trial.report(epoch_acc, epoch)\n",
    "\n",
    "#         # Handle pruning based on the intermediate value.\n",
    "#         if trial.should_prune():\n",
    "#             raise optuna.exceptions.TrialPruned()\n",
    "\n",
    "#     return epoch_acc\n",
    "\n",
    "\n",
    "# study = optuna.create_study(direction=\"maximize\")\n",
    "# study.optimize(objective, n_trials=500, timeout=10*3600)\n",
    "\n",
    "# pruned_trials = study.get_trials(deepcopy=False, states=[TrialState.PRUNED])\n",
    "# complete_trials = study.get_trials(deepcopy=False, states=[TrialState.COMPLETE])\n",
    "\n",
    "# print(\"Study statistics: \")\n",
    "# print(\"  Number of finished trials: \", len(study.trials))\n",
    "# print(\"  Number of pruned trials: \", len(pruned_trials))\n",
    "# print(\"  Number of complete trials: \", len(complete_trials))\n",
    "\n",
    "# print(\"Best trial:\")\n",
    "# trial = study.best_trial\n",
    "\n",
    "# print(\"  Value: \", trial.value)\n",
    "\n",
    "# print(\"  Params: \")\n",
    "# for key, value in trial.params.items():\n",
    "#     print(\"    {}: {}\".format(key, value))"
   ]
  },
  {
   "cell_type": "markdown",
   "metadata": {},
   "source": [
    "# NNs ensemble"
   ]
  },
  {
   "cell_type": "code",
   "execution_count": 33,
   "metadata": {},
   "outputs": [
    {
     "ename": "ValueError",
     "evalue": "The provided filename ./model_v2.pth does not exist",
     "output_type": "error",
     "traceback": [
      "\u001b[0;31m---------------------------------------------------------------------------\u001b[0m",
      "\u001b[0;31mValueError\u001b[0m                                Traceback (most recent call last)",
      "\u001b[0;32m/tmp/ipykernel_152682/101872793.py\u001b[0m in \u001b[0;36m<module>\u001b[0;34m\u001b[0m\n\u001b[1;32m      6\u001b[0m \u001b[0mpath\u001b[0m \u001b[0;34m=\u001b[0m \u001b[0;34m'/kaggle_simulations/agent'\u001b[0m \u001b[0;32mif\u001b[0m \u001b[0mos\u001b[0m\u001b[0;34m.\u001b[0m\u001b[0mpath\u001b[0m\u001b[0;34m.\u001b[0m\u001b[0mexists\u001b[0m\u001b[0;34m(\u001b[0m\u001b[0;34m'/kaggle_simulations'\u001b[0m\u001b[0;34m)\u001b[0m \u001b[0;32melse\u001b[0m \u001b[0;34m'.'\u001b[0m \u001b[0;31m# change to 'agent' for tests\u001b[0m\u001b[0;34m\u001b[0m\u001b[0;34m\u001b[0m\u001b[0m\n\u001b[1;32m      7\u001b[0m \u001b[0;31m# unit NNs\u001b[0m\u001b[0;34m\u001b[0m\u001b[0;34m\u001b[0m\u001b[0;34m\u001b[0m\u001b[0m\n\u001b[0;32m----> 8\u001b[0;31m \u001b[0mmodel_v2\u001b[0m \u001b[0;34m=\u001b[0m \u001b[0mtorch\u001b[0m\u001b[0;34m.\u001b[0m\u001b[0mjit\u001b[0m\u001b[0;34m.\u001b[0m\u001b[0mload\u001b[0m\u001b[0;34m(\u001b[0m\u001b[0;34mf'{path}/model_v2.pth'\u001b[0m\u001b[0;34m)\u001b[0m\u001b[0;34m\u001b[0m\u001b[0;34m\u001b[0m\u001b[0m\n\u001b[0m\u001b[1;32m      9\u001b[0m \u001b[0mmodel_v2\u001b[0m\u001b[0;34m.\u001b[0m\u001b[0meval\u001b[0m\u001b[0;34m(\u001b[0m\u001b[0;34m)\u001b[0m\u001b[0;34m\u001b[0m\u001b[0;34m\u001b[0m\u001b[0m\n\u001b[1;32m     10\u001b[0m \u001b[0mmodel_v4\u001b[0m \u001b[0;34m=\u001b[0m \u001b[0mtorch\u001b[0m\u001b[0;34m.\u001b[0m\u001b[0mjit\u001b[0m\u001b[0;34m.\u001b[0m\u001b[0mload\u001b[0m\u001b[0;34m(\u001b[0m\u001b[0;34mf'{path}/model_v4.pth'\u001b[0m\u001b[0;34m)\u001b[0m\u001b[0;34m\u001b[0m\u001b[0;34m\u001b[0m\u001b[0m\n",
      "\u001b[0;32m~/.local/lib/python3.8/site-packages/torch/jit/_serialization.py\u001b[0m in \u001b[0;36mload\u001b[0;34m(f, map_location, _extra_files)\u001b[0m\n\u001b[1;32m    149\u001b[0m     \u001b[0;32mif\u001b[0m \u001b[0misinstance\u001b[0m\u001b[0;34m(\u001b[0m\u001b[0mf\u001b[0m\u001b[0;34m,\u001b[0m \u001b[0mstring_classes\u001b[0m\u001b[0;34m)\u001b[0m\u001b[0;34m:\u001b[0m\u001b[0;34m\u001b[0m\u001b[0;34m\u001b[0m\u001b[0m\n\u001b[1;32m    150\u001b[0m         \u001b[0;32mif\u001b[0m \u001b[0;32mnot\u001b[0m \u001b[0mos\u001b[0m\u001b[0;34m.\u001b[0m\u001b[0mpath\u001b[0m\u001b[0;34m.\u001b[0m\u001b[0mexists\u001b[0m\u001b[0;34m(\u001b[0m\u001b[0mf\u001b[0m\u001b[0;34m)\u001b[0m\u001b[0;34m:\u001b[0m  \u001b[0;31m# type: ignore\u001b[0m\u001b[0;34m\u001b[0m\u001b[0;34m\u001b[0m\u001b[0m\n\u001b[0;32m--> 151\u001b[0;31m             \u001b[0;32mraise\u001b[0m \u001b[0mValueError\u001b[0m\u001b[0;34m(\u001b[0m\u001b[0;34m\"The provided filename {} does not exist\"\u001b[0m\u001b[0;34m.\u001b[0m\u001b[0mformat\u001b[0m\u001b[0;34m(\u001b[0m\u001b[0mf\u001b[0m\u001b[0;34m)\u001b[0m\u001b[0;34m)\u001b[0m  \u001b[0;31m# type: ignore\u001b[0m\u001b[0;34m\u001b[0m\u001b[0;34m\u001b[0m\u001b[0m\n\u001b[0m\u001b[1;32m    152\u001b[0m         \u001b[0;32mif\u001b[0m \u001b[0mos\u001b[0m\u001b[0;34m.\u001b[0m\u001b[0mpath\u001b[0m\u001b[0;34m.\u001b[0m\u001b[0misdir\u001b[0m\u001b[0;34m(\u001b[0m\u001b[0mf\u001b[0m\u001b[0;34m)\u001b[0m\u001b[0;34m:\u001b[0m\u001b[0;34m\u001b[0m\u001b[0;34m\u001b[0m\u001b[0m\n\u001b[1;32m    153\u001b[0m             \u001b[0;32mraise\u001b[0m \u001b[0mValueError\u001b[0m\u001b[0;34m(\u001b[0m\u001b[0;34m\"The provided filename {} is a directory\"\u001b[0m\u001b[0;34m.\u001b[0m\u001b[0mformat\u001b[0m\u001b[0;34m(\u001b[0m\u001b[0mf\u001b[0m\u001b[0;34m)\u001b[0m\u001b[0;34m)\u001b[0m  \u001b[0;31m# type: ignore\u001b[0m\u001b[0;34m\u001b[0m\u001b[0;34m\u001b[0m\u001b[0m\n",
      "\u001b[0;31mValueError\u001b[0m: The provided filename ./model_v2.pth does not exist"
     ]
    }
   ],
   "source": [
    "import os\n",
    "import numpy as np\n",
    "import torch\n",
    "from lux.game import Game\n",
    "\n",
    "path = '/kaggle_simulations/agent' if os.path.exists('/kaggle_simulations') else '.' # change to 'agent' for tests\n",
    "# unit NNs\n",
    "model_v2 = torch.jit.load(f'{path}/model_v2.pth')\n",
    "model_v2.eval()\n",
    "model_v4 = torch.jit.load(f'{path}/model_v4.pth')\n",
    "model_v4.eval()\n",
    "model_v5 = torch.jit.load(f'{path}/model_v5.pth')\n",
    "model_v5.eval()\n",
    "model_v11 = torch.jit.load(f'{path}/model_v11.pth')\n",
    "model_v11.eval()\n",
    "# city NNs\n",
    "model_city_v2 = torch.jit.load(f'{path}/model_city_v2.pth')\n",
    "model_city_v2.eval()\n",
    "model_city_v4 = torch.jit.load(f'{path}/model_city_v4.pth')\n",
    "model_city_v4.eval()\n",
    "model_city_v5 = torch.jit.load(f'{path}/model_city_v5.pth')\n",
    "model_city_v5.eval()\n",
    "model_city_v11 = torch.jit.load(f'{path}/model_city_v11.pth')\n",
    "model_city_v11.eval()\n",
    "\n",
    "# Input for Neural Network for units\n",
    "def make_input(obs, unit_id):\n",
    "    width, height = obs['width'], obs['height']\n",
    "    x_shift = (32 - width) // 2\n",
    "    y_shift = (32 - height) // 2\n",
    "    cities = {}\n",
    "    \n",
    "    b = np.zeros((20, 32, 32), dtype=np.float32)\n",
    "    \n",
    "    for update in obs['updates']:\n",
    "        strs = update.split(' ')\n",
    "        input_identifier = strs[0]\n",
    "        \n",
    "        if input_identifier == 'u':\n",
    "            x = int(strs[4]) + x_shift\n",
    "            y = int(strs[5]) + y_shift\n",
    "            wood = int(strs[7])\n",
    "            coal = int(strs[8])\n",
    "            uranium = int(strs[9])\n",
    "            if unit_id == strs[3]:\n",
    "                # Position and Cargo\n",
    "                b[:2, x, y] = (\n",
    "                    1,\n",
    "                    (wood + coal + uranium) / 100\n",
    "                )\n",
    "            else:\n",
    "                # Units\n",
    "                team = int(strs[2])\n",
    "                cooldown = float(strs[6])\n",
    "                idx = 2 + (team - obs['player']) % 2 * 3\n",
    "                b[idx:idx + 3, x, y] = (\n",
    "                    1,\n",
    "                    cooldown / 6,\n",
    "                    (wood + coal + uranium) / 100\n",
    "                )\n",
    "        elif input_identifier == 'ct':\n",
    "            # CityTiles\n",
    "            team = int(strs[1])\n",
    "            city_id = strs[2]\n",
    "            x = int(strs[3]) + x_shift\n",
    "            y = int(strs[4]) + y_shift\n",
    "            idx = 8 + (team - obs['player']) % 2 * 2\n",
    "            b[idx:idx + 2, x, y] = (\n",
    "                1,\n",
    "                cities[city_id]\n",
    "            )\n",
    "        elif input_identifier == 'r':\n",
    "            # Resources\n",
    "            r_type = strs[1]\n",
    "            x = int(strs[2]) + x_shift\n",
    "            y = int(strs[3]) + y_shift\n",
    "            amt = int(float(strs[4]))\n",
    "            b[{'wood': 12, 'coal': 13, 'uranium': 14}[r_type], x, y] = amt / 800\n",
    "        elif input_identifier == 'rp':\n",
    "            # Research Points\n",
    "            team = int(strs[1])\n",
    "            rp = int(strs[2])\n",
    "            b[15 + (team - obs['player']) % 2, :] = min(rp, 200) / 200\n",
    "        elif input_identifier == 'c':\n",
    "            # Cities\n",
    "            city_id = strs[2]\n",
    "            fuel = float(strs[3])\n",
    "            lightupkeep = float(strs[4])\n",
    "            cities[city_id] = min(fuel / lightupkeep, 10) / 10\n",
    "    \n",
    "    # Day/Night Cycle\n",
    "    b[17, :] = obs['step'] % 40 / 40\n",
    "    # Turns\n",
    "    b[18, :] = obs['step'] / 360\n",
    "    # Map Size\n",
    "    b[19, x_shift:32 - x_shift, y_shift:32 - y_shift] = 1\n",
    "\n",
    "    return b\n",
    "\n",
    "\n",
    "# Input for Neural Network for cities\n",
    "def make_city_input(obs, city_coord):\n",
    "    width, height = obs['width'], obs['height']\n",
    "    x_shift = (32 - width) // 2\n",
    "    y_shift = (32 - height) // 2\n",
    "    cities = {}\n",
    "    \n",
    "    b = np.zeros((20, 32, 32), dtype=np.float32)\n",
    "    \n",
    "    for update in obs['updates']:\n",
    "        strs = update.split(' ')\n",
    "        input_identifier = strs[0]\n",
    "        \n",
    "        if input_identifier == 'ct':\n",
    "            # CityTiles\n",
    "            city_id = strs[2]\n",
    "            x = int(strs[3]) \n",
    "            y = int(strs[4])\n",
    "            cooldown = float(strs[5])\n",
    "            if x == int(city_coord[0]) and y == int(city_coord[1]):\n",
    "                b[:2, x + x_shift, y + y_shift] = (\n",
    "                    1,\n",
    "                    cities[city_id]\n",
    "                )\n",
    "            else:\n",
    "                team = int(strs[1])\n",
    "                idx = 2 + (team - obs['player']) % 2 * 3\n",
    "                b[idx:idx + 3, x + x_shift, y + y_shift] = (\n",
    "                    1,\n",
    "                    cooldown / 10,\n",
    "                    cities[city_id]\n",
    "                )\n",
    "        elif input_identifier == 'u':\n",
    "            team = int(strs[2])\n",
    "            x = int(strs[4]) + x_shift\n",
    "            y = int(strs[5]) + y_shift\n",
    "            wood = int(strs[7])\n",
    "            coal = int(strs[8])\n",
    "            uranium = int(strs[9])\n",
    "            idx = 8 + (team - obs['player']) % 2 * 2\n",
    "            b[idx:idx + 2, x, y] = (\n",
    "                1,\n",
    "                (wood + coal + uranium) / 100\n",
    "            )\n",
    "        elif input_identifier == 'r':\n",
    "            # Resources\n",
    "            r_type = strs[1]\n",
    "            x = int(strs[2]) + x_shift\n",
    "            y = int(strs[3]) + y_shift\n",
    "            amt = int(float(strs[4]))\n",
    "            b[{'wood': 12, 'coal': 13, 'uranium': 14}[r_type], x, y] = amt / 800\n",
    "        elif input_identifier == 'rp':\n",
    "            # Research Points\n",
    "            team = int(strs[1])\n",
    "            rp = int(strs[2])\n",
    "            b[15 + (team - obs['player']) % 2, :] = min(rp, 200) / 200\n",
    "        elif input_identifier == 'c':\n",
    "            # Cities\n",
    "            city_id = strs[2]\n",
    "            fuel = float(strs[3])\n",
    "            lightupkeep = float(strs[4])\n",
    "            cities[city_id] = min(fuel / lightupkeep, 10) / 10\n",
    "    \n",
    "    # Day/Night Cycle\n",
    "    b[17, :] = obs['step'] % 40 / 40\n",
    "    # Turns\n",
    "    b[18, :] = obs['step'] / 360\n",
    "    # Map Size\n",
    "    b[19, x_shift:32 - x_shift, y_shift:32 - y_shift] = 1\n",
    "\n",
    "    return b\n",
    "\n",
    "game_state = None\n",
    "player = None\n",
    "\n",
    "\n",
    "def get_game_state(observation):\n",
    "    global game_state\n",
    "    \n",
    "    if observation[\"step\"] == 0:\n",
    "        game_state = Game()\n",
    "        game_state._initialize(observation[\"updates\"])\n",
    "        game_state._update(observation[\"updates\"][2:])\n",
    "        game_state.id = observation[\"player\"]\n",
    "    else:\n",
    "        game_state._update(observation[\"updates\"])\n",
    "    return game_state\n",
    "\n",
    "\n",
    "def in_city(pos):    \n",
    "    try:\n",
    "        city = game_state.map.get_cell_by_pos(pos).citytile\n",
    "        return city is not None and city.team == game_state.id\n",
    "    except:\n",
    "        return False\n",
    "    \n",
    "# check if unit has enough time and space to build a city\n",
    "def build_city_is_possible(unit, pos):    \n",
    "    global game_state\n",
    "    global player\n",
    "\n",
    "    if game_state.turn % 40 < 30:\n",
    "        return True\n",
    "    x, y = pos.x, pos.y\n",
    "    for i, j in ((x-1, y), (x+1, y), (x, y-1), (x, y+1)):\n",
    "        try:\n",
    "            city_id = game_state.map.get_cell(i, j).citytile.cityid\n",
    "        except:\n",
    "            continue\n",
    "        if city_id in player.cities:\n",
    "            city = player.cities[city_id]\n",
    "            if city.fuel > (city.get_light_upkeep() + 18) * 10:\n",
    "                return True\n",
    "    return False\n",
    "\n",
    "\n",
    "def call_func(obj, method, args=[]):\n",
    "    return getattr(obj, method)(*args)\n",
    "\n",
    "\n",
    "# translate unit policy to action\n",
    "unit_actions = [('move', 'n'), ('move', 's'), ('move', 'w'), ('move', 'e'), ('build_city',)]\n",
    "def get_unit_action(policy, unit, dest):\n",
    "    for label in np.argsort(policy)[::-1]:\n",
    "        act = unit_actions[label]\n",
    "        pos = unit.pos.translate(act[-1], 1) or unit.pos\n",
    "        if label == 4 and not build_city_is_possible(unit, pos):\n",
    "            return unit.move('c'), unit.pos\n",
    "        if pos not in dest or in_city(pos):\n",
    "            return call_func(unit, *act), pos \n",
    "            \n",
    "    return unit.move('c'), unit.pos\n",
    "\n",
    "# translate city policy to action\n",
    "city_actions = [('build_worker',), ('research', )]\n",
    "def get_city_action(policy, city_tile, unit_count):\n",
    "    global player\n",
    "    \n",
    "    for label in np.argsort(policy)[::-1]:\n",
    "        act = city_actions[label]\n",
    "        if label == 0 and unit_count < player.city_tile_count:\n",
    "            unit_count += 1\n",
    "            res = call_func(city_tile, *act)\n",
    "        elif label == 1 and not player.researched_uranium():\n",
    "            player.research_points += 1\n",
    "            res = call_func(city_tile, *act)\n",
    "        else:\n",
    "            res = None\n",
    "        return res, unit_count\n",
    "\n",
    "# agent for making actions\n",
    "def agent(observation, configuration):\n",
    "    global game_state\n",
    "    global player\n",
    "    \n",
    "    game_state = get_game_state(observation)    \n",
    "    player = game_state.players[observation.player]\n",
    "    actions = []        \n",
    "\n",
    "    # Unit Actions\n",
    "    dest = []\n",
    "    for unit in player.units:\n",
    "        if unit.can_act() and (game_state.turn % 40 < 30 or not in_city(unit.pos)):\n",
    "            state = make_input(observation, unit.id)\n",
    "            with torch.no_grad():\n",
    "                p_2 = model_v2(torch.from_numpy(state).unsqueeze(0))\n",
    "                p_4 = model_v4(torch.from_numpy(state).unsqueeze(0))\n",
    "                #p_5 = model_v5(torch.from_numpy(state).unsqueeze(0))\n",
    "                p_11 = model_v11(torch.from_numpy(state).unsqueeze(0))\n",
    "\n",
    "            policy_2 = p_2.squeeze(0).numpy()\n",
    "            policy_4 = p_4.squeeze(0).numpy()\n",
    "            #policy_5 = p_5.squeeze(0).numpy()\n",
    "            policy_11 = p_11.squeeze(0).numpy()\n",
    "\n",
    "            policy = [sum(x) for x in zip(*[policy_2, policy_4, policy_11])]\n",
    "\n",
    "            action, pos = get_unit_action(policy, unit, dest)\n",
    "            actions.append(action)\n",
    "            dest.append(pos)\n",
    "\n",
    "    # City Actions\n",
    "    unit_count = len(player.units)\n",
    "    for city in player.cities.values():\n",
    "        for city_tile in city.citytiles:\n",
    "            if city_tile.can_act():\n",
    "                # at first game stages try to produce maximum amount of agents and research point\n",
    "                if game_state.turn < 60:\n",
    "                    if unit_count < player.city_tile_count: \n",
    "                        actions.append(city_tile.build_worker())\n",
    "                        unit_count += 1\n",
    "                    elif not player.researched_uranium():\n",
    "                        actions.append(city_tile.research())\n",
    "                        player.research_points += 1\n",
    "                # then follow NN strategy\n",
    "                else:\n",
    "                    state = make_city_input(observation, [city_tile.pos.x, city_tile.pos.y])\n",
    "                    with torch.no_grad():\n",
    "                        p_2 = model_city_v2(torch.from_numpy(state).unsqueeze(0))\n",
    "                        p_4 = model_city_v4(torch.from_numpy(state).unsqueeze(0))\n",
    "                        #p_5 = model_city_v5(torch.from_numpy(state).unsqueeze(0))\n",
    "                        p_11 = model_city_v11(torch.from_numpy(state).unsqueeze(0))\n",
    "\n",
    "                    policy_2 = p_2.squeeze(0).numpy()\n",
    "                    policy_4 = p_4.squeeze(0).numpy()\n",
    "                    #policy_5 = p_5.squeeze(0).numpy()\n",
    "                    policy_11 = p_11.squeeze(0).numpy()\n",
    "\n",
    "                    policy = [sum(x) for x in zip(*[policy_2, policy_4, policy_11])]\n",
    "\n",
    "                    action, unit_count = get_city_action(policy, city_tile, unit_count)\n",
    "                    if action:\n",
    "                        actions.append(action)\n",
    "    \n",
    "    return actions"
   ]
  },
  {
   "cell_type": "markdown",
   "metadata": {},
   "source": [
    "# Futher Ideas\n",
    "\n",
    "Cities\n",
    "- add day/night feature\n",
    "\n",
    "Hyperparameters\n",
    "- optimize hyperparameters (number of features and layers, regularization, dropout probability, learning rate) with Optuna\n",
    "\n",
    "Ensembles\n",
    "- make ensemble of 3 best NNs (select through Optuna optimization) that makes decision by voting or randomly selects action from presented"
   ]
  },
  {
   "cell_type": "code",
   "execution_count": null,
   "metadata": {},
   "outputs": [],
   "source": [
    "# dict for apropriate change of moving action during rotation\n",
    "# 1 - rotation on 90, 2 - rotation on 180, 3 - rotation on 270\n",
    "rot_dict = {0: {0:0, 1:1, 2:2, 3:3, 4:4}, # N -> E, S -> W, W -> N, E -> S\n",
    "            1: {0:3, 1:2, 2:0, 3:1, 4:4}, # N -> E, S -> W, W -> N, E -> S\n",
    "            2: {0:1, 1:0, 2:3, 3:2, 4:4}, # N -> S, S -> N, W -> E, E -> W\n",
    "            3: {0:2, 1:3, 2:1, 3:0, 4:4}  # N -> W, S -> E, W -> S, E -> N\n",
    "           }"
   ]
  }
 ],
 "metadata": {
  "kernelspec": {
   "display_name": "Python 3 (ipykernel)",
   "language": "python",
   "name": "python3"
  },
  "language_info": {
   "codemirror_mode": {
    "name": "ipython",
    "version": 3
   },
   "file_extension": ".py",
   "mimetype": "text/x-python",
   "name": "python",
   "nbconvert_exporter": "python",
   "pygments_lexer": "ipython3",
   "version": "3.8.10"
  }
 },
 "nbformat": 4,
 "nbformat_minor": 4
}
