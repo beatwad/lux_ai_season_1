{
 "cells": [
  {
   "cell_type": "markdown",
   "metadata": {},
   "source": [
    "For Kaggle"
   ]
  },
  {
   "cell_type": "code",
   "execution_count": 1,
   "metadata": {
    "execution": {
     "iopub.execute_input": "2021-09-21T02:10:22.282451Z",
     "iopub.status.busy": "2021-09-21T02:10:22.282156Z",
     "iopub.status.idle": "2021-09-21T02:10:31.631739Z",
     "shell.execute_reply": "2021-09-21T02:10:31.63066Z",
     "shell.execute_reply.started": "2021-09-21T02:10:22.282376Z"
    }
   },
   "outputs": [],
   "source": [
    "# !pip install kaggle-environments -U > /dev/null 2>&1\n",
    "# !cp -r ../input/lux-ai-2021/* ."
   ]
  },
  {
   "cell_type": "markdown",
   "metadata": {},
   "source": [
    "For agents validation"
   ]
  },
  {
   "cell_type": "code",
   "execution_count": 2,
   "metadata": {},
   "outputs": [],
   "source": [
    "# timeout 1h lux-ai-2021 --tournament --rankSystem wins --storeReplay false --storeLogs false --maxConcurrentMatches 1 agent/main.py agent_simple/main.py submission_v4/main.py"
   ]
  },
  {
   "cell_type": "code",
   "execution_count": 3,
   "metadata": {
    "_cell_guid": "b1076dfc-b9ad-4769-8c92-a6c4dae69d19",
    "_uuid": "8f2839f25d086af736a60e9eeb907d3b93b6e0e5",
    "execution": {
     "iopub.execute_input": "2021-09-21T02:10:31.634148Z",
     "iopub.status.busy": "2021-09-21T02:10:31.633714Z",
     "iopub.status.idle": "2021-09-21T02:10:36.825858Z",
     "shell.execute_reply": "2021-09-21T02:10:36.825106Z",
     "shell.execute_reply.started": "2021-09-21T02:10:31.634105Z"
    }
   },
   "outputs": [],
   "source": [
    "import numpy as np\n",
    "import json\n",
    "from pathlib import Path\n",
    "import os\n",
    "import random\n",
    "from tqdm.notebook import tqdm\n",
    "import torch\n",
    "from torch import nn\n",
    "import torch.nn.functional as F\n",
    "from torch.utils.data import Dataset, DataLoader\n",
    "from torchvision import transforms\n",
    "import torchvision.transforms.functional as TF\n",
    "from torchvision.transforms import ToTensor, RandomHorizontalFlip, RandomVerticalFlip\n",
    "import torch.optim as optim\n",
    "from torch.optim.lr_scheduler import ReduceLROnPlateau\n",
    "from sklearn.model_selection import train_test_split\n",
    "import optuna\n",
    "from optuna.trial import TrialState"
   ]
  },
  {
   "cell_type": "code",
   "execution_count": 4,
   "metadata": {
    "execution": {
     "iopub.execute_input": "2021-09-21T02:10:36.827311Z",
     "iopub.status.busy": "2021-09-21T02:10:36.82705Z",
     "iopub.status.idle": "2021-09-21T02:10:36.877521Z",
     "shell.execute_reply": "2021-09-21T02:10:36.876761Z",
     "shell.execute_reply.started": "2021-09-21T02:10:36.82728Z"
    }
   },
   "outputs": [],
   "source": [
    "def seed_everything(seed_value):\n",
    "    random.seed(seed_value)\n",
    "    np.random.seed(seed_value)\n",
    "    torch.manual_seed(seed_value)\n",
    "    os.environ['PYTHONHASHSEED'] = str(seed_value)\n",
    "    \n",
    "    if torch.cuda.is_available(): \n",
    "        torch.cuda.manual_seed(seed_value)\n",
    "        torch.cuda.manual_seed_all(seed_value)\n",
    "        torch.backends.cudnn.deterministic = True\n",
    "        torch.backends.cudnn.benchmark = True\n",
    "\n",
    "seed_everything(42)"
   ]
  },
  {
   "cell_type": "markdown",
   "metadata": {},
   "source": [
    "# Preprocessing\n",
    "\n",
    "Actions:\n",
    "- m - move: m, unit who moves, direction\n",
    "- bcity - build city: bcity, unit who builds\n",
    "- bw - build worker, x-coord of building city, y-coord of building city\n",
    "- r - research , x-coord of researching city, y-coord of researching city\n",
    "- t - transfer: transfer, from user_1, to user_2, resourse, quantity\n",
    "\n",
    "Updates:\n",
    "- rp - research point: player, number of rp\n",
    "- r - resources: r, type of resource, x-coord, y-coord, quantity\n",
    "- u - user: u, worker/cart, player, user id, x-coord, y-coord, cooldown, wood, coal, uranium\n",
    "- c - city: c, player, city id, number of resources, amount of consuming light at night\n",
    "- ct - city tile: ct, player, city id, x-coord, y-coord, cooldown\n",
    "- ccd - level of road: ccd, x-coord, y-coord, level value"
   ]
  },
  {
   "cell_type": "code",
   "execution_count": 5,
   "metadata": {
    "scrolled": true
   },
   "outputs": [
    {
     "name": "stdout",
     "output_type": "stream",
     "text": [
      "rm: cannot remove '*_info.json': No such file or directory\r\n"
     ]
    }
   ],
   "source": [
    "!cd episodes && rm *_info.json && cd .."
   ]
  },
  {
   "cell_type": "markdown",
   "metadata": {},
   "source": [
    "Get data from json files"
   ]
  },
  {
   "cell_type": "code",
   "execution_count": 6,
   "metadata": {
    "execution": {
     "iopub.execute_input": "2021-09-21T02:10:36.880862Z",
     "iopub.status.busy": "2021-09-21T02:10:36.88065Z",
     "iopub.status.idle": "2021-09-21T02:10:36.895408Z",
     "shell.execute_reply": "2021-09-21T02:10:36.89469Z",
     "shell.execute_reply.started": "2021-09-21T02:10:36.880838Z"
    }
   },
   "outputs": [],
   "source": [
    "from random import choice\n",
    "\n",
    "def unit_label(action):\n",
    "    strs = action.split(' ')\n",
    "    unit_id = strs[1]\n",
    "    if strs[0] == 'm':\n",
    "        label = {'c': None, 'n': 0, 's': 1, 'w': 2, 'e': 3}[strs[2]]\n",
    "    elif strs[0] == 'bcity':\n",
    "        label = 4\n",
    "    else:\n",
    "        label = None\n",
    "    return unit_id, label\n",
    "\n",
    "def city_label(action):\n",
    "    strs = action.split(' ')\n",
    "    if len(strs) < 3:\n",
    "        return None, None\n",
    "    ctile_coord = (strs[1], strs[2])\n",
    "    if strs[0] == 'bw':\n",
    "        label = 0\n",
    "    elif strs[0] == 'r':\n",
    "        label = 1\n",
    "    else:\n",
    "        label = None\n",
    "    return ctile_coord, label\n",
    "\n",
    "def unit_cooldown(updates, index):\n",
    "    strs = updates.split(' ')\n",
    "    if strs[0] == 'u' and strs[2] == index:\n",
    "        unit_id = strs[3]\n",
    "        cooldown = strs[6]\n",
    "        return unit_id, cooldown\n",
    "    return None, None\n",
    "\n",
    "def city_tile_coord(updates, index):\n",
    "    strs = updates.split(' ')\n",
    "    if strs[0] == 'ct' and strs[1] == index:\n",
    "        ctile_coord = (strs[3], strs[4])\n",
    "        cooldown = strs[5]\n",
    "        return ctile_coord, cooldown\n",
    "    return None, None\n",
    "\n",
    "def research_points(updates, index):\n",
    "    for u in updates:\n",
    "        strs = u.split(' ')\n",
    "        if strs[0] == 'rp' and strs[1] == index:\n",
    "            return int(strs[2])\n",
    "    return 0\n",
    "\n",
    "def depleted_resources(obs):\n",
    "    for u in obs['updates']:\n",
    "        if u.split(' ')[0] == 'r':\n",
    "            return False\n",
    "    return True\n",
    "\n",
    "\n",
    "def create_dataset_from_json(episode_dir, team_name='Toad Brigade'): \n",
    "    obses = {}\n",
    "    unit_samples = []\n",
    "    city_samples = []\n",
    "    \n",
    "    episodes = [path for path in Path(episode_dir).glob('*.json') if 'output' not in path.name]\n",
    "    for filepath in tqdm(episodes): \n",
    "        with open(filepath) as f:\n",
    "            json_load = json.load(f)\n",
    "        # load episode from episode json file\n",
    "        ep_id = json_load['info']['EpisodeId']\n",
    "        index = np.argmax([r or 0 for r in json_load['rewards']])\n",
    "        if json_load['info']['TeamNames'][index] != team_name:\n",
    "            continue\n",
    "\n",
    "        updates = None\n",
    "        \n",
    "        for i in range(len(json_load['steps'])-1):\n",
    "            units = {}\n",
    "            city_tiles = {}\n",
    "            \n",
    "            if json_load['steps'][i][index]['status'] == 'ACTIVE':\n",
    "                actions = json_load['steps'][i+1][index]['action']\n",
    "                obs = json_load['steps'][i][0]['observation']\n",
    "                updates = obs['updates']\n",
    "                rp = research_points(updates, str(index))\n",
    "                # get updates from previous steps\n",
    "                if i > 0:\n",
    "                    obs['updates_lag_1'] = json_load['steps'][i-1][0]['observation']['updates']\n",
    "                else:\n",
    "                    obs['updates_lag_1'] = None\n",
    "                if i > 1:\n",
    "                    obs['updates_lag_2'] = json_load['steps'][i-2][0]['observation']['updates']\n",
    "                else:\n",
    "                    obs['updates_lag_2'] = None\n",
    "                if i > 2:\n",
    "                    obs['updates_lag_3'] = json_load['steps'][i-3][0]['observation']['updates']\n",
    "                else:\n",
    "                    obs['updates_lag_3'] = None\n",
    "                if i > 3:\n",
    "                    obs['updates_lag_4'] = json_load['steps'][i-4][0]['observation']['updates']\n",
    "                else:\n",
    "                    obs['updates_lag_4'] = None\n",
    "                if i > 4:\n",
    "                    obs['updates_lag_5'] = json_load['steps'][i-5][0]['observation']['updates']\n",
    "                else:\n",
    "                    obs['updates_lag_5'] = None\n",
    "                if i > 5:\n",
    "                    obs['updates_lag_6'] = json_load['steps'][i-6][0]['observation']['updates']\n",
    "                else:\n",
    "                    obs['updates_lag_6'] = None\n",
    "                if i > 6:\n",
    "                    obs['updates_lag_7'] = json_load['steps'][i-7][0]['observation']['updates']\n",
    "                else:\n",
    "                    obs['updates_lag_7'] = None\n",
    "                \n",
    "                for u in updates:\n",
    "                    # get coords for every friendly city tile\n",
    "                    ctile_coord, cooldown = city_tile_coord(u, str(index))\n",
    "                    if ctile_coord and cooldown:\n",
    "                        city_tiles[ctile_coord] = [0, float(cooldown)]\n",
    "                        continue\n",
    "                    # get cooldown for every friendly unit \n",
    "                    unit_id, cooldown = unit_cooldown(u, str(index))\n",
    "                    if unit_id and cooldown:\n",
    "                        units[unit_id] = float(cooldown)                     \n",
    "                \n",
    "                # stop research if resources are depleted\n",
    "                if depleted_resources(obs):\n",
    "                    break\n",
    "                \n",
    "                obs['player'] = index\n",
    "                obs = dict([\n",
    "                    (k,v) for k,v in obs.items() \n",
    "                    if k in ['step', 'updates', 'updates_lag_1', 'updates_lag_2', \n",
    "                             'updates_lag_3', 'updates_lag_4', 'updates_lag_5', \n",
    "                             'updates_lag_6', 'updates_lag_7', 'player', 'width', 'height']\n",
    "                ])\n",
    "                obs_id = f'{ep_id}_{i}'\n",
    "                obses[obs_id] = obs\n",
    "                \n",
    "                for action in actions:\n",
    "                    unit_id, label = unit_label(action)\n",
    "                    # if unit acts - add this action to train\n",
    "                    if label is not None:\n",
    "                        unit_samples.append((obs_id, unit_id, label))\n",
    "                        continue\n",
    "                    ctile_coord, label = city_label(action)\n",
    "                    # if city tile acts - add this action to train\n",
    "                    if label is not None:\n",
    "                        city_samples.append((obs_id, ctile_coord, label))\n",
    "                        city_tiles[ctile_coord][0] = label\n",
    "                        \n",
    "#                 # it there is a possibility for city tiles to act, (research points number < 200 and number of\n",
    "#                 # city tiles more than number of units find those of them who can act (cooldown = 0) but doesn't\n",
    "#                 if rp < 200 and len(city_tiles) > len(units):\n",
    "#                     city_tiles_no_action = [(k, v[0]) for k, v in city_tiles.items() if v[0] == 0 and v[1] == 0]\n",
    "#                     # if there are cities with no action - randomly select one item from there \n",
    "#                     # and add it to city samples\n",
    "#                     if city_tiles_no_action:\n",
    "#                         ct = choice(city_tiles_no_action)\n",
    "#                         city_samples.append((obs_id, ct[0], ct[1]))\n",
    "                    \n",
    "                    \n",
    "    return obses, unit_samples, city_samples"
   ]
  },
  {
   "cell_type": "code",
   "execution_count": 7,
   "metadata": {
    "execution": {
     "iopub.execute_input": "2021-09-21T02:10:36.896889Z",
     "iopub.status.busy": "2021-09-21T02:10:36.896599Z",
     "iopub.status.idle": "2021-09-21T02:10:40.890717Z",
     "shell.execute_reply": "2021-09-21T02:10:40.889936Z",
     "shell.execute_reply.started": "2021-09-21T02:10:36.896855Z"
    },
    "scrolled": true
   },
   "outputs": [
    {
     "data": {
      "application/vnd.jupyter.widget-view+json": {
       "model_id": "7d2d4f68b01743d4b8362cecbe20f9e6",
       "version_major": 2,
       "version_minor": 0
      },
      "text/plain": [
       "  0%|          | 0/332 [00:00<?, ?it/s]"
      ]
     },
     "metadata": {},
     "output_type": "display_data"
    },
    {
     "name": "stdout",
     "output_type": "stream",
     "text": [
      "observations: 96015 worker samples: 553399 city samples: 69609\n"
     ]
    }
   ],
   "source": [
    "episode_dir = 'episodes'\n",
    "obses, samples, city_samples = create_dataset_from_json(episode_dir)\n",
    "\n",
    "print('observations:', len(obses), 'worker samples:', len(samples), 'city samples:', len(city_samples))"
   ]
  },
  {
   "cell_type": "code",
   "execution_count": 8,
   "metadata": {
    "execution": {
     "iopub.execute_input": "2021-09-21T02:10:40.892694Z",
     "iopub.status.busy": "2021-09-21T02:10:40.892219Z",
     "iopub.status.idle": "2021-09-21T02:10:40.934807Z",
     "shell.execute_reply": "2021-09-21T02:10:40.933891Z",
     "shell.execute_reply.started": "2021-09-21T02:10:40.892659Z"
    },
    "scrolled": true
   },
   "outputs": [
    {
     "name": "stdout",
     "output_type": "stream",
     "text": [
      "north: 122189\n",
      "south: 122506\n",
      "west: 132911\n",
      "east: 136626\n",
      "bcity: 39167\n"
     ]
    }
   ],
   "source": [
    "labels = [sample[-1] for sample in samples]\n",
    "actions = ['north', 'south', 'west', 'east', 'bcity']\n",
    "for value, count in zip(*np.unique(labels, return_counts=True)):\n",
    "    print(f'{actions[value]}: {count}')"
   ]
  },
  {
   "cell_type": "code",
   "execution_count": 9,
   "metadata": {
    "scrolled": true
   },
   "outputs": [
    {
     "name": "stdout",
     "output_type": "stream",
     "text": [
      "build_worker: 21127\n",
      "research: 48482\n"
     ]
    }
   ],
   "source": [
    "labels_city = [sample[-1] for sample in city_samples]\n",
    "actions_city = ['build_worker', 'research']\n",
    "for value, count in zip(*np.unique(labels_city, return_counts=True)):\n",
    "    print(f'{actions_city[value]}: {count}')"
   ]
  },
  {
   "cell_type": "code",
   "execution_count": 10,
   "metadata": {
    "scrolled": true
   },
   "outputs": [],
   "source": [
    "# obses['26762301_160']"
   ]
  },
  {
   "cell_type": "code",
   "execution_count": 11,
   "metadata": {
    "scrolled": true
   },
   "outputs": [],
   "source": [
    "# samples"
   ]
  },
  {
   "cell_type": "code",
   "execution_count": 12,
   "metadata": {
    "scrolled": true
   },
   "outputs": [],
   "source": [
    "# city_samples[200000]"
   ]
  },
  {
   "cell_type": "markdown",
   "metadata": {},
   "source": [
    "# Training\n",
    "\n",
    "b - training tensor of float32. b dimensions is 20x32x32\n",
    "\n",
    "- b[0] - position of current unit\n",
    "- b[1] - cargo sum/100 of current unit\n",
    "- b[2] - previous position of current unit\n",
    "- b[3] - pre-previous position of current unit\n",
    "- b[4, 5, 6, 7] - position, cooldown/6, cargo sum/100 and Manhattan distance to units from friendly team\n",
    "- b[8, 9, 10, 11] - position, cooldown/6, cargo sum/100 and Manhattan distance to units from adversarial team\n",
    "- b[12, 13, 14] - position,  min(city fuel/city energy consumption, 10)/10 and Manhattan distance to cities from friendly team\n",
    "- b[15, 16, 17] - position,  min(city fuel/city energy consumption, 10)/10 and Manhattan distance to cities from adversarial team\n",
    "- b[18] - amount of wood / 800 on current position\n",
    "- b[19] - amount of coal / 800 on current position\n",
    "- b[20] - amount of uranium / 800 on current position\n",
    "- b[21] - 1 if unit can mine this resource, 0 otherwise\n",
    "- b[22] - Manhattan distance to this resource\n",
    "- b[23] - research points / 200 of unit's team\n",
    "- b[24] - research points / 200 of another team\n",
    "- b[25] - time of the day (from 0 to 1, step 0.05)\n",
    "- b[26] - step of the game (from 0 to 1, step 1/360)\n",
    "- b[27] - day/night flag\n",
    "- b[28] - map size"
   ]
  },
  {
   "cell_type": "code",
   "execution_count": 13,
   "metadata": {
    "execution": {
     "iopub.execute_input": "2021-09-21T02:10:40.937075Z",
     "iopub.status.busy": "2021-09-21T02:10:40.9366Z",
     "iopub.status.idle": "2021-09-21T02:10:40.957891Z",
     "shell.execute_reply": "2021-09-21T02:10:40.957188Z",
     "shell.execute_reply.started": "2021-09-21T02:10:40.93704Z"
    }
   },
   "outputs": [],
   "source": [
    "def manhattan_distance(x1, y1, x2, y2):\n",
    "    return (abs(x2-x1) + abs(y2-y1))\n",
    "\n",
    "# make list of users and their current and previous coords and cooldowns \n",
    "# to write them in NN training subset\n",
    "def find_units_from_previous_obs(obs, x_shift, y_shift):\n",
    "    # at first fill the unit dict with units from previous observation\n",
    "    updates = obs['updates']\n",
    "    updates_lag_1 = obs['updates_lag_1']\n",
    "    updates_lag_2 = obs['updates_lag_2']\n",
    "    updates_lag_3 = obs['updates_lag_3']\n",
    "    updates_lag_4 = obs['updates_lag_4']\n",
    "    updates_lag_5 = obs['updates_lag_5']\n",
    "    updates_lag_6 = obs['updates_lag_6']\n",
    "    updates_lag_7 = obs['updates_lag_7']\n",
    "    prev_updates = [updates, updates_lag_1, updates_lag_2, updates_lag_3, \n",
    "                    updates_lag_4, updates_lag_5, updates_lag_6, updates_lag_7]\n",
    "    prev_units = list()\n",
    "    for prev_update in prev_updates:\n",
    "        units = dict()\n",
    "        if prev_update:\n",
    "            for update in prev_update:\n",
    "                strs = update.split(' ')\n",
    "                input_identifier = strs[0]\n",
    "                # if we found observation for user\n",
    "                if input_identifier == 'u':\n",
    "                    unit_id = strs[3]\n",
    "                    x = int(strs[4]) + x_shift\n",
    "                    y = int(strs[5]) + y_shift\n",
    "                    cooldown = float(strs[6])\n",
    "                    units[unit_id] = [x, y, cooldown]\n",
    "            prev_units.append(units)\n",
    "        else:\n",
    "            break\n",
    "    return prev_units\n",
    "\n",
    "def find_prev_coords(prev_units, unit_id):\n",
    "    # find previous coordinates of unit by ananlyzing its cooldown\n",
    "    x, y = [None, None], [None, None]\n",
    "    for i in range(len(prev_units)-1):\n",
    "        if unit_id in prev_units[i] and unit_id in prev_units[i+1]:\n",
    "            cooldown = prev_units[i][unit_id][0]\n",
    "            prev_x = prev_units[i+1][unit_id][0]\n",
    "            prev_y = prev_units[i+1][unit_id][1]\n",
    "            prev_cooldown = prev_units[i+1][unit_id][2]\n",
    "            if cooldown > 0 and prev_cooldown == 0:\n",
    "                if x[1] and y[1]:\n",
    "                    return x, y\n",
    "                if not x[0] and not y[0]:\n",
    "                    x[0], y[0] = prev_x,prev_y\n",
    "                else:\n",
    "                    x[1], y[1] = prev_x,prev_y\n",
    "        else:\n",
    "            break\n",
    "    return x, y\n",
    "            \n",
    "# Input for Neural Network for workers\n",
    "def make_input(obs, unit_id):\n",
    "    width, height = obs['width'], obs['height']\n",
    "    x_shift = (32 - width) // 2\n",
    "    y_shift = (32 - height) // 2\n",
    "\n",
    "    cities = {}\n",
    "    \n",
    "    b = np.zeros((29, 32, 32), dtype=np.float32)\n",
    "    \n",
    "    prev_units = find_units_from_previous_obs(obs, x_shift, y_shift)\n",
    "    x_u, y_u = prev_units[0][unit_id][0], prev_units[0][unit_id][1]\n",
    "    \n",
    "    for update in obs['updates']:\n",
    "        strs = update.split(' ')\n",
    "        input_identifier = strs[0]\n",
    "        my_rp = 0\n",
    "        \n",
    "        if input_identifier == 'u':\n",
    "            x = int(strs[4]) + x_shift\n",
    "            y = int(strs[5]) + y_shift\n",
    "            wood = int(strs[7])\n",
    "            coal = int(strs[8])\n",
    "            uranium = int(strs[9])\n",
    "            if strs[3] == unit_id: # 0:2\n",
    "                # Position, Cargo and Previous Position\n",
    "                b[:2, x, y] = (\n",
    "                    1,\n",
    "                    (wood + coal + uranium) / 100\n",
    "                )\n",
    "                prev_x, prev_y = find_prev_coords(prev_units, unit_id)\n",
    "                if not prev_x[0] and not prev_y[0]:\n",
    "                    prev_x[0], prev_y[0] = x, y\n",
    "                    prev_x[1], prev_y[1] = x, y\n",
    "                b[2, prev_x[0], prev_y[0]] = 1\n",
    "                b[3, prev_x[1], prev_y[1]] = 1\n",
    "            else:                  # 4:11\n",
    "                # Units\n",
    "                team = int(strs[2])\n",
    "                cooldown = float(strs[6])\n",
    "                idx = 4 + (team - obs['player']) % 2 * 4\n",
    "                m_dist = manhattan_distance(x_u, y_u, x, y)\n",
    "                b[idx:idx + 4, x, y] = (\n",
    "                    1,\n",
    "                    cooldown / 6,\n",
    "                    (wood + coal + uranium) / 100,\n",
    "                    m_dist/((width-1) + (height-1))\n",
    "                )\n",
    "        elif input_identifier == 'ct':  # 12:17\n",
    "            # CityTiles\n",
    "            team = int(strs[1])\n",
    "            city_id = strs[2]\n",
    "            x = int(strs[3]) + x_shift\n",
    "            y = int(strs[4]) + y_shift\n",
    "            idx = 12 + (team - obs['player']) % 2 * 3\n",
    "            m_dist = manhattan_distance(x_u, y_u, x, y)\n",
    "            b[idx:idx + 3, x, y] = (\n",
    "                1,\n",
    "                cities[city_id],\n",
    "                m_dist/((width-1) + (height-1))\n",
    "            )\n",
    "        elif input_identifier == 'r':  # 18:21\n",
    "            # Resources\n",
    "            r_type = strs[1]\n",
    "            x = int(strs[2]) + x_shift\n",
    "            y = int(strs[3]) + y_shift\n",
    "            amt = int(float(strs[4]))\n",
    "            access_level = {'wood': 0, 'coal': 50, 'uranium': 200}[r_type]\n",
    "            access = 0 if my_rp < access_level else 1\n",
    "            b[{'wood': 18, 'coal': 19, 'uranium': 20}[r_type], x, y] = amt / 800\n",
    "            b[21, x, y] = access\n",
    "            b[22, x, y] = manhattan_distance(x_u, y_u, x, y)/((width-1) + (height-1))\n",
    "        elif input_identifier == 'rp':  # 23:24\n",
    "            # Research Points\n",
    "            team = int(strs[1])\n",
    "            rp = int(strs[2])\n",
    "            my_rp = rp if team == obs['player'] else my_rp\n",
    "            b[23 + (team - obs['player']) % 2, :] = min(rp, 200) / 200\n",
    "        elif input_identifier == 'c':\n",
    "            # Cities\n",
    "            city_id = strs[2]\n",
    "            fuel = float(strs[3])\n",
    "            lightupkeep = float(strs[4])\n",
    "            cities[city_id] = min(fuel / lightupkeep, 10) / 10\n",
    "    # Day/Night Cycle\n",
    "    b[25, :] = obs['step'] % 40 / 40\n",
    "    # Turns\n",
    "    b[26, :] = obs['step'] / 360\n",
    "    # Day/Night Flag\n",
    "    b[27, :] = 1 if obs['step'] % 40 < 30 else 0\n",
    "    # Map Size\n",
    "    b[28, x_shift:32 - x_shift, y_shift:32 - y_shift] = 1\n",
    "        \n",
    "    return b"
   ]
  },
  {
   "cell_type": "code",
   "execution_count": 14,
   "metadata": {
    "scrolled": true
   },
   "outputs": [],
   "source": [
    "# obses['26762301_160']"
   ]
  },
  {
   "cell_type": "code",
   "execution_count": 15,
   "metadata": {
    "scrolled": false
   },
   "outputs": [],
   "source": [
    "# import sys\n",
    "\n",
    "# np.set_printoptions(threshold=sys.maxsize)\n",
    "\n",
    "# make_input(obses['26762301_170'], 'u_36')[3]"
   ]
  },
  {
   "cell_type": "markdown",
   "metadata": {},
   "source": [
    "Data for the cities:\n",
    "- b[0] - position of current city\n",
    "- b[1] - min(city fuel/city energy consumption, 10)/10 of current city\n",
    "- b[2, 3, 4] - position, cooldown/10, and min(city fuel/city energy consumption, 10)/10 for cities from the same team\n",
    "- b[5, 6, 7] - position, cooldown/10, and min(city fuel/city energy consumption, 10)/10 for cities from another team\n",
    "- b[8, 9] - position and cargo sum/100 for units from the same team \n",
    "- b[10, 11] - position and cargo sum/100 for units from from another team\n",
    "- b[12] - amount of wood / 800\n",
    "- b[13] - amount of coal / 800\n",
    "- b[14] - amount of uranium / 800\n",
    "- b[15] - research points / 200 of unit's team\n",
    "- b[16] - research piints / 200 of another team\n",
    "- b[17] - time of the day (from 0 to 1, step 0.05)\n",
    "- b[18] - step of the game (from 0 to 1, step 1/360)\n",
    "- b[19] - day/night flag\n",
    "- b[20] - map size"
   ]
  },
  {
   "cell_type": "code",
   "execution_count": 16,
   "metadata": {},
   "outputs": [],
   "source": [
    "# Input for Neural Network for cities\n",
    "def make_city_input(obs, city_coord):\n",
    "    width, height = obs['width'], obs['height']\n",
    "    x_shift = (32 - width) // 2\n",
    "    y_shift = (32 - height) // 2\n",
    "    cities = {}\n",
    "    \n",
    "    b = np.zeros((21, 32, 32), dtype=np.float32)\n",
    "    \n",
    "    for update in obs['updates']:\n",
    "        strs = update.split(' ')\n",
    "        input_identifier = strs[0]\n",
    "        \n",
    "        if input_identifier == 'ct':\n",
    "            # CityTiles\n",
    "            city_id = strs[2]\n",
    "            x = int(strs[3]) \n",
    "            y = int(strs[4])\n",
    "            cooldown = float(strs[5])\n",
    "            if x == int(city_coord[0]) and y == int(city_coord[1]):\n",
    "                b[:2, x + x_shift, y + y_shift] = (\n",
    "                    1,\n",
    "                    cities[city_id]\n",
    "                )\n",
    "            else:\n",
    "                team = int(strs[1])\n",
    "                idx = 2 + (team - obs['player']) % 2 * 3\n",
    "                b[idx:idx + 3, x + x_shift, y + y_shift] = (\n",
    "                    1,\n",
    "                    cooldown / 10,\n",
    "                    cities[city_id]\n",
    "                )\n",
    "        elif input_identifier == 'u':\n",
    "            team = int(strs[2])\n",
    "            x = int(strs[4]) + x_shift\n",
    "            y = int(strs[5]) + y_shift\n",
    "            wood = int(strs[7])\n",
    "            coal = int(strs[8])\n",
    "            uranium = int(strs[9])\n",
    "            idx = 8 + (team - obs['player']) % 2 * 2\n",
    "            b[idx:idx + 2, x, y] = (\n",
    "                1,\n",
    "                (wood + coal + uranium) / 100\n",
    "            )\n",
    "        elif input_identifier == 'r':\n",
    "            # Resources\n",
    "            r_type = strs[1]\n",
    "            x = int(strs[2]) + x_shift\n",
    "            y = int(strs[3]) + y_shift\n",
    "            amt = int(float(strs[4]))\n",
    "            b[{'wood': 12, 'coal': 13, 'uranium': 14}[r_type], x, y] = amt / 800\n",
    "        elif input_identifier == 'rp':\n",
    "            # Research Points\n",
    "            team = int(strs[1])\n",
    "            rp = int(strs[2])\n",
    "            b[15 + (team - obs['player']) % 2, :] = min(rp, 200) / 200\n",
    "        elif input_identifier == 'c':\n",
    "            # Cities\n",
    "            city_id = strs[2]\n",
    "            fuel = float(strs[3])\n",
    "            lightupkeep = float(strs[4])\n",
    "            cities[city_id] = min(fuel / lightupkeep, 10) / 10\n",
    "    \n",
    "    # Day/Night Cycle\n",
    "    b[17, :] = obs['step'] % 40 / 40\n",
    "    # Turns\n",
    "    b[18, :] = obs['step'] / 360\n",
    "    # Day/Night Flag\n",
    "    b[19, :] = 1 if obs['step'] % 40 < 30 else 0\n",
    "    # Map Size\n",
    "    b[20, x_shift:32 - x_shift, y_shift:32 - y_shift] = 1\n",
    "\n",
    "    return b"
   ]
  },
  {
   "cell_type": "markdown",
   "metadata": {},
   "source": [
    "### Set modules for NN training"
   ]
  },
  {
   "cell_type": "code",
   "execution_count": 17,
   "metadata": {
    "execution": {
     "iopub.execute_input": "2021-09-21T02:10:40.959528Z",
     "iopub.status.busy": "2021-09-21T02:10:40.959271Z",
     "iopub.status.idle": "2021-09-21T02:10:40.973799Z",
     "shell.execute_reply": "2021-09-21T02:10:40.973034Z",
     "shell.execute_reply.started": "2021-09-21T02:10:40.959496Z"
    }
   },
   "outputs": [],
   "source": [
    "# Neural Network for Lux AI\n",
    "class BasicConv2d(nn.Module):\n",
    "    def __init__(self, input_dim, output_dim, kernel_size, bn, p=0.1):\n",
    "        super().__init__()\n",
    "        self.conv = nn.Conv2d(\n",
    "            input_dim, output_dim, \n",
    "            kernel_size=kernel_size, \n",
    "            padding=(kernel_size[0] // 2, kernel_size[1] // 2)\n",
    "        )\n",
    "        self.bn = nn.BatchNorm2d(output_dim) if bn else None\n",
    "        self.dropout = nn.Dropout(p) \n",
    "\n",
    "    def forward(self, x):\n",
    "        h = self.conv(x)\n",
    "        h = self.bn(h) if self.bn is not None else h\n",
    "        h = self.dropout(h) \n",
    "        return h\n",
    "\n",
    "\n",
    "class LuxNet(nn.Module):\n",
    "    def __init__(self):\n",
    "        super().__init__()\n",
    "        layers, filters = 12, 64\n",
    "        self.conv0 = BasicConv2d(29, filters, (3, 3), True, p=0.2)\n",
    "        self.blocks = nn.ModuleList([BasicConv2d(filters, filters, (3, 3), True) for _ in range(layers)])\n",
    "        self.head_p = nn.Linear(filters, 5, bias=False)\n",
    "\n",
    "    def forward(self, x):\n",
    "        h = F.relu_(self.conv0(x))\n",
    "        for block in self.blocks:\n",
    "            h = F.relu_(h + block(h))\n",
    "        h_head = (h * x[:,:1]).view(h.size(0), h.size(1), -1).sum(-1)\n",
    "        p = self.head_p(h_head)\n",
    "        return p\n",
    "    \n",
    "    \n",
    "class LuxCityNet(nn.Module):\n",
    "    def __init__(self):\n",
    "        super().__init__()\n",
    "        layers, filters = 12, 32\n",
    "        self.conv0 = BasicConv2d(21, filters, (3, 3), True, p=0.2)\n",
    "        self.blocks = nn.ModuleList([BasicConv2d(filters, filters, (3, 3), True) for _ in range(layers)])\n",
    "        self.head_p = nn.Linear(filters, 2, bias=False)\n",
    "\n",
    "    def forward(self, x):\n",
    "        h = F.relu_(self.conv0(x))\n",
    "        for block in self.blocks:\n",
    "            h = F.relu_(h + block(h))\n",
    "        h_head = (h * x[:,:1]).view(h.size(0), h.size(1), -1).sum(-1)\n",
    "        p = self.head_p(h_head)\n",
    "        return p"
   ]
  },
  {
   "cell_type": "markdown",
   "metadata": {},
   "source": [
    "### Set dataloaders"
   ]
  },
  {
   "cell_type": "code",
   "execution_count": 18,
   "metadata": {},
   "outputs": [],
   "source": [
    "# mask for apropriate change of moving action during rotation\n",
    "# 0 - no transform, 1 - rotation on 90, 2 - rotation on 180, \n",
    "# 3 - rotation on 270, 4 - horizontal flip, 5 - vertical flip\n",
    "mask = (\n",
    "        (0, 1, 2, 3, 4), \n",
    "        (2, 3, 1, 0, 4), # N -> W, S -> E, W -> S, E -> N - rot 90\n",
    "        (1, 0, 3, 2, 4), # N -> S, S -> N, W -> E, E -> W - rot 180\n",
    "        (3, 2, 0, 1, 4), # N -> E, S -> W, W -> N, E -> S - rot 270\n",
    "        (1, 0, 2, 3, 4), # N -> S, S -> N, W -> W, E -> E - hflip\n",
    "        (0, 1, 3, 2, 4), # N -> N, S -> S, W -> E, E -> W - vflip\n",
    "        )\n",
    "\n",
    "def do_nothing(x):\n",
    "    return x\n",
    "\n",
    "class RandomChoice(torch.nn.Module):\n",
    "    def __init__(self, transforms):\n",
    "       super().__init__()\n",
    "       self.transforms = transforms\n",
    "\n",
    "    def __call__(self, x):\n",
    "        idx = random.choice([i for i in range(len(self.transforms))])\n",
    "        t = self.transforms[idx]\n",
    "        x = torch.from_numpy(x)\n",
    "        return t(x), idx\n",
    "\n",
    "transform=RandomChoice([lambda x: x,\n",
    "                        lambda x: torch.rot90(x, 1, [2, 1]),\n",
    "                        lambda x: torch.rot90(x, 2, [2, 1]),\n",
    "                        lambda x: torch.rot90(x, 1, [1, 2]),\n",
    "                        TF.hflip,\n",
    "                        TF.vflip])\n",
    "    \n",
    "class LuxDataset(Dataset):\n",
    "    def __init__(self, obses, samples, transform=transform, mask=mask, city=False):\n",
    "        self.obses = obses\n",
    "        self.samples = samples\n",
    "        self.data_len = len(self.samples)\n",
    "        self.len = self.data_len*6\n",
    "        self.transform = transform\n",
    "        self.mask = mask\n",
    "        self.city = city\n",
    "            \n",
    "    def __len__(self):\n",
    "        return self.len\n",
    "\n",
    "    def __getitem__(self, idx):\n",
    "        data_idx = idx % self.data_len\n",
    "        obs_id, unit_id, action = self.samples[data_idx]\n",
    "        obs = self.obses[obs_id]\n",
    "        if not self.city:\n",
    "            state = make_input(obs, unit_id)\n",
    "        else:\n",
    "            state = make_city_input(obs, unit_id)\n",
    "        if self.transform:\n",
    "            t = self.transform(state)\n",
    "            state = t[0]\n",
    "            if not self.city:\n",
    "                action = self.mask[t[1]][action]\n",
    "        return state, action"
   ]
  },
  {
   "cell_type": "markdown",
   "metadata": {},
   "source": [
    "### Function for NN training"
   ]
  },
  {
   "cell_type": "code",
   "execution_count": 19,
   "metadata": {
    "execution": {
     "iopub.execute_input": "2021-09-21T02:10:40.977015Z",
     "iopub.status.busy": "2021-09-21T02:10:40.976754Z",
     "iopub.status.idle": "2021-09-21T02:10:40.990161Z",
     "shell.execute_reply": "2021-09-21T02:10:40.989333Z",
     "shell.execute_reply.started": "2021-09-21T02:10:40.976986Z"
    }
   },
   "outputs": [],
   "source": [
    "import matplotlib.pyplot as plt\n",
    "# from torch.utils.tensorboard import SummaryWriter\n",
    "\n",
    "def train_model(model, dataloaders_dict, criterion, optimizer, scheduler, num_epochs, city=False):\n",
    "#     tb = SummaryWriter()\n",
    "    \n",
    "    best_acc = 0.0\n",
    "    \n",
    "    for epoch in range(num_epochs):\n",
    "        model.cuda()\n",
    "        \n",
    "        for phase in ['train', 'val']:\n",
    "            if phase == 'train':\n",
    "                model.train()\n",
    "            else:\n",
    "                model.eval()\n",
    "                \n",
    "            epoch_loss = 0.0\n",
    "            epoch_acc = 0\n",
    "            \n",
    "            dataloader = dataloaders_dict[phase]\n",
    "            for item in tqdm(dataloader, leave=False):\n",
    "                \n",
    "                states = item[0].cuda().float()\n",
    "                actions = item[1].cuda().long()\n",
    "\n",
    "                optimizer.zero_grad()\n",
    "                \n",
    "                with torch.set_grad_enabled(phase == 'train'):\n",
    "                    policy = model(states)\n",
    "                    loss = criterion(policy, actions)\n",
    "                    _, preds = torch.max(policy, 1)\n",
    "\n",
    "                    if phase == 'train':\n",
    "                        loss.backward()\n",
    "                        optimizer.step()\n",
    "\n",
    "                    epoch_loss += loss.item() * len(policy)\n",
    "                    epoch_acc += torch.sum(preds == actions.data)\n",
    "\n",
    "            data_size = len(dataloader.dataset)\n",
    "            epoch_loss = epoch_loss / data_size\n",
    "            epoch_acc = epoch_acc.double() / data_size\n",
    "\n",
    "#             if phase == 'train':\n",
    "#                 tb.add_scalar(\"Train Loss\", epoch_loss, epoch)\n",
    "#                 tb.add_scalar(\"Train Accuracy\", epoch_acc, epoch)\n",
    "#             else:\n",
    "#                 tb.add_scalar(\"Val Loss\", epoch_loss, epoch)\n",
    "#                 tb.add_scalar(\"Val Accuracy\", epoch_acc, epoch)\n",
    "            \n",
    "            print(f'Epoch {epoch + 1}/{num_epochs} | {phase:^5} | Loss: {epoch_loss:.4f} | Acc: {epoch_acc:.4f}')\n",
    "        \n",
    "        if epoch_acc > best_acc:\n",
    "            if city:\n",
    "                traced = torch.jit.trace(model.cpu(), torch.rand(1, 21, 32, 32))\n",
    "                traced.save('agent/model_city.pth')\n",
    "            else:\n",
    "                traced = torch.jit.trace(model.cpu(), torch.rand(1, 29, 32, 32))\n",
    "                traced.save('agent/model.pth')\n",
    "            best_acc = epoch_acc\n",
    "            \n",
    "        scheduler.step(epoch_loss)\n",
    "        print(f'LR: {optimizer.param_groups[0][\"lr\"]}')\n",
    "            \n",
    "#     tb.close()"
   ]
  },
  {
   "cell_type": "markdown",
   "metadata": {},
   "source": [
    "### Init dataloaders"
   ]
  },
  {
   "cell_type": "code",
   "execution_count": 20,
   "metadata": {
    "execution": {
     "iopub.execute_input": "2021-09-21T02:10:40.993264Z",
     "iopub.status.busy": "2021-09-21T02:10:40.992907Z",
     "iopub.status.idle": "2021-09-21T02:10:41.159575Z",
     "shell.execute_reply": "2021-09-21T02:10:41.158852Z",
     "shell.execute_reply.started": "2021-09-21T02:10:40.993229Z"
    },
    "scrolled": false
   },
   "outputs": [],
   "source": [
    "# model for unit actions\n",
    "model = LuxNet()\n",
    "train, val = train_test_split(samples, test_size=0.1, random_state=42, stratify=labels)\n",
    "batch_size = 256\n",
    "\n",
    "train_loader = DataLoader(\n",
    "    LuxDataset(obses, train), \n",
    "    batch_size=batch_size, \n",
    "    shuffle=True, \n",
    "    num_workers=2\n",
    ")\n",
    "val_loader = DataLoader(\n",
    "    LuxDataset(obses, val), \n",
    "    batch_size=batch_size, \n",
    "    shuffle=False, \n",
    "    num_workers=2\n",
    ")\n",
    "dataloaders_dict = {\"train\": train_loader, \"val\": val_loader}\n",
    "\n",
    "# model for city actions\n",
    "model_city = LuxCityNet()\n",
    "train_city, val_city = train_test_split(city_samples, test_size=0.1, random_state=42, stratify=labels_city)\n",
    "batch_size_city = 128\n",
    "\n",
    "train_city_loader = DataLoader(\n",
    "    LuxDataset(obses, train_city, city=True), \n",
    "    batch_size=batch_size, \n",
    "    shuffle=True, \n",
    "    num_workers=2\n",
    ")\n",
    "    \n",
    "val_city_loader = DataLoader(\n",
    "    LuxDataset(obses, val_city, city=True), \n",
    "    batch_size=batch_size, \n",
    "    shuffle=False, \n",
    "    num_workers=2\n",
    ")\n",
    "dataloaders_city_dict = {\"train\": train_city_loader, \"val\": val_city_loader}"
   ]
  },
  {
   "cell_type": "markdown",
   "metadata": {},
   "source": [
    "### Train models"
   ]
  },
  {
   "cell_type": "code",
   "execution_count": null,
   "metadata": {
    "scrolled": true
   },
   "outputs": [
    {
     "data": {
      "application/vnd.jupyter.widget-view+json": {
       "model_id": "",
       "version_major": 2,
       "version_minor": 0
      },
      "text/plain": [
       "  0%|          | 0/11674 [00:00<?, ?it/s]"
      ]
     },
     "metadata": {},
     "output_type": "display_data"
    },
    {
     "name": "stdout",
     "output_type": "stream",
     "text": [
      "Epoch 1/30 | train | Loss: 0.6575 | Acc: 0.7359\n"
     ]
    },
    {
     "data": {
      "application/vnd.jupyter.widget-view+json": {
       "model_id": "",
       "version_major": 2,
       "version_minor": 0
      },
      "text/plain": [
       "  0%|          | 0/1298 [00:00<?, ?it/s]"
      ]
     },
     "metadata": {},
     "output_type": "display_data"
    },
    {
     "name": "stdout",
     "output_type": "stream",
     "text": [
      "Epoch 1/30 |  val  | Loss: 0.5435 | Acc: 0.7816\n",
      "LR: 0.001\n"
     ]
    },
    {
     "data": {
      "application/vnd.jupyter.widget-view+json": {
       "model_id": "",
       "version_major": 2,
       "version_minor": 0
      },
      "text/plain": [
       "  0%|          | 0/11674 [00:00<?, ?it/s]"
      ]
     },
     "metadata": {},
     "output_type": "display_data"
    },
    {
     "name": "stdout",
     "output_type": "stream",
     "text": [
      "Epoch 2/30 | train | Loss: 0.5531 | Acc: 0.7777\n"
     ]
    },
    {
     "data": {
      "application/vnd.jupyter.widget-view+json": {
       "model_id": "",
       "version_major": 2,
       "version_minor": 0
      },
      "text/plain": [
       "  0%|          | 0/1298 [00:00<?, ?it/s]"
      ]
     },
     "metadata": {},
     "output_type": "display_data"
    },
    {
     "name": "stdout",
     "output_type": "stream",
     "text": [
      "Epoch 2/30 |  val  | Loss: 0.5119 | Acc: 0.7941\n",
      "LR: 0.001\n"
     ]
    },
    {
     "data": {
      "application/vnd.jupyter.widget-view+json": {
       "model_id": "",
       "version_major": 2,
       "version_minor": 0
      },
      "text/plain": [
       "  0%|          | 0/11674 [00:00<?, ?it/s]"
      ]
     },
     "metadata": {},
     "output_type": "display_data"
    },
    {
     "name": "stdout",
     "output_type": "stream",
     "text": [
      "Epoch 3/30 | train | Loss: 0.5242 | Acc: 0.7890\n"
     ]
    },
    {
     "data": {
      "application/vnd.jupyter.widget-view+json": {
       "model_id": "",
       "version_major": 2,
       "version_minor": 0
      },
      "text/plain": [
       "  0%|          | 0/1298 [00:00<?, ?it/s]"
      ]
     },
     "metadata": {},
     "output_type": "display_data"
    },
    {
     "name": "stdout",
     "output_type": "stream",
     "text": [
      "Epoch 3/30 |  val  | Loss: 0.4874 | Acc: 0.8049\n",
      "LR: 0.001\n"
     ]
    },
    {
     "data": {
      "application/vnd.jupyter.widget-view+json": {
       "model_id": "",
       "version_major": 2,
       "version_minor": 0
      },
      "text/plain": [
       "  0%|          | 0/11674 [00:00<?, ?it/s]"
      ]
     },
     "metadata": {},
     "output_type": "display_data"
    },
    {
     "name": "stdout",
     "output_type": "stream",
     "text": [
      "Epoch 4/30 | train | Loss: 0.5077 | Acc: 0.7955\n"
     ]
    },
    {
     "data": {
      "application/vnd.jupyter.widget-view+json": {
       "model_id": "",
       "version_major": 2,
       "version_minor": 0
      },
      "text/plain": [
       "  0%|          | 0/1298 [00:00<?, ?it/s]"
      ]
     },
     "metadata": {},
     "output_type": "display_data"
    },
    {
     "name": "stdout",
     "output_type": "stream",
     "text": [
      "Epoch 4/30 |  val  | Loss: 0.4776 | Acc: 0.8074\n",
      "LR: 0.001\n"
     ]
    },
    {
     "data": {
      "application/vnd.jupyter.widget-view+json": {
       "model_id": "",
       "version_major": 2,
       "version_minor": 0
      },
      "text/plain": [
       "  0%|          | 0/11674 [00:00<?, ?it/s]"
      ]
     },
     "metadata": {},
     "output_type": "display_data"
    },
    {
     "name": "stdout",
     "output_type": "stream",
     "text": [
      "Epoch 5/30 | train | Loss: 0.4962 | Acc: 0.7998\n"
     ]
    },
    {
     "data": {
      "application/vnd.jupyter.widget-view+json": {
       "model_id": "",
       "version_major": 2,
       "version_minor": 0
      },
      "text/plain": [
       "  0%|          | 0/1298 [00:00<?, ?it/s]"
      ]
     },
     "metadata": {},
     "output_type": "display_data"
    },
    {
     "name": "stdout",
     "output_type": "stream",
     "text": [
      "Epoch 5/30 |  val  | Loss: 0.4684 | Acc: 0.8111\n",
      "LR: 0.001\n"
     ]
    },
    {
     "data": {
      "application/vnd.jupyter.widget-view+json": {
       "model_id": "",
       "version_major": 2,
       "version_minor": 0
      },
      "text/plain": [
       "  0%|          | 0/11674 [00:00<?, ?it/s]"
      ]
     },
     "metadata": {},
     "output_type": "display_data"
    },
    {
     "name": "stdout",
     "output_type": "stream",
     "text": [
      "Epoch 6/30 | train | Loss: 0.4877 | Acc: 0.8033\n"
     ]
    },
    {
     "data": {
      "application/vnd.jupyter.widget-view+json": {
       "model_id": "",
       "version_major": 2,
       "version_minor": 0
      },
      "text/plain": [
       "  0%|          | 0/1298 [00:00<?, ?it/s]"
      ]
     },
     "metadata": {},
     "output_type": "display_data"
    },
    {
     "name": "stdout",
     "output_type": "stream",
     "text": [
      "Epoch 6/30 |  val  | Loss: 0.4747 | Acc: 0.8080\n",
      "LR: 0.001\n"
     ]
    },
    {
     "data": {
      "application/vnd.jupyter.widget-view+json": {
       "model_id": "",
       "version_major": 2,
       "version_minor": 0
      },
      "text/plain": [
       "  0%|          | 0/11674 [00:00<?, ?it/s]"
      ]
     },
     "metadata": {},
     "output_type": "display_data"
    },
    {
     "name": "stdout",
     "output_type": "stream",
     "text": [
      "Epoch 7/30 | train | Loss: 0.4816 | Acc: 0.8057\n"
     ]
    },
    {
     "data": {
      "application/vnd.jupyter.widget-view+json": {
       "model_id": "",
       "version_major": 2,
       "version_minor": 0
      },
      "text/plain": [
       "  0%|          | 0/1298 [00:00<?, ?it/s]"
      ]
     },
     "metadata": {},
     "output_type": "display_data"
    },
    {
     "name": "stdout",
     "output_type": "stream",
     "text": [
      "Epoch 7/30 |  val  | Loss: 0.4589 | Acc: 0.8143\n",
      "LR: 0.001\n"
     ]
    },
    {
     "data": {
      "application/vnd.jupyter.widget-view+json": {
       "model_id": "",
       "version_major": 2,
       "version_minor": 0
      },
      "text/plain": [
       "  0%|          | 0/11674 [00:00<?, ?it/s]"
      ]
     },
     "metadata": {},
     "output_type": "display_data"
    },
    {
     "name": "stdout",
     "output_type": "stream",
     "text": [
      "Epoch 8/30 | train | Loss: 0.4761 | Acc: 0.8077\n"
     ]
    },
    {
     "data": {
      "application/vnd.jupyter.widget-view+json": {
       "model_id": "",
       "version_major": 2,
       "version_minor": 0
      },
      "text/plain": [
       "  0%|          | 0/1298 [00:00<?, ?it/s]"
      ]
     },
     "metadata": {},
     "output_type": "display_data"
    },
    {
     "name": "stdout",
     "output_type": "stream",
     "text": [
      "Epoch 8/30 |  val  | Loss: 0.4572 | Acc: 0.8149\n",
      "LR: 0.001\n"
     ]
    },
    {
     "data": {
      "application/vnd.jupyter.widget-view+json": {
       "model_id": "",
       "version_major": 2,
       "version_minor": 0
      },
      "text/plain": [
       "  0%|          | 0/11674 [00:00<?, ?it/s]"
      ]
     },
     "metadata": {},
     "output_type": "display_data"
    },
    {
     "name": "stdout",
     "output_type": "stream",
     "text": [
      "Epoch 9/30 | train | Loss: 0.4718 | Acc: 0.8094\n"
     ]
    },
    {
     "data": {
      "application/vnd.jupyter.widget-view+json": {
       "model_id": "",
       "version_major": 2,
       "version_minor": 0
      },
      "text/plain": [
       "  0%|          | 0/1298 [00:00<?, ?it/s]"
      ]
     },
     "metadata": {},
     "output_type": "display_data"
    },
    {
     "name": "stdout",
     "output_type": "stream",
     "text": [
      "Epoch 9/30 |  val  | Loss: 0.4621 | Acc: 0.8136\n",
      "LR: 0.001\n"
     ]
    },
    {
     "data": {
      "application/vnd.jupyter.widget-view+json": {
       "model_id": "",
       "version_major": 2,
       "version_minor": 0
      },
      "text/plain": [
       "  0%|          | 0/11674 [00:00<?, ?it/s]"
      ]
     },
     "metadata": {},
     "output_type": "display_data"
    },
    {
     "name": "stdout",
     "output_type": "stream",
     "text": [
      "Epoch 10/30 | train | Loss: 0.4688 | Acc: 0.8108\n"
     ]
    },
    {
     "data": {
      "application/vnd.jupyter.widget-view+json": {
       "model_id": "",
       "version_major": 2,
       "version_minor": 0
      },
      "text/plain": [
       "  0%|          | 0/1298 [00:00<?, ?it/s]"
      ]
     },
     "metadata": {},
     "output_type": "display_data"
    },
    {
     "name": "stdout",
     "output_type": "stream",
     "text": [
      "Epoch 10/30 |  val  | Loss: 0.4542 | Acc: 0.8166\n",
      "LR: 0.001\n"
     ]
    },
    {
     "data": {
      "application/vnd.jupyter.widget-view+json": {
       "model_id": "",
       "version_major": 2,
       "version_minor": 0
      },
      "text/plain": [
       "  0%|          | 0/11674 [00:00<?, ?it/s]"
      ]
     },
     "metadata": {},
     "output_type": "display_data"
    },
    {
     "name": "stdout",
     "output_type": "stream",
     "text": [
      "Epoch 11/30 | train | Loss: 0.4655 | Acc: 0.8120\n"
     ]
    },
    {
     "data": {
      "application/vnd.jupyter.widget-view+json": {
       "model_id": "",
       "version_major": 2,
       "version_minor": 0
      },
      "text/plain": [
       "  0%|          | 0/1298 [00:00<?, ?it/s]"
      ]
     },
     "metadata": {},
     "output_type": "display_data"
    },
    {
     "name": "stdout",
     "output_type": "stream",
     "text": [
      "Epoch 11/30 |  val  | Loss: 0.4524 | Acc: 0.8170\n",
      "LR: 0.001\n"
     ]
    },
    {
     "data": {
      "application/vnd.jupyter.widget-view+json": {
       "model_id": "",
       "version_major": 2,
       "version_minor": 0
      },
      "text/plain": [
       "  0%|          | 0/11674 [00:00<?, ?it/s]"
      ]
     },
     "metadata": {},
     "output_type": "display_data"
    },
    {
     "name": "stdout",
     "output_type": "stream",
     "text": [
      "Epoch 12/30 | train | Loss: 0.4626 | Acc: 0.8130\n"
     ]
    },
    {
     "data": {
      "application/vnd.jupyter.widget-view+json": {
       "model_id": "",
       "version_major": 2,
       "version_minor": 0
      },
      "text/plain": [
       "  0%|          | 0/1298 [00:00<?, ?it/s]"
      ]
     },
     "metadata": {},
     "output_type": "display_data"
    },
    {
     "name": "stdout",
     "output_type": "stream",
     "text": [
      "Epoch 12/30 |  val  | Loss: 0.4496 | Acc: 0.8187\n",
      "LR: 0.001\n"
     ]
    },
    {
     "data": {
      "application/vnd.jupyter.widget-view+json": {
       "model_id": "",
       "version_major": 2,
       "version_minor": 0
      },
      "text/plain": [
       "  0%|          | 0/11674 [00:00<?, ?it/s]"
      ]
     },
     "metadata": {},
     "output_type": "display_data"
    },
    {
     "name": "stdout",
     "output_type": "stream",
     "text": [
      "Epoch 13/30 | train | Loss: 0.4607 | Acc: 0.8139\n"
     ]
    },
    {
     "data": {
      "application/vnd.jupyter.widget-view+json": {
       "model_id": "",
       "version_major": 2,
       "version_minor": 0
      },
      "text/plain": [
       "  0%|          | 0/1298 [00:00<?, ?it/s]"
      ]
     },
     "metadata": {},
     "output_type": "display_data"
    },
    {
     "name": "stdout",
     "output_type": "stream",
     "text": [
      "Epoch 13/30 |  val  | Loss: 0.4482 | Acc: 0.8198\n",
      "LR: 0.001\n"
     ]
    },
    {
     "data": {
      "application/vnd.jupyter.widget-view+json": {
       "model_id": "",
       "version_major": 2,
       "version_minor": 0
      },
      "text/plain": [
       "  0%|          | 0/11674 [00:00<?, ?it/s]"
      ]
     },
     "metadata": {},
     "output_type": "display_data"
    },
    {
     "name": "stdout",
     "output_type": "stream",
     "text": [
      "Epoch 14/30 | train | Loss: 0.4581 | Acc: 0.8147\n"
     ]
    },
    {
     "data": {
      "application/vnd.jupyter.widget-view+json": {
       "model_id": "",
       "version_major": 2,
       "version_minor": 0
      },
      "text/plain": [
       "  0%|          | 0/1298 [00:00<?, ?it/s]"
      ]
     },
     "metadata": {},
     "output_type": "display_data"
    },
    {
     "name": "stdout",
     "output_type": "stream",
     "text": [
      "Epoch 14/30 |  val  | Loss: 0.4515 | Acc: 0.8170\n",
      "LR: 0.001\n"
     ]
    },
    {
     "data": {
      "application/vnd.jupyter.widget-view+json": {
       "model_id": "",
       "version_major": 2,
       "version_minor": 0
      },
      "text/plain": [
       "  0%|          | 0/11674 [00:00<?, ?it/s]"
      ]
     },
     "metadata": {},
     "output_type": "display_data"
    },
    {
     "name": "stdout",
     "output_type": "stream",
     "text": [
      "Epoch 15/30 | train | Loss: 0.4563 | Acc: 0.8156\n"
     ]
    },
    {
     "data": {
      "application/vnd.jupyter.widget-view+json": {
       "model_id": "",
       "version_major": 2,
       "version_minor": 0
      },
      "text/plain": [
       "  0%|          | 0/1298 [00:00<?, ?it/s]"
      ]
     },
     "metadata": {},
     "output_type": "display_data"
    },
    {
     "name": "stdout",
     "output_type": "stream",
     "text": [
      "Epoch 15/30 |  val  | Loss: 0.4589 | Acc: 0.8150\n",
      "LR: 0.001\n"
     ]
    },
    {
     "data": {
      "application/vnd.jupyter.widget-view+json": {
       "model_id": "",
       "version_major": 2,
       "version_minor": 0
      },
      "text/plain": [
       "  0%|          | 0/11674 [00:00<?, ?it/s]"
      ]
     },
     "metadata": {},
     "output_type": "display_data"
    },
    {
     "name": "stdout",
     "output_type": "stream",
     "text": [
      "Epoch 16/30 | train | Loss: 0.4545 | Acc: 0.8162\n"
     ]
    },
    {
     "data": {
      "application/vnd.jupyter.widget-view+json": {
       "model_id": "",
       "version_major": 2,
       "version_minor": 0
      },
      "text/plain": [
       "  0%|          | 0/1298 [00:00<?, ?it/s]"
      ]
     },
     "metadata": {},
     "output_type": "display_data"
    },
    {
     "name": "stdout",
     "output_type": "stream",
     "text": [
      "Epoch 16/30 |  val  | Loss: 0.4495 | Acc: 0.8172\n",
      "LR: 0.001\n"
     ]
    },
    {
     "data": {
      "application/vnd.jupyter.widget-view+json": {
       "model_id": "",
       "version_major": 2,
       "version_minor": 0
      },
      "text/plain": [
       "  0%|          | 0/11674 [00:00<?, ?it/s]"
      ]
     },
     "metadata": {},
     "output_type": "display_data"
    },
    {
     "name": "stdout",
     "output_type": "stream",
     "text": [
      "Epoch 17/30 | train | Loss: 0.4537 | Acc: 0.8162\n"
     ]
    },
    {
     "data": {
      "application/vnd.jupyter.widget-view+json": {
       "model_id": "",
       "version_major": 2,
       "version_minor": 0
      },
      "text/plain": [
       "  0%|          | 0/1298 [00:00<?, ?it/s]"
      ]
     },
     "metadata": {},
     "output_type": "display_data"
    },
    {
     "name": "stdout",
     "output_type": "stream",
     "text": [
      "Epoch 17/30 |  val  | Loss: 0.4413 | Acc: 0.8215\n",
      "LR: 0.001\n"
     ]
    },
    {
     "data": {
      "application/vnd.jupyter.widget-view+json": {
       "model_id": "",
       "version_major": 2,
       "version_minor": 0
      },
      "text/plain": [
       "  0%|          | 0/11674 [00:00<?, ?it/s]"
      ]
     },
     "metadata": {},
     "output_type": "display_data"
    },
    {
     "name": "stdout",
     "output_type": "stream",
     "text": [
      "Epoch 18/30 | train | Loss: 0.4521 | Acc: 0.8171\n"
     ]
    },
    {
     "data": {
      "application/vnd.jupyter.widget-view+json": {
       "model_id": "",
       "version_major": 2,
       "version_minor": 0
      },
      "text/plain": [
       "  0%|          | 0/1298 [00:00<?, ?it/s]"
      ]
     },
     "metadata": {},
     "output_type": "display_data"
    },
    {
     "name": "stdout",
     "output_type": "stream",
     "text": [
      "Epoch 18/30 |  val  | Loss: 0.4463 | Acc: 0.8193\n",
      "LR: 0.001\n"
     ]
    },
    {
     "data": {
      "application/vnd.jupyter.widget-view+json": {
       "model_id": "",
       "version_major": 2,
       "version_minor": 0
      },
      "text/plain": [
       "  0%|          | 0/11674 [00:00<?, ?it/s]"
      ]
     },
     "metadata": {},
     "output_type": "display_data"
    },
    {
     "name": "stdout",
     "output_type": "stream",
     "text": [
      "Epoch 19/30 | train | Loss: 0.4505 | Acc: 0.8178\n"
     ]
    },
    {
     "data": {
      "application/vnd.jupyter.widget-view+json": {
       "model_id": "",
       "version_major": 2,
       "version_minor": 0
      },
      "text/plain": [
       "  0%|          | 0/1298 [00:00<?, ?it/s]"
      ]
     },
     "metadata": {},
     "output_type": "display_data"
    },
    {
     "name": "stdout",
     "output_type": "stream",
     "text": [
      "Epoch 19/30 |  val  | Loss: 0.4415 | Acc: 0.8215\n",
      "LR: 0.001\n"
     ]
    },
    {
     "data": {
      "application/vnd.jupyter.widget-view+json": {
       "model_id": "",
       "version_major": 2,
       "version_minor": 0
      },
      "text/plain": [
       "  0%|          | 0/11674 [00:00<?, ?it/s]"
      ]
     },
     "metadata": {},
     "output_type": "display_data"
    },
    {
     "name": "stdout",
     "output_type": "stream",
     "text": [
      "Epoch 20/30 | train | Loss: 0.4494 | Acc: 0.8183\n"
     ]
    },
    {
     "data": {
      "application/vnd.jupyter.widget-view+json": {
       "model_id": "",
       "version_major": 2,
       "version_minor": 0
      },
      "text/plain": [
       "  0%|          | 0/1298 [00:00<?, ?it/s]"
      ]
     },
     "metadata": {},
     "output_type": "display_data"
    },
    {
     "name": "stdout",
     "output_type": "stream",
     "text": [
      "Epoch 20/30 |  val  | Loss: 0.4412 | Acc: 0.8227\n",
      "LR: 0.001\n"
     ]
    },
    {
     "data": {
      "application/vnd.jupyter.widget-view+json": {
       "model_id": "",
       "version_major": 2,
       "version_minor": 0
      },
      "text/plain": [
       "  0%|          | 0/11674 [00:00<?, ?it/s]"
      ]
     },
     "metadata": {},
     "output_type": "display_data"
    },
    {
     "name": "stdout",
     "output_type": "stream",
     "text": [
      "Epoch 21/30 | train | Loss: 0.4485 | Acc: 0.8184\n"
     ]
    },
    {
     "data": {
      "application/vnd.jupyter.widget-view+json": {
       "model_id": "",
       "version_major": 2,
       "version_minor": 0
      },
      "text/plain": [
       "  0%|          | 0/1298 [00:00<?, ?it/s]"
      ]
     },
     "metadata": {},
     "output_type": "display_data"
    },
    {
     "name": "stdout",
     "output_type": "stream",
     "text": [
      "Epoch 21/30 |  val  | Loss: 0.4435 | Acc: 0.8204\n",
      "LR: 0.0001\n"
     ]
    },
    {
     "data": {
      "application/vnd.jupyter.widget-view+json": {
       "model_id": "",
       "version_major": 2,
       "version_minor": 0
      },
      "text/plain": [
       "  0%|          | 0/11674 [00:00<?, ?it/s]"
      ]
     },
     "metadata": {},
     "output_type": "display_data"
    },
    {
     "name": "stdout",
     "output_type": "stream",
     "text": [
      "Epoch 22/30 | train | Loss: 0.4185 | Acc: 0.8305\n"
     ]
    },
    {
     "data": {
      "application/vnd.jupyter.widget-view+json": {
       "model_id": "",
       "version_major": 2,
       "version_minor": 0
      },
      "text/plain": [
       "  0%|          | 0/1298 [00:00<?, ?it/s]"
      ]
     },
     "metadata": {},
     "output_type": "display_data"
    },
    {
     "name": "stdout",
     "output_type": "stream",
     "text": [
      "Epoch 22/30 |  val  | Loss: 0.4178 | Acc: 0.8309\n",
      "LR: 0.0001\n"
     ]
    },
    {
     "data": {
      "application/vnd.jupyter.widget-view+json": {
       "model_id": "",
       "version_major": 2,
       "version_minor": 0
      },
      "text/plain": [
       "  0%|          | 0/11674 [00:00<?, ?it/s]"
      ]
     },
     "metadata": {},
     "output_type": "display_data"
    },
    {
     "name": "stdout",
     "output_type": "stream",
     "text": [
      "Epoch 23/30 | train | Loss: 0.4116 | Acc: 0.8332\n"
     ]
    },
    {
     "data": {
      "application/vnd.jupyter.widget-view+json": {
       "model_id": "",
       "version_major": 2,
       "version_minor": 0
      },
      "text/plain": [
       "  0%|          | 0/1298 [00:00<?, ?it/s]"
      ]
     },
     "metadata": {},
     "output_type": "display_data"
    },
    {
     "name": "stdout",
     "output_type": "stream",
     "text": [
      "Epoch 23/30 |  val  | Loss: 0.4143 | Acc: 0.8323\n",
      "LR: 0.0001\n"
     ]
    },
    {
     "data": {
      "application/vnd.jupyter.widget-view+json": {
       "model_id": "",
       "version_major": 2,
       "version_minor": 0
      },
      "text/plain": [
       "  0%|          | 0/11674 [00:00<?, ?it/s]"
      ]
     },
     "metadata": {},
     "output_type": "display_data"
    },
    {
     "name": "stdout",
     "output_type": "stream",
     "text": [
      "Epoch 24/30 | train | Loss: 0.4082 | Acc: 0.8343\n"
     ]
    },
    {
     "data": {
      "application/vnd.jupyter.widget-view+json": {
       "model_id": "",
       "version_major": 2,
       "version_minor": 0
      },
      "text/plain": [
       "  0%|          | 0/1298 [00:00<?, ?it/s]"
      ]
     },
     "metadata": {},
     "output_type": "display_data"
    },
    {
     "name": "stdout",
     "output_type": "stream",
     "text": [
      "Epoch 24/30 |  val  | Loss: 0.4113 | Acc: 0.8335\n",
      "LR: 0.0001\n"
     ]
    },
    {
     "data": {
      "application/vnd.jupyter.widget-view+json": {
       "model_id": "",
       "version_major": 2,
       "version_minor": 0
      },
      "text/plain": [
       "  0%|          | 0/11674 [00:00<?, ?it/s]"
      ]
     },
     "metadata": {},
     "output_type": "display_data"
    },
    {
     "name": "stdout",
     "output_type": "stream",
     "text": [
      "Epoch 25/30 | train | Loss: 0.4060 | Acc: 0.8353\n"
     ]
    },
    {
     "data": {
      "application/vnd.jupyter.widget-view+json": {
       "model_id": "",
       "version_major": 2,
       "version_minor": 0
      },
      "text/plain": [
       "  0%|          | 0/1298 [00:00<?, ?it/s]"
      ]
     },
     "metadata": {},
     "output_type": "display_data"
    },
    {
     "name": "stdout",
     "output_type": "stream",
     "text": [
      "Epoch 25/30 |  val  | Loss: 0.4120 | Acc: 0.8336\n",
      "LR: 0.0001\n"
     ]
    },
    {
     "data": {
      "application/vnd.jupyter.widget-view+json": {
       "model_id": "",
       "version_major": 2,
       "version_minor": 0
      },
      "text/plain": [
       "  0%|          | 0/11674 [00:00<?, ?it/s]"
      ]
     },
     "metadata": {},
     "output_type": "display_data"
    },
    {
     "name": "stdout",
     "output_type": "stream",
     "text": [
      "Epoch 26/30 | train | Loss: 0.4043 | Acc: 0.8359\n"
     ]
    },
    {
     "data": {
      "application/vnd.jupyter.widget-view+json": {
       "model_id": "",
       "version_major": 2,
       "version_minor": 0
      },
      "text/plain": [
       "  0%|          | 0/1298 [00:00<?, ?it/s]"
      ]
     },
     "metadata": {},
     "output_type": "display_data"
    },
    {
     "name": "stdout",
     "output_type": "stream",
     "text": [
      "Epoch 26/30 |  val  | Loss: 0.4113 | Acc: 0.8332\n",
      "LR: 0.0001\n"
     ]
    },
    {
     "data": {
      "application/vnd.jupyter.widget-view+json": {
       "model_id": "",
       "version_major": 2,
       "version_minor": 0
      },
      "text/plain": [
       "  0%|          | 0/11674 [00:00<?, ?it/s]"
      ]
     },
     "metadata": {},
     "output_type": "display_data"
    },
    {
     "name": "stdout",
     "output_type": "stream",
     "text": [
      "Epoch 27/30 | train | Loss: 0.4030 | Acc: 0.8367\n"
     ]
    },
    {
     "data": {
      "application/vnd.jupyter.widget-view+json": {
       "model_id": "",
       "version_major": 2,
       "version_minor": 0
      },
      "text/plain": [
       "  0%|          | 0/1298 [00:00<?, ?it/s]"
      ]
     },
     "metadata": {},
     "output_type": "display_data"
    },
    {
     "name": "stdout",
     "output_type": "stream",
     "text": [
      "Epoch 27/30 |  val  | Loss: 0.4124 | Acc: 0.8342\n",
      "LR: 0.0001\n"
     ]
    },
    {
     "data": {
      "application/vnd.jupyter.widget-view+json": {
       "model_id": "",
       "version_major": 2,
       "version_minor": 0
      },
      "text/plain": [
       "  0%|          | 0/11674 [00:00<?, ?it/s]"
      ]
     },
     "metadata": {},
     "output_type": "display_data"
    },
    {
     "name": "stdout",
     "output_type": "stream",
     "text": [
      "Epoch 28/30 | train | Loss: 0.4022 | Acc: 0.8369\n"
     ]
    },
    {
     "data": {
      "application/vnd.jupyter.widget-view+json": {
       "model_id": "",
       "version_major": 2,
       "version_minor": 0
      },
      "text/plain": [
       "  0%|          | 0/1298 [00:00<?, ?it/s]"
      ]
     },
     "metadata": {},
     "output_type": "display_data"
    },
    {
     "name": "stdout",
     "output_type": "stream",
     "text": [
      "Epoch 28/30 |  val  | Loss: 0.4106 | Acc: 0.8342\n",
      "LR: 0.0001\n"
     ]
    },
    {
     "data": {
      "application/vnd.jupyter.widget-view+json": {
       "model_id": "",
       "version_major": 2,
       "version_minor": 0
      },
      "text/plain": [
       "  0%|          | 0/11674 [00:00<?, ?it/s]"
      ]
     },
     "metadata": {},
     "output_type": "display_data"
    },
    {
     "name": "stdout",
     "output_type": "stream",
     "text": [
      "Epoch 29/30 | train | Loss: 0.4007 | Acc: 0.8374\n"
     ]
    },
    {
     "data": {
      "application/vnd.jupyter.widget-view+json": {
       "model_id": "",
       "version_major": 2,
       "version_minor": 0
      },
      "text/plain": [
       "  0%|          | 0/1298 [00:00<?, ?it/s]"
      ]
     },
     "metadata": {},
     "output_type": "display_data"
    },
    {
     "name": "stdout",
     "output_type": "stream",
     "text": [
      "Epoch 29/30 |  val  | Loss: 0.4090 | Acc: 0.8350\n",
      "LR: 0.0001\n"
     ]
    },
    {
     "data": {
      "application/vnd.jupyter.widget-view+json": {
       "model_id": "fdff0be843384dd98b8414498ebd870d",
       "version_major": 2,
       "version_minor": 0
      },
      "text/plain": [
       "  0%|          | 0/11674 [00:00<?, ?it/s]"
      ]
     },
     "metadata": {},
     "output_type": "display_data"
    }
   ],
   "source": [
    "%%time\n",
    "\n",
    "# model = torch.jit.load('agent/model.pth')\n",
    "criterion = nn.CrossEntropyLoss()\n",
    "optimizer = torch.optim.AdamW(model.parameters(), lr=1e-3)\n",
    "scheduler = ReduceLROnPlateau(optimizer, 'min', patience=4, threshold=1e-2, min_lr=1e-6)\n",
    "\n",
    "train_model(model, dataloaders_dict, criterion, optimizer, scheduler, num_epochs=10)"
   ]
  },
  {
   "cell_type": "code",
   "execution_count": 22,
   "metadata": {},
   "outputs": [],
   "source": [
    "# Epoch 1/21 | train | Loss: 0.7122 | Acc: 0.7126\n",
    "# Epoch 1/21 |  val  | Loss: 0.5889 | Acc: 0.7635\n",
    "# Epoch 2/21 | train | Loss: 0.6028 | Acc: 0.7573\n",
    "# Epoch 2/21 |  val  | Loss: 0.5381 | Acc: 0.7830\n",
    "# Epoch 3/21 | train | Loss: 0.5726 | Acc: 0.7694\n",
    "# Epoch 3/21 |  val  | Loss: 0.5305 | Acc: 0.7860\n",
    "# Epoch 4/21 | train | Loss: 0.5554 | Acc: 0.7760\n",
    "# Epoch 4/21 |  val  | Loss: 0.5152 | Acc: 0.7925\n",
    "# Epoch 5/21 | train | Loss: 0.5441 | Acc: 0.7804\n",
    "# Epoch 5/21 |  val  | Loss: 0.5014 | Acc: 0.7973\n",
    "# Epoch 6/21 | train | Loss: 0.5355 | Acc: 0.7840\n",
    "# Epoch 6/21 |  val  | Loss: 0.4989 | Acc: 0.7992\n",
    "# Epoch 7/21 | train | Loss: 0.5286 | Acc: 0.7867\n",
    "# Epoch 7/21 |  val  | Loss: 0.5029 | Acc: 0.7970\n",
    "# Epoch 8/21 | train | Loss: 0.5232 | Acc: 0.7888\n",
    "# Epoch 8/21 |  val  | Loss: 0.4933 | Acc: 0.8007\n",
    "# Epoch 9/21 | train | Loss: 0.5186 | Acc: 0.7905\n",
    "# Epoch 9/21 |  val  | Loss: 0.4909 | Acc: 0.8010\n",
    "# Epoch 10/21 | train | Loss: 0.5153 | Acc: 0.7920\n",
    "# Epoch 10/21 |  val  | Loss: 0.4833 | Acc: 0.8044\n",
    "# Epoch 11/21 | train | Loss: 0.5125 | Acc: 0.7932\n",
    "# Epoch 11/21 |  val  | Loss: 0.4838 | Acc: 0.8047\n",
    "# Epoch 12/21 | train | Loss: 0.5097 | Acc: 0.7940\n",
    "# Epoch 12/21 |  val  | Loss: 0.4815 | Acc: 0.8064\n",
    "# Epoch 13/21 | train | Loss: 0.5074 | Acc: 0.7948\n",
    "# Epoch 13/21 |  val  | Loss: 0.4794 | Acc: 0.8070\n",
    "# Epoch 14/21 | train | Loss: 0.5057 | Acc: 0.7957\n",
    "# Epoch 14/21 |  val  | Loss: 0.4782 | Acc: 0.8071\n",
    "# Epoch 15/21 | train | Loss: 0.5041 | Acc: 0.7962\n",
    "# Epoch 15/21 |  val  | Loss: 0.4754 | Acc: 0.8077\n",
    "# Epoch 16/21 | train | Loss: 0.5024 | Acc: 0.7971\n",
    "# Epoch 16/21 |  val  | Loss: 0.4748 | Acc: 0.8081\n",
    "# Epoch 17/21 | train | Loss: 0.5012 | Acc: 0.7977\n",
    "# Epoch 17/21 |  val  | Loss: 0.4861 | Acc: 0.8045\n",
    "# Epoch 18/21 | train | Loss: 0.4995 | Acc: 0.7982\n",
    "# Epoch 18/21 |  val  | Loss: 0.4707 | Acc: 0.8111\n",
    "# Epoch 19/21 | train | Loss: 0.4989 | Acc: 0.7983\n",
    "# Epoch 19/21 |  val  | Loss: 0.4721 | Acc: 0.8090\n",
    "# Epoch 20/21 | train | Loss: 0.4980 | Acc: 0.7987\n",
    "# Epoch 20/21 |  val  | Loss: 0.4756 | Acc: 0.8077\n",
    "# Epoch 21/21 | train | Loss: 0.4965 | Acc: 0.7992\n",
    "# Epoch 21/21 |  val  | Loss: 0.4671 | Acc: 0.8115"
   ]
  },
  {
   "cell_type": "code",
   "execution_count": 23,
   "metadata": {
    "execution": {
     "iopub.execute_input": "2021-09-21T02:10:41.162296Z",
     "iopub.status.busy": "2021-09-21T02:10:41.161837Z",
     "iopub.status.idle": "2021-09-21T02:12:28.573451Z",
     "shell.execute_reply": "2021-09-21T02:12:28.570394Z",
     "shell.execute_reply.started": "2021-09-21T02:10:41.162261Z"
    },
    "scrolled": true
   },
   "outputs": [
    {
     "data": {
      "application/vnd.jupyter.widget-view+json": {
       "model_id": "",
       "version_major": 2,
       "version_minor": 0
      },
      "text/plain": [
       "  0%|          | 0/1392 [00:00<?, ?it/s]"
      ]
     },
     "metadata": {},
     "output_type": "display_data"
    },
    {
     "name": "stdout",
     "output_type": "stream",
     "text": [
      "Epoch 1/35 | train | Loss: 0.2636 | Acc: 0.8870\n"
     ]
    },
    {
     "data": {
      "application/vnd.jupyter.widget-view+json": {
       "model_id": "",
       "version_major": 2,
       "version_minor": 0
      },
      "text/plain": [
       "  0%|          | 0/155 [00:00<?, ?it/s]"
      ]
     },
     "metadata": {},
     "output_type": "display_data"
    },
    {
     "name": "stdout",
     "output_type": "stream",
     "text": [
      "Epoch 1/35 |  val  | Loss: 0.2170 | Acc: 0.9077\n",
      "LR: 0.001\n"
     ]
    },
    {
     "data": {
      "application/vnd.jupyter.widget-view+json": {
       "model_id": "",
       "version_major": 2,
       "version_minor": 0
      },
      "text/plain": [
       "  0%|          | 0/1392 [00:00<?, ?it/s]"
      ]
     },
     "metadata": {},
     "output_type": "display_data"
    },
    {
     "name": "stdout",
     "output_type": "stream",
     "text": [
      "Epoch 2/35 | train | Loss: 0.2046 | Acc: 0.9139\n"
     ]
    },
    {
     "data": {
      "application/vnd.jupyter.widget-view+json": {
       "model_id": "",
       "version_major": 2,
       "version_minor": 0
      },
      "text/plain": [
       "  0%|          | 0/155 [00:00<?, ?it/s]"
      ]
     },
     "metadata": {},
     "output_type": "display_data"
    },
    {
     "name": "stdout",
     "output_type": "stream",
     "text": [
      "Epoch 2/35 |  val  | Loss: 0.2045 | Acc: 0.9123\n",
      "LR: 0.001\n"
     ]
    },
    {
     "data": {
      "application/vnd.jupyter.widget-view+json": {
       "model_id": "",
       "version_major": 2,
       "version_minor": 0
      },
      "text/plain": [
       "  0%|          | 0/1392 [00:00<?, ?it/s]"
      ]
     },
     "metadata": {},
     "output_type": "display_data"
    },
    {
     "name": "stdout",
     "output_type": "stream",
     "text": [
      "Epoch 3/35 | train | Loss: 0.1873 | Acc: 0.9215\n"
     ]
    },
    {
     "data": {
      "application/vnd.jupyter.widget-view+json": {
       "model_id": "",
       "version_major": 2,
       "version_minor": 0
      },
      "text/plain": [
       "  0%|          | 0/155 [00:00<?, ?it/s]"
      ]
     },
     "metadata": {},
     "output_type": "display_data"
    },
    {
     "name": "stdout",
     "output_type": "stream",
     "text": [
      "Epoch 3/35 |  val  | Loss: 0.1946 | Acc: 0.9151\n",
      "LR: 0.001\n"
     ]
    },
    {
     "data": {
      "application/vnd.jupyter.widget-view+json": {
       "model_id": "",
       "version_major": 2,
       "version_minor": 0
      },
      "text/plain": [
       "  0%|          | 0/1392 [00:00<?, ?it/s]"
      ]
     },
     "metadata": {},
     "output_type": "display_data"
    },
    {
     "name": "stdout",
     "output_type": "stream",
     "text": [
      "Epoch 4/35 | train | Loss: 0.1776 | Acc: 0.9256\n"
     ]
    },
    {
     "data": {
      "application/vnd.jupyter.widget-view+json": {
       "model_id": "",
       "version_major": 2,
       "version_minor": 0
      },
      "text/plain": [
       "  0%|          | 0/155 [00:00<?, ?it/s]"
      ]
     },
     "metadata": {},
     "output_type": "display_data"
    },
    {
     "name": "stdout",
     "output_type": "stream",
     "text": [
      "Epoch 4/35 |  val  | Loss: 0.1770 | Acc: 0.9229\n",
      "LR: 0.001\n"
     ]
    },
    {
     "data": {
      "application/vnd.jupyter.widget-view+json": {
       "model_id": "",
       "version_major": 2,
       "version_minor": 0
      },
      "text/plain": [
       "  0%|          | 0/1392 [00:00<?, ?it/s]"
      ]
     },
     "metadata": {},
     "output_type": "display_data"
    },
    {
     "name": "stdout",
     "output_type": "stream",
     "text": [
      "Epoch 5/35 | train | Loss: 0.1682 | Acc: 0.9294\n"
     ]
    },
    {
     "data": {
      "application/vnd.jupyter.widget-view+json": {
       "model_id": "",
       "version_major": 2,
       "version_minor": 0
      },
      "text/plain": [
       "  0%|          | 0/155 [00:00<?, ?it/s]"
      ]
     },
     "metadata": {},
     "output_type": "display_data"
    },
    {
     "name": "stdout",
     "output_type": "stream",
     "text": [
      "Epoch 5/35 |  val  | Loss: 0.1754 | Acc: 0.9239\n",
      "LR: 0.001\n"
     ]
    },
    {
     "data": {
      "application/vnd.jupyter.widget-view+json": {
       "model_id": "",
       "version_major": 2,
       "version_minor": 0
      },
      "text/plain": [
       "  0%|          | 0/1392 [00:00<?, ?it/s]"
      ]
     },
     "metadata": {},
     "output_type": "display_data"
    },
    {
     "name": "stdout",
     "output_type": "stream",
     "text": [
      "Epoch 6/35 | train | Loss: 0.1610 | Acc: 0.9325\n"
     ]
    },
    {
     "data": {
      "application/vnd.jupyter.widget-view+json": {
       "model_id": "",
       "version_major": 2,
       "version_minor": 0
      },
      "text/plain": [
       "  0%|          | 0/155 [00:00<?, ?it/s]"
      ]
     },
     "metadata": {},
     "output_type": "display_data"
    },
    {
     "name": "stdout",
     "output_type": "stream",
     "text": [
      "Epoch 6/35 |  val  | Loss: 0.1771 | Acc: 0.9240\n",
      "LR: 0.001\n"
     ]
    },
    {
     "data": {
      "application/vnd.jupyter.widget-view+json": {
       "model_id": "",
       "version_major": 2,
       "version_minor": 0
      },
      "text/plain": [
       "  0%|          | 0/1392 [00:00<?, ?it/s]"
      ]
     },
     "metadata": {},
     "output_type": "display_data"
    },
    {
     "name": "stdout",
     "output_type": "stream",
     "text": [
      "Epoch 7/35 | train | Loss: 0.1558 | Acc: 0.9353\n"
     ]
    },
    {
     "data": {
      "application/vnd.jupyter.widget-view+json": {
       "model_id": "",
       "version_major": 2,
       "version_minor": 0
      },
      "text/plain": [
       "  0%|          | 0/155 [00:00<?, ?it/s]"
      ]
     },
     "metadata": {},
     "output_type": "display_data"
    },
    {
     "name": "stdout",
     "output_type": "stream",
     "text": [
      "Epoch 7/35 |  val  | Loss: 0.1663 | Acc: 0.9283\n",
      "LR: 0.001\n"
     ]
    },
    {
     "data": {
      "application/vnd.jupyter.widget-view+json": {
       "model_id": "",
       "version_major": 2,
       "version_minor": 0
      },
      "text/plain": [
       "  0%|          | 0/1392 [00:00<?, ?it/s]"
      ]
     },
     "metadata": {},
     "output_type": "display_data"
    },
    {
     "name": "stdout",
     "output_type": "stream",
     "text": [
      "Epoch 8/35 | train | Loss: 0.1507 | Acc: 0.9373\n"
     ]
    },
    {
     "data": {
      "application/vnd.jupyter.widget-view+json": {
       "model_id": "",
       "version_major": 2,
       "version_minor": 0
      },
      "text/plain": [
       "  0%|          | 0/155 [00:00<?, ?it/s]"
      ]
     },
     "metadata": {},
     "output_type": "display_data"
    },
    {
     "name": "stdout",
     "output_type": "stream",
     "text": [
      "Epoch 8/35 |  val  | Loss: 0.1881 | Acc: 0.9175\n",
      "LR: 0.001\n"
     ]
    },
    {
     "data": {
      "application/vnd.jupyter.widget-view+json": {
       "model_id": "",
       "version_major": 2,
       "version_minor": 0
      },
      "text/plain": [
       "  0%|          | 0/1392 [00:00<?, ?it/s]"
      ]
     },
     "metadata": {},
     "output_type": "display_data"
    },
    {
     "name": "stdout",
     "output_type": "stream",
     "text": [
      "Epoch 9/35 | train | Loss: 0.1450 | Acc: 0.9396\n"
     ]
    },
    {
     "data": {
      "application/vnd.jupyter.widget-view+json": {
       "model_id": "",
       "version_major": 2,
       "version_minor": 0
      },
      "text/plain": [
       "  0%|          | 0/155 [00:00<?, ?it/s]"
      ]
     },
     "metadata": {},
     "output_type": "display_data"
    },
    {
     "name": "stdout",
     "output_type": "stream",
     "text": [
      "Epoch 9/35 |  val  | Loss: 0.1582 | Acc: 0.9349\n",
      "LR: 0.001\n"
     ]
    },
    {
     "data": {
      "application/vnd.jupyter.widget-view+json": {
       "model_id": "",
       "version_major": 2,
       "version_minor": 0
      },
      "text/plain": [
       "  0%|          | 0/1392 [00:00<?, ?it/s]"
      ]
     },
     "metadata": {},
     "output_type": "display_data"
    },
    {
     "name": "stdout",
     "output_type": "stream",
     "text": [
      "Epoch 10/35 | train | Loss: 0.1411 | Acc: 0.9413\n"
     ]
    },
    {
     "data": {
      "application/vnd.jupyter.widget-view+json": {
       "model_id": "",
       "version_major": 2,
       "version_minor": 0
      },
      "text/plain": [
       "  0%|          | 0/155 [00:00<?, ?it/s]"
      ]
     },
     "metadata": {},
     "output_type": "display_data"
    },
    {
     "name": "stdout",
     "output_type": "stream",
     "text": [
      "Epoch 10/35 |  val  | Loss: 0.1552 | Acc: 0.9382\n",
      "LR: 0.001\n"
     ]
    },
    {
     "data": {
      "application/vnd.jupyter.widget-view+json": {
       "model_id": "",
       "version_major": 2,
       "version_minor": 0
      },
      "text/plain": [
       "  0%|          | 0/1392 [00:00<?, ?it/s]"
      ]
     },
     "metadata": {},
     "output_type": "display_data"
    },
    {
     "name": "stdout",
     "output_type": "stream",
     "text": [
      "Epoch 11/35 | train | Loss: 0.1379 | Acc: 0.9428\n"
     ]
    },
    {
     "data": {
      "application/vnd.jupyter.widget-view+json": {
       "model_id": "",
       "version_major": 2,
       "version_minor": 0
      },
      "text/plain": [
       "  0%|          | 0/155 [00:00<?, ?it/s]"
      ]
     },
     "metadata": {},
     "output_type": "display_data"
    },
    {
     "name": "stdout",
     "output_type": "stream",
     "text": [
      "Epoch 11/35 |  val  | Loss: 0.1565 | Acc: 0.9353\n",
      "LR: 0.001\n"
     ]
    },
    {
     "data": {
      "application/vnd.jupyter.widget-view+json": {
       "model_id": "",
       "version_major": 2,
       "version_minor": 0
      },
      "text/plain": [
       "  0%|          | 0/1392 [00:00<?, ?it/s]"
      ]
     },
     "metadata": {},
     "output_type": "display_data"
    },
    {
     "name": "stdout",
     "output_type": "stream",
     "text": [
      "Epoch 12/35 | train | Loss: 0.1348 | Acc: 0.9441\n"
     ]
    },
    {
     "data": {
      "application/vnd.jupyter.widget-view+json": {
       "model_id": "",
       "version_major": 2,
       "version_minor": 0
      },
      "text/plain": [
       "  0%|          | 0/155 [00:00<?, ?it/s]"
      ]
     },
     "metadata": {},
     "output_type": "display_data"
    },
    {
     "name": "stdout",
     "output_type": "stream",
     "text": [
      "Epoch 12/35 |  val  | Loss: 0.1573 | Acc: 0.9349\n",
      "LR: 0.001\n"
     ]
    },
    {
     "data": {
      "application/vnd.jupyter.widget-view+json": {
       "model_id": "",
       "version_major": 2,
       "version_minor": 0
      },
      "text/plain": [
       "  0%|          | 0/1392 [00:00<?, ?it/s]"
      ]
     },
     "metadata": {},
     "output_type": "display_data"
    },
    {
     "name": "stdout",
     "output_type": "stream",
     "text": [
      "Epoch 13/35 | train | Loss: 0.1315 | Acc: 0.9452\n"
     ]
    },
    {
     "data": {
      "application/vnd.jupyter.widget-view+json": {
       "model_id": "",
       "version_major": 2,
       "version_minor": 0
      },
      "text/plain": [
       "  0%|          | 0/155 [00:00<?, ?it/s]"
      ]
     },
     "metadata": {},
     "output_type": "display_data"
    },
    {
     "name": "stdout",
     "output_type": "stream",
     "text": [
      "Epoch 13/35 |  val  | Loss: 0.1505 | Acc: 0.9364\n",
      "LR: 0.001\n"
     ]
    },
    {
     "data": {
      "application/vnd.jupyter.widget-view+json": {
       "model_id": "",
       "version_major": 2,
       "version_minor": 0
      },
      "text/plain": [
       "  0%|          | 0/1392 [00:00<?, ?it/s]"
      ]
     },
     "metadata": {},
     "output_type": "display_data"
    },
    {
     "name": "stdout",
     "output_type": "stream",
     "text": [
      "Epoch 14/35 | train | Loss: 0.1292 | Acc: 0.9462\n"
     ]
    },
    {
     "data": {
      "application/vnd.jupyter.widget-view+json": {
       "model_id": "",
       "version_major": 2,
       "version_minor": 0
      },
      "text/plain": [
       "  0%|          | 0/155 [00:00<?, ?it/s]"
      ]
     },
     "metadata": {},
     "output_type": "display_data"
    },
    {
     "name": "stdout",
     "output_type": "stream",
     "text": [
      "Epoch 14/35 |  val  | Loss: 0.1500 | Acc: 0.9366\n",
      "LR: 0.001\n"
     ]
    },
    {
     "data": {
      "application/vnd.jupyter.widget-view+json": {
       "model_id": "",
       "version_major": 2,
       "version_minor": 0
      },
      "text/plain": [
       "  0%|          | 0/1392 [00:00<?, ?it/s]"
      ]
     },
     "metadata": {},
     "output_type": "display_data"
    },
    {
     "name": "stdout",
     "output_type": "stream",
     "text": [
      "Epoch 15/35 | train | Loss: 0.1269 | Acc: 0.9474\n"
     ]
    },
    {
     "data": {
      "application/vnd.jupyter.widget-view+json": {
       "model_id": "",
       "version_major": 2,
       "version_minor": 0
      },
      "text/plain": [
       "  0%|          | 0/155 [00:00<?, ?it/s]"
      ]
     },
     "metadata": {},
     "output_type": "display_data"
    },
    {
     "name": "stdout",
     "output_type": "stream",
     "text": [
      "Epoch 15/35 |  val  | Loss: 0.1497 | Acc: 0.9384\n",
      "LR: 0.001\n"
     ]
    },
    {
     "data": {
      "application/vnd.jupyter.widget-view+json": {
       "model_id": "",
       "version_major": 2,
       "version_minor": 0
      },
      "text/plain": [
       "  0%|          | 0/1392 [00:00<?, ?it/s]"
      ]
     },
     "metadata": {},
     "output_type": "display_data"
    },
    {
     "name": "stdout",
     "output_type": "stream",
     "text": [
      "Epoch 16/35 | train | Loss: 0.1255 | Acc: 0.9482\n"
     ]
    },
    {
     "data": {
      "application/vnd.jupyter.widget-view+json": {
       "model_id": "",
       "version_major": 2,
       "version_minor": 0
      },
      "text/plain": [
       "  0%|          | 0/155 [00:00<?, ?it/s]"
      ]
     },
     "metadata": {},
     "output_type": "display_data"
    },
    {
     "name": "stdout",
     "output_type": "stream",
     "text": [
      "Epoch 16/35 |  val  | Loss: 0.1541 | Acc: 0.9333\n",
      "LR: 0.001\n"
     ]
    },
    {
     "data": {
      "application/vnd.jupyter.widget-view+json": {
       "model_id": "",
       "version_major": 2,
       "version_minor": 0
      },
      "text/plain": [
       "  0%|          | 0/1392 [00:00<?, ?it/s]"
      ]
     },
     "metadata": {},
     "output_type": "display_data"
    },
    {
     "name": "stdout",
     "output_type": "stream",
     "text": [
      "Epoch 17/35 | train | Loss: 0.1230 | Acc: 0.9491\n"
     ]
    },
    {
     "data": {
      "application/vnd.jupyter.widget-view+json": {
       "model_id": "",
       "version_major": 2,
       "version_minor": 0
      },
      "text/plain": [
       "  0%|          | 0/155 [00:00<?, ?it/s]"
      ]
     },
     "metadata": {},
     "output_type": "display_data"
    },
    {
     "name": "stdout",
     "output_type": "stream",
     "text": [
      "Epoch 17/35 |  val  | Loss: 0.1455 | Acc: 0.9400\n",
      "LR: 0.001\n"
     ]
    },
    {
     "data": {
      "application/vnd.jupyter.widget-view+json": {
       "model_id": "",
       "version_major": 2,
       "version_minor": 0
      },
      "text/plain": [
       "  0%|          | 0/1392 [00:00<?, ?it/s]"
      ]
     },
     "metadata": {},
     "output_type": "display_data"
    },
    {
     "name": "stdout",
     "output_type": "stream",
     "text": [
      "Epoch 18/35 | train | Loss: 0.1203 | Acc: 0.9501\n"
     ]
    },
    {
     "data": {
      "application/vnd.jupyter.widget-view+json": {
       "model_id": "",
       "version_major": 2,
       "version_minor": 0
      },
      "text/plain": [
       "  0%|          | 0/155 [00:00<?, ?it/s]"
      ]
     },
     "metadata": {},
     "output_type": "display_data"
    },
    {
     "name": "stdout",
     "output_type": "stream",
     "text": [
      "Epoch 18/35 |  val  | Loss: 0.1449 | Acc: 0.9412\n",
      "LR: 0.001\n"
     ]
    },
    {
     "data": {
      "application/vnd.jupyter.widget-view+json": {
       "model_id": "",
       "version_major": 2,
       "version_minor": 0
      },
      "text/plain": [
       "  0%|          | 0/1392 [00:00<?, ?it/s]"
      ]
     },
     "metadata": {},
     "output_type": "display_data"
    },
    {
     "name": "stdout",
     "output_type": "stream",
     "text": [
      "Epoch 19/35 | train | Loss: 0.1183 | Acc: 0.9509\n"
     ]
    },
    {
     "data": {
      "application/vnd.jupyter.widget-view+json": {
       "model_id": "",
       "version_major": 2,
       "version_minor": 0
      },
      "text/plain": [
       "  0%|          | 0/155 [00:00<?, ?it/s]"
      ]
     },
     "metadata": {},
     "output_type": "display_data"
    },
    {
     "name": "stdout",
     "output_type": "stream",
     "text": [
      "Epoch 19/35 |  val  | Loss: 0.1457 | Acc: 0.9403\n",
      "LR: 0.001\n"
     ]
    },
    {
     "data": {
      "application/vnd.jupyter.widget-view+json": {
       "model_id": "",
       "version_major": 2,
       "version_minor": 0
      },
      "text/plain": [
       "  0%|          | 0/1392 [00:00<?, ?it/s]"
      ]
     },
     "metadata": {},
     "output_type": "display_data"
    },
    {
     "name": "stdout",
     "output_type": "stream",
     "text": [
      "Epoch 20/35 | train | Loss: 0.1175 | Acc: 0.9515\n"
     ]
    },
    {
     "data": {
      "application/vnd.jupyter.widget-view+json": {
       "model_id": "",
       "version_major": 2,
       "version_minor": 0
      },
      "text/plain": [
       "  0%|          | 0/155 [00:00<?, ?it/s]"
      ]
     },
     "metadata": {},
     "output_type": "display_data"
    },
    {
     "name": "stdout",
     "output_type": "stream",
     "text": [
      "Epoch 20/35 |  val  | Loss: 0.1466 | Acc: 0.9403\n",
      "LR: 0.001\n"
     ]
    },
    {
     "data": {
      "application/vnd.jupyter.widget-view+json": {
       "model_id": "",
       "version_major": 2,
       "version_minor": 0
      },
      "text/plain": [
       "  0%|          | 0/1392 [00:00<?, ?it/s]"
      ]
     },
     "metadata": {},
     "output_type": "display_data"
    },
    {
     "name": "stdout",
     "output_type": "stream",
     "text": [
      "Epoch 21/35 | train | Loss: 0.1163 | Acc: 0.9515\n"
     ]
    },
    {
     "data": {
      "application/vnd.jupyter.widget-view+json": {
       "model_id": "",
       "version_major": 2,
       "version_minor": 0
      },
      "text/plain": [
       "  0%|          | 0/155 [00:00<?, ?it/s]"
      ]
     },
     "metadata": {},
     "output_type": "display_data"
    },
    {
     "name": "stdout",
     "output_type": "stream",
     "text": [
      "Epoch 21/35 |  val  | Loss: 0.1508 | Acc: 0.9381\n",
      "LR: 0.001\n"
     ]
    },
    {
     "data": {
      "application/vnd.jupyter.widget-view+json": {
       "model_id": "",
       "version_major": 2,
       "version_minor": 0
      },
      "text/plain": [
       "  0%|          | 0/1392 [00:00<?, ?it/s]"
      ]
     },
     "metadata": {},
     "output_type": "display_data"
    },
    {
     "name": "stdout",
     "output_type": "stream",
     "text": [
      "Epoch 22/35 | train | Loss: 0.1146 | Acc: 0.9526\n"
     ]
    },
    {
     "data": {
      "application/vnd.jupyter.widget-view+json": {
       "model_id": "",
       "version_major": 2,
       "version_minor": 0
      },
      "text/plain": [
       "  0%|          | 0/155 [00:00<?, ?it/s]"
      ]
     },
     "metadata": {},
     "output_type": "display_data"
    },
    {
     "name": "stdout",
     "output_type": "stream",
     "text": [
      "Epoch 22/35 |  val  | Loss: 0.1452 | Acc: 0.9403\n",
      "LR: 0.001\n"
     ]
    },
    {
     "data": {
      "application/vnd.jupyter.widget-view+json": {
       "model_id": "",
       "version_major": 2,
       "version_minor": 0
      },
      "text/plain": [
       "  0%|          | 0/1392 [00:00<?, ?it/s]"
      ]
     },
     "metadata": {},
     "output_type": "display_data"
    },
    {
     "name": "stdout",
     "output_type": "stream",
     "text": [
      "Epoch 23/35 | train | Loss: 0.1123 | Acc: 0.9535\n"
     ]
    },
    {
     "data": {
      "application/vnd.jupyter.widget-view+json": {
       "model_id": "",
       "version_major": 2,
       "version_minor": 0
      },
      "text/plain": [
       "  0%|          | 0/155 [00:00<?, ?it/s]"
      ]
     },
     "metadata": {},
     "output_type": "display_data"
    },
    {
     "name": "stdout",
     "output_type": "stream",
     "text": [
      "Epoch 23/35 |  val  | Loss: 0.1492 | Acc: 0.9420\n",
      "LR: 0.0001\n"
     ]
    },
    {
     "data": {
      "application/vnd.jupyter.widget-view+json": {
       "model_id": "",
       "version_major": 2,
       "version_minor": 0
      },
      "text/plain": [
       "  0%|          | 0/1392 [00:00<?, ?it/s]"
      ]
     },
     "metadata": {},
     "output_type": "display_data"
    },
    {
     "name": "stdout",
     "output_type": "stream",
     "text": [
      "Epoch 24/35 | train | Loss: 0.0994 | Acc: 0.9586\n"
     ]
    },
    {
     "data": {
      "application/vnd.jupyter.widget-view+json": {
       "model_id": "",
       "version_major": 2,
       "version_minor": 0
      },
      "text/plain": [
       "  0%|          | 0/155 [00:00<?, ?it/s]"
      ]
     },
     "metadata": {},
     "output_type": "display_data"
    },
    {
     "name": "stdout",
     "output_type": "stream",
     "text": [
      "Epoch 24/35 |  val  | Loss: 0.1380 | Acc: 0.9463\n",
      "LR: 0.0001\n"
     ]
    },
    {
     "data": {
      "application/vnd.jupyter.widget-view+json": {
       "model_id": "",
       "version_major": 2,
       "version_minor": 0
      },
      "text/plain": [
       "  0%|          | 0/1392 [00:00<?, ?it/s]"
      ]
     },
     "metadata": {},
     "output_type": "display_data"
    },
    {
     "name": "stdout",
     "output_type": "stream",
     "text": [
      "Epoch 25/35 | train | Loss: 0.0967 | Acc: 0.9599\n"
     ]
    },
    {
     "data": {
      "application/vnd.jupyter.widget-view+json": {
       "model_id": "",
       "version_major": 2,
       "version_minor": 0
      },
      "text/plain": [
       "  0%|          | 0/155 [00:00<?, ?it/s]"
      ]
     },
     "metadata": {},
     "output_type": "display_data"
    },
    {
     "name": "stdout",
     "output_type": "stream",
     "text": [
      "Epoch 25/35 |  val  | Loss: 0.1441 | Acc: 0.9437\n",
      "LR: 0.0001\n"
     ]
    },
    {
     "data": {
      "application/vnd.jupyter.widget-view+json": {
       "model_id": "",
       "version_major": 2,
       "version_minor": 0
      },
      "text/plain": [
       "  0%|          | 0/1392 [00:00<?, ?it/s]"
      ]
     },
     "metadata": {},
     "output_type": "display_data"
    },
    {
     "name": "stdout",
     "output_type": "stream",
     "text": [
      "Epoch 26/35 | train | Loss: 0.0965 | Acc: 0.9600\n"
     ]
    },
    {
     "data": {
      "application/vnd.jupyter.widget-view+json": {
       "model_id": "",
       "version_major": 2,
       "version_minor": 0
      },
      "text/plain": [
       "  0%|          | 0/155 [00:00<?, ?it/s]"
      ]
     },
     "metadata": {},
     "output_type": "display_data"
    },
    {
     "name": "stdout",
     "output_type": "stream",
     "text": [
      "Epoch 26/35 |  val  | Loss: 0.1418 | Acc: 0.9450\n",
      "LR: 0.0001\n"
     ]
    },
    {
     "data": {
      "application/vnd.jupyter.widget-view+json": {
       "model_id": "",
       "version_major": 2,
       "version_minor": 0
      },
      "text/plain": [
       "  0%|          | 0/1392 [00:00<?, ?it/s]"
      ]
     },
     "metadata": {},
     "output_type": "display_data"
    },
    {
     "name": "stdout",
     "output_type": "stream",
     "text": [
      "Epoch 27/35 | train | Loss: 0.0944 | Acc: 0.9611\n"
     ]
    },
    {
     "data": {
      "application/vnd.jupyter.widget-view+json": {
       "model_id": "",
       "version_major": 2,
       "version_minor": 0
      },
      "text/plain": [
       "  0%|          | 0/155 [00:00<?, ?it/s]"
      ]
     },
     "metadata": {},
     "output_type": "display_data"
    },
    {
     "name": "stdout",
     "output_type": "stream",
     "text": [
      "Epoch 27/35 |  val  | Loss: 0.1423 | Acc: 0.9441\n",
      "LR: 0.0001\n"
     ]
    },
    {
     "data": {
      "application/vnd.jupyter.widget-view+json": {
       "model_id": "",
       "version_major": 2,
       "version_minor": 0
      },
      "text/plain": [
       "  0%|          | 0/1392 [00:00<?, ?it/s]"
      ]
     },
     "metadata": {},
     "output_type": "display_data"
    },
    {
     "name": "stdout",
     "output_type": "stream",
     "text": [
      "Epoch 28/35 | train | Loss: 0.0939 | Acc: 0.9609\n"
     ]
    },
    {
     "data": {
      "application/vnd.jupyter.widget-view+json": {
       "model_id": "",
       "version_major": 2,
       "version_minor": 0
      },
      "text/plain": [
       "  0%|          | 0/155 [00:00<?, ?it/s]"
      ]
     },
     "metadata": {},
     "output_type": "display_data"
    },
    {
     "name": "stdout",
     "output_type": "stream",
     "text": [
      "Epoch 28/35 |  val  | Loss: 0.1445 | Acc: 0.9444\n",
      "LR: 0.0001\n"
     ]
    },
    {
     "data": {
      "application/vnd.jupyter.widget-view+json": {
       "model_id": "",
       "version_major": 2,
       "version_minor": 0
      },
      "text/plain": [
       "  0%|          | 0/1392 [00:00<?, ?it/s]"
      ]
     },
     "metadata": {},
     "output_type": "display_data"
    },
    {
     "name": "stdout",
     "output_type": "stream",
     "text": [
      "Epoch 29/35 | train | Loss: 0.0934 | Acc: 0.9614\n"
     ]
    },
    {
     "data": {
      "application/vnd.jupyter.widget-view+json": {
       "model_id": "",
       "version_major": 2,
       "version_minor": 0
      },
      "text/plain": [
       "  0%|          | 0/155 [00:00<?, ?it/s]"
      ]
     },
     "metadata": {},
     "output_type": "display_data"
    },
    {
     "name": "stdout",
     "output_type": "stream",
     "text": [
      "Epoch 29/35 |  val  | Loss: 0.1431 | Acc: 0.9446\n",
      "LR: 1e-05\n"
     ]
    },
    {
     "data": {
      "application/vnd.jupyter.widget-view+json": {
       "model_id": "",
       "version_major": 2,
       "version_minor": 0
      },
      "text/plain": [
       "  0%|          | 0/1392 [00:00<?, ?it/s]"
      ]
     },
     "metadata": {},
     "output_type": "display_data"
    },
    {
     "name": "stdout",
     "output_type": "stream",
     "text": [
      "Epoch 30/35 | train | Loss: 0.0919 | Acc: 0.9620\n"
     ]
    },
    {
     "data": {
      "application/vnd.jupyter.widget-view+json": {
       "model_id": "",
       "version_major": 2,
       "version_minor": 0
      },
      "text/plain": [
       "  0%|          | 0/155 [00:00<?, ?it/s]"
      ]
     },
     "metadata": {},
     "output_type": "display_data"
    },
    {
     "name": "stdout",
     "output_type": "stream",
     "text": [
      "Epoch 30/35 |  val  | Loss: 0.1436 | Acc: 0.9436\n",
      "LR: 1e-05\n"
     ]
    },
    {
     "data": {
      "application/vnd.jupyter.widget-view+json": {
       "model_id": "",
       "version_major": 2,
       "version_minor": 0
      },
      "text/plain": [
       "  0%|          | 0/1392 [00:00<?, ?it/s]"
      ]
     },
     "metadata": {},
     "output_type": "display_data"
    },
    {
     "name": "stdout",
     "output_type": "stream",
     "text": [
      "Epoch 31/35 | train | Loss: 0.0917 | Acc: 0.9621\n"
     ]
    },
    {
     "data": {
      "application/vnd.jupyter.widget-view+json": {
       "model_id": "",
       "version_major": 2,
       "version_minor": 0
      },
      "text/plain": [
       "  0%|          | 0/155 [00:00<?, ?it/s]"
      ]
     },
     "metadata": {},
     "output_type": "display_data"
    },
    {
     "name": "stdout",
     "output_type": "stream",
     "text": [
      "Epoch 31/35 |  val  | Loss: 0.1443 | Acc: 0.9431\n",
      "LR: 1e-05\n"
     ]
    },
    {
     "data": {
      "application/vnd.jupyter.widget-view+json": {
       "model_id": "",
       "version_major": 2,
       "version_minor": 0
      },
      "text/plain": [
       "  0%|          | 0/1392 [00:00<?, ?it/s]"
      ]
     },
     "metadata": {},
     "output_type": "display_data"
    },
    {
     "name": "stdout",
     "output_type": "stream",
     "text": [
      "Epoch 32/35 | train | Loss: 0.0915 | Acc: 0.9623\n"
     ]
    },
    {
     "data": {
      "application/vnd.jupyter.widget-view+json": {
       "model_id": "",
       "version_major": 2,
       "version_minor": 0
      },
      "text/plain": [
       "  0%|          | 0/155 [00:00<?, ?it/s]"
      ]
     },
     "metadata": {},
     "output_type": "display_data"
    },
    {
     "name": "stdout",
     "output_type": "stream",
     "text": [
      "Epoch 32/35 |  val  | Loss: 0.1445 | Acc: 0.9449\n",
      "LR: 1e-05\n"
     ]
    },
    {
     "data": {
      "application/vnd.jupyter.widget-view+json": {
       "model_id": "",
       "version_major": 2,
       "version_minor": 0
      },
      "text/plain": [
       "  0%|          | 0/1392 [00:00<?, ?it/s]"
      ]
     },
     "metadata": {},
     "output_type": "display_data"
    },
    {
     "name": "stdout",
     "output_type": "stream",
     "text": [
      "Epoch 33/35 | train | Loss: 0.0916 | Acc: 0.9621\n"
     ]
    },
    {
     "data": {
      "application/vnd.jupyter.widget-view+json": {
       "model_id": "",
       "version_major": 2,
       "version_minor": 0
      },
      "text/plain": [
       "  0%|          | 0/155 [00:00<?, ?it/s]"
      ]
     },
     "metadata": {},
     "output_type": "display_data"
    },
    {
     "name": "stdout",
     "output_type": "stream",
     "text": [
      "Epoch 33/35 |  val  | Loss: 0.1476 | Acc: 0.9435\n",
      "LR: 1e-05\n"
     ]
    },
    {
     "data": {
      "application/vnd.jupyter.widget-view+json": {
       "model_id": "",
       "version_major": 2,
       "version_minor": 0
      },
      "text/plain": [
       "  0%|          | 0/1392 [00:00<?, ?it/s]"
      ]
     },
     "metadata": {},
     "output_type": "display_data"
    },
    {
     "name": "stdout",
     "output_type": "stream",
     "text": [
      "Epoch 34/35 | train | Loss: 0.0916 | Acc: 0.9618\n"
     ]
    },
    {
     "data": {
      "application/vnd.jupyter.widget-view+json": {
       "model_id": "",
       "version_major": 2,
       "version_minor": 0
      },
      "text/plain": [
       "  0%|          | 0/155 [00:00<?, ?it/s]"
      ]
     },
     "metadata": {},
     "output_type": "display_data"
    },
    {
     "name": "stdout",
     "output_type": "stream",
     "text": [
      "Epoch 34/35 |  val  | Loss: 0.1411 | Acc: 0.9450\n",
      "LR: 1.0000000000000002e-06\n"
     ]
    },
    {
     "data": {
      "application/vnd.jupyter.widget-view+json": {
       "model_id": "",
       "version_major": 2,
       "version_minor": 0
      },
      "text/plain": [
       "  0%|          | 0/1392 [00:00<?, ?it/s]"
      ]
     },
     "metadata": {},
     "output_type": "display_data"
    },
    {
     "name": "stdout",
     "output_type": "stream",
     "text": [
      "Epoch 35/35 | train | Loss: 0.0912 | Acc: 0.9621\n"
     ]
    },
    {
     "data": {
      "application/vnd.jupyter.widget-view+json": {
       "model_id": "",
       "version_major": 2,
       "version_minor": 0
      },
      "text/plain": [
       "  0%|          | 0/155 [00:00<?, ?it/s]"
      ]
     },
     "metadata": {},
     "output_type": "display_data"
    },
    {
     "name": "stdout",
     "output_type": "stream",
     "text": [
      "Epoch 35/35 |  val  | Loss: 0.1420 | Acc: 0.9440\n",
      "LR: 1.0000000000000002e-06\n",
      "CPU times: user 1h 33min 25s, sys: 2min 49s, total: 1h 36min 15s\n",
      "Wall time: 1h 39min 8s\n"
     ]
    }
   ],
   "source": [
    "%%time\n",
    "\n",
    "# model_city = torch.jit.load('agent/model_city.pth')\n",
    "# criterion_city = nn.CrossEntropyLoss()\n",
    "# optimizer_city = torch.optim.AdamW(model_city.parameters(), lr=1e-3)\n",
    "# scheduler_city = ReduceLROnPlateau(optimizer_city, 'min', patience=3, threshold=1e-3, min_lr=1e-5)\n",
    "\n",
    "# train_model(model_city, dataloaders_city_dict, criterion_city, optimizer_city, scheduler_city, \n",
    "#             num_epochs=35, city=True)"
   ]
  },
  {
   "cell_type": "code",
   "execution_count": 24,
   "metadata": {},
   "outputs": [],
   "source": [
    "# Epoch 1/8 | train | Loss: 0.2698 | Acc: 0.8844\n",
    "# Epoch 1/8 |  val  | Loss: 0.2208 | Acc: 0.9044\n",
    "# Epoch 2/8 | train | Loss: 0.2080 | Acc: 0.9113\n",
    "# Epoch 2/8 |  val  | Loss: 0.2100 | Acc: 0.9125\n",
    "# Epoch 3/8 | train | Loss: 0.1920 | Acc: 0.9188\n",
    "# Epoch 3/8 |  val  | Loss: 0.1863 | Acc: 0.9228\n",
    "# Epoch 4/8 | train | Loss: 0.1817 | Acc: 0.9231\n",
    "# Epoch 4/8 |  val  | Loss: 0.2121 | Acc: 0.9164\n",
    "# Epoch 5/8 | train | Loss: 0.1733 | Acc: 0.9272\n",
    "# Epoch 5/8 |  val  | Loss: 0.1744 | Acc: 0.9258\n",
    "# Epoch 6/8 | train | Loss: 0.1672 | Acc: 0.9295\n",
    "# Epoch 6/8 |  val  | Loss: 0.1684 | Acc: 0.9307\n",
    "# Epoch 7/8 | train | Loss: 0.1598 | Acc: 0.9329\n",
    "# Epoch 7/8 |  val  | Loss: 0.1611 | Acc: 0.9340\n",
    "# Epoch 8/8 | train | Loss: 0.1549 | Acc: 0.9348\n",
    "# Epoch 8/8 |  val  | Loss: 0.1606 | Acc: 0.9349"
   ]
  },
  {
   "cell_type": "code",
   "execution_count": 25,
   "metadata": {
    "scrolled": true
   },
   "outputs": [],
   "source": [
    "# !tensorboard --logdir runs"
   ]
  },
  {
   "cell_type": "markdown",
   "metadata": {},
   "source": [
    "# Submission"
   ]
  },
  {
   "cell_type": "code",
   "execution_count": 26,
   "metadata": {
    "execution": {
     "iopub.status.busy": "2021-09-21T02:12:28.574817Z",
     "iopub.status.idle": "2021-09-21T02:12:28.575768Z",
     "shell.execute_reply": "2021-09-21T02:12:28.575542Z",
     "shell.execute_reply.started": "2021-09-21T02:12:28.575505Z"
    },
    "scrolled": false
   },
   "outputs": [
    {
     "name": "stdout",
     "output_type": "stream",
     "text": [
      "Overwriting agent/agent.py\n"
     ]
    }
   ],
   "source": [
    "%%writefile agent/agent.py\n",
    "import os\n",
    "import json\n",
    "import threading\n",
    "import numpy as np\n",
    "import torch\n",
    "from lux.game import Game\n",
    "\n",
    "path = '/kaggle_simulations/agent' if os.path.exists('/kaggle_simulations') else '.' # change to 'agent' for tests\n",
    "model = torch.jit.load(f'{path}/model.pth')\n",
    "model.eval()\n",
    "model_city = torch.jit.load(f'{path}/model_city.pth')\n",
    "model_city.eval()\n",
    "\n",
    "def manhattan_distance(x1, y1, x2, y2):\n",
    "    return (abs(x2-x1) + abs(y2-y1))\n",
    "\n",
    "# make list of users and their current and previous coords and cooldowns \n",
    "# to write them in NN training subset\n",
    "def find_units_from_previous_obs(obs, x_shift, y_shift):\n",
    "    # at first fill the unit dict with units from previous observation\n",
    "    updates = obs['updates']\n",
    "    updates_lag_1 = obs['updates_lag_1']\n",
    "    updates_lag_2 = obs['updates_lag_2']\n",
    "    updates_lag_3 = obs['updates_lag_3']\n",
    "    updates_lag_4 = obs['updates_lag_4']\n",
    "    updates_lag_5 = obs['updates_lag_5']\n",
    "    updates_lag_6 = obs['updates_lag_6']\n",
    "    updates_lag_7 = obs['updates_lag_7']\n",
    "    prev_updates = [updates, updates_lag_1, updates_lag_2, updates_lag_3, \n",
    "                    updates_lag_4, updates_lag_5, updates_lag_6, updates_lag_7]\n",
    "    prev_units = list()\n",
    "    for prev_update in prev_updates:\n",
    "        units = dict()\n",
    "        if prev_update:\n",
    "            for update in prev_update:\n",
    "                strs = update.split(' ')\n",
    "                input_identifier = strs[0]\n",
    "                # if we found observation for user\n",
    "                if input_identifier == 'u':\n",
    "                    unit_id = strs[3]\n",
    "                    x = int(strs[4]) + x_shift\n",
    "                    y = int(strs[5]) + y_shift\n",
    "                    cooldown = float(strs[6])\n",
    "                    units[unit_id] = [x, y, cooldown]\n",
    "            prev_units.append(units)\n",
    "        else:\n",
    "            break\n",
    "    return prev_units\n",
    "\n",
    "def find_prev_coords(prev_units, unit_id):\n",
    "    # find previous coordinates of unit by ananlyzing its cooldown\n",
    "    x, y = [None, None], [None, None]\n",
    "    for i in range(len(prev_units)-1):\n",
    "        if unit_id in prev_units[i] and unit_id in prev_units[i+1]:\n",
    "            cooldown = prev_units[i][unit_id][0]\n",
    "            prev_x = prev_units[i+1][unit_id][0]\n",
    "            prev_y = prev_units[i+1][unit_id][1]\n",
    "            prev_cooldown = prev_units[i+1][unit_id][2]\n",
    "            if cooldown > 0 and prev_cooldown == 0:\n",
    "                if x[1] and y[1]:\n",
    "                    return x, y\n",
    "                if not x[0] and not y[0]:\n",
    "                    x[0], y[0] = prev_x,prev_y\n",
    "                else:\n",
    "                    x[1], y[1] = prev_x,prev_y\n",
    "        else:\n",
    "            break\n",
    "    return x, y\n",
    "            \n",
    "# Input for Neural Network for workers\n",
    "def make_input(obs, unit_id):\n",
    "    width, height = obs['width'], obs['height']\n",
    "    x_shift = (32 - width) // 2\n",
    "    y_shift = (32 - height) // 2\n",
    "\n",
    "    cities = {}\n",
    "    \n",
    "    b = np.zeros((29, 32, 32), dtype=np.float32)\n",
    "    \n",
    "    prev_units = find_units_from_previous_obs(obs, x_shift, y_shift)\n",
    "    x_u, y_u = prev_units[0][unit_id][0], prev_units[0][unit_id][1]\n",
    "    \n",
    "    for update in obs['updates']:\n",
    "        strs = update.split(' ')\n",
    "        input_identifier = strs[0]\n",
    "        my_rp = 0\n",
    "        \n",
    "        if input_identifier == 'u':\n",
    "            x = int(strs[4]) + x_shift\n",
    "            y = int(strs[5]) + y_shift\n",
    "            wood = int(strs[7])\n",
    "            coal = int(strs[8])\n",
    "            uranium = int(strs[9])\n",
    "            if strs[3] == unit_id: # 0:2\n",
    "                # Position, Cargo and Previous Position\n",
    "                b[:2, x, y] = (\n",
    "                    1,\n",
    "                    (wood + coal + uranium) / 100\n",
    "                )\n",
    "                prev_x, prev_y = find_prev_coords(prev_units, unit_id)\n",
    "                if not prev_x[0] and not prev_y[0]:\n",
    "                    prev_x[0], prev_y[0] = x, y\n",
    "                    prev_x[1], prev_y[1] = x, y\n",
    "                try:\n",
    "                    b[2, prev_x[0], prev_y[0]] = 1\n",
    "                    b[3, prev_x[1], prev_y[1]] = 1\n",
    "                except IndexError:\n",
    "                    b[2, x, y] = 1\n",
    "                    b[3, x, y] = 1\n",
    "            else:                  # 4:11\n",
    "                # Units\n",
    "                team = int(strs[2])\n",
    "                cooldown = float(strs[6])\n",
    "                idx = 4 + (team - obs['player']) % 2 * 4\n",
    "                m_dist = manhattan_distance(x_u, y_u, x, y)\n",
    "                b[idx:idx + 4, x, y] = (\n",
    "                    1,\n",
    "                    cooldown / 6,\n",
    "                    (wood + coal + uranium) / 100,\n",
    "                    m_dist/((width-1) + (height-1))\n",
    "                )\n",
    "        elif input_identifier == 'ct':  # 12:17\n",
    "            # CityTiles\n",
    "            team = int(strs[1])\n",
    "            city_id = strs[2]\n",
    "            x = int(strs[3]) + x_shift\n",
    "            y = int(strs[4]) + y_shift\n",
    "            idx = 12 + (team - obs['player']) % 2 * 3\n",
    "            m_dist = manhattan_distance(x_u, y_u, x, y)\n",
    "            b[idx:idx + 3, x, y] = (\n",
    "                1,\n",
    "                cities[city_id],\n",
    "                m_dist/((width-1) + (height-1))\n",
    "            )\n",
    "        elif input_identifier == 'r':  # 18:21\n",
    "            # Resources\n",
    "            r_type = strs[1]\n",
    "            x = int(strs[2]) + x_shift\n",
    "            y = int(strs[3]) + y_shift\n",
    "            amt = int(float(strs[4]))\n",
    "            access_level = {'wood': 0, 'coal': 50, 'uranium': 200}[r_type]\n",
    "            access = 0 if my_rp < access_level else 1\n",
    "            b[{'wood': 18, 'coal': 19, 'uranium': 20}[r_type], x, y] = amt / 800\n",
    "            b[21, x, y] = access\n",
    "            b[22, x, y] = manhattan_distance(x_u, y_u, x, y)/((width-1) + (height-1))\n",
    "        elif input_identifier == 'rp':  # 23:24\n",
    "            # Research Points\n",
    "            team = int(strs[1])\n",
    "            rp = int(strs[2])\n",
    "            my_rp = rp if team == obs['player'] else my_rp\n",
    "            b[23 + (team - obs['player']) % 2, :] = min(rp, 200) / 200\n",
    "        elif input_identifier == 'c':\n",
    "            # Cities\n",
    "            city_id = strs[2]\n",
    "            fuel = float(strs[3])\n",
    "            lightupkeep = float(strs[4])\n",
    "            cities[city_id] = min(fuel / lightupkeep, 10) / 10\n",
    "    # Day/Night Cycle\n",
    "    b[25, :] = obs['step'] % 40 / 40\n",
    "    # Turns\n",
    "    b[26, :] = obs['step'] / 360\n",
    "    # Day/Night Flag\n",
    "    b[27, :] = 1 if obs['step'] % 40 < 30 else 0\n",
    "    # Map Size\n",
    "    b[28, x_shift:32 - x_shift, y_shift:32 - y_shift] = 1\n",
    "        \n",
    "    return b\n",
    "\n",
    "# Input for Neural Network for cities\n",
    "def make_city_input(obs, city_coord):\n",
    "    width, height = obs['width'], obs['height']\n",
    "    x_shift = (32 - width) // 2\n",
    "    y_shift = (32 - height) // 2\n",
    "    cities = {}\n",
    "    \n",
    "    b = np.zeros((21, 32, 32), dtype=np.float32)\n",
    "    \n",
    "    for update in obs['updates']:\n",
    "        strs = update.split(' ')\n",
    "        input_identifier = strs[0]\n",
    "        \n",
    "        if input_identifier == 'ct':\n",
    "            # CityTiles\n",
    "            city_id = strs[2]\n",
    "            x = int(strs[3]) \n",
    "            y = int(strs[4])\n",
    "            cooldown = float(strs[5])\n",
    "            if x == int(city_coord[0]) and y == int(city_coord[1]):\n",
    "                b[:2, x + x_shift, y + y_shift] = (\n",
    "                    1,\n",
    "                    cities[city_id]\n",
    "                )\n",
    "            else:\n",
    "                team = int(strs[1])\n",
    "                idx = 2 + (team - obs['player']) % 2 * 3\n",
    "                b[idx:idx + 3, x + x_shift, y + y_shift] = (\n",
    "                    1,\n",
    "                    cooldown / 10,\n",
    "                    cities[city_id]\n",
    "                )\n",
    "        elif input_identifier == 'u':\n",
    "            team = int(strs[2])\n",
    "            x = int(strs[4]) + x_shift\n",
    "            y = int(strs[5]) + y_shift\n",
    "            wood = int(strs[7])\n",
    "            coal = int(strs[8])\n",
    "            uranium = int(strs[9])\n",
    "            idx = 8 + (team - obs['player']) % 2 * 2\n",
    "            b[idx:idx + 2, x, y] = (\n",
    "                1,\n",
    "                (wood + coal + uranium) / 100\n",
    "            )\n",
    "        elif input_identifier == 'r':\n",
    "            # Resources\n",
    "            r_type = strs[1]\n",
    "            x = int(strs[2]) + x_shift\n",
    "            y = int(strs[3]) + y_shift\n",
    "            amt = int(float(strs[4]))\n",
    "            b[{'wood': 12, 'coal': 13, 'uranium': 14}[r_type], x, y] = amt / 800\n",
    "        elif input_identifier == 'rp':\n",
    "            # Research Points\n",
    "            team = int(strs[1])\n",
    "            rp = int(strs[2])\n",
    "            b[15 + (team - obs['player']) % 2, :] = min(rp, 200) / 200\n",
    "        elif input_identifier == 'c':\n",
    "            # Cities\n",
    "            city_id = strs[2]\n",
    "            fuel = float(strs[3])\n",
    "            lightupkeep = float(strs[4])\n",
    "            cities[city_id] = min(fuel / lightupkeep, 10) / 10\n",
    "    \n",
    "    # Day/Night Cycle\n",
    "    b[17, :] = obs['step'] % 40 / 40\n",
    "    # Turns\n",
    "    b[18, :] = obs['step'] / 360\n",
    "    # Day/Night Flag\n",
    "    b[19, :] = 1 if obs['step'] % 40 < 30 else 0\n",
    "    # Map Size\n",
    "    b[20, x_shift:32 - x_shift, y_shift:32 - y_shift] = 1\n",
    "\n",
    "    return b\n",
    "\n",
    "game_state = None\n",
    "player = None\n",
    "\n",
    "\n",
    "def get_game_state(observation):\n",
    "    global game_state\n",
    "    \n",
    "    if observation[\"step\"] == 0:\n",
    "        game_state = Game()\n",
    "        game_state._initialize(observation[\"updates\"])\n",
    "        game_state._update(observation[\"updates\"][2:])\n",
    "        game_state.id = observation[\"player\"]\n",
    "    else:\n",
    "        game_state._update(observation[\"updates\"])\n",
    "    return game_state\n",
    "\n",
    "\n",
    "# check if unit is in city\n",
    "def in_city(pos):    \n",
    "    try:\n",
    "        city = game_state.map.get_cell_by_pos(pos).citytile\n",
    "        return city is not None and city.team == game_state.id \n",
    "    except:\n",
    "        return False\n",
    "\n",
    "# check if city will survive the night\n",
    "def city_will_survive(pos):    \n",
    "    try:\n",
    "        city_id = game_state.map.get_cell_by_pos(pos).citytile.cityid\n",
    "    except:\n",
    "        return False\n",
    "    if city_id in player.cities:\n",
    "        city = player.cities[city_id]\n",
    "        if city.fuel > (city.get_light_upkeep()) * 10:\n",
    "            return True\n",
    "    return False\n",
    "    \n",
    "# check if unit has enough time and space to build a city\n",
    "def build_city_is_possible(unit, pos):    \n",
    "    global game_state\n",
    "    global player\n",
    "\n",
    "    if game_state.turn % 40 < 30:\n",
    "        return True\n",
    "    x, y = pos.x, pos.y\n",
    "    for i, j in ((x-1, y), (x+1, y), (x, y-1), (x, y+1)):\n",
    "        try:\n",
    "            city_id = game_state.map.get_cell(i, j).citytile.cityid\n",
    "        except:\n",
    "            continue\n",
    "        if city_id in player.cities:\n",
    "            city = player.cities[city_id]\n",
    "            if city.fuel > (city.get_light_upkeep() + 18) * 10:\n",
    "                return True\n",
    "    return False\n",
    "    \n",
    "\n",
    "def call_func(obj, method, args=[]):\n",
    "    return getattr(obj, method)(*args)\n",
    "\n",
    "\n",
    "# translate unit policy to action\n",
    "unit_actions = [('move', 'n'), ('move', 's'), ('move', 'w'), ('move', 'e'), ('build_city',)]\n",
    "def get_unit_action(policy, unit, dest):\n",
    "    for label in np.argsort(policy)[::-1]:\n",
    "        act = unit_actions[label]\n",
    "        pos = unit.pos.translate(act[-1], 1) or unit.pos\n",
    "        if label == 4 and not build_city_is_possible(unit, pos): # try to remove this\n",
    "            return unit.move('c'), unit.pos\n",
    "        if pos not in dest or in_city(pos):\n",
    "            return call_func(unit, *act), pos      \n",
    "    return unit.move('c'), unit.pos\n",
    "\n",
    "# translate city policy to action\n",
    "city_actions = [('build_worker',), ('research', )]\n",
    "def get_city_action(policy, city_tile):\n",
    "    global player\n",
    "    global unit_count\n",
    "    \n",
    "    for label in np.argsort(policy)[::-1]:\n",
    "        act = city_actions[label]\n",
    "        # build unit only if their number less than number of cities\n",
    "        if label == 0 and unit_count < player.city_tile_count and unit_count < 80:\n",
    "            unit_count += 1\n",
    "            res = call_func(city_tile, *act)\n",
    "        elif label == 1 and not player.researched_uranium():\n",
    "            player.research_points += 1\n",
    "            res = call_func(city_tile, *act)\n",
    "        else:\n",
    "            res = None\n",
    "        return res\n",
    "\n",
    "# agent for making actions\n",
    "def agent(observation, configuration):\n",
    "    global game_state\n",
    "    global player\n",
    "    global actions\n",
    "    global dest\n",
    "    global unit_count\n",
    "    global city_count\n",
    "    \n",
    "    game_state = get_game_state(observation)    \n",
    "    player = game_state.players[observation.player]\n",
    "    actions = [] \n",
    "    dest = []\n",
    "    prev_obs = dict()\n",
    "    \n",
    "    with open(f'{path}/tmp.json') as json_file:\n",
    "        try:\n",
    "            prev_obs = json.load(json_file)\n",
    "        except json.decoder.JSONDecodeError:\n",
    "            prev_obs['updates_lag_1'] = None\n",
    "            prev_obs['updates_lag_2'] = None\n",
    "            prev_obs['updates_lag_3'] = None\n",
    "            prev_obs['updates_lag_4'] = None\n",
    "            prev_obs['updates_lag_5'] = None\n",
    "            prev_obs['updates_lag_6'] = None\n",
    "            prev_obs['updates_lag_7'] = None\n",
    "            \n",
    "    observation['updates_lag_7'] = prev_obs['updates_lag_7']\n",
    "    observation['updates_lag_6'] = prev_obs['updates_lag_6']\n",
    "    observation['updates_lag_5'] = prev_obs['updates_lag_5']\n",
    "    observation['updates_lag_4'] = prev_obs['updates_lag_4']\n",
    "    observation['updates_lag_3'] = prev_obs['updates_lag_3']\n",
    "    observation['updates_lag_2'] = prev_obs['updates_lag_2']\n",
    "    observation['updates_lag_1'] = prev_obs['updates_lag_1']\n",
    "    \n",
    "    prev_obs['updates_lag_7'] = prev_obs['updates_lag_6']\n",
    "    prev_obs['updates_lag_6'] = prev_obs['updates_lag_5']\n",
    "    prev_obs['updates_lag_5'] = prev_obs['updates_lag_4']\n",
    "    prev_obs['updates_lag_4'] = prev_obs['updates_lag_3']\n",
    "    prev_obs['updates_lag_3'] = prev_obs['updates_lag_2']\n",
    "    prev_obs['updates_lag_2'] = prev_obs['updates_lag_1']\n",
    "    prev_obs['updates_lag_1'] = observation['updates']\n",
    "    \n",
    "    if game_state.turn == 0 or game_state.turn == 359:\n",
    "        open(f'{path}/tmp.json', 'w+').close()\n",
    "    else:\n",
    "        with open(f'{path}/tmp.json', 'w+') as json_file:\n",
    "            json.dump(prev_obs, json_file)\n",
    "    \n",
    "    # Unit Actions\n",
    "    def unit_actions(unit, player, game_state, model, observation):\n",
    "        global actions\n",
    "        global dest\n",
    "        if unit.can_act():\n",
    "            state = make_input(observation, unit.id)\n",
    "            with torch.no_grad():\n",
    "                p = model(torch.from_numpy(state).unsqueeze(0))\n",
    "\n",
    "            policy = p.squeeze(0).numpy()\n",
    "\n",
    "            action, pos = get_unit_action(policy, unit, dest)\n",
    "            actions.append(action)\n",
    "            dest.append(pos)\n",
    "            \n",
    "    for unit in player.units:\n",
    "        unit_actions(unit, player, game_state, model, observation)\n",
    "        \n",
    "    # City Actions\n",
    "    def city_actions(city_tile, game_state, model, observation):\n",
    "        global actions\n",
    "        global dest\n",
    "        global unit_count\n",
    "        if city_tile.can_act():\n",
    "            # on the last step build as many workers as possible to win the game in case of tie\n",
    "            if game_state.turn == 358:\n",
    "                city_tile.build_worker()\n",
    "            # if number of cities is too high, switch to simplify strategy to prevent too high lags\n",
    "            elif player.city_tile_count > 80:\n",
    "                if unit_count < 80: \n",
    "                    actions.append(city_tile.build_worker())\n",
    "                    unit_count += 1\n",
    "                elif not player.researched_uranium():\n",
    "                    actions.append(city_tile.research())\n",
    "                    player.research_points += 1\n",
    "            # else follow NN strategy\n",
    "            else:\n",
    "                state = make_city_input(observation, [city_tile.pos.x, city_tile.pos.y])\n",
    "                with torch.no_grad():\n",
    "                    p = model_city(torch.from_numpy(state).unsqueeze(0))\n",
    "\n",
    "                policy = p.squeeze(0).numpy()\n",
    "\n",
    "                action = get_city_action(policy, city_tile)\n",
    "                if action:\n",
    "                    actions.append(action)    \n",
    "\n",
    "    unit_count = len(player.units)\n",
    "    for city in player.cities.values():\n",
    "        for city_tile in city.citytiles:\n",
    "            city_actions(city_tile, game_state, model, observation)\n",
    "            \n",
    "    \n",
    "    return actions"
   ]
  },
  {
   "cell_type": "markdown",
   "metadata": {},
   "source": [
    "Submit predictions"
   ]
  },
  {
   "cell_type": "code",
   "execution_count": 31,
   "metadata": {
    "scrolled": true
   },
   "outputs": [],
   "source": [
    "!cd agent && tar -czf submission.tar.gz lux agent.py main.py model.pth model_city.pth tmp.json"
   ]
  },
  {
   "cell_type": "markdown",
   "metadata": {},
   "source": [
    "Test agents on 12x12 field"
   ]
  },
  {
   "cell_type": "code",
   "execution_count": 36,
   "metadata": {
    "scrolled": false
   },
   "outputs": [],
   "source": [
    "# from kaggle_environments import make\n",
    "\n",
    "# env = make(\"lux_ai_2021\", configuration={\"width\": 12, \"height\": 12, \"loglevel\": 2, \"annotations\": True}, debug=False)\n",
    "\n",
    "# # first agent is yellow\n",
    "# # second agent is blue\n",
    "# steps = env.run(['agent/agent.py', 'agent.py'])\n",
    "\n",
    "# env.render(mode=\"ipython\", width=1200, height=800)"
   ]
  },
  {
   "cell_type": "markdown",
   "metadata": {},
   "source": [
    "Test agent on 16x16 field"
   ]
  },
  {
   "cell_type": "code",
   "execution_count": 38,
   "metadata": {
    "scrolled": false
   },
   "outputs": [],
   "source": [
    "# env = make(\"lux_ai_2021\", configuration={\"width\": 16, \"height\": 16, \"loglevel\": 2, \"annotations\": True}, debug=False)\n",
    "\n",
    "# # first agent is yellow\n",
    "# # second agent is blue\n",
    "# steps = env.run(['agent/agent.py', 'agent.py'])\n",
    "\n",
    "# env.render(mode=\"ipython\", width=1200, height=800)"
   ]
  },
  {
   "cell_type": "markdown",
   "metadata": {},
   "source": [
    "Test agent on 24x24 field"
   ]
  },
  {
   "cell_type": "code",
   "execution_count": 42,
   "metadata": {
    "scrolled": false
   },
   "outputs": [],
   "source": [
    "# env = make(\"lux_ai_2021\", configuration={\"width\": 24, \"height\": 24, \"loglevel\": 2, \"annotations\": True}, debug=False)\n",
    "\n",
    "# # first agent is yellow\n",
    "# # second agent is blue\n",
    "# steps = env.run(['agent/agent.py', 'agent.py'])\n",
    "\n",
    "# env.render(mode=\"ipython\", width=1200, height=800)"
   ]
  },
  {
   "cell_type": "markdown",
   "metadata": {},
   "source": [
    "Test agents on 32x32 field"
   ]
  },
  {
   "cell_type": "code",
   "execution_count": 43,
   "metadata": {
    "execution": {
     "iopub.status.busy": "2021-09-21T02:12:28.577249Z",
     "iopub.status.idle": "2021-09-21T02:12:28.577694Z",
     "shell.execute_reply": "2021-09-21T02:12:28.577478Z",
     "shell.execute_reply.started": "2021-09-21T02:12:28.577455Z"
    },
    "scrolled": false
   },
   "outputs": [],
   "source": [
    "# env = make(\"lux_ai_2021\", configuration={\"width\": 32, \"height\": 32, \"loglevel\": 2, \"annotations\": True}, debug=False)\n",
    "\n",
    "# # first agent is yellow\n",
    "# # second agent is blue\n",
    "# steps = env.run(['agent/agent.py', 'agent.py'])\n",
    "\n",
    "# env.render(mode=\"ipython\", width=1200, height=800)"
   ]
  },
  {
   "cell_type": "markdown",
   "metadata": {},
   "source": [
    "### Optimize NN parameters with Optuna"
   ]
  },
  {
   "cell_type": "code",
   "execution_count": 32,
   "metadata": {
    "scrolled": true
   },
   "outputs": [],
   "source": [
    "# def objective(trial):\n",
    "\n",
    "#     num_epochs = 10\n",
    "    \n",
    "#     # model for unit actions\n",
    "#     model = LuxNet()\n",
    "#     train, val = train_test_split(samples, test_size=0.1, random_state=42, stratify=labels)\n",
    "#     batch_size = 64\n",
    "\n",
    "#     train_loader = DataLoader(\n",
    "#         LuxDataset(obses, train), \n",
    "#         batch_size=batch_size, \n",
    "#         shuffle=True, \n",
    "#         num_workers=2\n",
    "#     )\n",
    "#     val_loader = DataLoader(\n",
    "#         LuxDataset(obses, val), \n",
    "#         batch_size=batch_size, \n",
    "#         shuffle=False, \n",
    "#         num_workers=2\n",
    "#     )\n",
    "#     dataloaders_dict = {\"train\": train_loader, \"val\": val_loader}\n",
    "\n",
    "#     # Generate the optimizers.\n",
    "#     criterion = nn.CrossEntropyLoss()\n",
    "#     optimizer_name = trial.suggest_categorical(\"optimizer\", [\"Adam\", \"AdamW\", \"RMSprop\", \"SGD\"])\n",
    "#     lr = trial.suggest_float(\"lr\", 1e-5, 1e-2, log=True)\n",
    "#     optimizer = getattr(optim, optimizer_name)(model.parameters(), lr=lr)\n",
    "\n",
    "#     for epoch in range(num_epochs):\n",
    "#         model.cuda()\n",
    "        \n",
    "#         for phase in ['train', 'val']:\n",
    "#             if phase == 'train':\n",
    "#                 model.train()\n",
    "#             else:\n",
    "#                 model.eval()\n",
    "                \n",
    "#             epoch_loss = 0.0\n",
    "#             epoch_acc = 0\n",
    "            \n",
    "#             dataloader = dataloaders_dict[phase]\n",
    "#             for item in dataloader:\n",
    "#                 states = item[0].cuda().float()\n",
    "#                 actions = item[1].cuda().long()\n",
    "\n",
    "#                 optimizer.zero_grad()\n",
    "                \n",
    "#                 with torch.set_grad_enabled(phase == 'train'):\n",
    "#                     policy = model(states)\n",
    "#                     loss = criterion(policy, actions)\n",
    "#                     _, preds = torch.max(policy, 1)\n",
    "\n",
    "#                     if phase == 'train':\n",
    "#                         loss.backward()\n",
    "#                         optimizer.step()\n",
    "\n",
    "#                     epoch_loss += loss.item() * len(policy)\n",
    "#                     epoch_acc += torch.sum(preds == actions.data)\n",
    "\n",
    "#             data_size = len(dataloader.dataset)\n",
    "#             epoch_loss = epoch_loss / data_size\n",
    "#             epoch_acc = epoch_acc.double() / data_size\n",
    "\n",
    "#         trial.report(epoch_acc, epoch)\n",
    "\n",
    "#         # Handle pruning based on the intermediate value.\n",
    "#         if trial.should_prune():\n",
    "#             raise optuna.exceptions.TrialPruned()\n",
    "\n",
    "#     return epoch_acc\n",
    "\n",
    "\n",
    "# study = optuna.create_study(direction=\"maximize\")\n",
    "# study.optimize(objective, n_trials=500, timeout=10*3600)\n",
    "\n",
    "# pruned_trials = study.get_trials(deepcopy=False, states=[TrialState.PRUNED])\n",
    "# complete_trials = study.get_trials(deepcopy=False, states=[TrialState.COMPLETE])\n",
    "\n",
    "# print(\"Study statistics: \")\n",
    "# print(\"  Number of finished trials: \", len(study.trials))\n",
    "# print(\"  Number of pruned trials: \", len(pruned_trials))\n",
    "# print(\"  Number of complete trials: \", len(complete_trials))\n",
    "\n",
    "# print(\"Best trial:\")\n",
    "# trial = study.best_trial\n",
    "\n",
    "# print(\"  Value: \", trial.value)\n",
    "\n",
    "# print(\"  Params: \")\n",
    "# for key, value in trial.params.items():\n",
    "#     print(\"    {}: {}\".format(key, value))"
   ]
  },
  {
   "cell_type": "markdown",
   "metadata": {},
   "source": [
    "# NNs ensemble"
   ]
  },
  {
   "cell_type": "code",
   "execution_count": 33,
   "metadata": {},
   "outputs": [
    {
     "ename": "ValueError",
     "evalue": "The provided filename ./model_v2.pth does not exist",
     "output_type": "error",
     "traceback": [
      "\u001b[0;31m---------------------------------------------------------------------------\u001b[0m",
      "\u001b[0;31mValueError\u001b[0m                                Traceback (most recent call last)",
      "\u001b[0;32m/tmp/ipykernel_10547/101872793.py\u001b[0m in \u001b[0;36m<module>\u001b[0;34m\u001b[0m\n\u001b[1;32m      6\u001b[0m \u001b[0mpath\u001b[0m \u001b[0;34m=\u001b[0m \u001b[0;34m'/kaggle_simulations/agent'\u001b[0m \u001b[0;32mif\u001b[0m \u001b[0mos\u001b[0m\u001b[0;34m.\u001b[0m\u001b[0mpath\u001b[0m\u001b[0;34m.\u001b[0m\u001b[0mexists\u001b[0m\u001b[0;34m(\u001b[0m\u001b[0;34m'/kaggle_simulations'\u001b[0m\u001b[0;34m)\u001b[0m \u001b[0;32melse\u001b[0m \u001b[0;34m'.'\u001b[0m \u001b[0;31m# change to 'agent' for tests\u001b[0m\u001b[0;34m\u001b[0m\u001b[0;34m\u001b[0m\u001b[0m\n\u001b[1;32m      7\u001b[0m \u001b[0;31m# unit NNs\u001b[0m\u001b[0;34m\u001b[0m\u001b[0;34m\u001b[0m\u001b[0;34m\u001b[0m\u001b[0m\n\u001b[0;32m----> 8\u001b[0;31m \u001b[0mmodel_v2\u001b[0m \u001b[0;34m=\u001b[0m \u001b[0mtorch\u001b[0m\u001b[0;34m.\u001b[0m\u001b[0mjit\u001b[0m\u001b[0;34m.\u001b[0m\u001b[0mload\u001b[0m\u001b[0;34m(\u001b[0m\u001b[0;34mf'{path}/model_v2.pth'\u001b[0m\u001b[0;34m)\u001b[0m\u001b[0;34m\u001b[0m\u001b[0;34m\u001b[0m\u001b[0m\n\u001b[0m\u001b[1;32m      9\u001b[0m \u001b[0mmodel_v2\u001b[0m\u001b[0;34m.\u001b[0m\u001b[0meval\u001b[0m\u001b[0;34m(\u001b[0m\u001b[0;34m)\u001b[0m\u001b[0;34m\u001b[0m\u001b[0;34m\u001b[0m\u001b[0m\n\u001b[1;32m     10\u001b[0m \u001b[0mmodel_v4\u001b[0m \u001b[0;34m=\u001b[0m \u001b[0mtorch\u001b[0m\u001b[0;34m.\u001b[0m\u001b[0mjit\u001b[0m\u001b[0;34m.\u001b[0m\u001b[0mload\u001b[0m\u001b[0;34m(\u001b[0m\u001b[0;34mf'{path}/model_v4.pth'\u001b[0m\u001b[0;34m)\u001b[0m\u001b[0;34m\u001b[0m\u001b[0;34m\u001b[0m\u001b[0m\n",
      "\u001b[0;32m~/.local/lib/python3.8/site-packages/torch/jit/_serialization.py\u001b[0m in \u001b[0;36mload\u001b[0;34m(f, map_location, _extra_files)\u001b[0m\n\u001b[1;32m    149\u001b[0m     \u001b[0;32mif\u001b[0m \u001b[0misinstance\u001b[0m\u001b[0;34m(\u001b[0m\u001b[0mf\u001b[0m\u001b[0;34m,\u001b[0m \u001b[0mstring_classes\u001b[0m\u001b[0;34m)\u001b[0m\u001b[0;34m:\u001b[0m\u001b[0;34m\u001b[0m\u001b[0;34m\u001b[0m\u001b[0m\n\u001b[1;32m    150\u001b[0m         \u001b[0;32mif\u001b[0m \u001b[0;32mnot\u001b[0m \u001b[0mos\u001b[0m\u001b[0;34m.\u001b[0m\u001b[0mpath\u001b[0m\u001b[0;34m.\u001b[0m\u001b[0mexists\u001b[0m\u001b[0;34m(\u001b[0m\u001b[0mf\u001b[0m\u001b[0;34m)\u001b[0m\u001b[0;34m:\u001b[0m  \u001b[0;31m# type: ignore\u001b[0m\u001b[0;34m\u001b[0m\u001b[0;34m\u001b[0m\u001b[0m\n\u001b[0;32m--> 151\u001b[0;31m             \u001b[0;32mraise\u001b[0m \u001b[0mValueError\u001b[0m\u001b[0;34m(\u001b[0m\u001b[0;34m\"The provided filename {} does not exist\"\u001b[0m\u001b[0;34m.\u001b[0m\u001b[0mformat\u001b[0m\u001b[0;34m(\u001b[0m\u001b[0mf\u001b[0m\u001b[0;34m)\u001b[0m\u001b[0;34m)\u001b[0m  \u001b[0;31m# type: ignore\u001b[0m\u001b[0;34m\u001b[0m\u001b[0;34m\u001b[0m\u001b[0m\n\u001b[0m\u001b[1;32m    152\u001b[0m         \u001b[0;32mif\u001b[0m \u001b[0mos\u001b[0m\u001b[0;34m.\u001b[0m\u001b[0mpath\u001b[0m\u001b[0;34m.\u001b[0m\u001b[0misdir\u001b[0m\u001b[0;34m(\u001b[0m\u001b[0mf\u001b[0m\u001b[0;34m)\u001b[0m\u001b[0;34m:\u001b[0m\u001b[0;34m\u001b[0m\u001b[0;34m\u001b[0m\u001b[0m\n\u001b[1;32m    153\u001b[0m             \u001b[0;32mraise\u001b[0m \u001b[0mValueError\u001b[0m\u001b[0;34m(\u001b[0m\u001b[0;34m\"The provided filename {} is a directory\"\u001b[0m\u001b[0;34m.\u001b[0m\u001b[0mformat\u001b[0m\u001b[0;34m(\u001b[0m\u001b[0mf\u001b[0m\u001b[0;34m)\u001b[0m\u001b[0;34m)\u001b[0m  \u001b[0;31m# type: ignore\u001b[0m\u001b[0;34m\u001b[0m\u001b[0;34m\u001b[0m\u001b[0m\n",
      "\u001b[0;31mValueError\u001b[0m: The provided filename ./model_v2.pth does not exist"
     ]
    }
   ],
   "source": [
    "import os\n",
    "import numpy as np\n",
    "import torch\n",
    "from lux.game import Game\n",
    "\n",
    "path = '/kaggle_simulations/agent' if os.path.exists('/kaggle_simulations') else '.' # change to 'agent' for tests\n",
    "# unit NNs\n",
    "model_v2 = torch.jit.load(f'{path}/model_v2.pth')\n",
    "model_v2.eval()\n",
    "model_v4 = torch.jit.load(f'{path}/model_v4.pth')\n",
    "model_v4.eval()\n",
    "model_v5 = torch.jit.load(f'{path}/model_v5.pth')\n",
    "model_v5.eval()\n",
    "model_v11 = torch.jit.load(f'{path}/model_v11.pth')\n",
    "model_v11.eval()\n",
    "# city NNs\n",
    "model_city_v2 = torch.jit.load(f'{path}/model_city_v2.pth')\n",
    "model_city_v2.eval()\n",
    "model_city_v4 = torch.jit.load(f'{path}/model_city_v4.pth')\n",
    "model_city_v4.eval()\n",
    "model_city_v5 = torch.jit.load(f'{path}/model_city_v5.pth')\n",
    "model_city_v5.eval()\n",
    "model_city_v11 = torch.jit.load(f'{path}/model_city_v11.pth')\n",
    "model_city_v11.eval()\n",
    "\n",
    "# Input for Neural Network for units\n",
    "def make_input(obs, unit_id):\n",
    "    width, height = obs['width'], obs['height']\n",
    "    x_shift = (32 - width) // 2\n",
    "    y_shift = (32 - height) // 2\n",
    "    cities = {}\n",
    "    \n",
    "    b = np.zeros((20, 32, 32), dtype=np.float32)\n",
    "    \n",
    "    for update in obs['updates']:\n",
    "        strs = update.split(' ')\n",
    "        input_identifier = strs[0]\n",
    "        \n",
    "        if input_identifier == 'u':\n",
    "            x = int(strs[4]) + x_shift\n",
    "            y = int(strs[5]) + y_shift\n",
    "            wood = int(strs[7])\n",
    "            coal = int(strs[8])\n",
    "            uranium = int(strs[9])\n",
    "            if unit_id == strs[3]:\n",
    "                # Position and Cargo\n",
    "                b[:2, x, y] = (\n",
    "                    1,\n",
    "                    (wood + coal + uranium) / 100\n",
    "                )\n",
    "            else:\n",
    "                # Units\n",
    "                team = int(strs[2])\n",
    "                cooldown = float(strs[6])\n",
    "                idx = 2 + (team - obs['player']) % 2 * 3\n",
    "                b[idx:idx + 3, x, y] = (\n",
    "                    1,\n",
    "                    cooldown / 6,\n",
    "                    (wood + coal + uranium) / 100\n",
    "                )\n",
    "        elif input_identifier == 'ct':\n",
    "            # CityTiles\n",
    "            team = int(strs[1])\n",
    "            city_id = strs[2]\n",
    "            x = int(strs[3]) + x_shift\n",
    "            y = int(strs[4]) + y_shift\n",
    "            idx = 8 + (team - obs['player']) % 2 * 2\n",
    "            b[idx:idx + 2, x, y] = (\n",
    "                1,\n",
    "                cities[city_id]\n",
    "            )\n",
    "        elif input_identifier == 'r':\n",
    "            # Resources\n",
    "            r_type = strs[1]\n",
    "            x = int(strs[2]) + x_shift\n",
    "            y = int(strs[3]) + y_shift\n",
    "            amt = int(float(strs[4]))\n",
    "            b[{'wood': 12, 'coal': 13, 'uranium': 14}[r_type], x, y] = amt / 800\n",
    "        elif input_identifier == 'rp':\n",
    "            # Research Points\n",
    "            team = int(strs[1])\n",
    "            rp = int(strs[2])\n",
    "            b[15 + (team - obs['player']) % 2, :] = min(rp, 200) / 200\n",
    "        elif input_identifier == 'c':\n",
    "            # Cities\n",
    "            city_id = strs[2]\n",
    "            fuel = float(strs[3])\n",
    "            lightupkeep = float(strs[4])\n",
    "            cities[city_id] = min(fuel / lightupkeep, 10) / 10\n",
    "    \n",
    "    # Day/Night Cycle\n",
    "    b[17, :] = obs['step'] % 40 / 40\n",
    "    # Turns\n",
    "    b[18, :] = obs['step'] / 360\n",
    "    # Day/Night Flag\n",
    "    b[19, :] = 1 if obs['step'] % 40 < 30 else 0\n",
    "    # Map Size\n",
    "    b[20, x_shift:32 - x_shift, y_shift:32 - y_shift] = 1\n",
    "    return b\n",
    "\n",
    "\n",
    "# Input for Neural Network for cities\n",
    "def make_city_input(obs, city_coord):\n",
    "    width, height = obs['width'], obs['height']\n",
    "    x_shift = (32 - width) // 2\n",
    "    y_shift = (32 - height) // 2\n",
    "    cities = {}\n",
    "    \n",
    "    b = np.zeros((20, 32, 32), dtype=np.float32)\n",
    "    \n",
    "    for update in obs['updates']:\n",
    "        strs = update.split(' ')\n",
    "        input_identifier = strs[0]\n",
    "        \n",
    "        if input_identifier == 'ct':\n",
    "            # CityTiles\n",
    "            city_id = strs[2]\n",
    "            x = int(strs[3]) \n",
    "            y = int(strs[4])\n",
    "            cooldown = float(strs[5])\n",
    "            if x == int(city_coord[0]) and y == int(city_coord[1]):\n",
    "                b[:2, x + x_shift, y + y_shift] = (\n",
    "                    1,\n",
    "                    cities[city_id]\n",
    "                )\n",
    "            else:\n",
    "                team = int(strs[1])\n",
    "                idx = 2 + (team - obs['player']) % 2 * 3\n",
    "                b[idx:idx + 3, x + x_shift, y + y_shift] = (\n",
    "                    1,\n",
    "                    cooldown / 10,\n",
    "                    cities[city_id]\n",
    "                )\n",
    "        elif input_identifier == 'u':\n",
    "            team = int(strs[2])\n",
    "            x = int(strs[4]) + x_shift\n",
    "            y = int(strs[5]) + y_shift\n",
    "            wood = int(strs[7])\n",
    "            coal = int(strs[8])\n",
    "            uranium = int(strs[9])\n",
    "            idx = 8 + (team - obs['player']) % 2 * 2\n",
    "            b[idx:idx + 2, x, y] = (\n",
    "                1,\n",
    "                (wood + coal + uranium) / 100\n",
    "            )\n",
    "        elif input_identifier == 'r':\n",
    "            # Resources\n",
    "            r_type = strs[1]\n",
    "            x = int(strs[2]) + x_shift\n",
    "            y = int(strs[3]) + y_shift\n",
    "            amt = int(float(strs[4]))\n",
    "            b[{'wood': 12, 'coal': 13, 'uranium': 14}[r_type], x, y] = amt / 800\n",
    "        elif input_identifier == 'rp':\n",
    "            # Research Points\n",
    "            team = int(strs[1])\n",
    "            rp = int(strs[2])\n",
    "            b[15 + (team - obs['player']) % 2, :] = min(rp, 200) / 200\n",
    "        elif input_identifier == 'c':\n",
    "            # Cities\n",
    "            city_id = strs[2]\n",
    "            fuel = float(strs[3])\n",
    "            lightupkeep = float(strs[4])\n",
    "            cities[city_id] = min(fuel / lightupkeep, 10) / 10\n",
    "    \n",
    "    # Day/Night Cycle\n",
    "    b[17, :] = obs['step'] % 40 / 40\n",
    "    # Turns\n",
    "    b[18, :] = obs['step'] / 360\n",
    "    # Map Size\n",
    "    b[19, x_shift:32 - x_shift, y_shift:32 - y_shift] = 1\n",
    "\n",
    "    return b\n",
    "\n",
    "game_state = None\n",
    "player = None\n",
    "\n",
    "\n",
    "def get_game_state(observation):\n",
    "    global game_state\n",
    "    \n",
    "    if observation[\"step\"] == 0:\n",
    "        game_state = Game()\n",
    "        game_state._initialize(observation[\"updates\"])\n",
    "        game_state._update(observation[\"updates\"][2:])\n",
    "        game_state.id = observation[\"player\"]\n",
    "    else:\n",
    "        game_state._update(observation[\"updates\"])\n",
    "    return game_state\n",
    "\n",
    "\n",
    "def in_city(pos):    \n",
    "    try:\n",
    "        city = game_state.map.get_cell_by_pos(pos).citytile\n",
    "        return city is not None and city.team == game_state.id\n",
    "    except:\n",
    "        return False\n",
    "    \n",
    "# check if unit has enough time and space to build a city\n",
    "def build_city_is_possible(unit, pos):    \n",
    "    global game_state\n",
    "    global player\n",
    "\n",
    "    if game_state.turn % 40 < 30:\n",
    "        return True\n",
    "    x, y = pos.x, pos.y\n",
    "    for i, j in ((x-1, y), (x+1, y), (x, y-1), (x, y+1)):\n",
    "        try:\n",
    "            city_id = game_state.map.get_cell(i, j).citytile.cityid\n",
    "        except:\n",
    "            continue\n",
    "        if city_id in player.cities:\n",
    "            city = player.cities[city_id]\n",
    "            if city.fuel > (city.get_light_upkeep() + 18) * 10:\n",
    "                return True\n",
    "    return False\n",
    "\n",
    "\n",
    "def call_func(obj, method, args=[]):\n",
    "    return getattr(obj, method)(*args)\n",
    "\n",
    "\n",
    "# translate unit policy to action\n",
    "unit_actions = [('move', 'n'), ('move', 's'), ('move', 'w'), ('move', 'e'), ('build_city',)]\n",
    "def get_unit_action(policy, unit, dest):\n",
    "    for label in np.argsort(policy)[::-1]:\n",
    "        act = unit_actions[label]\n",
    "        pos = unit.pos.translate(act[-1], 1) or unit.pos\n",
    "        if label == 4 and not build_city_is_possible(unit, pos):\n",
    "            return unit.move('c'), unit.pos\n",
    "        if pos not in dest or in_city(pos):\n",
    "            return call_func(unit, *act), pos \n",
    "            \n",
    "    return unit.move('c'), unit.pos\n",
    "\n",
    "# translate city policy to action\n",
    "city_actions = [('build_worker',), ('research', )]\n",
    "def get_city_action(policy, city_tile, unit_count):\n",
    "    global player\n",
    "    \n",
    "    for label in np.argsort(policy)[::-1]:\n",
    "        act = city_actions[label]\n",
    "        if label == 0 and unit_count < player.city_tile_count:\n",
    "            unit_count += 1\n",
    "            res = call_func(city_tile, *act)\n",
    "        elif label == 1 and not player.researched_uranium():\n",
    "            player.research_points += 1\n",
    "            res = call_func(city_tile, *act)\n",
    "        else:\n",
    "            res = None\n",
    "        return res, unit_count\n",
    "\n",
    "# agent for making actions\n",
    "def agent(observation, configuration):\n",
    "    global game_state\n",
    "    global player\n",
    "    \n",
    "    game_state = get_game_state(observation)    \n",
    "    player = game_state.players[observation.player]\n",
    "    actions = []        \n",
    "\n",
    "    # Unit Actions\n",
    "    dest = []\n",
    "    for unit in player.units:\n",
    "        if unit.can_act() and (game_state.turn % 40 < 30 or not in_city(unit.pos)):\n",
    "            state = make_input(observation, unit.id)\n",
    "            with torch.no_grad():\n",
    "                p_2 = model_v2(torch.from_numpy(state).unsqueeze(0))\n",
    "                p_4 = model_v4(torch.from_numpy(state).unsqueeze(0))\n",
    "                #p_5 = model_v5(torch.from_numpy(state).unsqueeze(0))\n",
    "                p_11 = model_v11(torch.from_numpy(state).unsqueeze(0))\n",
    "\n",
    "            policy_2 = p_2.squeeze(0).numpy()\n",
    "            policy_4 = p_4.squeeze(0).numpy()\n",
    "            #policy_5 = p_5.squeeze(0).numpy()\n",
    "            policy_11 = p_11.squeeze(0).numpy()\n",
    "\n",
    "            policy = [sum(x) for x in zip(*[policy_2, policy_4, policy_11])]\n",
    "\n",
    "            action, pos = get_unit_action(policy, unit, dest)\n",
    "            actions.append(action)\n",
    "            dest.append(pos)\n",
    "\n",
    "    # City Actions\n",
    "    unit_count = len(player.units)\n",
    "    for city in player.cities.values():\n",
    "        for city_tile in city.citytiles:\n",
    "            if city_tile.can_act():\n",
    "                # at first game stages try to produce maximum amount of agents and research point\n",
    "                if game_state.turn < 60:\n",
    "                    if unit_count < player.city_tile_count: \n",
    "                        actions.append(city_tile.build_worker())\n",
    "                        unit_count += 1\n",
    "                    elif not player.researched_uranium():\n",
    "                        actions.append(city_tile.research())\n",
    "                        player.research_points += 1\n",
    "                # then follow NN strategy\n",
    "                else:\n",
    "                    state = make_city_input(observation, [city_tile.pos.x, city_tile.pos.y])\n",
    "                    with torch.no_grad():\n",
    "                        p_2 = model_city_v2(torch.from_numpy(state).unsqueeze(0))\n",
    "                        p_4 = model_city_v4(torch.from_numpy(state).unsqueeze(0))\n",
    "                        #p_5 = model_city_v5(torch.from_numpy(state).unsqueeze(0))\n",
    "                        p_11 = model_city_v11(torch.from_numpy(state).unsqueeze(0))\n",
    "\n",
    "                    policy_2 = p_2.squeeze(0).numpy()\n",
    "                    policy_4 = p_4.squeeze(0).numpy()\n",
    "                    #policy_5 = p_5.squeeze(0).numpy()\n",
    "                    policy_11 = p_11.squeeze(0).numpy()\n",
    "\n",
    "                    policy = [sum(x) for x in zip(*[policy_2, policy_4, policy_11])]\n",
    "\n",
    "                    action, unit_count = get_city_action(policy, city_tile, unit_count)\n",
    "                    if action:\n",
    "                        actions.append(action)\n",
    "    \n",
    "    return actions"
   ]
  },
  {
   "cell_type": "markdown",
   "metadata": {},
   "source": [
    "# Futher Ideas\n",
    "\n",
    "Hyperparameters\n",
    "- optimize hyperparameters (number of features and layers, regularization, dropout probability, learning rate) with Optuna"
   ]
  },
  {
   "cell_type": "code",
   "execution_count": null,
   "metadata": {},
   "outputs": [],
   "source": [
    "# dict for apropriate change of moving action during rotation\n",
    "# 1 - rotation on 90, 2 - rotation on 180, 3 - rotation on 270\n",
    "rot_dict = {0: {0:0, 1:1, 2:2, 3:3, 4:4}, # N -> E, S -> W, W -> N, E -> S\n",
    "            1: {0:3, 1:2, 2:0, 3:1, 4:4}, # N -> E, S -> W, W -> N, E -> S\n",
    "            2: {0:1, 1:0, 2:3, 3:2, 4:4}, # N -> S, S -> N, W -> E, E -> W\n",
    "            3: {0:2, 1:3, 2:1, 3:0, 4:4}  # N -> W, S -> E, W -> S, E -> N\n",
    "           }"
   ]
  }
 ],
 "metadata": {
  "kernelspec": {
   "display_name": "Python 3 (ipykernel)",
   "language": "python",
   "name": "python3"
  },
  "language_info": {
   "codemirror_mode": {
    "name": "ipython",
    "version": 3
   },
   "file_extension": ".py",
   "mimetype": "text/x-python",
   "name": "python",
   "nbconvert_exporter": "python",
   "pygments_lexer": "ipython3",
   "version": "3.8.10"
  }
 },
 "nbformat": 4,
 "nbformat_minor": 4
}
