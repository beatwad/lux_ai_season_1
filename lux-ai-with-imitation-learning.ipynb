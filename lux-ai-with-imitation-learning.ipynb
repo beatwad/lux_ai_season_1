{
 "cells": [
  {
   "cell_type": "markdown",
   "metadata": {},
   "source": [
    "For Kaggle"
   ]
  },
  {
   "cell_type": "code",
   "execution_count": 1,
   "metadata": {
    "execution": {
     "iopub.execute_input": "2021-09-21T02:10:22.282451Z",
     "iopub.status.busy": "2021-09-21T02:10:22.282156Z",
     "iopub.status.idle": "2021-09-21T02:10:31.631739Z",
     "shell.execute_reply": "2021-09-21T02:10:31.63066Z",
     "shell.execute_reply.started": "2021-09-21T02:10:22.282376Z"
    }
   },
   "outputs": [],
   "source": [
    "# !pip install kaggle-environments -U > /dev/null 2>&1\n",
    "# !cp -r ../input/lux-ai-2021/* ."
   ]
  },
  {
   "cell_type": "markdown",
   "metadata": {},
   "source": [
    "For agents validation"
   ]
  },
  {
   "cell_type": "code",
   "execution_count": 2,
   "metadata": {},
   "outputs": [],
   "source": [
    "# timeout 1h lux-ai-2021 --tournament --rankSystem wins --storeReplay false --storeLogs false --maxConcurrentMatches 1 agent/main.py agent_simple/main.py submission_v4/main.py"
   ]
  },
  {
   "cell_type": "code",
   "execution_count": 3,
   "metadata": {
    "_cell_guid": "b1076dfc-b9ad-4769-8c92-a6c4dae69d19",
    "_uuid": "8f2839f25d086af736a60e9eeb907d3b93b6e0e5",
    "execution": {
     "iopub.execute_input": "2021-09-21T02:10:31.634148Z",
     "iopub.status.busy": "2021-09-21T02:10:31.633714Z",
     "iopub.status.idle": "2021-09-21T02:10:36.825858Z",
     "shell.execute_reply": "2021-09-21T02:10:36.825106Z",
     "shell.execute_reply.started": "2021-09-21T02:10:31.634105Z"
    }
   },
   "outputs": [],
   "source": [
    "import numpy as np\n",
    "import json\n",
    "from pathlib import Path\n",
    "import os\n",
    "import random\n",
    "from tqdm.notebook import tqdm\n",
    "import torch\n",
    "from torch import nn\n",
    "import torch.nn.functional as F\n",
    "from torch.utils.data import Dataset, DataLoader\n",
    "import torch.optim as optim\n",
    "from sklearn.model_selection import train_test_split\n",
    "import optuna\n",
    "from optuna.trial import TrialState"
   ]
  },
  {
   "cell_type": "code",
   "execution_count": 4,
   "metadata": {
    "execution": {
     "iopub.execute_input": "2021-09-21T02:10:36.827311Z",
     "iopub.status.busy": "2021-09-21T02:10:36.82705Z",
     "iopub.status.idle": "2021-09-21T02:10:36.877521Z",
     "shell.execute_reply": "2021-09-21T02:10:36.876761Z",
     "shell.execute_reply.started": "2021-09-21T02:10:36.82728Z"
    }
   },
   "outputs": [],
   "source": [
    "def seed_everything(seed_value):\n",
    "    random.seed(seed_value)\n",
    "    np.random.seed(seed_value)\n",
    "    torch.manual_seed(seed_value)\n",
    "    os.environ['PYTHONHASHSEED'] = str(seed_value)\n",
    "    \n",
    "    if torch.cuda.is_available(): \n",
    "        torch.cuda.manual_seed(seed_value)\n",
    "        torch.cuda.manual_seed_all(seed_value)\n",
    "        torch.backends.cudnn.deterministic = True\n",
    "        torch.backends.cudnn.benchmark = True\n",
    "\n",
    "seed_everything(42)"
   ]
  },
  {
   "cell_type": "markdown",
   "metadata": {},
   "source": [
    "# Preprocessing\n",
    "\n",
    "Actions:\n",
    "- m - move: m, unit who moves, direction\n",
    "- bcity - build city: bcity, unit who builds\n",
    "- bw - build worker, x-coord of building city, y-coord of building city\n",
    "- r - research\n",
    "- t - transfer: transfer, from user_1, to user_2, resourse, quantity\n",
    "\n",
    "Updates:\n",
    "- rp - research point: player, number of rp\n",
    "- r - resources: r, type of resource, x-coord, y-coord, quantity\n",
    "- u - user: u, worker/cart, player, user id, x-coord, y-coord, cooldown, wood, coal, uranium\n",
    "- c - city: c, player, city id, number of resources, amount of consuming light at night\n",
    "- ct - city tile: ct, player, city id, x-coord, y-coord, cooldown\n",
    "- ccd - level of road: ccd, x-coord, y-coord, level value"
   ]
  },
  {
   "cell_type": "code",
   "execution_count": 5,
   "metadata": {
    "scrolled": true
   },
   "outputs": [],
   "source": [
    "!cd episodes && rm *_info.json && cd .."
   ]
  },
  {
   "cell_type": "code",
   "execution_count": 7,
   "metadata": {
    "execution": {
     "iopub.execute_input": "2021-09-21T02:10:36.880862Z",
     "iopub.status.busy": "2021-09-21T02:10:36.88065Z",
     "iopub.status.idle": "2021-09-21T02:10:36.895408Z",
     "shell.execute_reply": "2021-09-21T02:10:36.89469Z",
     "shell.execute_reply.started": "2021-09-21T02:10:36.880838Z"
    }
   },
   "outputs": [],
   "source": [
    "# from random import choice\n",
    "\n",
    "def unit_label(action):\n",
    "    strs = action.split(' ')\n",
    "    unit_id = strs[1]\n",
    "    if strs[0] == 'm':\n",
    "        label = {'c': None, 'n': 0, 's': 1, 'w': 2, 'e': 3}[strs[2]]\n",
    "    elif strs[0] == 'bcity':\n",
    "        label = 4\n",
    "    else:\n",
    "        label = None\n",
    "    return unit_id, label\n",
    "\n",
    "def city_label(action):\n",
    "    strs = action.split(' ')\n",
    "    ctile_coord = (strs[1], strs[2])\n",
    "    if strs[0] == 'bw':\n",
    "        label = 0\n",
    "    elif strs[0] == 'r':\n",
    "        label = 1\n",
    "    else:\n",
    "        label = None\n",
    "    return ctile_coord, label\n",
    "\n",
    "def unit_cooldown(updates, index):\n",
    "    strs = updates.split(' ')\n",
    "    if strs[0] == 'u' and strs[2] == index:\n",
    "        unit_id = strs[3]\n",
    "        cooldown = strs[6]\n",
    "        return unit_id, cooldown\n",
    "    return None, None\n",
    "\n",
    "def city_tile_coord(updates, index):\n",
    "    strs = updates.split(' ')\n",
    "    if strs[0] == 'ct' and strs[1] == index:\n",
    "        ctile_coord = (strs[3], strs[4])\n",
    "        cooldown = strs[5]\n",
    "        return ctile_coord, cooldown\n",
    "    return None, None\n",
    "\n",
    "def research_points(updates, index):\n",
    "    for u in updates:\n",
    "        strs = u.split(' ')\n",
    "        if strs[0] == 'rp' and strs[1] == index:\n",
    "            return int(strs[2])\n",
    "    return 0\n",
    "\n",
    "def depleted_resources(obs):\n",
    "    for u in obs['updates']:\n",
    "        if u.split(' ')[0] == 'r':\n",
    "            return False\n",
    "    return True\n",
    "\n",
    "\n",
    "def create_dataset_from_json(episode_dir, team_name='Toad Brigade'): \n",
    "    obses = {}\n",
    "    unit_samples = []\n",
    "    city_samples = []\n",
    "    \n",
    "    episodes = [path for path in Path(episode_dir).glob('*.json') if 'output' not in path.name]\n",
    "    for filepath in tqdm(episodes): \n",
    "        with open(filepath) as f:\n",
    "            json_load = json.load(f)\n",
    "        # load episode from episode json file\n",
    "        ep_id = json_load['info']['EpisodeId']\n",
    "        index = np.argmax([r or 0 for r in json_load['rewards']])\n",
    "        if json_load['info']['TeamNames'][index] != team_name:\n",
    "            continue\n",
    "\n",
    "        updates = None\n",
    "        \n",
    "        for i in range(len(json_load['steps'])-1):\n",
    "            units = {}\n",
    "            city_tiles = {}\n",
    "            \n",
    "            if json_load['steps'][i][index]['status'] == 'ACTIVE':\n",
    "                actions = json_load['steps'][i+1][index]['action']\n",
    "                obs = json_load['steps'][i][0]['observation']\n",
    "                updates = obs['updates']\n",
    "                rp = research_points(updates, str(index))\n",
    "                # get updates from previous steps\n",
    "                if i > 0:\n",
    "                    obs['updates_lag_1'] = json_load['steps'][i-1][0]['observation']['updates']\n",
    "                else:\n",
    "                    obs['updates_lag_1'] = None\n",
    "                if i > 1:\n",
    "                    obs['updates_lag_2'] = json_load['steps'][i-2][0]['observation']['updates']\n",
    "                else:\n",
    "                    obs['updates_lag_2'] = None\n",
    "                if i > 2:\n",
    "                    obs['updates_lag_3'] = json_load['steps'][i-3][0]['observation']['updates']\n",
    "                else:\n",
    "                    obs['updates_lag_3'] = None\n",
    "                if i > 3:\n",
    "                    obs['updates_lag_4'] = json_load['steps'][i-4][0]['observation']['updates']\n",
    "                else:\n",
    "                    obs['updates_lag_4'] = None\n",
    "                \n",
    "                for u in updates:\n",
    "                    # get coords for every friendly city tile\n",
    "                    ctile_coord, cooldown = city_tile_coord(u, str(index))\n",
    "                    if ctile_coord and cooldown:\n",
    "                        city_tiles[ctile_coord] = [0, float(cooldown)]\n",
    "                        continue\n",
    "                    # get cooldown for every friendly unit \n",
    "                    unit_id, cooldown = unit_cooldown(u, str(index))\n",
    "                    if unit_id and cooldown:\n",
    "                        units[unit_id] = float(cooldown)                     \n",
    "                \n",
    "                # stop research if resources are depleted\n",
    "                if depleted_resources(obs):\n",
    "                    break\n",
    "                \n",
    "                obs['player'] = index\n",
    "                obs = dict([\n",
    "                    (k,v) for k,v in obs.items() \n",
    "                    if k in ['step', 'updates', 'updates_lag_1', 'updates_lag_2', \n",
    "                             'updates_lag_3', 'updates_lag_4', 'player', 'width', 'height']\n",
    "                ])\n",
    "                obs_id = f'{ep_id}_{i}'\n",
    "                obses[obs_id] = obs\n",
    "                \n",
    "                for action in actions:\n",
    "                    unit_id, label = unit_label(action)\n",
    "                    # if unit acts - add this action to train\n",
    "                    if label is not None:\n",
    "                        unit_samples.append((obs_id, unit_id, label))\n",
    "                        continue\n",
    "                    ctile_coord, label = city_label(action)\n",
    "                    # if city tile acts - add this action to train\n",
    "                    if label is not None:\n",
    "                        city_samples.append((obs_id, ctile_coord, label))\n",
    "                        city_tiles[ctile_coord][0] = label\n",
    "                        \n",
    "#                 # it there is a possibility for city tiles to act, (research points number < 200 and number of\n",
    "#                 # city tiles more than number of units find those of them who can act (cooldown = 0) but doesn't\n",
    "#                 if rp < 200 and len(city_tiles) > len(units):\n",
    "#                     city_tiles_no_action = [(k, v[0]) for k, v in city_tiles.items() if v[0] == 0 and v[1] == 0]\n",
    "#                     # if there are cities with no action - randomly select one item from there \n",
    "#                     # and add it to city samples\n",
    "#                     if city_tiles_no_action:\n",
    "#                         ct = choice(city_tiles_no_action)\n",
    "#                         city_samples.append((obs_id, ct[0], ct[1]))\n",
    "                    \n",
    "                    \n",
    "    return obses, unit_samples, city_samples"
   ]
  },
  {
   "cell_type": "markdown",
   "metadata": {},
   "source": [
    "Augment episodes by turning the map by 90, 180 and 270 degrees."
   ]
  },
  {
   "cell_type": "code",
   "execution_count": 8,
   "metadata": {},
   "outputs": [],
   "source": [
    "from copy import deepcopy\n",
    "\n",
    "def augment(obses, samples, turn):\n",
    "    new_samples = deepcopy(samples)\n",
    "    new_obses = deepcopy(obses)\n",
    "    # dict for apropriate changing of moving direction during data augmentation\n",
    "    # N: 0, S: 1, W: 2, E: 3\n",
    "    turn_dir = {\n",
    "                '90'  : {0: 3, 1: 2, 2: 0, 3: 1, 4: 4}, # N->E, S->W, W->N, E->S\n",
    "                '180' : {0: 1, 1: 0, 2: 3, 3: 2, 4: 4}, # N->S, S->N, W->E, E->W\n",
    "                '270' : {0: 2, 1: 3, 2: 1, 3: 0, 4: 4}  # N->W, S->E, W->S, E->N\n",
    "               } \n",
    "    for sample in tqdm(new_samples):\n",
    "        # change direction of move according to map turn\n",
    "        sample = list(sample)\n",
    "        idx = sample[0]\n",
    "        move_dir = turn_dir[turn][sample[2]]\n",
    "        # change coords of resources, units and city tiles according to map turn\n",
    "        obs = new_obses[idx]\n",
    "        width, height = obs['width'], obs['height']\n",
    "        updates = obs['updates']\n",
    "        for k in range(len(updates)):\n",
    "            u = updates[k].split(' ')\n",
    "            if u[0] == 'r':\n",
    "                i, j = 2, 3\n",
    "            elif u[0] == 'u':\n",
    "                i, j = 4, 5\n",
    "            elif u[0] == 'ct':\n",
    "                i, j = 3, 4\n",
    "            else:\n",
    "                continue\n",
    "\n",
    "            x, y = int(u[i]), int(u[j])\n",
    "            if turn == '90':\n",
    "                x, y = height - y - 1, x\n",
    "            elif turn == '180':\n",
    "                x, y = height - y - 1, width - y - 1\n",
    "            else:\n",
    "                x, y = y, width - x - 1\n",
    "            u[i], u[j] = str(x), str(y)\n",
    "            updates[k] = (' ').join(u)\n",
    "        new_idx = idx + '_' + turn\n",
    "        samples.append((new_idx, sample[1], move_dir))\n",
    "        obses[new_idx] = obs"
   ]
  },
  {
   "cell_type": "code",
   "execution_count": 9,
   "metadata": {
    "execution": {
     "iopub.execute_input": "2021-09-21T02:10:36.896889Z",
     "iopub.status.busy": "2021-09-21T02:10:36.896599Z",
     "iopub.status.idle": "2021-09-21T02:10:40.890717Z",
     "shell.execute_reply": "2021-09-21T02:10:40.889936Z",
     "shell.execute_reply.started": "2021-09-21T02:10:36.896855Z"
    },
    "scrolled": true
   },
   "outputs": [
    {
     "data": {
      "application/vnd.jupyter.widget-view+json": {
       "model_id": "3b3b5477c0da40bba9a7261280b019df",
       "version_major": 2,
       "version_minor": 0
      },
      "text/plain": [
       "  0%|          | 0/459 [00:00<?, ?it/s]"
      ]
     },
     "metadata": {},
     "output_type": "display_data"
    },
    {
     "name": "stdout",
     "output_type": "stream",
     "text": [
      "observations: 118932 worker samples: 541463 city samples: 92935\n"
     ]
    }
   ],
   "source": [
    "episode_dir = 'episodes'\n",
    "obses, samples, city_samples = create_dataset_from_json(episode_dir)\n",
    "\n",
    "augment(obses, samples, '90')  \n",
    "# augment(obses, samples, '180')  \n",
    "# augment(obses, samples, '270')  \n",
    "\n",
    "print('observations:', len(obses), 'worker samples:', len(samples), 'city samples:', len(city_samples))"
   ]
  },
  {
   "cell_type": "code",
   "execution_count": 10,
   "metadata": {
    "execution": {
     "iopub.execute_input": "2021-09-21T02:10:40.892694Z",
     "iopub.status.busy": "2021-09-21T02:10:40.892219Z",
     "iopub.status.idle": "2021-09-21T02:10:40.934807Z",
     "shell.execute_reply": "2021-09-21T02:10:40.933891Z",
     "shell.execute_reply.started": "2021-09-21T02:10:40.892659Z"
    },
    "scrolled": false
   },
   "outputs": [
    {
     "name": "stdout",
     "output_type": "stream",
     "text": [
      "north: 55868\n",
      "south: 52308\n",
      "west: 57224\n",
      "east: 55439\n",
      "bcity: 23998\n",
      "north: 121334\n",
      "south: 117481\n",
      "west: 127543\n",
      "east: 129945\n",
      "bcity: 45160\n"
     ]
    }
   ],
   "source": [
    "labels = [sample[-1] for sample in samples]\n",
    "actions = ['north', 'south', 'west', 'east', 'bcity']\n",
    "for value, count in zip(*np.unique(labels, return_counts=True)):\n",
    "    print(f'{actions[value]}: {count}')"
   ]
  },
  {
   "cell_type": "code",
   "execution_count": null,
   "metadata": {},
   "outputs": [],
   "source": [
    "# north: 121334\n",
    "# south: 117481\n",
    "# west: 127543\n",
    "# east: 129945\n",
    "# bcity: 45160"
   ]
  },
  {
   "cell_type": "code",
   "execution_count": null,
   "metadata": {
    "scrolled": true
   },
   "outputs": [
    {
     "name": "stdout",
     "output_type": "stream",
     "text": [
      "build_worker: 28487\n",
      "research: 64448\n"
     ]
    }
   ],
   "source": [
    "labels_city = [sample[-1] for sample in city_samples]\n",
    "actions_city = ['build_worker', 'research']\n",
    "for value, count in zip(*np.unique(labels_city, return_counts=True)):\n",
    "    print(f'{actions_city[value]}: {count}')"
   ]
  },
  {
   "cell_type": "code",
   "execution_count": null,
   "metadata": {},
   "outputs": [],
   "source": [
    "# build_worker: 28487\n",
    "# research: 64448"
   ]
  },
  {
   "cell_type": "code",
   "execution_count": null,
   "metadata": {},
   "outputs": [],
   "source": [
    "b"
   ]
  },
  {
   "cell_type": "code",
   "execution_count": null,
   "metadata": {},
   "outputs": [],
   "source": [
    "# episode_dir = 'episodes'\n",
    "# json_load = create_dataset_from_json(episode_dir)\n",
    "# json_load"
   ]
  },
  {
   "cell_type": "code",
   "execution_count": null,
   "metadata": {
    "scrolled": true
   },
   "outputs": [],
   "source": [
    "# obses['26762301_160']"
   ]
  },
  {
   "cell_type": "code",
   "execution_count": null,
   "metadata": {
    "scrolled": true
   },
   "outputs": [],
   "source": [
    "# samples"
   ]
  },
  {
   "cell_type": "code",
   "execution_count": null,
   "metadata": {
    "scrolled": true
   },
   "outputs": [],
   "source": [
    "# city_samples[200000]"
   ]
  },
  {
   "cell_type": "markdown",
   "metadata": {},
   "source": [
    "# Training\n",
    "\n",
    "b - training tensor of float32. b dimensions is 20x32x32\n",
    "\n",
    "- b[0] - position of current unit\n",
    "- b[1] - cargo sum/100 of current unit\n",
    "- b[2] - previous position of current unit\n",
    "- b[3, 4, 5, 6] - position, cooldown/6, cargo sum/100 and Manhattan distance to units from friendly team\n",
    "- b[7, 8, 9, 10] - position, cooldown/6, cargo sum/100 and Manhattan distance to units from adversarial team\n",
    "- b[11, 12, 13] - position,  min(city fuel/city energy consumption, 10)/10 and Manhattan distance to cities from friendly team\n",
    "- b[14, 15, 16] - position,  min(city fuel/city energy consumption, 10)/10 and Manhattan distance to cities from adversarial team\n",
    "- b[17] - amount of wood / 800 on current position\n",
    "- b[18] - amount of coal / 800 on current position\n",
    "- b[19] - amount of uranium / 800 on current position\n",
    "- b[20] - 1 if unit can mine this resource, 0 otherwise\n",
    "- b[21] - Manhattan distance to this resource\n",
    "- b[22] - research points / 200 of unit's team\n",
    "- b[23] - research points / 200 of another team\n",
    "- b[24] - time of the day (from 0 to 1, step 0.05)\n",
    "- b[25] - step of the game (from 0 to 1, step 1/360)\n",
    "- b[26] - day/night\n",
    "- b[27] - map size + tiles where unit can't go (other units and adversarial cities)"
   ]
  },
  {
   "cell_type": "code",
   "execution_count": null,
   "metadata": {
    "execution": {
     "iopub.execute_input": "2021-09-21T02:10:40.937075Z",
     "iopub.status.busy": "2021-09-21T02:10:40.9366Z",
     "iopub.status.idle": "2021-09-21T02:10:40.957891Z",
     "shell.execute_reply": "2021-09-21T02:10:40.957188Z",
     "shell.execute_reply.started": "2021-09-21T02:10:40.93704Z"
    }
   },
   "outputs": [],
   "source": [
    "from math import inf\n",
    "\n",
    "def manhattan_distance(x1, y1, x2, y2):\n",
    "    return (abs(x2-x1) + abs(y2-y1))\n",
    "\n",
    "# make list of users and their current and previous coords and cooldowns \n",
    "# to write them in NN training subset\n",
    "def find_units_from_previous_obs(obs, x_shift, y_shift):\n",
    "    # at first fill the unit dict with units from previous observation\n",
    "    updates = obs['updates']\n",
    "    updates_lag_1 = obs['updates_lag_1']\n",
    "    updates_lag_2 = obs['updates_lag_2']\n",
    "    updates_lag_3 = obs['updates_lag_3']\n",
    "    updates_lag_4 = obs['updates_lag_4']\n",
    "    prev_updates = [updates, updates_lag_1, updates_lag_2, updates_lag_3, updates_lag_4]\n",
    "    prev_units = list()\n",
    "    for prev_update in prev_updates:\n",
    "        units = dict()\n",
    "        if prev_update:\n",
    "            for update in prev_update:\n",
    "                strs = update.split(' ')\n",
    "                input_identifier = strs[0]\n",
    "                # if we found observation for user\n",
    "                if input_identifier == 'u':\n",
    "                    unit_id = strs[3]\n",
    "                    x = int(strs[4]) + x_shift\n",
    "                    y = int(strs[5]) + y_shift\n",
    "                    cooldown = float(strs[6])\n",
    "                    units[unit_id] = [x, y, cooldown]\n",
    "            prev_units.append(units)\n",
    "        else:\n",
    "            break\n",
    "    return prev_units\n",
    "\n",
    "def find_prev_coords(prev_units, unit_id):\n",
    "    # find previous coordinates of unit by ananlyzing its cooldown\n",
    "    x, y = None, None\n",
    "    for i in range(len(prev_units)-1):\n",
    "        if unit_id in prev_units[i] and unit_id in prev_units[i+1]:\n",
    "            cooldown = prev_units[i][unit_id][0]\n",
    "            prev_x = prev_units[i+1][unit_id][0]\n",
    "            prev_y = prev_units[i+1][unit_id][1]\n",
    "            prev_cooldown = prev_units[i+1][unit_id][2]\n",
    "            if cooldown > 0 and prev_cooldown == 0:\n",
    "                return prev_x, prev_y\n",
    "        else:\n",
    "            break\n",
    "    return x, y\n",
    "            \n",
    "# Input for Neural Network for workers\n",
    "def make_input(obs, unit_id):\n",
    "    width, height = obs['width'], obs['height']\n",
    "    x_shift = (32 - width) // 2\n",
    "    y_shift = (32 - height) // 2\n",
    "\n",
    "    cities = {}\n",
    "    \n",
    "    b = np.zeros((28, 32, 32), dtype=np.float32)\n",
    "    \n",
    "    prev_units = find_units_from_previous_obs(obs, x_shift, y_shift)\n",
    "    x_u, y_u = prev_units[0][unit_id][0], prev_units[0][unit_id][1]\n",
    "    \n",
    "    for update in obs['updates']:\n",
    "        strs = update.split(' ')\n",
    "        input_identifier = strs[0]\n",
    "        my_rp = 0\n",
    "        \n",
    "        if input_identifier == 'u':\n",
    "            x = int(strs[4]) + x_shift\n",
    "            y = int(strs[5]) + y_shift\n",
    "            wood = int(strs[7])\n",
    "            coal = int(strs[8])\n",
    "            uranium = int(strs[9])\n",
    "            if strs[3] == unit_id: # 0:2\n",
    "                # Position, Cargo and Previous Position\n",
    "                b[:2, x, y] = (\n",
    "                    1,\n",
    "                    (wood + coal + uranium) / 100\n",
    "                )\n",
    "                prev_x, prev_y = find_prev_coords(prev_units, unit_id)\n",
    "                if not prev_x and not prev_y:\n",
    "                    prev_x, prev_y = x, y\n",
    "                b[2, prev_x, prev_y] = 1\n",
    "            else:                  # 3:10\n",
    "                # Units\n",
    "                team = int(strs[2])\n",
    "                cooldown = float(strs[6])\n",
    "                idx = 3 + (team - obs['player']) % 2 * 4\n",
    "                m_dist = manhattan_distance(x_u, y_u, x, y)\n",
    "                b[idx:idx + 4, x, y] = (\n",
    "                    1,\n",
    "                    cooldown / 6,\n",
    "                    (wood + coal + uranium) / 100,\n",
    "                    m_dist/((width-1) + (height-1))\n",
    "                )\n",
    "        elif input_identifier == 'ct':  # 11:16\n",
    "            # CityTiles\n",
    "            team = int(strs[1])\n",
    "            city_id = strs[2]\n",
    "            x = int(strs[3]) + x_shift\n",
    "            y = int(strs[4]) + y_shift\n",
    "            idx = 11 + (team - obs['player']) % 2 * 3\n",
    "            m_dist = manhattan_distance(x_u, y_u, x, y)\n",
    "            b[idx:idx + 3, x, y] = (\n",
    "                1,\n",
    "                cities[city_id],\n",
    "                m_dist/((width-1) + (height-1))\n",
    "            )\n",
    "        elif input_identifier == 'r':  # 17:20\n",
    "            # Resources\n",
    "            r_type = strs[1]\n",
    "            x = int(strs[2]) + x_shift\n",
    "            y = int(strs[3]) + y_shift\n",
    "            amt = int(float(strs[4]))\n",
    "            access_level = {'wood': 0, 'coal': 50, 'uranium': 200}[r_type]\n",
    "            access = 0 if my_rp < access_level else 1\n",
    "            b[{'wood': 17, 'coal': 18, 'uranium': 19}[r_type], x, y] = amt / 800\n",
    "            b[20, x, y] = access\n",
    "            b[21, x, y] = manhattan_distance(x_u, y_u, x, y)/((width-1) + (height-1))\n",
    "        elif input_identifier == 'rp':  # 21:22\n",
    "            # Research Points\n",
    "            team = int(strs[1])\n",
    "            rp = int(strs[2])\n",
    "            my_rp = rp if team == obs['player'] else my_rp\n",
    "            b[22 + (team - obs['player']) % 2, :] = min(rp, 200) / 200\n",
    "        elif input_identifier == 'c':\n",
    "            # Cities\n",
    "            city_id = strs[2]\n",
    "            fuel = float(strs[3])\n",
    "            lightupkeep = float(strs[4])\n",
    "            cities[city_id] = min(fuel / lightupkeep, 10) / 10\n",
    "    # Day/Night Cycle\n",
    "    b[24, :] = obs['step'] % 40 / 40\n",
    "    # Turns\n",
    "    b[25, :] = obs['step'] / 360\n",
    "    # Day/Night Flag\n",
    "    b[26, :] = 1 if obs['step'] % 40 < 30 else 0\n",
    "    # Map Size\n",
    "    b[27, x_shift:32 - x_shift, y_shift:32 - y_shift] = 1\n",
    "        \n",
    "    return b"
   ]
  },
  {
   "cell_type": "code",
   "execution_count": null,
   "metadata": {
    "scrolled": true
   },
   "outputs": [],
   "source": [
    "# obses['26762301_160']"
   ]
  },
  {
   "cell_type": "code",
   "execution_count": null,
   "metadata": {
    "scrolled": false
   },
   "outputs": [],
   "source": [
    "# import sys\n",
    "\n",
    "# np.set_printoptions(threshold=sys.maxsize)\n",
    "\n",
    "# make_input(obses['26762301_160'], 'u_36')[3]"
   ]
  },
  {
   "cell_type": "markdown",
   "metadata": {},
   "source": [
    "Data for the cities:\n",
    "- b[0] - position of current city\n",
    "- b[1] - min(city fuel/city energy consumption, 10)/10 of current city\n",
    "- b[2, 3, 4] - position, cooldown/10, and min(city fuel/city energy consumption, 10)/10 for cities from the same team\n",
    "- b[5, 6, 7] - position, cooldown/10, and min(city fuel/city energy consumption, 10)/10 for cities from another team\n",
    "- b[8, 9] - position and cargo sum/100 for units from the same team \n",
    "- b[10, 11] - position and cargo sum/100 for units from from another team\n",
    "- b[12] - amount of wood / 800\n",
    "- b[13] - amount of coal / 800\n",
    "- b[14] - amount of uranium / 800\n",
    "- b[15] - research points / 200 of unit's team\n",
    "- b[16] - research piints / 200 of another team\n",
    "- b[17] - time of the day (from 0 to 1, step 0.05)\n",
    "- b[18] - step of the game (from 0 to 1, step 1/360)\n",
    "- b[19] - map size"
   ]
  },
  {
   "cell_type": "code",
   "execution_count": null,
   "metadata": {},
   "outputs": [],
   "source": [
    "# Input for Neural Network for cities\n",
    "def make_city_input(obs, city_coord):\n",
    "    width, height = obs['width'], obs['height']\n",
    "    x_shift = (32 - width) // 2\n",
    "    y_shift = (32 - height) // 2\n",
    "    cities = {}\n",
    "    \n",
    "    b = np.zeros((20, 32, 32), dtype=np.float32)\n",
    "    \n",
    "    for update in obs['updates']:\n",
    "        strs = update.split(' ')\n",
    "        input_identifier = strs[0]\n",
    "        \n",
    "        if input_identifier == 'ct':\n",
    "            # CityTiles\n",
    "            city_id = strs[2]\n",
    "            x = int(strs[3]) \n",
    "            y = int(strs[4])\n",
    "            cooldown = float(strs[5])\n",
    "            if x == int(city_coord[0]) and y == int(city_coord[1]):\n",
    "                b[:2, x + x_shift, y + y_shift] = (\n",
    "                    1,\n",
    "                    cities[city_id]\n",
    "                )\n",
    "            else:\n",
    "                team = int(strs[1])\n",
    "                idx = 2 + (team - obs['player']) % 2 * 3\n",
    "                b[idx:idx + 3, x + x_shift, y + y_shift] = (\n",
    "                    1,\n",
    "                    cooldown / 10,\n",
    "                    cities[city_id]\n",
    "                )\n",
    "        elif input_identifier == 'u':\n",
    "            team = int(strs[2])\n",
    "            x = int(strs[4]) + x_shift\n",
    "            y = int(strs[5]) + y_shift\n",
    "            wood = int(strs[7])\n",
    "            coal = int(strs[8])\n",
    "            uranium = int(strs[9])\n",
    "            idx = 8 + (team - obs['player']) % 2 * 2\n",
    "            b[idx:idx + 2, x, y] = (\n",
    "                1,\n",
    "                (wood + coal + uranium) / 100\n",
    "            )\n",
    "        elif input_identifier == 'r':\n",
    "            # Resources\n",
    "            r_type = strs[1]\n",
    "            x = int(strs[2]) + x_shift\n",
    "            y = int(strs[3]) + y_shift\n",
    "            amt = int(float(strs[4]))\n",
    "            b[{'wood': 12, 'coal': 13, 'uranium': 14}[r_type], x, y] = amt / 800\n",
    "        elif input_identifier == 'rp':\n",
    "            # Research Points\n",
    "            team = int(strs[1])\n",
    "            rp = int(strs[2])\n",
    "            b[15 + (team - obs['player']) % 2, :] = min(rp, 200) / 200\n",
    "        elif input_identifier == 'c':\n",
    "            # Cities\n",
    "            city_id = strs[2]\n",
    "            fuel = float(strs[3])\n",
    "            lightupkeep = float(strs[4])\n",
    "            cities[city_id] = min(fuel / lightupkeep, 10) / 10\n",
    "    \n",
    "    # Day/Night Cycle\n",
    "    b[17, :] = obs['step'] % 40 / 40\n",
    "    # Turns\n",
    "    b[18, :] = obs['step'] / 360\n",
    "    # Map Size\n",
    "    b[19, x_shift:32 - x_shift, y_shift:32 - y_shift] = 1\n",
    "\n",
    "    return b"
   ]
  },
  {
   "cell_type": "markdown",
   "metadata": {},
   "source": [
    "### Set modules for NN training"
   ]
  },
  {
   "cell_type": "code",
   "execution_count": null,
   "metadata": {
    "execution": {
     "iopub.execute_input": "2021-09-21T02:10:40.959528Z",
     "iopub.status.busy": "2021-09-21T02:10:40.959271Z",
     "iopub.status.idle": "2021-09-21T02:10:40.973799Z",
     "shell.execute_reply": "2021-09-21T02:10:40.973034Z",
     "shell.execute_reply.started": "2021-09-21T02:10:40.959496Z"
    }
   },
   "outputs": [],
   "source": [
    "class LuxDataset(Dataset):\n",
    "    def __init__(self, obses, samples):\n",
    "        self.obses = obses\n",
    "        self.samples = samples\n",
    "        \n",
    "    def __len__(self):\n",
    "        return len(self.samples)\n",
    "\n",
    "    def __getitem__(self, idx):\n",
    "        obs_id, unit_id, action = self.samples[idx]\n",
    "        obs = self.obses[obs_id]\n",
    "        state = None\n",
    "        state = make_input(obs, unit_id)\n",
    "        return state, action\n",
    "    \n",
    "class LuxCityDataset(Dataset):\n",
    "    def __init__(self, obses, city_samples):\n",
    "        self.obses = obses\n",
    "        self.samples = city_samples\n",
    "        \n",
    "    def __len__(self):\n",
    "        return len(self.samples)\n",
    "\n",
    "    def __getitem__(self, idx):\n",
    "        obs_id, city_coord, action = self.samples[idx]\n",
    "        obs = self.obses[obs_id]\n",
    "        state = make_city_input(obs, city_coord)\n",
    "        \n",
    "        return state, action\n",
    "\n",
    "# Neural Network for Lux AI\n",
    "class BasicConv2d(nn.Module):\n",
    "    def __init__(self, input_dim, output_dim, kernel_size, bn):\n",
    "        super().__init__()\n",
    "        self.conv = nn.Conv2d(\n",
    "            input_dim, output_dim, \n",
    "            kernel_size=kernel_size, \n",
    "            padding=(kernel_size[0] // 2, kernel_size[1] // 2)\n",
    "        )\n",
    "        self.bn = nn.BatchNorm2d(output_dim) if bn else None\n",
    "\n",
    "    def forward(self, x):\n",
    "        h = self.conv(x)\n",
    "        h = self.bn(h) if self.bn is not None else h\n",
    "        return h\n",
    "\n",
    "\n",
    "class LuxNet(nn.Module):\n",
    "    def __init__(self):\n",
    "        super().__init__()\n",
    "        layers, filters = 12, 40\n",
    "        self.conv0 = BasicConv2d(28, filters, (3, 3), True)\n",
    "        self.blocks = nn.ModuleList([BasicConv2d(filters, filters, (3, 3), True) for _ in range(layers)])\n",
    "        self.head_p = nn.Linear(filters, 5, bias=False)\n",
    "\n",
    "    def forward(self, x):\n",
    "        h = F.relu_(self.conv0(x))\n",
    "        for block in self.blocks:\n",
    "            h = F.relu_(h + block(h))\n",
    "        h_head = (h * x[:,:1]).view(h.size(0), h.size(1), -1).sum(-1)\n",
    "        p = self.head_p(h_head)\n",
    "        return p\n",
    "    \n",
    "    \n",
    "class LuxCityNet(nn.Module):\n",
    "    def __init__(self):\n",
    "        super().__init__()\n",
    "        layers, filters = 12, 32\n",
    "        self.conv0 = BasicConv2d(20, filters, (3, 3), True)\n",
    "        self.blocks = nn.ModuleList([BasicConv2d(filters, filters, (3, 3), True) for _ in range(layers)])\n",
    "        self.head_p = nn.Linear(filters, 2, bias=False)\n",
    "\n",
    "    def forward(self, x):\n",
    "        h = F.relu_(self.conv0(x))\n",
    "        for block in self.blocks:\n",
    "            h = F.relu_(h + block(h))\n",
    "        h_head = (h * x[:,:1]).view(h.size(0), h.size(1), -1).sum(-1)\n",
    "        p = self.head_p(h_head)\n",
    "        return p"
   ]
  },
  {
   "cell_type": "markdown",
   "metadata": {},
   "source": [
    "### Optimize NN parameters with Optuna"
   ]
  },
  {
   "cell_type": "code",
   "execution_count": null,
   "metadata": {
    "scrolled": true
   },
   "outputs": [],
   "source": [
    "# def objective(trial):\n",
    "\n",
    "#     num_epochs = 10\n",
    "    \n",
    "#     # model for unit actions\n",
    "#     model = LuxNet()\n",
    "#     train, val = train_test_split(samples, test_size=0.1, random_state=42, stratify=labels)\n",
    "#     batch_size = 64\n",
    "\n",
    "#     train_loader = DataLoader(\n",
    "#         LuxDataset(obses, train), \n",
    "#         batch_size=batch_size, \n",
    "#         shuffle=True, \n",
    "#         num_workers=2\n",
    "#     )\n",
    "#     val_loader = DataLoader(\n",
    "#         LuxDataset(obses, val), \n",
    "#         batch_size=batch_size, \n",
    "#         shuffle=False, \n",
    "#         num_workers=2\n",
    "#     )\n",
    "#     dataloaders_dict = {\"train\": train_loader, \"val\": val_loader}\n",
    "\n",
    "#     # Generate the optimizers.\n",
    "#     criterion = nn.CrossEntropyLoss()\n",
    "#     optimizer_name = trial.suggest_categorical(\"optimizer\", [\"Adam\", \"AdamW\", \"RMSprop\", \"SGD\"])\n",
    "#     lr = trial.suggest_float(\"lr\", 1e-5, 1e-2, log=True)\n",
    "#     optimizer = getattr(optim, optimizer_name)(model.parameters(), lr=lr)\n",
    "\n",
    "#     for epoch in range(num_epochs):\n",
    "#         model.cuda()\n",
    "        \n",
    "#         for phase in ['train', 'val']:\n",
    "#             if phase == 'train':\n",
    "#                 model.train()\n",
    "#             else:\n",
    "#                 model.eval()\n",
    "                \n",
    "#             epoch_loss = 0.0\n",
    "#             epoch_acc = 0\n",
    "            \n",
    "#             dataloader = dataloaders_dict[phase]\n",
    "#             for item in dataloader:\n",
    "#                 states = item[0].cuda().float()\n",
    "#                 actions = item[1].cuda().long()\n",
    "\n",
    "#                 optimizer.zero_grad()\n",
    "                \n",
    "#                 with torch.set_grad_enabled(phase == 'train'):\n",
    "#                     policy = model(states)\n",
    "#                     loss = criterion(policy, actions)\n",
    "#                     _, preds = torch.max(policy, 1)\n",
    "\n",
    "#                     if phase == 'train':\n",
    "#                         loss.backward()\n",
    "#                         optimizer.step()\n",
    "\n",
    "#                     epoch_loss += loss.item() * len(policy)\n",
    "#                     epoch_acc += torch.sum(preds == actions.data)\n",
    "\n",
    "#             data_size = len(dataloader.dataset)\n",
    "#             epoch_loss = epoch_loss / data_size\n",
    "#             epoch_acc = epoch_acc.double() / data_size\n",
    "\n",
    "#         trial.report(epoch_acc, epoch)\n",
    "\n",
    "#         # Handle pruning based on the intermediate value.\n",
    "#         if trial.should_prune():\n",
    "#             raise optuna.exceptions.TrialPruned()\n",
    "\n",
    "#     return epoch_acc\n",
    "\n",
    "\n",
    "# study = optuna.create_study(direction=\"maximize\")\n",
    "# study.optimize(objective, n_trials=500, timeout=10*3600)\n",
    "\n",
    "# pruned_trials = study.get_trials(deepcopy=False, states=[TrialState.PRUNED])\n",
    "# complete_trials = study.get_trials(deepcopy=False, states=[TrialState.COMPLETE])\n",
    "\n",
    "# print(\"Study statistics: \")\n",
    "# print(\"  Number of finished trials: \", len(study.trials))\n",
    "# print(\"  Number of pruned trials: \", len(pruned_trials))\n",
    "# print(\"  Number of complete trials: \", len(complete_trials))\n",
    "\n",
    "# print(\"Best trial:\")\n",
    "# trial = study.best_trial\n",
    "\n",
    "# print(\"  Value: \", trial.value)\n",
    "\n",
    "# print(\"  Params: \")\n",
    "# for key, value in trial.params.items():\n",
    "#     print(\"    {}: {}\".format(key, value))"
   ]
  },
  {
   "cell_type": "markdown",
   "metadata": {},
   "source": [
    "### Function for NN training"
   ]
  },
  {
   "cell_type": "code",
   "execution_count": null,
   "metadata": {
    "execution": {
     "iopub.execute_input": "2021-09-21T02:10:40.977015Z",
     "iopub.status.busy": "2021-09-21T02:10:40.976754Z",
     "iopub.status.idle": "2021-09-21T02:10:40.990161Z",
     "shell.execute_reply": "2021-09-21T02:10:40.989333Z",
     "shell.execute_reply.started": "2021-09-21T02:10:40.976986Z"
    }
   },
   "outputs": [],
   "source": [
    "import matplotlib.pyplot as plt\n",
    "# from torch.utils.tensorboard import SummaryWriter\n",
    "\n",
    "def train_model(model, dataloaders_dict, criterion, optimizer, num_epochs, city=False):\n",
    "#     tb = SummaryWriter()\n",
    "    \n",
    "    best_acc = 0.0\n",
    "    \n",
    "    for epoch in range(num_epochs):\n",
    "        model.cuda()\n",
    "        \n",
    "        for phase in ['train', 'val']:\n",
    "            if phase == 'train':\n",
    "                model.train()\n",
    "            else:\n",
    "                model.eval()\n",
    "                \n",
    "            epoch_loss = 0.0\n",
    "            epoch_acc = 0\n",
    "            \n",
    "            dataloader = dataloaders_dict[phase]\n",
    "            for item in tqdm(dataloader, leave=False):\n",
    "                states = item[0].cuda().float()\n",
    "                actions = item[1].cuda().long()\n",
    "\n",
    "                optimizer.zero_grad()\n",
    "                \n",
    "                with torch.set_grad_enabled(phase == 'train'):\n",
    "                    policy = model(states)\n",
    "                    loss = criterion(policy, actions)\n",
    "                    _, preds = torch.max(policy, 1)\n",
    "\n",
    "                    if phase == 'train':\n",
    "                        loss.backward()\n",
    "                        optimizer.step()\n",
    "\n",
    "                    epoch_loss += loss.item() * len(policy)\n",
    "                    epoch_acc += torch.sum(preds == actions.data)\n",
    "\n",
    "            data_size = len(dataloader.dataset)\n",
    "            epoch_loss = epoch_loss / data_size\n",
    "            epoch_acc = epoch_acc.double() / data_size\n",
    "\n",
    "#             if phase == 'train':\n",
    "#                 tb.add_scalar(\"Train Loss\", epoch_loss, epoch)\n",
    "#                 tb.add_scalar(\"Train Accuracy\", epoch_acc, epoch)\n",
    "#             else:\n",
    "#                 tb.add_scalar(\"Val Loss\", epoch_loss, epoch)\n",
    "#                 tb.add_scalar(\"Val Accuracy\", epoch_acc, epoch)\n",
    "            \n",
    "            print(f'Epoch {epoch + 1}/{num_epochs} | {phase:^5} | Loss: {epoch_loss:.4f} | Acc: {epoch_acc:.4f}')\n",
    "        \n",
    "        if epoch_acc > best_acc:\n",
    "            if city:\n",
    "                traced = torch.jit.trace(model.cpu(), torch.rand(1, 20, 32, 32))\n",
    "                traced.save('agent/model_city.pth')\n",
    "            else:\n",
    "                traced = torch.jit.trace(model.cpu(), torch.rand(1, 28, 32, 32))\n",
    "                traced.save('agent/model.pth')\n",
    "            best_acc = epoch_acc\n",
    "            \n",
    "#     tb.close()"
   ]
  },
  {
   "cell_type": "code",
   "execution_count": null,
   "metadata": {
    "execution": {
     "iopub.execute_input": "2021-09-21T02:10:40.993264Z",
     "iopub.status.busy": "2021-09-21T02:10:40.992907Z",
     "iopub.status.idle": "2021-09-21T02:10:41.159575Z",
     "shell.execute_reply": "2021-09-21T02:10:41.158852Z",
     "shell.execute_reply.started": "2021-09-21T02:10:40.993229Z"
    }
   },
   "outputs": [],
   "source": [
    "# model for unit actions\n",
    "model = LuxNet()\n",
    "train, val = train_test_split(samples, test_size=0.1, random_state=42, stratify=labels)\n",
    "batch_size = 128\n",
    "\n",
    "train_loader = DataLoader(\n",
    "    LuxDataset(obses, train), \n",
    "    batch_size=batch_size, \n",
    "    shuffle=True, \n",
    "    num_workers=2\n",
    ")\n",
    "val_loader = DataLoader(\n",
    "    LuxDataset(obses, val), \n",
    "    batch_size=batch_size, \n",
    "    shuffle=False, \n",
    "    num_workers=2\n",
    ")\n",
    "dataloaders_dict = {\"train\": train_loader, \"val\": val_loader}\n",
    "\n",
    "criterion = nn.CrossEntropyLoss()\n",
    "optimizer = torch.optim.AdamW(model.parameters(), lr=1e-3)\n",
    "\n",
    "# model for city actions\n",
    "model_city = LuxCityNet()\n",
    "train_city, val_city = train_test_split(city_samples, test_size=0.1, random_state=42, stratify=labels_city)\n",
    "batch_size_city = 128\n",
    "\n",
    "train_city_loader = DataLoader(\n",
    "    LuxCityDataset(obses, train_city), \n",
    "    batch_size=batch_size, \n",
    "    shuffle=True, \n",
    "    num_workers=2\n",
    ")\n",
    "val_city_loader = DataLoader(\n",
    "    LuxCityDataset(obses, val_city), \n",
    "    batch_size=batch_size, \n",
    "    shuffle=False, \n",
    "    num_workers=2\n",
    ")\n",
    "dataloaders_city_dict = {\"train\": train_city_loader, \"val\": val_city_loader}\n",
    "\n",
    "criterion_city = nn.CrossEntropyLoss()\n",
    "optimizer_city = torch.optim.AdamW(model_city.parameters(), lr=1e-3)"
   ]
  },
  {
   "cell_type": "code",
   "execution_count": null,
   "metadata": {
    "scrolled": false
   },
   "outputs": [
    {
     "data": {
      "application/vnd.jupyter.widget-view+json": {
       "model_id": "",
       "version_major": 2,
       "version_minor": 0
      },
      "text/plain": [
       "  0%|          | 0/1722 [00:00<?, ?it/s]"
      ]
     },
     "metadata": {},
     "output_type": "display_data"
    },
    {
     "name": "stdout",
     "output_type": "stream",
     "text": [
      "Epoch 1/15 | train | Loss: 0.7894 | Acc: 0.6851\n"
     ]
    },
    {
     "data": {
      "application/vnd.jupyter.widget-view+json": {
       "model_id": "",
       "version_major": 2,
       "version_minor": 0
      },
      "text/plain": [
       "  0%|          | 0/192 [00:00<?, ?it/s]"
      ]
     },
     "metadata": {},
     "output_type": "display_data"
    },
    {
     "name": "stdout",
     "output_type": "stream",
     "text": [
      "Epoch 1/15 |  val  | Loss: 0.6510 | Acc: 0.7379\n"
     ]
    },
    {
     "data": {
      "application/vnd.jupyter.widget-view+json": {
       "model_id": "",
       "version_major": 2,
       "version_minor": 0
      },
      "text/plain": [
       "  0%|          | 0/1722 [00:00<?, ?it/s]"
      ]
     },
     "metadata": {},
     "output_type": "display_data"
    },
    {
     "name": "stdout",
     "output_type": "stream",
     "text": [
      "Epoch 2/15 | train | Loss: 0.5953 | Acc: 0.7649\n"
     ]
    },
    {
     "data": {
      "application/vnd.jupyter.widget-view+json": {
       "model_id": "",
       "version_major": 2,
       "version_minor": 0
      },
      "text/plain": [
       "  0%|          | 0/192 [00:00<?, ?it/s]"
      ]
     },
     "metadata": {},
     "output_type": "display_data"
    },
    {
     "name": "stdout",
     "output_type": "stream",
     "text": [
      "Epoch 2/15 |  val  | Loss: 0.5841 | Acc: 0.7683\n"
     ]
    },
    {
     "data": {
      "application/vnd.jupyter.widget-view+json": {
       "model_id": "",
       "version_major": 2,
       "version_minor": 0
      },
      "text/plain": [
       "  0%|          | 0/1722 [00:00<?, ?it/s]"
      ]
     },
     "metadata": {},
     "output_type": "display_data"
    },
    {
     "name": "stdout",
     "output_type": "stream",
     "text": [
      "Epoch 3/15 | train | Loss: 0.5370 | Acc: 0.7877\n"
     ]
    },
    {
     "data": {
      "application/vnd.jupyter.widget-view+json": {
       "model_id": "",
       "version_major": 2,
       "version_minor": 0
      },
      "text/plain": [
       "  0%|          | 0/192 [00:00<?, ?it/s]"
      ]
     },
     "metadata": {},
     "output_type": "display_data"
    },
    {
     "name": "stdout",
     "output_type": "stream",
     "text": [
      "Epoch 3/15 |  val  | Loss: 0.5450 | Acc: 0.7839\n"
     ]
    },
    {
     "data": {
      "application/vnd.jupyter.widget-view+json": {
       "model_id": "",
       "version_major": 2,
       "version_minor": 0
      },
      "text/plain": [
       "  0%|          | 0/1722 [00:00<?, ?it/s]"
      ]
     },
     "metadata": {},
     "output_type": "display_data"
    },
    {
     "name": "stdout",
     "output_type": "stream",
     "text": [
      "Epoch 4/15 | train | Loss: 0.4997 | Acc: 0.8033\n"
     ]
    },
    {
     "data": {
      "application/vnd.jupyter.widget-view+json": {
       "model_id": "",
       "version_major": 2,
       "version_minor": 0
      },
      "text/plain": [
       "  0%|          | 0/192 [00:00<?, ?it/s]"
      ]
     },
     "metadata": {},
     "output_type": "display_data"
    },
    {
     "name": "stdout",
     "output_type": "stream",
     "text": [
      "Epoch 4/15 |  val  | Loss: 0.5294 | Acc: 0.7895\n"
     ]
    },
    {
     "data": {
      "application/vnd.jupyter.widget-view+json": {
       "model_id": "",
       "version_major": 2,
       "version_minor": 0
      },
      "text/plain": [
       "  0%|          | 0/1722 [00:00<?, ?it/s]"
      ]
     },
     "metadata": {},
     "output_type": "display_data"
    },
    {
     "name": "stdout",
     "output_type": "stream",
     "text": [
      "Epoch 5/15 | train | Loss: 0.4706 | Acc: 0.8149\n"
     ]
    },
    {
     "data": {
      "application/vnd.jupyter.widget-view+json": {
       "model_id": "",
       "version_major": 2,
       "version_minor": 0
      },
      "text/plain": [
       "  0%|          | 0/192 [00:00<?, ?it/s]"
      ]
     },
     "metadata": {},
     "output_type": "display_data"
    },
    {
     "name": "stdout",
     "output_type": "stream",
     "text": [
      "Epoch 5/15 |  val  | Loss: 0.5284 | Acc: 0.7907\n"
     ]
    },
    {
     "data": {
      "application/vnd.jupyter.widget-view+json": {
       "model_id": "",
       "version_major": 2,
       "version_minor": 0
      },
      "text/plain": [
       "  0%|          | 0/1722 [00:00<?, ?it/s]"
      ]
     },
     "metadata": {},
     "output_type": "display_data"
    },
    {
     "name": "stdout",
     "output_type": "stream",
     "text": [
      "Epoch 6/15 | train | Loss: 0.4458 | Acc: 0.8245\n"
     ]
    },
    {
     "data": {
      "application/vnd.jupyter.widget-view+json": {
       "model_id": "",
       "version_major": 2,
       "version_minor": 0
      },
      "text/plain": [
       "  0%|          | 0/192 [00:00<?, ?it/s]"
      ]
     },
     "metadata": {},
     "output_type": "display_data"
    },
    {
     "name": "stdout",
     "output_type": "stream",
     "text": [
      "Epoch 6/15 |  val  | Loss: 0.5021 | Acc: 0.8007\n"
     ]
    },
    {
     "data": {
      "application/vnd.jupyter.widget-view+json": {
       "model_id": "",
       "version_major": 2,
       "version_minor": 0
      },
      "text/plain": [
       "  0%|          | 0/1722 [00:00<?, ?it/s]"
      ]
     },
     "metadata": {},
     "output_type": "display_data"
    },
    {
     "name": "stdout",
     "output_type": "stream",
     "text": [
      "Epoch 7/15 | train | Loss: 0.4247 | Acc: 0.8334\n"
     ]
    },
    {
     "data": {
      "application/vnd.jupyter.widget-view+json": {
       "model_id": "",
       "version_major": 2,
       "version_minor": 0
      },
      "text/plain": [
       "  0%|          | 0/192 [00:00<?, ?it/s]"
      ]
     },
     "metadata": {},
     "output_type": "display_data"
    },
    {
     "name": "stdout",
     "output_type": "stream",
     "text": [
      "Epoch 7/15 |  val  | Loss: 0.4876 | Acc: 0.8068\n"
     ]
    },
    {
     "data": {
      "application/vnd.jupyter.widget-view+json": {
       "model_id": "",
       "version_major": 2,
       "version_minor": 0
      },
      "text/plain": [
       "  0%|          | 0/1722 [00:00<?, ?it/s]"
      ]
     },
     "metadata": {},
     "output_type": "display_data"
    },
    {
     "name": "stdout",
     "output_type": "stream",
     "text": [
      "Epoch 8/15 | train | Loss: 0.4062 | Acc: 0.8405\n"
     ]
    },
    {
     "data": {
      "application/vnd.jupyter.widget-view+json": {
       "model_id": "",
       "version_major": 2,
       "version_minor": 0
      },
      "text/plain": [
       "  0%|          | 0/192 [00:00<?, ?it/s]"
      ]
     },
     "metadata": {},
     "output_type": "display_data"
    },
    {
     "name": "stdout",
     "output_type": "stream",
     "text": [
      "Epoch 8/15 |  val  | Loss: 0.4873 | Acc: 0.8093\n"
     ]
    },
    {
     "data": {
      "application/vnd.jupyter.widget-view+json": {
       "model_id": "",
       "version_major": 2,
       "version_minor": 0
      },
      "text/plain": [
       "  0%|          | 0/1722 [00:00<?, ?it/s]"
      ]
     },
     "metadata": {},
     "output_type": "display_data"
    },
    {
     "name": "stdout",
     "output_type": "stream",
     "text": [
      "Epoch 9/15 | train | Loss: 0.3888 | Acc: 0.8469\n"
     ]
    },
    {
     "data": {
      "application/vnd.jupyter.widget-view+json": {
       "model_id": "",
       "version_major": 2,
       "version_minor": 0
      },
      "text/plain": [
       "  0%|          | 0/192 [00:00<?, ?it/s]"
      ]
     },
     "metadata": {},
     "output_type": "display_data"
    },
    {
     "name": "stdout",
     "output_type": "stream",
     "text": [
      "Epoch 9/15 |  val  | Loss: 0.4824 | Acc: 0.8098\n"
     ]
    },
    {
     "data": {
      "application/vnd.jupyter.widget-view+json": {
       "model_id": "",
       "version_major": 2,
       "version_minor": 0
      },
      "text/plain": [
       "  0%|          | 0/1722 [00:00<?, ?it/s]"
      ]
     },
     "metadata": {},
     "output_type": "display_data"
    },
    {
     "name": "stdout",
     "output_type": "stream",
     "text": [
      "Epoch 10/15 | train | Loss: 0.3730 | Acc: 0.8544\n"
     ]
    },
    {
     "data": {
      "application/vnd.jupyter.widget-view+json": {
       "model_id": "",
       "version_major": 2,
       "version_minor": 0
      },
      "text/plain": [
       "  0%|          | 0/192 [00:00<?, ?it/s]"
      ]
     },
     "metadata": {},
     "output_type": "display_data"
    },
    {
     "name": "stdout",
     "output_type": "stream",
     "text": [
      "Epoch 10/15 |  val  | Loss: 0.4923 | Acc: 0.8088\n"
     ]
    },
    {
     "data": {
      "application/vnd.jupyter.widget-view+json": {
       "model_id": "",
       "version_major": 2,
       "version_minor": 0
      },
      "text/plain": [
       "  0%|          | 0/1722 [00:00<?, ?it/s]"
      ]
     },
     "metadata": {},
     "output_type": "display_data"
    },
    {
     "name": "stdout",
     "output_type": "stream",
     "text": [
      "Epoch 11/15 | train | Loss: 0.3586 | Acc: 0.8598\n"
     ]
    },
    {
     "data": {
      "application/vnd.jupyter.widget-view+json": {
       "model_id": "",
       "version_major": 2,
       "version_minor": 0
      },
      "text/plain": [
       "  0%|          | 0/192 [00:00<?, ?it/s]"
      ]
     },
     "metadata": {},
     "output_type": "display_data"
    },
    {
     "name": "stdout",
     "output_type": "stream",
     "text": [
      "Epoch 11/15 |  val  | Loss: 0.4813 | Acc: 0.8112\n"
     ]
    },
    {
     "data": {
      "application/vnd.jupyter.widget-view+json": {
       "model_id": "",
       "version_major": 2,
       "version_minor": 0
      },
      "text/plain": [
       "  0%|          | 0/1722 [00:00<?, ?it/s]"
      ]
     },
     "metadata": {},
     "output_type": "display_data"
    },
    {
     "name": "stdout",
     "output_type": "stream",
     "text": [
      "Epoch 12/15 | train | Loss: 0.3448 | Acc: 0.8652\n"
     ]
    },
    {
     "data": {
      "application/vnd.jupyter.widget-view+json": {
       "model_id": "",
       "version_major": 2,
       "version_minor": 0
      },
      "text/plain": [
       "  0%|          | 0/192 [00:00<?, ?it/s]"
      ]
     },
     "metadata": {},
     "output_type": "display_data"
    },
    {
     "name": "stdout",
     "output_type": "stream",
     "text": [
      "Epoch 12/15 |  val  | Loss: 0.4886 | Acc: 0.8098\n"
     ]
    },
    {
     "data": {
      "application/vnd.jupyter.widget-view+json": {
       "model_id": "",
       "version_major": 2,
       "version_minor": 0
      },
      "text/plain": [
       "  0%|          | 0/3808 [00:00<?, ?it/s]"
      ]
     },
     "metadata": {},
     "output_type": "display_data"
    },
    {
     "name": "stdout",
     "output_type": "stream",
     "text": [
      "Epoch 1/5 | train | Loss: 0.7768 | Acc: 0.6861\n"
     ]
    },
    {
     "data": {
      "application/vnd.jupyter.widget-view+json": {
       "model_id": "",
       "version_major": 2,
       "version_minor": 0
      },
      "text/plain": [
       "  0%|          | 0/424 [00:00<?, ?it/s]"
      ]
     },
     "metadata": {},
     "output_type": "display_data"
    },
    {
     "name": "stdout",
     "output_type": "stream",
     "text": [
      "Epoch 1/5 |  val  | Loss: 0.6707 | Acc: 0.7302\n"
     ]
    },
    {
     "data": {
      "application/vnd.jupyter.widget-view+json": {
       "model_id": "",
       "version_major": 2,
       "version_minor": 0
      },
      "text/plain": [
       "  0%|          | 0/3808 [00:00<?, ?it/s]"
      ]
     },
     "metadata": {},
     "output_type": "display_data"
    },
    {
     "name": "stdout",
     "output_type": "stream",
     "text": [
      "Epoch 2/5 | train | Loss: 0.6282 | Acc: 0.7479\n"
     ]
    },
    {
     "data": {
      "application/vnd.jupyter.widget-view+json": {
       "model_id": "",
       "version_major": 2,
       "version_minor": 0
      },
      "text/plain": [
       "  0%|          | 0/424 [00:00<?, ?it/s]"
      ]
     },
     "metadata": {},
     "output_type": "display_data"
    },
    {
     "name": "stdout",
     "output_type": "stream",
     "text": [
      "Epoch 2/5 |  val  | Loss: 0.6131 | Acc: 0.7551\n"
     ]
    },
    {
     "data": {
      "application/vnd.jupyter.widget-view+json": {
       "model_id": "",
       "version_major": 2,
       "version_minor": 0
      },
      "text/plain": [
       "  0%|          | 0/3808 [00:00<?, ?it/s]"
      ]
     },
     "metadata": {},
     "output_type": "display_data"
    },
    {
     "name": "stdout",
     "output_type": "stream",
     "text": [
      "Epoch 3/5 | train | Loss: 0.5819 | Acc: 0.7667\n"
     ]
    },
    {
     "data": {
      "application/vnd.jupyter.widget-view+json": {
       "model_id": "",
       "version_major": 2,
       "version_minor": 0
      },
      "text/plain": [
       "  0%|          | 0/424 [00:00<?, ?it/s]"
      ]
     },
     "metadata": {},
     "output_type": "display_data"
    },
    {
     "name": "stdout",
     "output_type": "stream",
     "text": [
      "Epoch 3/5 |  val  | Loss: 0.5792 | Acc: 0.7698\n"
     ]
    }
   ],
   "source": [
    "num_epochs = 15\n",
    "\n",
    "train_model(model, dataloaders_dict, criterion, optimizer, num_epochs=num_epochs)"
   ]
  },
  {
   "cell_type": "code",
   "execution_count": null,
   "metadata": {},
   "outputs": [],
   "source": [
    "# Epoch 1/15 | train | Loss: 0.7663 | Acc: 0.6906\n",
    "# Epoch 1/15 |  val  | Loss: 0.6605 | Acc: 0.7346\n",
    "# Epoch 2/15 | train | Loss: 0.6160 | Acc: 0.7534\n",
    "# Epoch 2/15 |  val  | Loss: 0.6447 | Acc: 0.7417\n",
    "# Epoch 3/15 | train | Loss: 0.5707 | Acc: 0.7714\n",
    "# Epoch 3/15 |  val  | Loss: 0.6100 | Acc: 0.7569\n",
    "# Epoch 4/15 | train | Loss: 0.5404 | Acc: 0.7844\n",
    "# Epoch 4/15 |  val  | Loss: 0.5554 | Acc: 0.7768\n",
    "# Epoch 5/15 | train | Loss: 0.5173 | Acc: 0.7935\n",
    "# Epoch 5/15 |  val  | Loss: 0.5427 | Acc: 0.7835\n",
    "# Epoch 6/15 | train | Loss: 0.5000 | Acc: 0.8013\n",
    "# Epoch 6/15 |  val  | Loss: 0.5331 | Acc: 0.7878\n",
    "# Epoch 7/15 | train | Loss: 0.4852 | Acc: 0.8068\n",
    "# Epoch 7/15 |  val  | Loss: 0.5283 | Acc: 0.7900\n",
    "# Epoch 8/15 | train | Loss: 0.4717 | Acc: 0.8122\n",
    "# Epoch 8/15 |  val  | Loss: 0.5267 | Acc: 0.7922\n",
    "# Epoch 9/15 | train | Loss: 0.4601 | Acc: 0.8176\n",
    "# Epoch 9/15 |  val  | Loss: 0.5167 | Acc: 0.7953\n",
    "# Epoch 10/15 | train | Loss: 0.4496 | Acc: 0.8214\n",
    "# Epoch 10/15 |  val  | Loss: 0.5171 | Acc: 0.7944\n",
    "# Epoch 11/15 | train | Loss: 0.4400 | Acc: 0.8260\n",
    "# Epoch 11/15 |  val  | Loss: 0.5160 | Acc: 0.7965\n",
    "# Epoch 12/15 | train | Loss: 0.4315 | Acc: 0.8287\n",
    "# Epoch 12/15 |  val  | Loss: 0.5258 | Acc: 0.7925\n",
    "# Epoch 13/15 | train | Loss: 0.4232 | Acc: 0.8321\n",
    "# Epoch 13/15 |  val  | Loss: 0.5164 | Acc: 0.7952\n",
    "# Epoch 14/15 | train | Loss: 0.4158 | Acc: 0.8351\n",
    "# Epoch 14/15 |  val  | Loss: 0.5170 | Acc: 0.7981\n",
    "# Epoch 15/15 | train | Loss: 0.4082 | Acc: 0.8379\n",
    "# Epoch 15/15 |  val  | Loss: 0.5235 | Acc: 0.7974"
   ]
  },
  {
   "cell_type": "code",
   "execution_count": 24,
   "metadata": {
    "execution": {
     "iopub.execute_input": "2021-09-21T02:10:41.162296Z",
     "iopub.status.busy": "2021-09-21T02:10:41.161837Z",
     "iopub.status.idle": "2021-09-21T02:12:28.573451Z",
     "shell.execute_reply": "2021-09-21T02:12:28.570394Z",
     "shell.execute_reply.started": "2021-09-21T02:10:41.162261Z"
    },
    "scrolled": false
   },
   "outputs": [
    {
     "data": {
      "application/vnd.jupyter.widget-view+json": {
       "model_id": "",
       "version_major": 2,
       "version_minor": 0
      },
      "text/plain": [
       "  0%|          | 0/408 [00:00<?, ?it/s]"
      ]
     },
     "metadata": {},
     "output_type": "display_data"
    },
    {
     "name": "stdout",
     "output_type": "stream",
     "text": [
      "Epoch 1/10 | train | Loss: 0.3298 | Acc: 0.8635\n"
     ]
    },
    {
     "data": {
      "application/vnd.jupyter.widget-view+json": {
       "model_id": "",
       "version_major": 2,
       "version_minor": 0
      },
      "text/plain": [
       "  0%|          | 0/46 [00:00<?, ?it/s]"
      ]
     },
     "metadata": {},
     "output_type": "display_data"
    },
    {
     "name": "stdout",
     "output_type": "stream",
     "text": [
      "Epoch 1/10 |  val  | Loss: 0.3039 | Acc: 0.8654\n"
     ]
    },
    {
     "data": {
      "application/vnd.jupyter.widget-view+json": {
       "model_id": "",
       "version_major": 2,
       "version_minor": 0
      },
      "text/plain": [
       "  0%|          | 0/408 [00:00<?, ?it/s]"
      ]
     },
     "metadata": {},
     "output_type": "display_data"
    },
    {
     "name": "stdout",
     "output_type": "stream",
     "text": [
      "Epoch 2/10 | train | Loss: 0.2444 | Acc: 0.8972\n"
     ]
    },
    {
     "data": {
      "application/vnd.jupyter.widget-view+json": {
       "model_id": "",
       "version_major": 2,
       "version_minor": 0
      },
      "text/plain": [
       "  0%|          | 0/46 [00:00<?, ?it/s]"
      ]
     },
     "metadata": {},
     "output_type": "display_data"
    },
    {
     "name": "stdout",
     "output_type": "stream",
     "text": [
      "Epoch 2/10 |  val  | Loss: 0.2320 | Acc: 0.9009\n"
     ]
    },
    {
     "data": {
      "application/vnd.jupyter.widget-view+json": {
       "model_id": "",
       "version_major": 2,
       "version_minor": 0
      },
      "text/plain": [
       "  0%|          | 0/408 [00:00<?, ?it/s]"
      ]
     },
     "metadata": {},
     "output_type": "display_data"
    },
    {
     "name": "stdout",
     "output_type": "stream",
     "text": [
      "Epoch 3/10 | train | Loss: 0.2232 | Acc: 0.9067\n"
     ]
    },
    {
     "data": {
      "application/vnd.jupyter.widget-view+json": {
       "model_id": "",
       "version_major": 2,
       "version_minor": 0
      },
      "text/plain": [
       "  0%|          | 0/46 [00:00<?, ?it/s]"
      ]
     },
     "metadata": {},
     "output_type": "display_data"
    },
    {
     "name": "stdout",
     "output_type": "stream",
     "text": [
      "Epoch 3/10 |  val  | Loss: 0.2308 | Acc: 0.9006\n"
     ]
    },
    {
     "data": {
      "application/vnd.jupyter.widget-view+json": {
       "model_id": "",
       "version_major": 2,
       "version_minor": 0
      },
      "text/plain": [
       "  0%|          | 0/408 [00:00<?, ?it/s]"
      ]
     },
     "metadata": {},
     "output_type": "display_data"
    },
    {
     "name": "stdout",
     "output_type": "stream",
     "text": [
      "Epoch 4/10 | train | Loss: 0.2069 | Acc: 0.9130\n"
     ]
    },
    {
     "data": {
      "application/vnd.jupyter.widget-view+json": {
       "model_id": "",
       "version_major": 2,
       "version_minor": 0
      },
      "text/plain": [
       "  0%|          | 0/46 [00:00<?, ?it/s]"
      ]
     },
     "metadata": {},
     "output_type": "display_data"
    },
    {
     "name": "stdout",
     "output_type": "stream",
     "text": [
      "Epoch 4/10 |  val  | Loss: 0.2341 | Acc: 0.9015\n"
     ]
    },
    {
     "data": {
      "application/vnd.jupyter.widget-view+json": {
       "model_id": "",
       "version_major": 2,
       "version_minor": 0
      },
      "text/plain": [
       "  0%|          | 0/408 [00:00<?, ?it/s]"
      ]
     },
     "metadata": {},
     "output_type": "display_data"
    },
    {
     "name": "stdout",
     "output_type": "stream",
     "text": [
      "Epoch 5/10 | train | Loss: 0.1976 | Acc: 0.9170\n"
     ]
    },
    {
     "data": {
      "application/vnd.jupyter.widget-view+json": {
       "model_id": "",
       "version_major": 2,
       "version_minor": 0
      },
      "text/plain": [
       "  0%|          | 0/46 [00:00<?, ?it/s]"
      ]
     },
     "metadata": {},
     "output_type": "display_data"
    },
    {
     "name": "stdout",
     "output_type": "stream",
     "text": [
      "Epoch 5/10 |  val  | Loss: 0.2333 | Acc: 0.9006\n"
     ]
    },
    {
     "data": {
      "application/vnd.jupyter.widget-view+json": {
       "model_id": "",
       "version_major": 2,
       "version_minor": 0
      },
      "text/plain": [
       "  0%|          | 0/408 [00:00<?, ?it/s]"
      ]
     },
     "metadata": {},
     "output_type": "display_data"
    },
    {
     "name": "stdout",
     "output_type": "stream",
     "text": [
      "Epoch 6/10 | train | Loss: 0.1888 | Acc: 0.9223\n"
     ]
    },
    {
     "data": {
      "application/vnd.jupyter.widget-view+json": {
       "model_id": "",
       "version_major": 2,
       "version_minor": 0
      },
      "text/plain": [
       "  0%|          | 0/46 [00:00<?, ?it/s]"
      ]
     },
     "metadata": {},
     "output_type": "display_data"
    },
    {
     "name": "stdout",
     "output_type": "stream",
     "text": [
      "Epoch 6/10 |  val  | Loss: 0.2212 | Acc: 0.9084\n"
     ]
    },
    {
     "data": {
      "application/vnd.jupyter.widget-view+json": {
       "model_id": "",
       "version_major": 2,
       "version_minor": 0
      },
      "text/plain": [
       "  0%|          | 0/408 [00:00<?, ?it/s]"
      ]
     },
     "metadata": {},
     "output_type": "display_data"
    },
    {
     "name": "stdout",
     "output_type": "stream",
     "text": [
      "Epoch 7/10 | train | Loss: 0.1795 | Acc: 0.9256\n"
     ]
    },
    {
     "data": {
      "application/vnd.jupyter.widget-view+json": {
       "model_id": "",
       "version_major": 2,
       "version_minor": 0
      },
      "text/plain": [
       "  0%|          | 0/46 [00:00<?, ?it/s]"
      ]
     },
     "metadata": {},
     "output_type": "display_data"
    },
    {
     "name": "stdout",
     "output_type": "stream",
     "text": [
      "Epoch 7/10 |  val  | Loss: 0.2275 | Acc: 0.9042\n"
     ]
    },
    {
     "data": {
      "application/vnd.jupyter.widget-view+json": {
       "model_id": "",
       "version_major": 2,
       "version_minor": 0
      },
      "text/plain": [
       "  0%|          | 0/408 [00:00<?, ?it/s]"
      ]
     },
     "metadata": {},
     "output_type": "display_data"
    },
    {
     "name": "stdout",
     "output_type": "stream",
     "text": [
      "Epoch 8/10 | train | Loss: 0.1707 | Acc: 0.9289\n"
     ]
    },
    {
     "data": {
      "application/vnd.jupyter.widget-view+json": {
       "model_id": "",
       "version_major": 2,
       "version_minor": 0
      },
      "text/plain": [
       "  0%|          | 0/46 [00:00<?, ?it/s]"
      ]
     },
     "metadata": {},
     "output_type": "display_data"
    },
    {
     "name": "stdout",
     "output_type": "stream",
     "text": [
      "Epoch 8/10 |  val  | Loss: 0.2358 | Acc: 0.9032\n"
     ]
    },
    {
     "data": {
      "application/vnd.jupyter.widget-view+json": {
       "model_id": "",
       "version_major": 2,
       "version_minor": 0
      },
      "text/plain": [
       "  0%|          | 0/408 [00:00<?, ?it/s]"
      ]
     },
     "metadata": {},
     "output_type": "display_data"
    },
    {
     "name": "stdout",
     "output_type": "stream",
     "text": [
      "Epoch 9/10 | train | Loss: 0.1622 | Acc: 0.9336\n"
     ]
    },
    {
     "data": {
      "application/vnd.jupyter.widget-view+json": {
       "model_id": "",
       "version_major": 2,
       "version_minor": 0
      },
      "text/plain": [
       "  0%|          | 0/46 [00:00<?, ?it/s]"
      ]
     },
     "metadata": {},
     "output_type": "display_data"
    },
    {
     "name": "stdout",
     "output_type": "stream",
     "text": [
      "Epoch 9/10 |  val  | Loss: 0.2293 | Acc: 0.9053\n"
     ]
    },
    {
     "data": {
      "application/vnd.jupyter.widget-view+json": {
       "model_id": "",
       "version_major": 2,
       "version_minor": 0
      },
      "text/plain": [
       "  0%|          | 0/408 [00:00<?, ?it/s]"
      ]
     },
     "metadata": {},
     "output_type": "display_data"
    },
    {
     "name": "stdout",
     "output_type": "stream",
     "text": [
      "Epoch 10/10 | train | Loss: 0.1570 | Acc: 0.9346\n"
     ]
    },
    {
     "data": {
      "application/vnd.jupyter.widget-view+json": {
       "model_id": "",
       "version_major": 2,
       "version_minor": 0
      },
      "text/plain": [
       "  0%|          | 0/46 [00:00<?, ?it/s]"
      ]
     },
     "metadata": {},
     "output_type": "display_data"
    },
    {
     "name": "stdout",
     "output_type": "stream",
     "text": [
      "Epoch 10/10 |  val  | Loss: 0.2304 | Acc: 0.9051\n"
     ]
    }
   ],
   "source": [
    "num_epochs = 10\n",
    "\n",
    "train_model(model_city, dataloaders_city_dict, criterion_city, optimizer_city, num_epochs=num_epochs, city=True)"
   ]
  },
  {
   "cell_type": "code",
   "execution_count": null,
   "metadata": {},
   "outputs": [],
   "source": [
    "# Epoch 1/10 | train | Loss: 0.3146 | Acc: 0.8674\n",
    "# Epoch 1/10 |  val  | Loss: 0.3162 | Acc: 0.8626\n",
    "# Epoch 2/10 | train | Loss: 0.2475 | Acc: 0.8967\n",
    "# Epoch 2/10 |  val  | Loss: 0.2401 | Acc: 0.8978\n",
    "# Epoch 3/10 | train | Loss: 0.2268 | Acc: 0.9061\n",
    "# Epoch 3/10 |  val  | Loss: 0.2224 | Acc: 0.9072\n",
    "# Epoch 4/10 | train | Loss: 0.2172 | Acc: 0.9091\n",
    "# Epoch 4/10 |  val  | Loss: 0.2390 | Acc: 0.8964\n",
    "# Epoch 5/10 | train | Loss: 0.2048 | Acc: 0.9149\n",
    "# Epoch 5/10 |  val  | Loss: 0.2601 | Acc: 0.8944\n",
    "# Epoch 6/10 | train | Loss: 0.1984 | Acc: 0.9176\n",
    "# Epoch 6/10 |  val  | Loss: 0.2294 | Acc: 0.9036\n",
    "# Epoch 7/10 | train | Loss: 0.1911 | Acc: 0.9199\n",
    "# Epoch 7/10 |  val  | Loss: 0.2056 | Acc: 0.9149\n",
    "# Epoch 8/10 | train | Loss: 0.1824 | Acc: 0.9243\n",
    "# Epoch 8/10 |  val  | Loss: 0.2252 | Acc: 0.9051\n",
    "# Epoch 9/10 | train | Loss: 0.1745 | Acc: 0.9284\n",
    "# Epoch 9/10 |  val  | Loss: 0.2219 | Acc: 0.9110\n",
    "# Epoch 10/10 | train | Loss: 0.1680 | Acc: 0.9306\n",
    "# Epoch 10/10 |  val  | Loss: 0.2237 | Acc: 0.9079"
   ]
  },
  {
   "cell_type": "code",
   "execution_count": null,
   "metadata": {
    "scrolled": true
   },
   "outputs": [],
   "source": [
    "# !tensorboard --logdir runs"
   ]
  },
  {
   "cell_type": "markdown",
   "metadata": {},
   "source": [
    "# Submission"
   ]
  },
  {
   "cell_type": "code",
   "execution_count": 25,
   "metadata": {
    "execution": {
     "iopub.status.busy": "2021-09-21T02:12:28.574817Z",
     "iopub.status.idle": "2021-09-21T02:12:28.575768Z",
     "shell.execute_reply": "2021-09-21T02:12:28.575542Z",
     "shell.execute_reply.started": "2021-09-21T02:12:28.575505Z"
    }
   },
   "outputs": [
    {
     "name": "stdout",
     "output_type": "stream",
     "text": [
      "Overwriting agent/agent.py\n"
     ]
    }
   ],
   "source": [
    "%%writefile agent/agent.py\n",
    "import os\n",
    "import json\n",
    "import numpy as np\n",
    "import torch\n",
    "from math import inf\n",
    "from lux.game import Game\n",
    "\n",
    "path = '/kaggle_simulations/agent' if os.path.exists('/kaggle_simulations') else '.' # change to 'agent' for tests\n",
    "model = torch.jit.load(f'{path}/model.pth')\n",
    "model.eval()\n",
    "model_city = torch.jit.load(f'{path}/model_city.pth')\n",
    "model_city.eval()\n",
    "\n",
    "def manhattan_distance(x1, y1, x2, y2):\n",
    "    return (abs(x2-x1) + abs(y2-y1))\n",
    "\n",
    "# make list of users and their current and previous coords and cooldowns \n",
    "# to write them in NN training subset\n",
    "def find_units_from_previous_obs(obs, x_shift, y_shift):\n",
    "    # at first fill the unit dict with units from previous observation\n",
    "    updates = obs['updates']\n",
    "    updates_lag_1 = obs['updates_lag_1']\n",
    "    updates_lag_2 = obs['updates_lag_2']\n",
    "    updates_lag_3 = obs['updates_lag_3']\n",
    "    updates_lag_4 = obs['updates_lag_4']\n",
    "    prev_updates = [updates, updates_lag_1, updates_lag_2, updates_lag_3, updates_lag_4]\n",
    "    prev_units = list()\n",
    "    for prev_update in prev_updates:\n",
    "        units = dict()\n",
    "        if prev_update:\n",
    "            for update in prev_update:\n",
    "                strs = update.split(' ')\n",
    "                input_identifier = strs[0]\n",
    "                # if we found observation for user\n",
    "                if input_identifier == 'u':\n",
    "                    unit_id = strs[3]\n",
    "                    x = int(strs[4]) + x_shift\n",
    "                    y = int(strs[5]) + y_shift\n",
    "                    cooldown = float(strs[6])\n",
    "                    units[unit_id] = [x, y, cooldown]\n",
    "            prev_units.append(units)\n",
    "        else:\n",
    "            break\n",
    "    return prev_units\n",
    "\n",
    "def find_prev_coords(prev_units, unit_id):\n",
    "    # find previous coordinates of unit by ananlyzing its cooldown\n",
    "    x, y = None, None\n",
    "    for i in range(len(prev_units)-1):\n",
    "        if unit_id in prev_units[i] and unit_id in prev_units[i+1]:\n",
    "            cooldown = prev_units[i][unit_id][0]\n",
    "            prev_x = prev_units[i+1][unit_id][0]\n",
    "            prev_y = prev_units[i+1][unit_id][1]\n",
    "            prev_cooldown = prev_units[i+1][unit_id][2]\n",
    "            if cooldown > 0 and prev_cooldown == 0:\n",
    "                return prev_x, prev_y\n",
    "        else:\n",
    "            break\n",
    "    return x, y\n",
    "            \n",
    "# Input for Neural Network for units\n",
    "def make_input(obs, unit_id):\n",
    "    width, height = obs['width'], obs['height']\n",
    "    x_shift = (32 - width) // 2\n",
    "    y_shift = (32 - height) // 2\n",
    "\n",
    "    cities = {}\n",
    "    \n",
    "    b = np.zeros((28, 32, 32), dtype=np.float32)\n",
    "    \n",
    "    prev_units = find_units_from_previous_obs(obs, x_shift, y_shift)\n",
    "    x_u, y_u = prev_units[0][unit_id][0], prev_units[0][unit_id][1]\n",
    "    \n",
    "    for update in obs['updates']:\n",
    "        strs = update.split(' ')\n",
    "        input_identifier = strs[0]\n",
    "        my_rp = 0\n",
    "        \n",
    "        if input_identifier == 'u':\n",
    "            x = int(strs[4]) + x_shift\n",
    "            y = int(strs[5]) + y_shift\n",
    "            wood = int(strs[7])\n",
    "            coal = int(strs[8])\n",
    "            uranium = int(strs[9])\n",
    "            if strs[3] == unit_id: # 0:2\n",
    "                # Position, Cargo and Previous Position\n",
    "                b[:2, x, y] = (\n",
    "                    1,\n",
    "                    (wood + coal + uranium) / 100\n",
    "                )\n",
    "                prev_x, prev_y = find_prev_coords(prev_units, unit_id)\n",
    "                if not prev_x and not prev_y:\n",
    "                    prev_x, prev_y = x, y\n",
    "                b[2, prev_x, prev_y] = 1\n",
    "            else:                  # 3:10\n",
    "                # Units\n",
    "                team = int(strs[2])\n",
    "                cooldown = float(strs[6])\n",
    "                idx = 3 + (team - obs['player']) % 2 * 4\n",
    "                m_dist = manhattan_distance(x_u, y_u, x, y)\n",
    "                b[idx:idx + 4, x, y] = (\n",
    "                    1,\n",
    "                    cooldown / 6,\n",
    "                    (wood + coal + uranium) / 100,\n",
    "                    m_dist/((width-1) + (height-1))\n",
    "                )\n",
    "        elif input_identifier == 'ct':  # 11:16\n",
    "            # CityTiles\n",
    "            team = int(strs[1])\n",
    "            city_id = strs[2]\n",
    "            x = int(strs[3]) + x_shift\n",
    "            y = int(strs[4]) + y_shift\n",
    "            idx = 11 + (team - obs['player']) % 2 * 3\n",
    "            m_dist = manhattan_distance(x_u, y_u, x, y)\n",
    "            b[idx:idx + 3, x, y] = (\n",
    "                1,\n",
    "                cities[city_id],\n",
    "                m_dist/((width-1) + (height-1))\n",
    "            )\n",
    "        elif input_identifier == 'r':  # 17:20\n",
    "            # Resources\n",
    "            r_type = strs[1]\n",
    "            x = int(strs[2]) + x_shift\n",
    "            y = int(strs[3]) + y_shift\n",
    "            amt = int(float(strs[4]))\n",
    "            access_level = {'wood': 0, 'coal': 50, 'uranium': 200}[r_type]\n",
    "            access = 0 if my_rp < access_level else 1\n",
    "            b[{'wood': 17, 'coal': 18, 'uranium': 19}[r_type], x, y] = amt / 800\n",
    "            b[20, x, y] = access\n",
    "            b[21, x, y] = manhattan_distance(x_u, y_u, x, y)/((width-1) + (height-1))\n",
    "        elif input_identifier == 'rp':  # 21:22\n",
    "            # Research Points\n",
    "            team = int(strs[1])\n",
    "            rp = int(strs[2])\n",
    "            my_rp = rp if team == obs['player'] else my_rp\n",
    "            b[22 + (team - obs['player']) % 2, :] = min(rp, 200) / 200\n",
    "        elif input_identifier == 'c':\n",
    "            # Cities\n",
    "            city_id = strs[2]\n",
    "            fuel = float(strs[3])\n",
    "            lightupkeep = float(strs[4])\n",
    "            cities[city_id] = min(fuel / lightupkeep, 10) / 10\n",
    "    # Day/Night Cycle\n",
    "    b[24, :] = obs['step'] % 40 / 40\n",
    "    # Turns\n",
    "    b[25, :] = obs['step'] / 360\n",
    "    # Day / Night\n",
    "    b[26, :] = 1 if obs['step'] % 40 < 30 else 0\n",
    "    # Map Size\n",
    "    b[27, x_shift:32 - x_shift, y_shift:32 - y_shift] = 1\n",
    "        \n",
    "    return b\n",
    "\n",
    "# Input for Neural Network for cities\n",
    "def make_city_input(obs, city_coord):\n",
    "    width, height = obs['width'], obs['height']\n",
    "    x_shift = (32 - width) // 2\n",
    "    y_shift = (32 - height) // 2\n",
    "    cities = {}\n",
    "    \n",
    "    b = np.zeros((20, 32, 32), dtype=np.float32)\n",
    "    \n",
    "    for update in obs['updates']:\n",
    "        strs = update.split(' ')\n",
    "        input_identifier = strs[0]\n",
    "        \n",
    "        if input_identifier == 'ct':\n",
    "            # CityTiles\n",
    "            city_id = strs[2]\n",
    "            x = int(strs[3]) \n",
    "            y = int(strs[4])\n",
    "            cooldown = float(strs[5])\n",
    "            if x == int(city_coord[0]) and y == int(city_coord[1]):\n",
    "                b[:2, x + x_shift, y + y_shift] = (\n",
    "                    1,\n",
    "                    cities[city_id]\n",
    "                )\n",
    "            else:\n",
    "                team = int(strs[1])\n",
    "                idx = 2 + (team - obs['player']) % 2 * 3\n",
    "                b[idx:idx + 3, x + x_shift, y + y_shift] = (\n",
    "                    1,\n",
    "                    cooldown / 10,\n",
    "                    cities[city_id]\n",
    "                )\n",
    "        elif input_identifier == 'u':\n",
    "            team = int(strs[2])\n",
    "            x = int(strs[4]) + x_shift\n",
    "            y = int(strs[5]) + y_shift\n",
    "            wood = int(strs[7])\n",
    "            coal = int(strs[8])\n",
    "            uranium = int(strs[9])\n",
    "            idx = 8 + (team - obs['player']) % 2 * 2\n",
    "            b[idx:idx + 2, x, y] = (\n",
    "                1,\n",
    "                (wood + coal + uranium) / 100\n",
    "            )\n",
    "        elif input_identifier == 'r':\n",
    "            # Resources\n",
    "            r_type = strs[1]\n",
    "            x = int(strs[2]) + x_shift\n",
    "            y = int(strs[3]) + y_shift\n",
    "            amt = int(float(strs[4]))\n",
    "            b[{'wood': 12, 'coal': 13, 'uranium': 14}[r_type], x, y] = amt / 800\n",
    "        elif input_identifier == 'rp':\n",
    "            # Research Points\n",
    "            team = int(strs[1])\n",
    "            rp = int(strs[2])\n",
    "            b[15 + (team - obs['player']) % 2, :] = min(rp, 200) / 200\n",
    "        elif input_identifier == 'c':\n",
    "            # Cities\n",
    "            city_id = strs[2]\n",
    "            fuel = float(strs[3])\n",
    "            lightupkeep = float(strs[4])\n",
    "            cities[city_id] = min(fuel / lightupkeep, 10) / 10\n",
    "    \n",
    "    # Day/Night Cycle\n",
    "    b[17, :] = obs['step'] % 40 / 40\n",
    "    # Turns\n",
    "    b[18, :] = obs['step'] / 360\n",
    "    # Map Size\n",
    "    b[19, x_shift:32 - x_shift, y_shift:32 - y_shift] = 1\n",
    "\n",
    "    return b\n",
    "\n",
    "game_state = None\n",
    "player = None\n",
    "\n",
    "\n",
    "def get_game_state(observation):\n",
    "    global game_state\n",
    "    \n",
    "    if observation[\"step\"] == 0:\n",
    "        game_state = Game()\n",
    "        game_state._initialize(observation[\"updates\"])\n",
    "        game_state._update(observation[\"updates\"][2:])\n",
    "        game_state.id = observation[\"player\"]\n",
    "    else:\n",
    "        game_state._update(observation[\"updates\"])\n",
    "    return game_state\n",
    "\n",
    "\n",
    "# check if unit is in city or not\n",
    "def in_city(pos):    \n",
    "    try:\n",
    "        city = game_state.map.get_cell_by_pos(pos).citytile\n",
    "        return city is not None and city.team == game_state.id\n",
    "    except:\n",
    "        return False\n",
    "    \n",
    "# check if unit is in city or not\n",
    "def on_res_tile(pos):    \n",
    "    res = game_state.map.get_cell_by_pos(pos).has_resource()\n",
    "    print(f'pos - {pos}, res - {res}')\n",
    "    return res\n",
    "    \n",
    "# check if unit has enough time and space to build a city\n",
    "def build_city_is_possible(unit, pos):    \n",
    "    global game_state\n",
    "    global player\n",
    "\n",
    "    if game_state.turn % 40 < 30:\n",
    "        return True\n",
    "    x, y = pos.x, pos.y\n",
    "    for i, j in ((x-1, y), (x+1, y), (x, y-1), (x, y+1)):\n",
    "        try:\n",
    "            city_id = game_state.map.get_cell(i, j).citytile.cityid\n",
    "        except:\n",
    "            continue\n",
    "        if city_id in player.cities:\n",
    "            city = player.cities[city_id]\n",
    "            if city.fuel > (city.get_light_upkeep() + 18) * 10:\n",
    "                return True\n",
    "    return False\n",
    "\n",
    "\n",
    "def call_func(obj, method, args=[]):\n",
    "    return getattr(obj, method)(*args)\n",
    "\n",
    "\n",
    "# translate unit policy to action\n",
    "unit_actions = [('move', 'n'), ('move', 's'), ('move', 'w'), ('move', 'e'), ('build_city',)]\n",
    "def get_unit_action(policy, unit, dest):\n",
    "    for label in np.argsort(policy)[::-1]:\n",
    "        act = unit_actions[label]\n",
    "        pos = unit.pos.translate(act[-1], 1) or unit.pos\n",
    "        if label == 4 and not build_city_is_possible(unit, pos):\n",
    "            return unit.move('c'), unit.pos\n",
    "        if pos not in dest or in_city(pos):\n",
    "            return call_func(unit, *act), pos      \n",
    "    return unit.move('c'), unit.pos\n",
    "\n",
    "# translate city policy to action\n",
    "city_actions = [('build_worker',), ('research', )]\n",
    "def get_city_action(policy, city_tile, unit_count):\n",
    "    global player\n",
    "    \n",
    "    for label in np.argsort(policy)[::-1]:\n",
    "        act = city_actions[label]\n",
    "        # build unit only if their number less than number of cities and less than 110 (to prevent too high lags)\n",
    "        if label == 0 and unit_count < player.city_tile_count and unit_count < 110:\n",
    "            unit_count += 1\n",
    "            res = call_func(city_tile, *act)\n",
    "        elif label == 1 and not player.researched_uranium():\n",
    "            player.research_points += 1\n",
    "            res = call_func(city_tile, *act)\n",
    "        else:\n",
    "            res = None\n",
    "        return res, unit_count\n",
    "\n",
    "# agent for making actions\n",
    "def agent(observation, configuration):\n",
    "    global game_state\n",
    "    global player\n",
    "    \n",
    "    game_state = get_game_state(observation)    \n",
    "    player = game_state.players[observation.player]\n",
    "    actions = [] \n",
    "    prev_obs = dict()\n",
    "    \n",
    "    with open(f'{path}/tmp.json') as json_file:\n",
    "        try:\n",
    "            prev_obs = json.load(json_file)\n",
    "        except json.decoder.JSONDecodeError:\n",
    "            prev_obs['updates_lag_1'] = None\n",
    "            prev_obs['updates_lag_2'] = None\n",
    "            prev_obs['updates_lag_3'] = None\n",
    "            prev_obs['updates_lag_4'] = None\n",
    "            \n",
    "    observation['updates_lag_4'] = prev_obs['updates_lag_4']\n",
    "    observation['updates_lag_3'] = prev_obs['updates_lag_3']\n",
    "    observation['updates_lag_2'] = prev_obs['updates_lag_2']\n",
    "    observation['updates_lag_1'] = prev_obs['updates_lag_1']\n",
    "    \n",
    "    prev_obs['updates_lag_4'] = prev_obs['updates_lag_3']\n",
    "    prev_obs['updates_lag_3'] = prev_obs['updates_lag_2']\n",
    "    prev_obs['updates_lag_2'] = prev_obs['updates_lag_1']\n",
    "    prev_obs['updates_lag_1'] = observation['updates']\n",
    "    \n",
    "    if game_state.turn < 359:\n",
    "        with open(f'{path}/tmp.json', 'w+') as json_file:\n",
    "            json.dump(prev_obs, json_file)\n",
    "    else:\n",
    "        open(f'{path}/tmp.json', 'w+').close()\n",
    "    \n",
    "    # Unit Actions\n",
    "    dest = []\n",
    "    for unit in player.units:\n",
    "        if unit.can_act() and (game_state.turn % 40 < 30 or (not in_city(unit.pos) and not on_res_tile(unit.pos))):\n",
    "            state = make_input(observation, unit.id)\n",
    "            with torch.no_grad():\n",
    "                p = model(torch.from_numpy(state).unsqueeze(0))\n",
    "\n",
    "            policy = p.squeeze(0).numpy()\n",
    "\n",
    "            action, pos = get_unit_action(policy, unit, dest)\n",
    "            actions.append(action)\n",
    "            dest.append(pos)\n",
    "    \n",
    "    # City Actions\n",
    "    unit_count = len(player.units)\n",
    "    for city in player.cities.values():\n",
    "        for city_tile in city.citytiles:\n",
    "            if city_tile.can_act():\n",
    "                state = make_city_input(observation, [city_tile.pos.x, city_tile.pos.y])\n",
    "                with torch.no_grad():\n",
    "                    p = model_city(torch.from_numpy(state).unsqueeze(0))\n",
    "\n",
    "                policy = p.squeeze(0).numpy()\n",
    "\n",
    "                action, unit_count = get_city_action(policy, city_tile, unit_count)\n",
    "                if action:\n",
    "                    actions.append(action)\n",
    "    \n",
    "    return actions"
   ]
  },
  {
   "cell_type": "markdown",
   "metadata": {},
   "source": [
    "Submit predictions"
   ]
  },
  {
   "cell_type": "code",
   "execution_count": 30,
   "metadata": {},
   "outputs": [],
   "source": [
    "!cd agent && tar -czf submission.tar.gz lux agent.py main.py model.pth model_city.pth tmp.json"
   ]
  },
  {
   "cell_type": "markdown",
   "metadata": {},
   "source": [
    "Test agents on 12x12 field"
   ]
  },
  {
   "cell_type": "code",
   "execution_count": 29,
   "metadata": {
    "scrolled": false
   },
   "outputs": [],
   "source": [
    "# from kaggle_environments import make\n",
    "\n",
    "# env = make(\"lux_ai_2021\", configuration={\"width\": 12, \"height\": 12, \"loglevel\": 2, \"annotations\": True}, debug=False)\n",
    "\n",
    "# # first agent is yellow\n",
    "# # second agent is blue\n",
    "# steps = env.run(['agent/agent.py', 'agent.py'])\n",
    "\n",
    "# env.render(mode=\"ipython\", width=1200, height=800)"
   ]
  },
  {
   "cell_type": "markdown",
   "metadata": {},
   "source": [
    "Test agent on 16x16 field"
   ]
  },
  {
   "cell_type": "code",
   "execution_count": null,
   "metadata": {
    "scrolled": false
   },
   "outputs": [],
   "source": [
    "# env = make(\"lux_ai_2021\", configuration={\"width\": 16, \"height\": 16, \"loglevel\": 2, \"annotations\": True}, debug=False)\n",
    "\n",
    "# # first agent is yellow\n",
    "# # second agent is blue\n",
    "# steps = env.run(['agent/agent.py', 'agent.py'])\n",
    "\n",
    "# env.render(mode=\"ipython\", width=1200, height=800)"
   ]
  },
  {
   "cell_type": "markdown",
   "metadata": {},
   "source": [
    "Test agent on 24x24 field"
   ]
  },
  {
   "cell_type": "code",
   "execution_count": null,
   "metadata": {
    "scrolled": false
   },
   "outputs": [],
   "source": [
    "# env = make(\"lux_ai_2021\", configuration={\"width\": 24, \"height\": 24, \"loglevel\": 2, \"annotations\": True}, debug=False)\n",
    "\n",
    "# # first agent is yellow\n",
    "# # second agent is blue\n",
    "# steps = env.run(['agent/agent.py', 'agent.py'])\n",
    "\n",
    "# env.render(mode=\"ipython\", width=1200, height=800)"
   ]
  },
  {
   "cell_type": "markdown",
   "metadata": {},
   "source": [
    "Test agents on 32x32 field"
   ]
  },
  {
   "cell_type": "code",
   "execution_count": null,
   "metadata": {
    "execution": {
     "iopub.status.busy": "2021-09-21T02:12:28.577249Z",
     "iopub.status.idle": "2021-09-21T02:12:28.577694Z",
     "shell.execute_reply": "2021-09-21T02:12:28.577478Z",
     "shell.execute_reply.started": "2021-09-21T02:12:28.577455Z"
    },
    "scrolled": false
   },
   "outputs": [],
   "source": [
    "# env = make(\"lux_ai_2021\", configuration={\"width\": 32, \"height\": 32, \"loglevel\": 2, \"annotations\": True}, debug=False)\n",
    "\n",
    "# # first agent is yellow\n",
    "# # second agent is blue\n",
    "# steps = env.run(['agent/agent.py', 'agent.py'])\n",
    "\n",
    "# env.render(mode=\"ipython\", width=1200, height=800)"
   ]
  },
  {
   "cell_type": "markdown",
   "metadata": {},
   "source": [
    "# NNs ensemble"
   ]
  },
  {
   "cell_type": "code",
   "execution_count": null,
   "metadata": {},
   "outputs": [],
   "source": [
    "import os\n",
    "import numpy as np\n",
    "import torch\n",
    "from lux.game import Game\n",
    "\n",
    "path = '/kaggle_simulations/agent' if os.path.exists('/kaggle_simulations') else '.' # change to 'agent' for tests\n",
    "# unit NNs\n",
    "model_v2 = torch.jit.load(f'{path}/model_v2.pth')\n",
    "model_v2.eval()\n",
    "model_v4 = torch.jit.load(f'{path}/model_v4.pth')\n",
    "model_v4.eval()\n",
    "model_v5 = torch.jit.load(f'{path}/model_v5.pth')\n",
    "model_v5.eval()\n",
    "model_v11 = torch.jit.load(f'{path}/model_v11.pth')\n",
    "model_v11.eval()\n",
    "# city NNs\n",
    "model_city_v2 = torch.jit.load(f'{path}/model_city_v2.pth')\n",
    "model_city_v2.eval()\n",
    "model_city_v4 = torch.jit.load(f'{path}/model_city_v4.pth')\n",
    "model_city_v4.eval()\n",
    "model_city_v5 = torch.jit.load(f'{path}/model_city_v5.pth')\n",
    "model_city_v5.eval()\n",
    "model_city_v11 = torch.jit.load(f'{path}/model_city_v11.pth')\n",
    "model_city_v11.eval()\n",
    "\n",
    "# Input for Neural Network for units\n",
    "def make_input(obs, unit_id):\n",
    "    width, height = obs['width'], obs['height']\n",
    "    x_shift = (32 - width) // 2\n",
    "    y_shift = (32 - height) // 2\n",
    "    cities = {}\n",
    "    \n",
    "    b = np.zeros((20, 32, 32), dtype=np.float32)\n",
    "    \n",
    "    for update in obs['updates']:\n",
    "        strs = update.split(' ')\n",
    "        input_identifier = strs[0]\n",
    "        \n",
    "        if input_identifier == 'u':\n",
    "            x = int(strs[4]) + x_shift\n",
    "            y = int(strs[5]) + y_shift\n",
    "            wood = int(strs[7])\n",
    "            coal = int(strs[8])\n",
    "            uranium = int(strs[9])\n",
    "            if unit_id == strs[3]:\n",
    "                # Position and Cargo\n",
    "                b[:2, x, y] = (\n",
    "                    1,\n",
    "                    (wood + coal + uranium) / 100\n",
    "                )\n",
    "            else:\n",
    "                # Units\n",
    "                team = int(strs[2])\n",
    "                cooldown = float(strs[6])\n",
    "                idx = 2 + (team - obs['player']) % 2 * 3\n",
    "                b[idx:idx + 3, x, y] = (\n",
    "                    1,\n",
    "                    cooldown / 6,\n",
    "                    (wood + coal + uranium) / 100\n",
    "                )\n",
    "        elif input_identifier == 'ct':\n",
    "            # CityTiles\n",
    "            team = int(strs[1])\n",
    "            city_id = strs[2]\n",
    "            x = int(strs[3]) + x_shift\n",
    "            y = int(strs[4]) + y_shift\n",
    "            idx = 8 + (team - obs['player']) % 2 * 2\n",
    "            b[idx:idx + 2, x, y] = (\n",
    "                1,\n",
    "                cities[city_id]\n",
    "            )\n",
    "        elif input_identifier == 'r':\n",
    "            # Resources\n",
    "            r_type = strs[1]\n",
    "            x = int(strs[2]) + x_shift\n",
    "            y = int(strs[3]) + y_shift\n",
    "            amt = int(float(strs[4]))\n",
    "            b[{'wood': 12, 'coal': 13, 'uranium': 14}[r_type], x, y] = amt / 800\n",
    "        elif input_identifier == 'rp':\n",
    "            # Research Points\n",
    "            team = int(strs[1])\n",
    "            rp = int(strs[2])\n",
    "            b[15 + (team - obs['player']) % 2, :] = min(rp, 200) / 200\n",
    "        elif input_identifier == 'c':\n",
    "            # Cities\n",
    "            city_id = strs[2]\n",
    "            fuel = float(strs[3])\n",
    "            lightupkeep = float(strs[4])\n",
    "            cities[city_id] = min(fuel / lightupkeep, 10) / 10\n",
    "    \n",
    "    # Day/Night Cycle\n",
    "    b[17, :] = obs['step'] % 40 / 40\n",
    "    # Turns\n",
    "    b[18, :] = obs['step'] / 360\n",
    "    # Map Size\n",
    "    b[19, x_shift:32 - x_shift, y_shift:32 - y_shift] = 1\n",
    "\n",
    "    return b\n",
    "\n",
    "\n",
    "# Input for Neural Network for cities\n",
    "def make_city_input(obs, city_coord):\n",
    "    width, height = obs['width'], obs['height']\n",
    "    x_shift = (32 - width) // 2\n",
    "    y_shift = (32 - height) // 2\n",
    "    cities = {}\n",
    "    \n",
    "    b = np.zeros((20, 32, 32), dtype=np.float32)\n",
    "    \n",
    "    for update in obs['updates']:\n",
    "        strs = update.split(' ')\n",
    "        input_identifier = strs[0]\n",
    "        \n",
    "        if input_identifier == 'ct':\n",
    "            # CityTiles\n",
    "            city_id = strs[2]\n",
    "            x = int(strs[3]) \n",
    "            y = int(strs[4])\n",
    "            cooldown = float(strs[5])\n",
    "            if x == int(city_coord[0]) and y == int(city_coord[1]):\n",
    "                b[:2, x + x_shift, y + y_shift] = (\n",
    "                    1,\n",
    "                    cities[city_id]\n",
    "                )\n",
    "            else:\n",
    "                team = int(strs[1])\n",
    "                idx = 2 + (team - obs['player']) % 2 * 3\n",
    "                b[idx:idx + 3, x + x_shift, y + y_shift] = (\n",
    "                    1,\n",
    "                    cooldown / 10,\n",
    "                    cities[city_id]\n",
    "                )\n",
    "        elif input_identifier == 'u':\n",
    "            team = int(strs[2])\n",
    "            x = int(strs[4]) + x_shift\n",
    "            y = int(strs[5]) + y_shift\n",
    "            wood = int(strs[7])\n",
    "            coal = int(strs[8])\n",
    "            uranium = int(strs[9])\n",
    "            idx = 8 + (team - obs['player']) % 2 * 2\n",
    "            b[idx:idx + 2, x, y] = (\n",
    "                1,\n",
    "                (wood + coal + uranium) / 100\n",
    "            )\n",
    "        elif input_identifier == 'r':\n",
    "            # Resources\n",
    "            r_type = strs[1]\n",
    "            x = int(strs[2]) + x_shift\n",
    "            y = int(strs[3]) + y_shift\n",
    "            amt = int(float(strs[4]))\n",
    "            b[{'wood': 12, 'coal': 13, 'uranium': 14}[r_type], x, y] = amt / 800\n",
    "        elif input_identifier == 'rp':\n",
    "            # Research Points\n",
    "            team = int(strs[1])\n",
    "            rp = int(strs[2])\n",
    "            b[15 + (team - obs['player']) % 2, :] = min(rp, 200) / 200\n",
    "        elif input_identifier == 'c':\n",
    "            # Cities\n",
    "            city_id = strs[2]\n",
    "            fuel = float(strs[3])\n",
    "            lightupkeep = float(strs[4])\n",
    "            cities[city_id] = min(fuel / lightupkeep, 10) / 10\n",
    "    \n",
    "    # Day/Night Cycle\n",
    "    b[17, :] = obs['step'] % 40 / 40\n",
    "    # Turns\n",
    "    b[18, :] = obs['step'] / 360\n",
    "    # Map Size\n",
    "    b[19, x_shift:32 - x_shift, y_shift:32 - y_shift] = 1\n",
    "\n",
    "    return b\n",
    "\n",
    "game_state = None\n",
    "player = None\n",
    "\n",
    "\n",
    "def get_game_state(observation):\n",
    "    global game_state\n",
    "    \n",
    "    if observation[\"step\"] == 0:\n",
    "        game_state = Game()\n",
    "        game_state._initialize(observation[\"updates\"])\n",
    "        game_state._update(observation[\"updates\"][2:])\n",
    "        game_state.id = observation[\"player\"]\n",
    "    else:\n",
    "        game_state._update(observation[\"updates\"])\n",
    "    return game_state\n",
    "\n",
    "\n",
    "def in_city(pos):    \n",
    "    try:\n",
    "        city = game_state.map.get_cell_by_pos(pos).citytile\n",
    "        return city is not None and city.team == game_state.id\n",
    "    except:\n",
    "        return False\n",
    "    \n",
    "# check if unit has enough time and space to build a city\n",
    "def build_city_is_possible(unit, pos):    \n",
    "    global game_state\n",
    "    global player\n",
    "\n",
    "    if game_state.turn % 40 < 30:\n",
    "        return True\n",
    "    x, y = pos.x, pos.y\n",
    "    for i, j in ((x-1, y), (x+1, y), (x, y-1), (x, y+1)):\n",
    "        try:\n",
    "            city_id = game_state.map.get_cell(i, j).citytile.cityid\n",
    "        except:\n",
    "            continue\n",
    "        if city_id in player.cities:\n",
    "            city = player.cities[city_id]\n",
    "            if city.fuel > (city.get_light_upkeep() + 18) * 10:\n",
    "                return True\n",
    "    return False\n",
    "\n",
    "\n",
    "def call_func(obj, method, args=[]):\n",
    "    return getattr(obj, method)(*args)\n",
    "\n",
    "\n",
    "# translate unit policy to action\n",
    "unit_actions = [('move', 'n'), ('move', 's'), ('move', 'w'), ('move', 'e'), ('build_city',)]\n",
    "def get_unit_action(policy, unit, dest):\n",
    "    for label in np.argsort(policy)[::-1]:\n",
    "        act = unit_actions[label]\n",
    "        pos = unit.pos.translate(act[-1], 1) or unit.pos\n",
    "        if label == 4 and not build_city_is_possible(unit, pos):\n",
    "            return unit.move('c'), unit.pos\n",
    "        if pos not in dest or in_city(pos):\n",
    "            return call_func(unit, *act), pos \n",
    "            \n",
    "    return unit.move('c'), unit.pos\n",
    "\n",
    "# translate city policy to action\n",
    "city_actions = [('build_worker',), ('research', )]\n",
    "def get_city_action(policy, city_tile, unit_count):\n",
    "    global player\n",
    "    \n",
    "    for label in np.argsort(policy)[::-1]:\n",
    "        act = city_actions[label]\n",
    "        if label == 0 and unit_count < player.city_tile_count:\n",
    "            unit_count += 1\n",
    "            res = call_func(city_tile, *act)\n",
    "        elif label == 1 and not player.researched_uranium():\n",
    "            player.research_points += 1\n",
    "            res = call_func(city_tile, *act)\n",
    "        else:\n",
    "            res = None\n",
    "        return res, unit_count\n",
    "\n",
    "# agent for making actions\n",
    "def agent(observation, configuration):\n",
    "    global game_state\n",
    "    global player\n",
    "    \n",
    "    game_state = get_game_state(observation)    \n",
    "    player = game_state.players[observation.player]\n",
    "    actions = []        \n",
    "\n",
    "    # Unit Actions\n",
    "    dest = []\n",
    "    for unit in player.units:\n",
    "        if unit.can_act() and (game_state.turn % 40 < 30 or not in_city(unit.pos)):\n",
    "            state = make_input(observation, unit.id)\n",
    "            with torch.no_grad():\n",
    "                p_2 = model_v2(torch.from_numpy(state).unsqueeze(0))\n",
    "                p_4 = model_v4(torch.from_numpy(state).unsqueeze(0))\n",
    "                #p_5 = model_v5(torch.from_numpy(state).unsqueeze(0))\n",
    "                p_11 = model_v11(torch.from_numpy(state).unsqueeze(0))\n",
    "\n",
    "            policy_2 = p_2.squeeze(0).numpy()\n",
    "            policy_4 = p_4.squeeze(0).numpy()\n",
    "            #policy_5 = p_5.squeeze(0).numpy()\n",
    "            policy_11 = p_11.squeeze(0).numpy()\n",
    "\n",
    "            policy = [sum(x) for x in zip(*[policy_2, policy_4, policy_11])]\n",
    "\n",
    "            action, pos = get_unit_action(policy, unit, dest)\n",
    "            actions.append(action)\n",
    "            dest.append(pos)\n",
    "\n",
    "    # City Actions\n",
    "    unit_count = len(player.units)\n",
    "    for city in player.cities.values():\n",
    "        for city_tile in city.citytiles:\n",
    "            if city_tile.can_act():\n",
    "                # at first game stages try to produce maximum amount of agents and research point\n",
    "                if game_state.turn < 60:\n",
    "                    if unit_count < player.city_tile_count: \n",
    "                        actions.append(city_tile.build_worker())\n",
    "                        unit_count += 1\n",
    "                    elif not player.researched_uranium():\n",
    "                        actions.append(city_tile.research())\n",
    "                        player.research_points += 1\n",
    "                # then follow NN strategy\n",
    "                else:\n",
    "                    state = make_city_input(observation, [city_tile.pos.x, city_tile.pos.y])\n",
    "                    with torch.no_grad():\n",
    "                        p_2 = model_city_v2(torch.from_numpy(state).unsqueeze(0))\n",
    "                        p_4 = model_city_v4(torch.from_numpy(state).unsqueeze(0))\n",
    "                        #p_5 = model_city_v5(torch.from_numpy(state).unsqueeze(0))\n",
    "                        p_11 = model_city_v11(torch.from_numpy(state).unsqueeze(0))\n",
    "\n",
    "                    policy_2 = p_2.squeeze(0).numpy()\n",
    "                    policy_4 = p_4.squeeze(0).numpy()\n",
    "                    #policy_5 = p_5.squeeze(0).numpy()\n",
    "                    policy_11 = p_11.squeeze(0).numpy()\n",
    "\n",
    "                    policy = [sum(x) for x in zip(*[policy_2, policy_4, policy_11])]\n",
    "\n",
    "                    action, unit_count = get_city_action(policy, city_tile, unit_count)\n",
    "                    if action:\n",
    "                        actions.append(action)\n",
    "    \n",
    "    return actions"
   ]
  },
  {
   "cell_type": "markdown",
   "metadata": {},
   "source": [
    "# Futher Ideas\n",
    "\n",
    "Cities\n",
    "- add day/night feature\n",
    "\n",
    "Hyperparameters\n",
    "- increase filter number and decrease layers number and vice versa\n",
    "- regularization?\n",
    "- dropout?\n",
    "\n",
    "Augmentation\n",
    "- mirror or turn pictures and correspondingly change the actions\n",
    "- add Test-Time augmentation (average decision of NN according to its result on the base image and that image turned on 90, 180 and 270 degrees or mirrored vertically or horizontally).\n",
    "\n",
    "Ensembles\n",
    "- make ensemble of 3 best NNs (select through Optuna optimization) that makes decision by voting or randomly selects action from presented\n",
    "\n",
    "Make back\n",
    "- try to let users to move at night if they are on the resource tile"
   ]
  }
 ],
 "metadata": {
  "kernelspec": {
   "display_name": "Python 3 (ipykernel)",
   "language": "python",
   "name": "python3"
  },
  "language_info": {
   "codemirror_mode": {
    "name": "ipython",
    "version": 3
   },
   "file_extension": ".py",
   "mimetype": "text/x-python",
   "name": "python",
   "nbconvert_exporter": "python",
   "pygments_lexer": "ipython3",
   "version": "3.8.10"
  }
 },
 "nbformat": 4,
 "nbformat_minor": 4
}
