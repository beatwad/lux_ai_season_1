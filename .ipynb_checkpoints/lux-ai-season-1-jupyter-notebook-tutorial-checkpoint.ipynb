{
 "cells": [
  {
   "cell_type": "markdown",
   "metadata": {},
   "source": [
    "# Lux AI Season 1 Python Tutorial Notebook\n",
    "\n",
    "Welcome to Lux AI Season 1!\n",
    "\n",
    "This notebook is the basic setup to use Jupyter Notebooks and the `kaggle-environments` package to develop your bot. If you plan to not use Jupyter Notebooks or any other programming language, please see our [Github](https://github.com/Lux-AI-Challenge/Lux-Design-2021). The following are some important links!\n",
    "\n",
    "- Competition Page: https://www.kaggle.com/c/lux-ai-2021/\n",
    "\n",
    "- Online Visualizer: https://2021vis.lux-ai.org/\n",
    "\n",
    "- Specifications: https://www.lux-ai.org/specs-2021\n",
    "\n",
    "- Github: https://github.com/Lux-AI-Challenge/Lux-Design-2021\n",
    "\n",
    "- Bot API: https://github.com/Lux-AI-Challenge/Lux-Design-2021/tree/master/kits\n",
    "\n",
    "And if you haven't done so already, we **highly recommend** you join our Discord server at https://discord.gg/aWJt3UAcgn or at the minimum follow the kaggle forums at https://www.kaggle.com/c/lux-ai-2021/discussion. We post important announcements there such as changes to rules, events, and opportunities from our sponsors!\n",
    "\n",
    "Now let's get started!\n",
    "\n",
    "## Prerequisites\n",
    "\n",
    "We assume that you have a basic knowledge of Python and programming. It's okay if you don't know the game specifications yet! Feel free to always refer back to https://www.lux-ai.org/specs-2021.\n",
    "\n",
    "## Basic Setup\n",
    "\n",
    "First thing to verify is that you have **Node.js v12 or above**. The engine for the competition runs on Node.js (for many good reasons including an awesome visualizer) and thus it is required. You can download it [here](https://nodejs.org/en/download/). You can then verify you have the appropriate version by running\n"
   ]
  },
  {
   "cell_type": "code",
   "execution_count": null,
   "metadata": {},
   "outputs": [],
   "source": [
    "cd ~\n",
    "curl -sL https://deb.nodesource.com/setup_14.x -o nodesource_setup.sh\n",
    "sudo bash nodesource_setup.sh\n",
    "sudo apt install nodejs"
   ]
  },
  {
   "cell_type": "code",
   "execution_count": 3,
   "metadata": {
    "execution": {
     "iopub.execute_input": "2021-09-05T22:30:40.912794Z",
     "iopub.status.busy": "2021-09-05T22:30:40.911634Z",
     "iopub.status.idle": "2021-09-05T22:30:41.681051Z",
     "shell.execute_reply": "2021-09-05T22:30:41.679839Z",
     "shell.execute_reply.started": "2021-09-05T22:30:40.912677Z"
    },
    "scrolled": true
   },
   "outputs": [
    {
     "name": "stdout",
     "output_type": "stream",
     "text": [
      "v14.17.6\r\n"
     ]
    }
   ],
   "source": [
    "!node --version"
   ]
  },
  {
   "cell_type": "markdown",
   "metadata": {},
   "source": [
    "We will also need Kaggle Environments"
   ]
  },
  {
   "cell_type": "code",
   "execution_count": 4,
   "metadata": {
    "execution": {
     "iopub.execute_input": "2021-09-05T22:30:41.683358Z",
     "iopub.status.busy": "2021-09-05T22:30:41.683029Z",
     "iopub.status.idle": "2021-09-05T22:30:51.42413Z",
     "shell.execute_reply": "2021-09-05T22:30:51.422753Z",
     "shell.execute_reply.started": "2021-09-05T22:30:41.683325Z"
    },
    "scrolled": true
   },
   "outputs": [
    {
     "name": "stdout",
     "output_type": "stream",
     "text": [
      "Collecting kaggle-environments\n",
      "  Downloading kaggle_environments-1.8.12-py2.py3-none-any.whl (1.2 MB)\n",
      "\u001b[K     |████████████████████████████████| 1.2 MB 540 kB/s eta 0:00:01\n",
      "\u001b[?25hRequirement already satisfied, skipping upgrade: jsonschema>=3.0.1 in /home/alex/.local/lib/python3.8/site-packages (from kaggle-environments) (3.2.0)\n",
      "Requirement already satisfied, skipping upgrade: six>=1.11.0 in /usr/lib/python3/dist-packages (from jsonschema>=3.0.1->kaggle-environments) (1.14.0)\n",
      "Requirement already satisfied, skipping upgrade: attrs>=17.4.0 in /home/alex/.local/lib/python3.8/site-packages (from jsonschema>=3.0.1->kaggle-environments) (21.2.0)\n",
      "Requirement already satisfied, skipping upgrade: setuptools in /usr/local/lib/python3.8/dist-packages (from jsonschema>=3.0.1->kaggle-environments) (57.4.0)\n",
      "Requirement already satisfied, skipping upgrade: pyrsistent>=0.14.0 in /home/alex/.local/lib/python3.8/site-packages (from jsonschema>=3.0.1->kaggle-environments) (0.18.0)\n",
      "Installing collected packages: kaggle-environments\n",
      "Successfully installed kaggle-environments-1.8.12\n"
     ]
    }
   ],
   "source": [
    "!pip install kaggle-environments -U"
   ]
  },
  {
   "cell_type": "markdown",
   "metadata": {},
   "source": [
    "Next, we have to import the `make` function from the `kaggle_environments` package"
   ]
  },
  {
   "cell_type": "code",
   "execution_count": 6,
   "metadata": {
    "execution": {
     "iopub.execute_input": "2021-09-05T22:30:51.426505Z",
     "iopub.status.busy": "2021-09-05T22:30:51.426148Z",
     "iopub.status.idle": "2021-09-05T22:30:51.564098Z",
     "shell.execute_reply": "2021-09-05T22:30:51.563019Z",
     "shell.execute_reply.started": "2021-09-05T22:30:51.426449Z"
    }
   },
   "outputs": [],
   "source": [
    "from kaggle_environments import make\n",
    "import json"
   ]
  },
  {
   "cell_type": "markdown",
   "metadata": {},
   "source": [
    "The `make` function is used to create environments that can then run the game given agents. Agents refer to programmed bots that play the game given observations of the game itself. \n",
    "\n",
    "In addition to making the environment, you may also pass in special configurations such as the number of episode steps (capped at 361) and the seed.\n",
    "\n",
    "Now lets create our environment using `make` and watch a Episode! (We will be using the seed 562124210 because it's fun)"
   ]
  },
  {
   "cell_type": "code",
   "execution_count": 7,
   "metadata": {
    "execution": {
     "iopub.execute_input": "2021-09-05T22:30:51.565947Z",
     "iopub.status.busy": "2021-09-05T22:30:51.565625Z",
     "iopub.status.idle": "2021-09-05T22:30:52.383297Z",
     "shell.execute_reply": "2021-09-05T22:30:52.382162Z",
     "shell.execute_reply.started": "2021-09-05T22:30:51.565914Z"
    }
   },
   "outputs": [],
   "source": [
    "# create the environment. You can also specify configurations for seed and loglevel as shown below. If not specified, a random seed is chosen. \n",
    "# loglevel default is 0. \n",
    "# 1 is for errors, 2 is for match warnings such as units colliding, invalid commands (recommended)\n",
    "# 3 for info level, and 4 for everything (not recommended)\n",
    "# set annotations True so annotation commands are drawn on visualizer\n",
    "# set debug to True so print statements get shown\n",
    "env = make(\"lux_ai_2021\", configuration={\"seed\": 562124210, \"loglevel\": 2, \"annotations\": True}, debug=True)\n",
    "# run a match between two agents, simple_agent is a default one\n",
    "steps = env.run([\"simple_agent\", \"simple_agent\"])"
   ]
  },
  {
   "cell_type": "code",
   "execution_count": null,
   "metadata": {
    "execution": {
     "iopub.execute_input": "2021-09-05T22:30:52.385337Z",
     "iopub.status.busy": "2021-09-05T22:30:52.384797Z",
     "iopub.status.idle": "2021-09-05T22:31:01.165709Z",
     "shell.execute_reply": "2021-09-05T22:31:01.164249Z",
     "shell.execute_reply.started": "2021-09-05T22:30:52.385279Z"
    }
   },
   "outputs": [],
   "source": [
    "# run a match between two simple agents, which are the agents we will walk you through on how to build!\n",
    "steps = env.run([\"simple_agent\", \"simple_agent\"])\n",
    "# if you are viewing this outside of the interactive jupyter notebook / kaggle notebooks mode, this may look cutoff\n",
    "# render the game, feel free to change width and height to your liking. We recommend keeping them as large as possible for better quality.\n",
    "# you may also want to close the output of this render cell or else the notebook might get laggy\n",
    "env.render(mode=\"ipython\", width=1200, height=800)"
   ]
  },
  {
   "cell_type": "markdown",
   "metadata": {},
   "source": [
    "Ok so woah, what just happened? We just ran a match, that's what :)\n",
    "\n",
    "There's a number of quality of life features in the visualizer, which you can also find embedded on the kaggle competition page when watching replays or on the online visualizer when using replay files. \n",
    "\n",
    "If you find this replay viewer slow, you can also download a local copy of this replay viewer in addition to lowering the graphics quality, see https://github.com/Lux-AI-Challenge/LuxViewer2021 for instructions.\n",
    "\n",
    "At this point, we recommend reading the [game specifications](https://www.lux-ai.org/specs-2021) a bit more to understand how to build a bot that tries to win the game."
   ]
  },
  {
   "cell_type": "markdown",
   "metadata": {},
   "source": [
    "## Building from Scratch\n",
    "\n",
    "The following bit of code is all you need for a empty agent that does nothing"
   ]
  },
  {
   "cell_type": "code",
   "execution_count": null,
   "metadata": {
    "execution": {
     "iopub.execute_input": "2021-09-05T22:32:02.669554Z",
     "iopub.status.busy": "2021-09-05T22:32:02.669133Z",
     "iopub.status.idle": "2021-09-05T22:32:03.477227Z",
     "shell.execute_reply": "2021-09-05T22:32:03.47588Z",
     "shell.execute_reply.started": "2021-09-05T22:32:02.669518Z"
    }
   },
   "outputs": [],
   "source": [
    "# run this if using kaggle notebooks\n",
    "!cp -r ../input/lux-ai-2021/* .\n",
    "# if working locally, download the `simple/lux` folder from here https://github.com/Lux-AI-Challenge/Lux-Design-2021/tree/master/kits/python\n",
    "# and we recommend following instructions in there for local development with python bots"
   ]
  },
  {
   "cell_type": "code",
   "execution_count": null,
   "metadata": {
    "execution": {
     "iopub.execute_input": "2021-09-05T22:32:30.870488Z",
     "iopub.status.busy": "2021-09-05T22:32:30.870086Z",
     "iopub.status.idle": "2021-09-05T22:32:30.880782Z",
     "shell.execute_reply": "2021-09-05T22:32:30.879613Z",
     "shell.execute_reply.started": "2021-09-05T22:32:30.870436Z"
    }
   },
   "outputs": [],
   "source": [
    "# for kaggle-environments\n",
    "from lux.game import Game\n",
    "from lux.game_map import Cell, RESOURCE_TYPES, Position\n",
    "from lux.constants import Constants\n",
    "from lux.game_constants import GAME_CONSTANTS\n",
    "from lux import annotate\n",
    "import math\n",
    "import sys\n",
    "\n",
    "# we declare this global game_state object so that state persists across turns so we do not need to reinitialize it all the time\n",
    "game_state = None\n",
    "def agent(observation, configuration):\n",
    "    global game_state\n",
    "\n",
    "    ### Do not edit ###\n",
    "    if observation[\"step\"] == 0:\n",
    "        game_state = Game()\n",
    "        game_state._initialize(observation[\"updates\"])\n",
    "        game_state._update(observation[\"updates\"][2:])\n",
    "        game_state.id = observation.player\n",
    "    else:\n",
    "        game_state._update(observation[\"updates\"])\n",
    "    \n",
    "    actions = []\n",
    "\n",
    "    ### AI Code goes down here! ### \n",
    "    player = game_state.players[observation.player]\n",
    "    opponent = game_state.players[(observation.player + 1) % 2]\n",
    "    width, height = game_state.map.width, game_state.map.height\n",
    "    \n",
    "    # add debug statements like so!\n",
    "    if game_state.turn == 0:\n",
    "        print(\"Agent is running!\", file=sys.stderr)\n",
    "        actions.append(annotate.circle(0, 0))\n",
    "    return actions"
   ]
  },
  {
   "cell_type": "markdown",
   "metadata": {},
   "source": [
    "Unfortunately it's not that easy. This agent will eventually lose and all units and cities will fall to darkness! We will need to write something to help the agent first find resources and then collect them.\n",
    "\n",
    "Let's first run a game with our empty agent, which will populate the `game_state` variable and we can now work with it and look into how we would proceed with finding resources."
   ]
  },
  {
   "cell_type": "code",
   "execution_count": null,
   "metadata": {
    "execution": {
     "iopub.execute_input": "2021-09-05T22:32:31.770275Z",
     "iopub.status.busy": "2021-09-05T22:32:31.769908Z",
     "iopub.status.idle": "2021-09-05T22:32:40.543877Z",
     "shell.execute_reply": "2021-09-05T22:32:40.542847Z",
     "shell.execute_reply.started": "2021-09-05T22:32:31.770246Z"
    }
   },
   "outputs": [],
   "source": [
    "steps = env.run([agent, \"simple_agent\"])"
   ]
  },
  {
   "cell_type": "code",
   "execution_count": null,
   "metadata": {
    "execution": {
     "iopub.execute_input": "2021-09-05T22:32:40.545538Z",
     "iopub.status.busy": "2021-09-05T22:32:40.545239Z",
     "iopub.status.idle": "2021-09-05T22:32:40.555541Z",
     "shell.execute_reply": "2021-09-05T22:32:40.554303Z",
     "shell.execute_reply.started": "2021-09-05T22:32:40.545508Z"
    }
   },
   "outputs": [],
   "source": [
    "# this snippet finds all resources stored on the map and puts them into a list so we can search over them\n",
    "def find_resources(game_state):\n",
    "    resource_tiles: list[Cell] = []\n",
    "    width, height = game_state.map_width, game_state.map_height\n",
    "    for y in range(height):\n",
    "        for x in range(width):\n",
    "            cell = game_state.map.get_cell(x, y)\n",
    "            if cell.has_resource():\n",
    "                resource_tiles.append(cell)\n",
    "    return resource_tiles\n",
    "\n",
    "# the next snippet finds the closest resources that we can mine given position on a map\n",
    "def find_closest_resources(pos, player, resource_tiles):\n",
    "    closest_dist = math.inf\n",
    "    closest_resource_tile = None\n",
    "    for resource_tile in resource_tiles:\n",
    "        # we skip over resources that we can't mine due to not having researched them\n",
    "        if resource_tile.resource.type == Constants.RESOURCE_TYPES.COAL and not player.researched_coal(): continue\n",
    "        if resource_tile.resource.type == Constants.RESOURCE_TYPES.URANIUM and not player.researched_uranium(): continue\n",
    "        dist = resource_tile.pos.distance_to(pos)\n",
    "        if dist < closest_dist:\n",
    "            closest_dist = dist\n",
    "            closest_resource_tile = resource_tile\n",
    "    return closest_resource_tile"
   ]
  },
  {
   "cell_type": "code",
   "execution_count": null,
   "metadata": {
    "execution": {
     "iopub.execute_input": "2021-09-05T22:32:40.557829Z",
     "iopub.status.busy": "2021-09-05T22:32:40.557511Z",
     "iopub.status.idle": "2021-09-05T22:32:40.578978Z",
     "shell.execute_reply": "2021-09-05T22:32:40.578212Z",
     "shell.execute_reply.started": "2021-09-05T22:32:40.557798Z"
    }
   },
   "outputs": [],
   "source": [
    "# lets look at some of the resources found\n",
    "resource_tiles = find_resources(game_state)\n",
    "cell = resource_tiles[0]\n",
    "print(\"Cell at\", cell.pos, \"has\")\n",
    "print(cell.resource.type, cell.resource.amount)"
   ]
  },
  {
   "cell_type": "code",
   "execution_count": null,
   "metadata": {
    "execution": {
     "iopub.execute_input": "2021-09-05T22:32:40.580642Z",
     "iopub.status.busy": "2021-09-05T22:32:40.580206Z",
     "iopub.status.idle": "2021-09-05T22:32:40.59297Z",
     "shell.execute_reply": "2021-09-05T22:32:40.591829Z",
     "shell.execute_reply.started": "2021-09-05T22:32:40.580597Z"
    }
   },
   "outputs": [],
   "source": [
    "# lets see if we do find some close resources\n",
    "cell = find_closest_resources(Position(1, 1), game_state.players[0], resource_tiles)\n",
    "print(\"Closest resource at\", cell.pos, \"has\")\n",
    "print(cell.resource.type, cell.resource.amount)"
   ]
  },
  {
   "cell_type": "markdown",
   "metadata": {},
   "source": [
    "Ok now that we have code to find resources closest to a given position, lets code our agent to use this and tell its units to go to the closest resource and mine them! We can copy our empty agent code and add a loop that loops over all our units and make them move towards the resources"
   ]
  },
  {
   "cell_type": "code",
   "execution_count": null,
   "metadata": {
    "execution": {
     "iopub.status.busy": "2021-09-05T22:32:12.342211Z",
     "iopub.status.idle": "2021-09-05T22:32:12.342697Z"
    }
   },
   "outputs": [],
   "source": [
    "game_state = None\n",
    "def agent(observation, configuration):\n",
    "    global game_state\n",
    "\n",
    "    ### Do not edit ###\n",
    "    if observation[\"step\"] == 0:\n",
    "        game_state = Game()\n",
    "        game_state._initialize(observation[\"updates\"])\n",
    "        game_state._update(observation[\"updates\"][2:])\n",
    "        game_state.id = observation.player\n",
    "    else:\n",
    "        game_state._update(observation[\"updates\"])\n",
    "    \n",
    "    actions = []\n",
    "\n",
    "    ### AI Code goes down here! ### \n",
    "    player = game_state.players[observation.player]\n",
    "    opponent = game_state.players[(observation.player + 1) % 2]\n",
    "    width, height = game_state.map.width, game_state.map.height\n",
    "    \n",
    "    # add debug statements like so!\n",
    "    if game_state.turn == 0:\n",
    "        print(\"Agent is running!\", file=sys.stderr)\n",
    "\n",
    "    resource_tiles = find_resources(game_state)\n",
    "    \n",
    "    for unit in player.units:\n",
    "        # if the unit is a worker (can mine resources) and can perform an action this turn\n",
    "        if unit.is_worker() and unit.can_act():\n",
    "            # we want to mine only if there is space left in the worker's cargo\n",
    "            if unit.get_cargo_space_left() > 0:\n",
    "                # find the closest resource if it exists to this unit\n",
    "                closest_resource_tile = find_closest_resources(unit.pos, player, resource_tiles)\n",
    "                if closest_resource_tile is not None:\n",
    "                    # create a move action to move this unit in the direction of the closest resource tile and add to our actions list\n",
    "                    action = unit.move(unit.pos.direction_to(closest_resource_tile.pos))\n",
    "                    actions.append(action)\n",
    "    \n",
    "    return actions"
   ]
  },
  {
   "cell_type": "markdown",
   "metadata": {},
   "source": [
    "Now lets watch a match where our agent plays against a sample agent and see if it moves towards the resources! We can then verify by watching the replay and seeing our orange unit (team 0) move towards a nearby forest and collect wood"
   ]
  },
  {
   "cell_type": "code",
   "execution_count": null,
   "metadata": {
    "execution": {
     "iopub.status.busy": "2021-09-05T22:32:12.344447Z",
     "iopub.status.idle": "2021-09-05T22:32:12.344928Z"
    }
   },
   "outputs": [],
   "source": [
    "env = make(\"lux_ai_2021\", configuration={\"seed\": 562124210, \"loglevel\": 2, \"annotations\": True}, debug=True)\n",
    "steps = env.run([agent, \"simple_agent\"])\n",
    "env.render(mode=\"ipython\", width=1200, height=800)"
   ]
  },
  {
   "cell_type": "markdown",
   "metadata": {},
   "source": [
    "Ok now that our agent finds and collects resources but our citytile was consumed by darkness! What now? Well units can only carry so much resources before they can't collect anymore. And to keep your City alive, you must move your unit on top of any CityTile that is in that City. (Recall that a City is composed of connected CityTiles)"
   ]
  },
  {
   "cell_type": "code",
   "execution_count": null,
   "metadata": {
    "execution": {
     "iopub.status.busy": "2021-09-05T22:32:12.346253Z",
     "iopub.status.idle": "2021-09-05T22:32:12.346782Z"
    }
   },
   "outputs": [],
   "source": [
    "# snippet to find the closest city tile to a position\n",
    "def find_closest_city_tile(pos, player):\n",
    "    closest_city_tile = None\n",
    "    if len(player.cities) > 0:\n",
    "        closest_dist = math.inf\n",
    "        # the cities are stored as a dictionary mapping city id to the city object, which has a citytiles field that\n",
    "        # contains the information of all citytiles in that city\n",
    "        for k, city in player.cities.items():\n",
    "            for city_tile in city.citytiles:\n",
    "                dist = city_tile.pos.distance_to(pos)\n",
    "                if dist < closest_dist:\n",
    "                    closest_dist = dist\n",
    "                    closest_city_tile = city_tile\n",
    "    return closest_city_tile"
   ]
  },
  {
   "cell_type": "markdown",
   "metadata": {},
   "source": [
    "With this function, we are ready to start surviving the nights! The code below rewrites our agent to now have units who have full cargos to head towards the closest citytile and drop off their resources to fuel the city."
   ]
  },
  {
   "cell_type": "code",
   "execution_count": null,
   "metadata": {
    "execution": {
     "iopub.status.busy": "2021-09-05T22:32:12.348172Z",
     "iopub.status.idle": "2021-09-05T22:32:12.348685Z"
    }
   },
   "outputs": [],
   "source": [
    "game_state = None\n",
    "def agent(observation, configuration):\n",
    "    global game_state\n",
    "\n",
    "    ### Do not edit ###\n",
    "    if observation[\"step\"] == 0:\n",
    "        game_state = Game()\n",
    "        game_state._initialize(observation[\"updates\"])\n",
    "        game_state._update(observation[\"updates\"][2:])\n",
    "        game_state.id = observation.player\n",
    "    else:\n",
    "        game_state._update(observation[\"updates\"])\n",
    "    \n",
    "    actions = []\n",
    "\n",
    "    ### AI Code goes down here! ### \n",
    "    player = game_state.players[observation.player]\n",
    "    opponent = game_state.players[(observation.player + 1) % 2]\n",
    "    width, height = game_state.map.width, game_state.map.height\n",
    "    \n",
    "    # add debug statements like so!\n",
    "    if game_state.turn == 0:\n",
    "        print(\"Agent is running!\", file=sys.stderr)\n",
    "\n",
    "    resource_tiles = find_resources(game_state)\n",
    "    \n",
    "    for unit in player.units:\n",
    "        # if the unit is a worker (can mine resources) and can perform an action this turn\n",
    "        if unit.is_worker() and unit.can_act():\n",
    "            # we want to mine only if there is space left in the worker's cargo\n",
    "            if unit.get_cargo_space_left() > 0:\n",
    "                # find the closest resource if it exists to this unit\n",
    "                closest_resource_tile = find_closest_resources(unit.pos, player, resource_tiles)\n",
    "                if closest_resource_tile is not None:\n",
    "                    # create a move action to move this unit in the direction of the closest resource tile and add to our actions list\n",
    "                    action = unit.move(unit.pos.direction_to(closest_resource_tile.pos))\n",
    "                    actions.append(action)\n",
    "            else:\n",
    "                # find the closest citytile and move the unit towards it to drop resources to a citytile to fuel the city\n",
    "                closest_city_tile = find_closest_city_tile(unit.pos, player)\n",
    "                if closest_city_tile is not None:\n",
    "                    # create a move action to move this unit in the direction of the closest resource tile and add to our actions list\n",
    "                    action = unit.move(unit.pos.direction_to(closest_city_tile.pos))\n",
    "                    actions.append(action)\n",
    "    \n",
    "    return actions"
   ]
  },
  {
   "cell_type": "code",
   "execution_count": null,
   "metadata": {
    "execution": {
     "iopub.status.busy": "2021-09-05T22:32:12.349945Z",
     "iopub.status.idle": "2021-09-05T22:32:12.350418Z"
    }
   },
   "outputs": [],
   "source": [
    "env = make(\"lux_ai_2021\", configuration={\"seed\": 562124210, \"loglevel\": 2, \"annotations\": True}, debug=True)\n",
    "steps = env.run([agent, \"simple_agent\"])\n",
    "env.render(mode=\"ipython\", width=1200, height=800)"
   ]
  },
  {
   "cell_type": "markdown",
   "metadata": {},
   "source": [
    "We have something that survives! We are now ready to submit something to the leaderboard. The code below compiles all we have built so far into one file that you can then submit to the competition leaderboard"
   ]
  },
  {
   "cell_type": "code",
   "execution_count": null,
   "metadata": {
    "execution": {
     "iopub.status.busy": "2021-09-05T22:32:12.351799Z",
     "iopub.status.idle": "2021-09-05T22:32:12.352278Z"
    }
   },
   "outputs": [],
   "source": [
    "%%writefile agent.py\n",
    "# for kaggle-environments\n",
    "from lux.game import Game\n",
    "from lux.game_map import Cell, RESOURCE_TYPES\n",
    "from lux.constants import Constants\n",
    "from lux.game_constants import GAME_CONSTANTS\n",
    "from lux import annotate\n",
    "import math\n",
    "import sys\n",
    "\n",
    "### Define helper functions\n",
    "\n",
    "# this snippet finds all resources stored on the map and puts them into a list so we can search over them\n",
    "def find_resources(game_state):\n",
    "    resource_tiles: list[Cell] = []\n",
    "    width, height = game_state.map_width, game_state.map_height\n",
    "    for y in range(height):\n",
    "        for x in range(width):\n",
    "            cell = game_state.map.get_cell(x, y)\n",
    "            if cell.has_resource():\n",
    "                resource_tiles.append(cell)\n",
    "    return resource_tiles\n",
    "\n",
    "# the next snippet finds the closest resources that we can mine given position on a map\n",
    "def find_closest_resources(pos, player, resource_tiles):\n",
    "    closest_dist = math.inf\n",
    "    closest_resource_tile = None\n",
    "    for resource_tile in resource_tiles:\n",
    "        # we skip over resources that we can't mine due to not having researched them\n",
    "        if resource_tile.resource.type == Constants.RESOURCE_TYPES.COAL and not player.researched_coal(): continue\n",
    "        if resource_tile.resource.type == Constants.RESOURCE_TYPES.URANIUM and not player.researched_uranium(): continue\n",
    "        dist = resource_tile.pos.distance_to(pos)\n",
    "        if dist < closest_dist:\n",
    "            closest_dist = dist\n",
    "            closest_resource_tile = resource_tile\n",
    "    return closest_resource_tile\n",
    "\n",
    "def find_closest_city_tile(pos, player):\n",
    "    closest_city_tile = None\n",
    "    if len(player.cities) > 0:\n",
    "        closest_dist = math.inf\n",
    "        # the cities are stored as a dictionary mapping city id to the city object, which has a citytiles field that\n",
    "        # contains the information of all citytiles in that city\n",
    "        for k, city in player.cities.items():\n",
    "            for city_tile in city.citytiles:\n",
    "                dist = city_tile.pos.distance_to(pos)\n",
    "                if dist < closest_dist:\n",
    "                    closest_dist = dist\n",
    "                    closest_city_tile = city_tile\n",
    "    return closest_city_tile\n",
    "\n",
    "game_state = None\n",
    "def agent(observation, configuration):\n",
    "    global game_state\n",
    "\n",
    "    ### Do not edit ###\n",
    "    if observation[\"step\"] == 0:\n",
    "        game_state = Game()\n",
    "        game_state._initialize(observation[\"updates\"])\n",
    "        game_state._update(observation[\"updates\"][2:])\n",
    "        game_state.id = observation.player\n",
    "    else:\n",
    "        game_state._update(observation[\"updates\"])\n",
    "    \n",
    "    actions = []\n",
    "\n",
    "    ### AI Code goes down here! ### \n",
    "    player = game_state.players[observation.player]\n",
    "    opponent = game_state.players[(observation.player + 1) % 2]\n",
    "    width, height = game_state.map.width, game_state.map.height\n",
    "\n",
    "    resource_tiles = find_resources(game_state)\n",
    "    \n",
    "    for unit in player.units:\n",
    "        # if the unit is a worker (can mine resources) and can perform an action this turn\n",
    "        if unit.is_worker() and unit.can_act():\n",
    "            # we want to mine only if there is space left in the worker's cargo\n",
    "            if unit.get_cargo_space_left() > 0:\n",
    "                # find the closest resource if it exists to this unit\n",
    "                closest_resource_tile = find_closest_resources(unit.pos, player, resource_tiles)\n",
    "                if closest_resource_tile is not None:\n",
    "                    # create a move action to move this unit in the direction of the closest resource tile and add to our actions list\n",
    "                    action = unit.move(unit.pos.direction_to(closest_resource_tile.pos))\n",
    "                    actions.append(action)\n",
    "            else:\n",
    "                # find the closest citytile and move the unit towards it to drop resources to a citytile to fuel the city\n",
    "                closest_city_tile = find_closest_city_tile(unit.pos, player)\n",
    "                if closest_city_tile is not None:\n",
    "                    # create a move action to move this unit in the direction of the closest resource tile and add to our actions list\n",
    "                    action = unit.move(unit.pos.direction_to(closest_city_tile.pos))\n",
    "                    actions.append(action)\n",
    "    \n",
    "    return actions"
   ]
  },
  {
   "cell_type": "markdown",
   "metadata": {},
   "source": [
    "## Create a submission\n",
    "Now we need to create a .tar.gz file with main.py (and agent.py) at the top level. We can then upload this!"
   ]
  },
  {
   "cell_type": "code",
   "execution_count": null,
   "metadata": {
    "execution": {
     "iopub.status.busy": "2021-09-05T22:32:12.353641Z",
     "iopub.status.idle": "2021-09-05T22:32:12.354102Z"
    }
   },
   "outputs": [],
   "source": [
    "!tar -czf submission.tar.gz *"
   ]
  },
  {
   "cell_type": "markdown",
   "metadata": {},
   "source": [
    "## Submit\n",
    "Now open the /kaggle/working folder and find submission.tar.gz, download that file, navigate to the \"MySubmissions\" tab in https://www.kaggle.com/c/lux-ai-2021/ and upload your submission! It should play a validation match against itself and once it succeeds it will be automatically matched against other players' submissions. Newer submissions will be prioritized for games over older ones. Your team is limited in the number of succesful submissions per day so we highly recommend testing your bot locally before submitting."
   ]
  },
  {
   "cell_type": "markdown",
   "metadata": {},
   "source": [
    "## CLI Tool\n",
    "\n",
    "There's a separate CLI tool that can also be used to run matches. It's recommended for Jupyter Notebook users to stick with just this notebook, and all other users including python users to follow the instructions on https://github.com/Lux-AI-Challenge/Lux-Design-2021\n",
    "\n",
    "The other benefit however of using the CLI tool is that it generates much smaller, \"stateless\" replays and also lets you run a mini leaderboard on multiple bots ranked by various ranking algorithms"
   ]
  },
  {
   "cell_type": "markdown",
   "metadata": {},
   "source": [
    "## Additional things to check out\n",
    "\n",
    "Make sure you check out the Bot API at https://github.com/Lux-AI-Challenge/Lux-Design-2021/tree/master/kits\n",
    "\n",
    "This documents what you can do using the starter kit files in addition to telling you how to use the annotation debug commands that let you annotate directly on a replay (draw lines, circle things etc.)\n",
    "\n",
    "You can also run the following below to save a episode to a JSON replay file. These are the same as what is shown on the leaderbaord and you can upload the replay files to the online replay viewer https://2021vis.lux-ai.org/\n",
    "\n",
    "\n",
    "For a local (faster) version of the replay viewer, follow installation instructions here https://github.com/Lux-AI-Challenge/Lux-Viewer-2021"
   ]
  },
  {
   "cell_type": "code",
   "execution_count": null,
   "metadata": {
    "execution": {
     "iopub.status.busy": "2021-09-05T22:32:12.355569Z",
     "iopub.status.idle": "2021-09-05T22:32:12.356043Z"
    }
   },
   "outputs": [],
   "source": [
    "import json\n",
    "replay = env.toJSON()\n",
    "with open(\"replay.json\", \"w\") as f:\n",
    "    json.dump(replay, f)"
   ]
  },
  {
   "cell_type": "markdown",
   "metadata": {},
   "source": [
    "## Suggestions / Strategies\n",
    "\n",
    "There are a lot of places that could be improved with the agent we have in this tutorial notebook. Here are some!\n",
    "\n",
    "- Using the build city action to build new cities and thus build new units\n",
    "- Having cities perform research each turn to unlock new resources\n",
    "- Writing collision-free code that lets units move smoothly around and through each other when navigating to targets\n",
    "- Mining resources near your opponent's citytiles so they have less easy access to resources\n",
    "- Using carts to deliver resources from far away clusters of wood, coal, uranium to a city in need\n",
    "- Sending worker units over to the opponent's roads and pillaging them to slow down their agent\n",
    "- Optimizing over how much to mine out of forests before letting them regrow so you can build more cities and get sustainable fuel"
   ]
  }
 ],
 "metadata": {
  "kernelspec": {
   "display_name": "Python 3 (ipykernel)",
   "language": "python",
   "name": "python3"
  },
  "language_info": {
   "codemirror_mode": {
    "name": "ipython",
    "version": 3
   },
   "file_extension": ".py",
   "mimetype": "text/x-python",
   "name": "python",
   "nbconvert_exporter": "python",
   "pygments_lexer": "ipython3",
   "version": "3.8.10"
  }
 },
 "nbformat": 4,
 "nbformat_minor": 4
}
